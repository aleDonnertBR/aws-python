{
 "cells": [
  {
   "cell_type": "markdown",
   "id": "269f2a8b",
   "metadata": {},
   "source": [
    "### EXTRAÇÃO DAS BASES DE DADOS RAW DO ORACLE E MANIPULAÇÕES DE CLEASING PARA POSTERIOR ESCRITA EM S3\n",
    "\n",
    "CENTRAL_RISCO_LIMITE\n",
    "LYDIANS.INFCARTEIRAMENSAL"
   ]
  },
  {
   "cell_type": "code",
   "execution_count": 1,
   "id": "5c89d49c",
   "metadata": {},
   "outputs": [
    {
     "data": {
      "application/vnd.jupyter.widget-view+json": {
       "model_id": "5c2002c2138c47c998de0ac9ae1db389",
       "version_major": 2,
       "version_minor": 0
      },
      "text/plain": [
       "VBox()"
      ]
     },
     "metadata": {},
     "output_type": "display_data"
    },
    {
     "name": "stdout",
     "output_type": "stream",
     "text": [
      "Starting Spark application\n"
     ]
    },
    {
     "data": {
      "text/html": [
       "<table>\n",
       "<tr><th>ID</th><th>YARN Application ID</th><th>Kind</th><th>State</th><th>Spark UI</th><th>Driver log</th><th>Current session?</th></tr><tr><td>1</td><td>application_1644837942000_0002</td><td>pyspark</td><td>idle</td><td><a target=\"_blank\" href=\"http://ip-10-163-26-120.ec2.internal:20888/proxy/application_1644837942000_0002/\" class=\"emr-proxy-link\" emr-resource=\"j-19O2TLE5UR620\n",
       "\" application-id=\"application_1644837942000_0002\">Link</a></td><td><a target=\"_blank\" href=\"http://ip-10-163-27-144.ec2.internal:8042/node/containerlogs/container_1644837942000_0002_01_000001/user_alexandre_somogyi\" >Link</a></td><td>✔</td></tr></table>"
      ],
      "text/plain": [
       "<IPython.core.display.HTML object>"
      ]
     },
     "metadata": {},
     "output_type": "display_data"
    },
    {
     "data": {
      "application/vnd.jupyter.widget-view+json": {
       "model_id": "",
       "version_major": 2,
       "version_minor": 0
      },
      "text/plain": [
       "FloatProgress(value=0.0, bar_style='info', description='Progress:', layout=Layout(height='25px', width='50%'),…"
      ]
     },
     "metadata": {},
     "output_type": "display_data"
    },
    {
     "name": "stdout",
     "output_type": "stream",
     "text": [
      "SparkSession available as 'spark'.\n"
     ]
    },
    {
     "data": {
      "application/vnd.jupyter.widget-view+json": {
       "model_id": "",
       "version_major": 2,
       "version_minor": 0
      },
      "text/plain": [
       "FloatProgress(value=0.0, bar_style='info', description='Progress:', layout=Layout(height='25px', width='50%'),…"
      ]
     },
     "metadata": {},
     "output_type": "display_data"
    }
   ],
   "source": [
    "import boto3\n",
    "from pyspark.sql.functions import col, lit\n",
    "from pyspark.sql.functions import regexp_replace\n",
    "from pyspark import SparkConf\n",
    "from pyspark.sql import SparkSession\n",
    "\n",
    "import pyspark\n",
    "import pyspark.sql.functions as F\n",
    "from pyspark.sql.types import StructType,StructField, StringType, IntegerType, ArrayType, DoubleType, BooleanType\n",
    "from pyspark.sql.functions import col,array_contains,round\n",
    "from functools import reduce\n",
    "from operator import add, and_, sub"
   ]
  },
  {
   "cell_type": "code",
   "execution_count": 2,
   "id": "2fa2b218",
   "metadata": {},
   "outputs": [
    {
     "data": {
      "application/vnd.jupyter.widget-view+json": {
       "model_id": "681bd3e8174f4317836829654ffef9ba",
       "version_major": 2,
       "version_minor": 0
      },
      "text/plain": [
       "VBox()"
      ]
     },
     "metadata": {},
     "output_type": "display_data"
    },
    {
     "data": {
      "application/vnd.jupyter.widget-view+json": {
       "model_id": "",
       "version_major": 2,
       "version_minor": 0
      },
      "text/plain": [
       "FloatProgress(value=0.0, bar_style='info', description='Progress:', layout=Layout(height='25px', width='50%'),…"
      ]
     },
     "metadata": {},
     "output_type": "display_data"
    }
   ],
   "source": [
    "schema = StructType() \\\n",
    "      .add(\"DATA_BASE\",StringType(),True) \\\n",
    "      .add(\"CPF_CLIENTE\",StringType(),True) \\\n",
    "      .add(\"CONTRATO\",StringType(),True) \\\n",
    "      .add(\"DETCLI\",StringType(),True) \\\n",
    "      .add(\"MOD_\",StringType(),True) \\\n",
    "      .add(\"COSIF\",StringType(),True) \\\n",
    "      .add(\"ORIGEMREC\",StringType(),True) \\\n",
    "      .add(\"INDX\",StringType(),True) \\\n",
    "      .add(\"PERCINDX\",StringType(),True) \\\n",
    "      .add(\"VARCAMB\",StringType(),True) \\\n",
    "      .add(\"CEP\",StringType(),True) \\\n",
    "      .add(\"TAXEFT\",StringType(),True) \\\n",
    "      .add(\"DT_CONTRATO\",StringType(),True) \\\n",
    "      .add(\"VLR_CONTR\",StringType(),True) \\\n",
    "      .add(\"NATUREZA_OPERACAO\",StringType(),True) \\\n",
    "      .add(\"DT_VENC\",StringType(),True) \\\n",
    "      .add(\"CLASSE_OPERACAO\",StringType(),True) \\\n",
    "      .add(\"PROVCONSTTD\",StringType(),True) \\\n",
    "      .add(\"DIAATRASO\",StringType(),True) \\\n",
    "      .add(\"CARACESPECIAL\",StringType(),True) \\\n",
    "      .add(\"VCOD\",StringType(),True) \\\n",
    "      .add(\"VALOR\",StringType(),True) \\\n",
    "      .add(\"CNPJ_EMP\",StringType(),True) \\\n",
    "      .add(\"PROCESSAMENTO\",StringType(),True) \\\n",
    "      .add(\"INIRELACCLI\",StringType(),True) \\\n",
    "      .add(\"PORTE_CLIENTE\",StringType(),True) \\\n",
    "      .add(\"NIVEL_RISCO_MINIMO\",StringType(),True) \\\n",
    "      .add(\"FATURAMENTO_ANUAL\",StringType(),True) \\\n",
    "      .add(\"CONG_ECON\",StringType(),True) \\\n",
    "      .add(\"TPCLI\",StringType(),True) \\\n",
    "      .add(\"TPCTRL\",StringType(),True) \\\n",
    "      .add(\"IPOC\",StringType(),True)"
   ]
  },
  {
   "cell_type": "code",
   "execution_count": 3,
   "id": "4745cac4",
   "metadata": {},
   "outputs": [
    {
     "data": {
      "application/vnd.jupyter.widget-view+json": {
       "model_id": "eb4cd57e605b452dbf24846d48d8273c",
       "version_major": 2,
       "version_minor": 0
      },
      "text/plain": [
       "VBox()"
      ]
     },
     "metadata": {},
     "output_type": "display_data"
    },
    {
     "data": {
      "application/vnd.jupyter.widget-view+json": {
       "model_id": "",
       "version_major": 2,
       "version_minor": 0
      },
      "text/plain": [
       "FloatProgress(value=0.0, bar_style='info', description='Progress:', layout=Layout(height='25px', width='50%'),…"
      ]
     },
     "metadata": {},
     "output_type": "display_data"
    }
   ],
   "source": [
    "def sumIgnoringNaN(listOfColumnsToSum):\n",
    "    return F.when(\n",
    "        reduce(and_,\n",
    "               [(F.col(column).isNull()) for column in listOfColumnsToSum]),\n",
    "        F.lit(None)).otherwise(\n",
    "            reduce(add, [\n",
    "                F.coalesce(F.col(column), F.lit(0.0))\n",
    "                for column in listOfColumnsToSum\n",
    "            ]))"
   ]
  },
  {
   "cell_type": "code",
   "execution_count": 4,
   "id": "44fbb73d",
   "metadata": {},
   "outputs": [
    {
     "data": {
      "application/vnd.jupyter.widget-view+json": {
       "model_id": "3f93b6ca3ecf439da5daf939413ccee9",
       "version_major": 2,
       "version_minor": 0
      },
      "text/plain": [
       "VBox()"
      ]
     },
     "metadata": {},
     "output_type": "display_data"
    },
    {
     "data": {
      "application/vnd.jupyter.widget-view+json": {
       "model_id": "",
       "version_major": 2,
       "version_minor": 0
      },
      "text/plain": [
       "FloatProgress(value=0.0, bar_style='info', description='Progress:', layout=Layout(height='25px', width='50%'),…"
      ]
     },
     "metadata": {},
     "output_type": "display_data"
    }
   ],
   "source": [
    "#Leitura da base CENTRAL_RISCO_LIMITE\n",
    "df = spark.read.format(\"csv\") \\\n",
    "      .options(header='True', delimiter=';') \\\n",
    "      .schema(schema) \\\n",
    "      .load('s3://modelagem/scr/extracoes-central-risco-limite/')\n",
    "\n",
    "for column in df.columns:\n",
    "    if column.startswith('LIMITE') or column.startswith('CRED'):\n",
    "        df = df.withColumn(column, F.regexp_replace(column, ',','.')).withColumn(column, F.col(column).cast(DoubleType()))"
   ]
  },
  {
   "cell_type": "code",
   "execution_count": 5,
   "id": "e2607aad",
   "metadata": {
    "scrolled": true
   },
   "outputs": [
    {
     "data": {
      "application/vnd.jupyter.widget-view+json": {
       "model_id": "4e9ddb9147ae4cd2979a2ea4aefda115",
       "version_major": 2,
       "version_minor": 0
      },
      "text/plain": [
       "VBox()"
      ]
     },
     "metadata": {},
     "output_type": "display_data"
    },
    {
     "data": {
      "application/vnd.jupyter.widget-view+json": {
       "model_id": "",
       "version_major": 2,
       "version_minor": 0
      },
      "text/plain": [
       "FloatProgress(value=0.0, bar_style='info', description='Progress:', layout=Layout(height='25px', width='50%'),…"
      ]
     },
     "metadata": {},
     "output_type": "display_data"
    }
   ],
   "source": [
    "df1 = df.where(col(\"DATA_BASE\").isNotNull()).orderBy(\"CPF_CLIENTE\")"
   ]
  },
  {
   "cell_type": "markdown",
   "id": "cb69e992",
   "metadata": {},
   "source": [
    "Reading all dfs from S3 bucket:"
   ]
  },
  {
   "cell_type": "code",
   "execution_count": 6,
   "id": "894027cb",
   "metadata": {},
   "outputs": [
    {
     "data": {
      "application/vnd.jupyter.widget-view+json": {
       "model_id": "3ff32c630a364c6d98719b1d698bbae1",
       "version_major": 2,
       "version_minor": 0
      },
      "text/plain": [
       "VBox()"
      ]
     },
     "metadata": {},
     "output_type": "display_data"
    },
    {
     "data": {
      "application/vnd.jupyter.widget-view+json": {
       "model_id": "",
       "version_major": 2,
       "version_minor": 0
      },
      "text/plain": [
       "FloatProgress(value=0.0, bar_style='info', description='Progress:', layout=Layout(height='25px', width='50%'),…"
      ]
     },
     "metadata": {},
     "output_type": "display_data"
    }
   ],
   "source": [
    "df1 = df1.na.fill(value=0)"
   ]
  },
  {
   "cell_type": "markdown",
   "id": "ff9330b2",
   "metadata": {},
   "source": [
    "Appending to one dataframe:"
   ]
  },
  {
   "cell_type": "code",
   "execution_count": 7,
   "id": "0e36a39e",
   "metadata": {},
   "outputs": [
    {
     "data": {
      "application/vnd.jupyter.widget-view+json": {
       "model_id": "3e272e035a194022aeae914e4a9bcf15",
       "version_major": 2,
       "version_minor": 0
      },
      "text/plain": [
       "VBox()"
      ]
     },
     "metadata": {},
     "output_type": "display_data"
    },
    {
     "data": {
      "application/vnd.jupyter.widget-view+json": {
       "model_id": "",
       "version_major": 2,
       "version_minor": 0
      },
      "text/plain": [
       "FloatProgress(value=0.0, bar_style='info', description='Progress:', layout=Layout(height='25px', width='50%'),…"
      ]
     },
     "metadata": {},
     "output_type": "display_data"
    }
   ],
   "source": [
    "df1 = df1.withColumn(\"VALOR\",round(df1.VALOR.cast(DoubleType()),4))\n",
    "df1 = df1.withColumn(\"FATURAMENTO_ANUAL\",round(df1.FATURAMENTO_ANUAL.cast(DoubleType()),4))"
   ]
  },
  {
   "cell_type": "markdown",
   "id": "456bad3a",
   "metadata": {},
   "source": [
    "Dict to rename columns:"
   ]
  },
  {
   "cell_type": "code",
   "execution_count": 8,
   "id": "73340b5a",
   "metadata": {},
   "outputs": [
    {
     "data": {
      "application/vnd.jupyter.widget-view+json": {
       "model_id": "a1b50dd2632544bda13e84cc4deb3e7e",
       "version_major": 2,
       "version_minor": 0
      },
      "text/plain": [
       "VBox()"
      ]
     },
     "metadata": {},
     "output_type": "display_data"
    },
    {
     "data": {
      "application/vnd.jupyter.widget-view+json": {
       "model_id": "",
       "version_major": 2,
       "version_minor": 0
      },
      "text/plain": [
       "FloatProgress(value=0.0, bar_style='info', description='Progress:', layout=Layout(height='25px', width='50%'),…"
      ]
     },
     "metadata": {},
     "output_type": "display_data"
    }
   ],
   "source": [
    "renameCodVenc = {\"LIMITE_CRED_VENCIMENTO_ATE_360\":\"v20\",\"LIMITE_CRED_VENCIM_ACIMA_360\":\"v40\",\"CRED_A_LIBERAR_ATE_360\":\"v60\",\"CRED_A_LIBERAR_ACIMA_360\":\"v80\",\"CRED_A_VENCER_ATE_30\":\"v110\",\"CRED_A_VENCER_DE_31_A_60\":\"v120\",\"CRED_A_VENCER_DE_61_A_90\":\"v130\",\"CRED_A_VENCER_DE_91_A_180\":\"v140\",\"CRED_A_VENCER_DE_181_A_360\":\"v150\",\"CRED_A_VENCER_DE_361_A_720\":\"v160\",\"CRED_A_VENCER_DE_721_A_1080\":\"v165\",\"CRED_A_VENCER_DE_1081_A_1440\":\"v170\",\"CRED_A_VENCER_DE_1441_A_1800\":\"v175\",\"CRED_A_VENCER_DE_1801_A_5400\":\"v180\",\"CRED_A_VENCER_ACIMA_5400\":\"v190\",\"CRED_A_VENCER_PRAZO_INDETERM\":\"v199\",\"CRED_VENCIDOS_DE_1_A_14\":\"v205\",\"CRED_VENCIDOS_DE_15_A_30\":\"v210\",\"CRED_VENCIDOS_DE_31_A_60\":\"v220\",\"CRED_VENCIDOS_DE_61_A_90\":\"v230\",\"CRED_VENCIDOS_DE_91_A_120\":\"v240\",\"CRED_VENCIDOS_DE_121_A_150\":\"v245\",\"CRED_VENCIDOS_DE_151_A_180\":\"v250\",\"CRED_VENCIDOS_DE_181_A_240\":\"v255\",\"CRED_VENCIDOS_DE_241_A_300\":\"v260\",\"CRED_VENCIDOS_DE_301_A_360\":\"v270\",\"CRED_VENCIDOS_DE_361_A_540\":\"v280\",\"CRED_VENCIDOS_ACIMA_540\":\"v290\",\"CRED_BAIX_PREJ_ATE_12_M\":\"v310\",\"CRED_BAIX_PREJ_MAIS_12_A_48_M\":\"v320\",\"CRED_BAIX_PREJ_MAIS_48_M\":\"v330\"}"
   ]
  },
  {
   "cell_type": "code",
   "execution_count": 9,
   "id": "ad70554b",
   "metadata": {},
   "outputs": [
    {
     "data": {
      "application/vnd.jupyter.widget-view+json": {
       "model_id": "d536474c09e2455ca68d49c58633dddb",
       "version_major": 2,
       "version_minor": 0
      },
      "text/plain": [
       "VBox()"
      ]
     },
     "metadata": {},
     "output_type": "display_data"
    },
    {
     "data": {
      "application/vnd.jupyter.widget-view+json": {
       "model_id": "",
       "version_major": 2,
       "version_minor": 0
      },
      "text/plain": [
       "FloatProgress(value=0.0, bar_style='info', description='Progress:', layout=Layout(height='25px', width='50%'),…"
      ]
     },
     "metadata": {},
     "output_type": "display_data"
    }
   ],
   "source": [
    "codVencList = list(renameCodVenc.values())\n",
    "\n",
    "df1 = df1.groupBy('DATA_BASE','CPF_CLIENTE','MOD_').pivot('VCOD', codVencList).sum('VALOR')"
   ]
  },
  {
   "cell_type": "markdown",
   "id": "2fdfca61",
   "metadata": {},
   "source": [
    "Renaming columns:"
   ]
  },
  {
   "cell_type": "code",
   "execution_count": 10,
   "id": "839366b2",
   "metadata": {},
   "outputs": [
    {
     "data": {
      "application/vnd.jupyter.widget-view+json": {
       "model_id": "b48082c687ab4e94ac882fbc69c7a165",
       "version_major": 2,
       "version_minor": 0
      },
      "text/plain": [
       "VBox()"
      ]
     },
     "metadata": {},
     "output_type": "display_data"
    },
    {
     "data": {
      "application/vnd.jupyter.widget-view+json": {
       "model_id": "",
       "version_major": 2,
       "version_minor": 0
      },
      "text/plain": [
       "FloatProgress(value=0.0, bar_style='info', description='Progress:', layout=Layout(height='25px', width='50%'),…"
      ]
     },
     "metadata": {},
     "output_type": "display_data"
    }
   ],
   "source": [
    "df1 = df1.withColumnRenamed('CPF_CLIENTE','CPF_CNPJ')\n",
    "df1 = df1.withColumnRenamed('MOD_','MODALIDADE_OPERACAO')"
   ]
  },
  {
   "cell_type": "code",
   "execution_count": 11,
   "id": "0a909f1a",
   "metadata": {},
   "outputs": [
    {
     "data": {
      "application/vnd.jupyter.widget-view+json": {
       "model_id": "14847f91663f417aa17e2afa767ef9fc",
       "version_major": 2,
       "version_minor": 0
      },
      "text/plain": [
       "VBox()"
      ]
     },
     "metadata": {},
     "output_type": "display_data"
    },
    {
     "data": {
      "application/vnd.jupyter.widget-view+json": {
       "model_id": "",
       "version_major": 2,
       "version_minor": 0
      },
      "text/plain": [
       "FloatProgress(value=0.0, bar_style='info', description='Progress:', layout=Layout(height='25px', width='50%'),…"
      ]
     },
     "metadata": {},
     "output_type": "display_data"
    }
   ],
   "source": [
    "for key in renameCodVenc:\n",
    "    df1 = df1.withColumnRenamed(renameCodVenc[key],key)"
   ]
  },
  {
   "cell_type": "markdown",
   "id": "8bba683f",
   "metadata": {},
   "source": [
    "Saving it in S3:"
   ]
  },
  {
   "cell_type": "code",
   "execution_count": 12,
   "id": "10c43de0",
   "metadata": {},
   "outputs": [
    {
     "data": {
      "application/vnd.jupyter.widget-view+json": {
       "model_id": "60d6d26323124226a83baaf2d1ffa3ee",
       "version_major": 2,
       "version_minor": 0
      },
      "text/plain": [
       "VBox()"
      ]
     },
     "metadata": {},
     "output_type": "display_data"
    },
    {
     "data": {
      "application/vnd.jupyter.widget-view+json": {
       "model_id": "",
       "version_major": 2,
       "version_minor": 0
      },
      "text/plain": [
       "FloatProgress(value=0.0, bar_style='info', description='Progress:', layout=Layout(height='25px', width='50%'),…"
      ]
     },
     "metadata": {},
     "output_type": "display_data"
    }
   ],
   "source": [
    "df1.write.format(\"parquet\").mode(\"append\").save(\"s3://modelagem/scr/omni-scr/\")"
   ]
  },
  {
   "cell_type": "code",
   "execution_count": 13,
   "id": "57d959a2",
   "metadata": {},
   "outputs": [
    {
     "data": {
      "application/vnd.jupyter.widget-view+json": {
       "model_id": "f9e728f924d1405a8ee4eb55f96a34d4",
       "version_major": 2,
       "version_minor": 0
      },
      "text/plain": [
       "VBox()"
      ]
     },
     "metadata": {},
     "output_type": "display_data"
    },
    {
     "data": {
      "application/vnd.jupyter.widget-view+json": {
       "model_id": "",
       "version_major": 2,
       "version_minor": 0
      },
      "text/plain": [
       "FloatProgress(value=0.0, bar_style='info', description='Progress:', layout=Layout(height='25px', width='50%'),…"
      ]
     },
     "metadata": {},
     "output_type": "display_data"
    }
   ],
   "source": [
    "schema_ = StructType() \\\n",
    "      .add(\"SEQUENCIA\",StringType(),True)\\\n",
    "      .add(\"EMPRESA\",StringType(),True)\\\n",
    "      .add(\"CODSISTEMA\",StringType(),True)\\\n",
    "      .add(\"DTMOVIMENTO\",StringType(),True)\\\n",
    "      .add(\"AGENCIA\",StringType(),True)\\\n",
    "      .add(\"NROOPERACAO\",StringType(),True)\\\n",
    "      .add(\"CLIENTE\",StringType(),True)\\\n",
    "      .add(\"CODPRODUTO\",StringType(),True)\\\n",
    "      .add(\"CODGERENTE\",StringType(),True)\\\n",
    "      .add(\"SLDCONTABIL\",StringType(),True)\\\n",
    "      .add(\"SLDRENDA\",StringType(),True)\\\n",
    "      .add(\"SLDCURVA\",StringType(),True)\\\n",
    "      .add(\"SLDCOOBRIGACOES\",StringType(),True)\\\n",
    "      .add(\"FAIXARISCO\",StringType(),True)\\\n",
    "      .add(\"DTVCTO\",StringType(),True)\\\n",
    "      .add(\"DTPDD\",StringType(),True)\\\n",
    "      .add(\"DOCUMENTO\",StringType(),True)\\\n",
    "      .add(\"TPPESSOA\",StringType(),True)\\\n",
    "      .add(\"DOCCENTRALRISCO\",StringType(),True)\\\n",
    "      .add(\"FAIXAATRASO\",StringType(),True)\\\n",
    "      .add(\"FAIXAA\",StringType(),True)\\\n",
    "      .add(\"FAIXAPDD\",StringType(),True)\\\n",
    "      .add(\"FAIXAB\",StringType(),True)\\\n",
    "      .add(\"FAIXAC\",StringType(),True)\\\n",
    "      .add(\"FAIXAD\",StringType(),True)\\\n",
    "      .add(\"FAIXAE\",StringType(),True)\\\n",
    "      .add(\"FAIXAF\",StringType(),True)\\\n",
    "      .add(\"FAIXAG\",StringType(),True)\\\n",
    "      .add(\"PARCVENCIDA\",StringType(),True)\\\n",
    "      .add(\"PARCAVENCER14\",StringType(),True)\\\n",
    "      .add(\"PARCAVENCER91\",StringType(),True)\\\n",
    "      .add(\"PARCAVENCER361\",StringType(),True)\\\n",
    "      .add(\"PARCAVENCER1081\",StringType(),True)\\\n",
    "      .add(\"PARCAVENCER1801\",StringType(),True)\\\n",
    "      .add(\"PARCAVENCER5400\",StringType(),True)\\\n",
    "      .add(\"DTEMISSAO\",StringType(),True)\\\n",
    "      .add(\"DIRECIONAMENTO\",StringType(),True)\\\n",
    "      .add(\"SETOR\",StringType(),True)\\\n",
    "      .add(\"IDPDD\",StringType(),True)\\\n",
    "      .add(\"PROVISAO\",StringType(),True)\\\n",
    "      .add(\"RISCOPOLITICA\",StringType(),True)\\\n",
    "      .add(\"RISCOPROCESSADO\",StringType(),True)\\\n",
    "      .add(\"RISCOANTERIOR\",StringType(),True)\\\n",
    "      .add(\"DTCADASTRAL\",StringType(),True)\\\n",
    "      .add(\"CONGLOMERADO\",StringType(),True)\\\n",
    "      .add(\"ORIGEMRECURSO\",StringType(),True)\\\n",
    "      .add(\"LOCALIZACAO\",StringType(),True)\\\n",
    "      .add(\"MODALIDADE\",StringType(),True)\\\n",
    "      .add(\"NATOPERACAO\",StringType(),True)\\\n",
    "      .add(\"CARACTESPECIAL\",StringType(),True)\\\n",
    "      .add(\"CARACTESPECIAL_A\",StringType(),True)\\\n",
    "      .add(\"TPRENEGOCIACAO\",StringType(),True)\\\n",
    "      .add(\"DTRENEGOCIACAO\",StringType(),True)\\\n",
    "      .add(\"TPGARANTIA\",StringType(),True)\\\n",
    "      .add(\"VLRGARANTIA\",StringType(),True)\\\n",
    "      .add(\"DTGARANTIAAVALIACAO\",StringType(),True)\\\n",
    "      .add(\"VLRTOTDESCONTO\",StringType(),True)\\\n",
    "      .add(\"VLRTOTDESCONTOLIQ\",StringType(),True)\\\n",
    "      .add(\"AVENCER30\",StringType(),True)\\\n",
    "      .add(\"AVENCER31_60\",StringType(),True)\\\n",
    "      .add(\"AVENCER61_90\",StringType(),True)\\\n",
    "      .add(\"AVENCER91_180\",StringType(),True)\\\n",
    "      .add(\"AVENCER181_360\",StringType(),True)\\\n",
    "      .add(\"AVENCER361_720\",StringType(),True)\\\n",
    "      .add(\"AVENCER721_1080\",StringType(),True)\\\n",
    "      .add(\"AVENCER1081_1440\",StringType(),True)\\\n",
    "      .add(\"AVENCER1441_1800\",StringType(),True)\\\n",
    "      .add(\"AVENCER1801_5400\",StringType(),True)\\\n",
    "      .add(\"AVENCER5401\",StringType(),True)\\\n",
    "      .add(\"AVENCERINDETERMINADO\",StringType(),True)\\\n",
    "      .add(\"VENCIDO1_14\",StringType(),True)\\\n",
    "      .add(\"VENCIDO15_30\",StringType(),True)\\\n",
    "      .add(\"VENCIDO31_60\",StringType(),True)\\\n",
    "      .add(\"VENCIDO61_90\",StringType(),True)\\\n",
    "      .add(\"VENCIDO91_120\",StringType(),True)\\\n",
    "      .add(\"VENCIDO121_150\",StringType(),True)\\\n",
    "      .add(\"VENCIDO151_180\",StringType(),True)\\\n",
    "      .add(\"VENCIDO181_240\",StringType(),True)\\\n",
    "      .add(\"VENCIDO241_300\",StringType(),True)\\\n",
    "      .add(\"VENCIDO301_360\",StringType(),True)\\\n",
    "      .add(\"VENCIDO361_540\",StringType(),True)\\\n",
    "      .add(\"VENCIDO541\",StringType(),True)\\\n",
    "      .add(\"PREJUIZO12\",StringType(),True)\\\n",
    "      .add(\"PREJUIZO12_48\",StringType(),True)\\\n",
    "      .add(\"PREJUIZO49\",StringType(),True)\\\n",
    "      .add(\"TXCONTRATUAL\",StringType(),True)\\\n",
    "      .add(\"CEPAGENCIA\",StringType(),True)\\\n",
    "      .add(\"INDEXADOR\",StringType(),True)\\\n",
    "      .add(\"VARCAMBIAL\",StringType(),True)\\\n",
    "      .add(\"CONTRATORENEG\",StringType(),True)\\\n",
    "      .add(\"PRAZODOBRO\",StringType(),True)\\\n",
    "      .add(\"GARANTIDOR\",StringType(),True)\\\n",
    "      .add(\"DTVENCFINAL\",StringType(),True)\\\n",
    "      .add(\"PORTECLIENTE\",StringType(),True)\\\n",
    "      .add(\"AUTORIZACONSBC\",StringType(),True)\\\n",
    "      .add(\"MODRENEGOCIACAO\",StringType(),True)\\\n",
    "      .add(\"SEQ\",StringType(),True)\\\n",
    "      .add(\"RISCOSISTEMA\",StringType(),True)\\\n",
    "      .add(\"IDCESSAONOATIVO\",StringType(),True)\\\n",
    "      .add(\"TPCONTROLE\",StringType(),True)\\\n",
    "      .add(\"IDCESSAOPARCIAL\",StringType(),True) "
   ]
  },
  {
   "cell_type": "code",
   "execution_count": 14,
   "id": "b645b9c7",
   "metadata": {},
   "outputs": [
    {
     "data": {
      "application/vnd.jupyter.widget-view+json": {
       "model_id": "dfbdf0b5d2e544e0a80229086761cfbc",
       "version_major": 2,
       "version_minor": 0
      },
      "text/plain": [
       "VBox()"
      ]
     },
     "metadata": {},
     "output_type": "display_data"
    },
    {
     "data": {
      "application/vnd.jupyter.widget-view+json": {
       "model_id": "",
       "version_major": 2,
       "version_minor": 0
      },
      "text/plain": [
       "FloatProgress(value=0.0, bar_style='info', description='Progress:', layout=Layout(height='25px', width='50%'),…"
      ]
     },
     "metadata": {},
     "output_type": "display_data"
    }
   ],
   "source": [
    "#Leitura da base infcarteiramensal\n",
    "df_ = spark.read.format(\"csv\") \\\n",
    "      .options(header='True', delimiter=';') \\\n",
    "      .schema(schema_) \\\n",
    "      .load('s3://modelagem/scr/extracoes-infcarteiramensal/')"
   ]
  },
  {
   "cell_type": "code",
   "execution_count": 15,
   "id": "47dc4909",
   "metadata": {},
   "outputs": [
    {
     "data": {
      "application/vnd.jupyter.widget-view+json": {
       "model_id": "bf42be0109164ecdb9cdb988ac4b84ae",
       "version_major": 2,
       "version_minor": 0
      },
      "text/plain": [
       "VBox()"
      ]
     },
     "metadata": {},
     "output_type": "display_data"
    },
    {
     "data": {
      "application/vnd.jupyter.widget-view+json": {
       "model_id": "",
       "version_major": 2,
       "version_minor": 0
      },
      "text/plain": [
       "FloatProgress(value=0.0, bar_style='info', description='Progress:', layout=Layout(height='25px', width='50%'),…"
      ]
     },
     "metadata": {},
     "output_type": "display_data"
    }
   ],
   "source": [
    "df_ = df_.withColumn(\"LIMITE_CRED_VENCIMENTO_ATE_360\",lit(0.0))\n",
    "df_ = df_.withColumn(\"LIMITE_CRED_VENCIM_ACIMA_360\",lit(0.0))\n",
    "df_ = df_.withColumn(\"CRED_A_LIBERAR_ATE_360\",lit(0.0))\n",
    "df_ = df_.withColumn(\"CRED_A_LIBERAR_ACIMA_360\",lit(0.0))\n"
   ]
  },
  {
   "cell_type": "code",
   "execution_count": 16,
   "id": "359e35eb",
   "metadata": {},
   "outputs": [
    {
     "data": {
      "application/vnd.jupyter.widget-view+json": {
       "model_id": "ba749bc588eb40a1acd830ae379faa90",
       "version_major": 2,
       "version_minor": 0
      },
      "text/plain": [
       "VBox()"
      ]
     },
     "metadata": {},
     "output_type": "display_data"
    },
    {
     "data": {
      "application/vnd.jupyter.widget-view+json": {
       "model_id": "",
       "version_major": 2,
       "version_minor": 0
      },
      "text/plain": [
       "FloatProgress(value=0.0, bar_style='info', description='Progress:', layout=Layout(height='25px', width='50%'),…"
      ]
     },
     "metadata": {},
     "output_type": "display_data"
    }
   ],
   "source": [
    "renameCodVenc_ = {\"CRED_A_VENCER_ATE_30\":\"AVENCER30\",\"CRED_A_VENCER_DE_31_A_60\":\"AVENCER31_60\",\"CRED_A_VENCER_DE_61_A_90\":\"AVENCER61_90\",\"CRED_A_VENCER_DE_91_A_180\":\"AVENCER91_180\",\"CRED_A_VENCER_DE_181_A_360\":\"AVENCER181_360\", \\\n",
    "\"CRED_A_VENCER_DE_361_A_720\":\"AVENCER361_720\",\"CRED_A_VENCER_DE_721_A_1080\":\"AVENCER721_1080\",\"CRED_A_VENCER_DE_1081_A_1440\":\"AVENCER1081_1440\",\"CRED_A_VENCER_DE_1441_A_1800\":\"AVENCER1441_1800\",\"CRED_A_VENCER_DE_1801_A_5400\":\"AVENCER1801_5400\",\\\n",
    "\"CRED_A_VENCER_ACIMA_5400\":\"AVENCER5401\",\"CRED_A_VENCER_PRAZO_INDETERM\":\"AVENCERINDETERMINADO\",\"CRED_VENCIDOS_DE_1_A_14\":\"VENCIDO1_14\",\"CRED_VENCIDOS_DE_15_A_30\":\"VENCIDO15_30\",\"CRED_VENCIDOS_DE_31_A_60\":\"VENCIDO31_60\",\"CRED_VENCIDOS_DE_61_A_90\":\"VENCIDO61_90\",\\\n",
    "\"CRED_VENCIDOS_DE_91_A_120\":\"VENCIDO91_120\",\"CRED_VENCIDOS_DE_121_A_150\":\"VENCIDO121_150\",\"CRED_VENCIDOS_DE_151_A_180\":\"VENCIDO151_180\",\"CRED_VENCIDOS_DE_181_A_240\":\"VENCIDO181_240\",\"CRED_VENCIDOS_DE_241_A_300\":\"VENCIDO241_300\",\\\n",
    "\"CRED_VENCIDOS_DE_301_A_360\":\"VENCIDO301_360\",\"CRED_VENCIDOS_DE_361_A_540\":\"VENCIDO361_540\",\"CRED_VENCIDOS_ACIMA_540\":\"VENCIDO541\",\"CRED_BAIX_PREJ_ATE_12_M\":\"PREJUIZO12\",\"CRED_BAIX_PREJ_MAIS_12_A_48_M\":\"PREJUIZO12_48\",\"CRED_BAIX_PREJ_MAIS_48_M\":\"PREJUIZO49\"}"
   ]
  },
  {
   "cell_type": "code",
   "execution_count": 17,
   "id": "be3c8e39",
   "metadata": {},
   "outputs": [
    {
     "data": {
      "application/vnd.jupyter.widget-view+json": {
       "model_id": "89b7d1de4cbd40ada42fdcdb88bc1fec",
       "version_major": 2,
       "version_minor": 0
      },
      "text/plain": [
       "VBox()"
      ]
     },
     "metadata": {},
     "output_type": "display_data"
    },
    {
     "data": {
      "application/vnd.jupyter.widget-view+json": {
       "model_id": "",
       "version_major": 2,
       "version_minor": 0
      },
      "text/plain": [
       "FloatProgress(value=0.0, bar_style='info', description='Progress:', layout=Layout(height='25px', width='50%'),…"
      ]
     },
     "metadata": {},
     "output_type": "display_data"
    }
   ],
   "source": [
    "for key in renameCodVenc_:\n",
    "    df_ = df_.withColumnRenamed(renameCodVenc_[key],key)"
   ]
  },
  {
   "cell_type": "code",
   "execution_count": 18,
   "id": "5fcbfb20",
   "metadata": {},
   "outputs": [
    {
     "data": {
      "application/vnd.jupyter.widget-view+json": {
       "model_id": "b30061a411c0474086d553f5dc94b00d",
       "version_major": 2,
       "version_minor": 0
      },
      "text/plain": [
       "VBox()"
      ]
     },
     "metadata": {},
     "output_type": "display_data"
    },
    {
     "data": {
      "application/vnd.jupyter.widget-view+json": {
       "model_id": "",
       "version_major": 2,
       "version_minor": 0
      },
      "text/plain": [
       "FloatProgress(value=0.0, bar_style='info', description='Progress:', layout=Layout(height='25px', width='50%'),…"
      ]
     },
     "metadata": {},
     "output_type": "display_data"
    }
   ],
   "source": [
    "df_ = df_.withColumnRenamed('DOCUMENTO','CPF_CNPJ')\n",
    "df_ = df_.withColumnRenamed('MODALIDADE','MODALIDADE_OPERACAO')\n",
    "df_ = df_.withColumnRenamed('DTMOVIMENTO','DATA_BASE')"
   ]
  },
  {
   "cell_type": "code",
   "execution_count": 19,
   "id": "63726560",
   "metadata": {},
   "outputs": [
    {
     "data": {
      "application/vnd.jupyter.widget-view+json": {
       "model_id": "411d08ef6d1f464582ba91d1cdd7e9a7",
       "version_major": 2,
       "version_minor": 0
      },
      "text/plain": [
       "VBox()"
      ]
     },
     "metadata": {},
     "output_type": "display_data"
    },
    {
     "data": {
      "application/vnd.jupyter.widget-view+json": {
       "model_id": "",
       "version_major": 2,
       "version_minor": 0
      },
      "text/plain": [
       "FloatProgress(value=0.0, bar_style='info', description='Progress:', layout=Layout(height='25px', width='50%'),…"
      ]
     },
     "metadata": {},
     "output_type": "display_data"
    }
   ],
   "source": [
    "lista_soma = [\"LIMITE_CRED_VENCIMENTO_ATE_360\",\n",
    "\"LIMITE_CRED_VENCIM_ACIMA_360\",\n",
    "\"CRED_A_LIBERAR_ATE_360\",\n",
    "\"CRED_A_LIBERAR_ACIMA_360\",\n",
    "\"CRED_A_VENCER_ATE_30\",\n",
    "\"CRED_A_VENCER_DE_31_A_60\",\n",
    "\"CRED_A_VENCER_DE_61_A_90\",\n",
    "\"CRED_A_VENCER_DE_91_A_180\",\n",
    "\"CRED_A_VENCER_DE_181_A_360\",\n",
    "\"CRED_A_VENCER_DE_361_A_720\",\n",
    "\"CRED_A_VENCER_DE_721_A_1080\",\n",
    "\"CRED_A_VENCER_DE_1081_A_1440\",\n",
    "\"CRED_A_VENCER_DE_1441_A_1800\",\n",
    "\"CRED_A_VENCER_DE_1801_A_5400\",\n",
    "\"CRED_A_VENCER_ACIMA_5400\",\n",
    "\"CRED_A_VENCER_PRAZO_INDETERM\",\n",
    "\"CRED_VENCIDOS_DE_1_A_14\",\n",
    "\"CRED_VENCIDOS_DE_15_A_30\",\n",
    "\"CRED_VENCIDOS_DE_31_A_60\",\n",
    "\"CRED_VENCIDOS_DE_61_A_90\",\n",
    "\"CRED_VENCIDOS_DE_91_A_120\",\n",
    "\"CRED_VENCIDOS_DE_121_A_150\",\n",
    "\"CRED_VENCIDOS_DE_151_A_180\",\n",
    "\"CRED_VENCIDOS_DE_181_A_240\",\n",
    "\"CRED_VENCIDOS_DE_241_A_300\",\n",
    "\"CRED_VENCIDOS_DE_301_A_360\",\n",
    "\"CRED_VENCIDOS_DE_361_A_540\",\n",
    "\"CRED_VENCIDOS_ACIMA_540\",\n",
    "\"CRED_BAIX_PREJ_ATE_12_M\",\n",
    "\"CRED_BAIX_PREJ_MAIS_12_A_48_M\",\n",
    "\"CRED_BAIX_PREJ_MAIS_48_M\"]"
   ]
  },
  {
   "cell_type": "code",
   "execution_count": 20,
   "id": "1517d9fb",
   "metadata": {},
   "outputs": [
    {
     "data": {
      "application/vnd.jupyter.widget-view+json": {
       "model_id": "00b8724c2c664337892b1023800539fd",
       "version_major": 2,
       "version_minor": 0
      },
      "text/plain": [
       "VBox()"
      ]
     },
     "metadata": {},
     "output_type": "display_data"
    },
    {
     "data": {
      "application/vnd.jupyter.widget-view+json": {
       "model_id": "",
       "version_major": 2,
       "version_minor": 0
      },
      "text/plain": [
       "FloatProgress(value=0.0, bar_style='info', description='Progress:', layout=Layout(height='25px', width='50%'),…"
      ]
     },
     "metadata": {},
     "output_type": "display_data"
    }
   ],
   "source": [
    "for column in df_.columns:\n",
    "    if column.startswith('LIMITE') or column.startswith('CRED'):\n",
    "        df_ = df_.withColumn(column, F.regexp_replace(column, ',','.')).withColumn(column, F.col(column).cast(DoubleType()))"
   ]
  },
  {
   "cell_type": "code",
   "execution_count": 21,
   "id": "dba24458",
   "metadata": {},
   "outputs": [
    {
     "data": {
      "application/vnd.jupyter.widget-view+json": {
       "model_id": "09727e3559624af38ff0ce3353d8538e",
       "version_major": 2,
       "version_minor": 0
      },
      "text/plain": [
       "VBox()"
      ]
     },
     "metadata": {},
     "output_type": "display_data"
    },
    {
     "data": {
      "application/vnd.jupyter.widget-view+json": {
       "model_id": "",
       "version_major": 2,
       "version_minor": 0
      },
      "text/plain": [
       "FloatProgress(value=0.0, bar_style='info', description='Progress:', layout=Layout(height='25px', width='50%'),…"
      ]
     },
     "metadata": {},
     "output_type": "display_data"
    }
   ],
   "source": [
    "df_ = df_.groupBy('DATA_BASE','CPF_CNPJ','MODALIDADE_OPERACAO').sum(\"LIMITE_CRED_VENCIMENTO_ATE_360\",\n",
    "\"LIMITE_CRED_VENCIM_ACIMA_360\",\n",
    "\"CRED_A_LIBERAR_ATE_360\",\n",
    "\"CRED_A_LIBERAR_ACIMA_360\",\n",
    "\"CRED_A_VENCER_ATE_30\",\n",
    "\"CRED_A_VENCER_DE_31_A_60\",\n",
    "\"CRED_A_VENCER_DE_61_A_90\",\n",
    "\"CRED_A_VENCER_DE_91_A_180\",\n",
    "\"CRED_A_VENCER_DE_181_A_360\",\n",
    "\"CRED_A_VENCER_DE_361_A_720\",\n",
    "\"CRED_A_VENCER_DE_721_A_1080\",\n",
    "\"CRED_A_VENCER_DE_1081_A_1440\",\n",
    "\"CRED_A_VENCER_DE_1441_A_1800\",\n",
    "\"CRED_A_VENCER_DE_1801_A_5400\",\n",
    "\"CRED_A_VENCER_ACIMA_5400\",\n",
    "\"CRED_A_VENCER_PRAZO_INDETERM\",\n",
    "\"CRED_VENCIDOS_DE_1_A_14\",\n",
    "\"CRED_VENCIDOS_DE_15_A_30\",\n",
    "\"CRED_VENCIDOS_DE_31_A_60\",\n",
    "\"CRED_VENCIDOS_DE_61_A_90\",\n",
    "\"CRED_VENCIDOS_DE_91_A_120\",\n",
    "\"CRED_VENCIDOS_DE_121_A_150\",\n",
    "\"CRED_VENCIDOS_DE_151_A_180\",\n",
    "\"CRED_VENCIDOS_DE_181_A_240\",\n",
    "\"CRED_VENCIDOS_DE_241_A_300\",\n",
    "\"CRED_VENCIDOS_DE_301_A_360\",\n",
    "\"CRED_VENCIDOS_DE_361_A_540\",\n",
    "\"CRED_VENCIDOS_ACIMA_540\",\n",
    "\"CRED_BAIX_PREJ_ATE_12_M\",\n",
    "\"CRED_BAIX_PREJ_MAIS_12_A_48_M\",\n",
    "\"CRED_BAIX_PREJ_MAIS_48_M\") "
   ]
  },
  {
   "cell_type": "code",
   "execution_count": 22,
   "id": "5eed5124",
   "metadata": {},
   "outputs": [
    {
     "data": {
      "application/vnd.jupyter.widget-view+json": {
       "model_id": "b9bb1c70b1024fcf9d1238ce933d7ce9",
       "version_major": 2,
       "version_minor": 0
      },
      "text/plain": [
       "VBox()"
      ]
     },
     "metadata": {},
     "output_type": "display_data"
    },
    {
     "data": {
      "application/vnd.jupyter.widget-view+json": {
       "model_id": "",
       "version_major": 2,
       "version_minor": 0
      },
      "text/plain": [
       "FloatProgress(value=0.0, bar_style='info', description='Progress:', layout=Layout(height='25px', width='50%'),…"
      ]
     },
     "metadata": {},
     "output_type": "display_data"
    }
   ],
   "source": [
    "for column in df_.columns:\n",
    "    df_ = df_.withColumnRenamed(column, column.replace('sum(','').replace(')',''))"
   ]
  },
  {
   "cell_type": "code",
   "execution_count": 23,
   "id": "fb4335dd",
   "metadata": {},
   "outputs": [
    {
     "data": {
      "application/vnd.jupyter.widget-view+json": {
       "model_id": "4cc78a941b684a5a815b877efa3e528b",
       "version_major": 2,
       "version_minor": 0
      },
      "text/plain": [
       "VBox()"
      ]
     },
     "metadata": {},
     "output_type": "display_data"
    },
    {
     "data": {
      "application/vnd.jupyter.widget-view+json": {
       "model_id": "",
       "version_major": 2,
       "version_minor": 0
      },
      "text/plain": [
       "FloatProgress(value=0.0, bar_style='info', description='Progress:', layout=Layout(height='25px', width='50%'),…"
      ]
     },
     "metadata": {},
     "output_type": "display_data"
    }
   ],
   "source": [
    "for item in lista_soma:\n",
    "    df_ = df_.withColumn(item, F.round(df_[item], 4))"
   ]
  },
  {
   "cell_type": "code",
   "execution_count": 24,
   "id": "aff7e730",
   "metadata": {},
   "outputs": [
    {
     "data": {
      "application/vnd.jupyter.widget-view+json": {
       "model_id": "ccee76f17b4a4bfc84098fbb0234297a",
       "version_major": 2,
       "version_minor": 0
      },
      "text/plain": [
       "VBox()"
      ]
     },
     "metadata": {},
     "output_type": "display_data"
    },
    {
     "data": {
      "application/vnd.jupyter.widget-view+json": {
       "model_id": "",
       "version_major": 2,
       "version_minor": 0
      },
      "text/plain": [
       "FloatProgress(value=0.0, bar_style='info', description='Progress:', layout=Layout(height='25px', width='50%'),…"
      ]
     },
     "metadata": {},
     "output_type": "display_data"
    }
   ],
   "source": [
    "df_ = df_.select(\n",
    "\"DATA_BASE\",\n",
    "\"CPF_CNPJ\",\n",
    "\"MODALIDADE_OPERACAO\",\n",
    "\"LIMITE_CRED_VENCIMENTO_ATE_360\",\n",
    "\"LIMITE_CRED_VENCIM_ACIMA_360\",\n",
    "\"CRED_A_LIBERAR_ATE_360\",\n",
    "\"CRED_A_LIBERAR_ACIMA_360\",\n",
    "\"CRED_A_VENCER_ATE_30\",\n",
    "\"CRED_A_VENCER_DE_31_A_60\",\n",
    "\"CRED_A_VENCER_DE_61_A_90\",\n",
    "\"CRED_A_VENCER_DE_91_A_180\",\n",
    "\"CRED_A_VENCER_DE_181_A_360\",\n",
    "\"CRED_A_VENCER_DE_361_A_720\",\n",
    "\"CRED_A_VENCER_DE_721_A_1080\",\n",
    "\"CRED_A_VENCER_DE_1081_A_1440\",\n",
    "\"CRED_A_VENCER_DE_1441_A_1800\",\n",
    "\"CRED_A_VENCER_DE_1801_A_5400\",\n",
    "\"CRED_A_VENCER_ACIMA_5400\",\n",
    "\"CRED_A_VENCER_PRAZO_INDETERM\",\n",
    "\"CRED_VENCIDOS_DE_1_A_14\",\n",
    "\"CRED_VENCIDOS_DE_15_A_30\",\n",
    "\"CRED_VENCIDOS_DE_31_A_60\",\n",
    "\"CRED_VENCIDOS_DE_61_A_90\",\n",
    "\"CRED_VENCIDOS_DE_91_A_120\",\n",
    "\"CRED_VENCIDOS_DE_121_A_150\",\n",
    "\"CRED_VENCIDOS_DE_151_A_180\",\n",
    "\"CRED_VENCIDOS_DE_181_A_240\",\n",
    "\"CRED_VENCIDOS_DE_241_A_300\",\n",
    "\"CRED_VENCIDOS_DE_301_A_360\",\n",
    "\"CRED_VENCIDOS_DE_361_A_540\",\n",
    "\"CRED_VENCIDOS_ACIMA_540\",\n",
    "\"CRED_BAIX_PREJ_ATE_12_M\",\n",
    "\"CRED_BAIX_PREJ_MAIS_12_A_48_M\",\n",
    "\"CRED_BAIX_PREJ_MAIS_48_M\"\n",
    ")"
   ]
  },
  {
   "cell_type": "code",
   "execution_count": 25,
   "id": "3d25d428",
   "metadata": {},
   "outputs": [
    {
     "data": {
      "application/vnd.jupyter.widget-view+json": {
       "model_id": "591f1e0f4790496488e8c71aaf3d3c5f",
       "version_major": 2,
       "version_minor": 0
      },
      "text/plain": [
       "VBox()"
      ]
     },
     "metadata": {},
     "output_type": "display_data"
    },
    {
     "data": {
      "application/vnd.jupyter.widget-view+json": {
       "model_id": "",
       "version_major": 2,
       "version_minor": 0
      },
      "text/plain": [
       "FloatProgress(value=0.0, bar_style='info', description='Progress:', layout=Layout(height='25px', width='50%'),…"
      ]
     },
     "metadata": {},
     "output_type": "display_data"
    }
   ],
   "source": [
    "df_.write.format(\"parquet\").mode(\"append\").save(\"s3://modelagem/scr/omni-scr/\")"
   ]
  }
 ],
 "metadata": {
  "kernelspec": {
   "display_name": "PySpark",
   "language": "",
   "name": "pysparkkernel"
  },
  "language_info": {
   "codemirror_mode": {
    "name": "python",
    "version": 3
   },
   "mimetype": "text/x-python",
   "name": "pyspark",
   "pygments_lexer": "python3"
  }
 },
 "nbformat": 4,
 "nbformat_minor": 5
}
