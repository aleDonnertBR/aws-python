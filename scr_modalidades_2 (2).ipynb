{
 "cells": [
  {
   "cell_type": "markdown",
   "id": "0dd9ac62",
   "metadata": {},
   "source": [
    "### MODALITY - CARGA DAS BASES DE DADOS POR MODALIDADE\n",
    "\n",
    "Choose one of the abbreviations in modality variable\n",
    "\n",
    "Abbreviation | Category\n",
    "------- | -------\n",
    "TT | Total\n",
    "DMS | Demais Créditos\n",
    "CRT | Cartão de Crédito\n",
    "VEIC | Financiamento de veículo\n",
    "FIN | Demais financiamentos\n",
    "CP | Crédito Pessoal\n",
    "CHE | Cheque Especial\n",
    "CNG | Empréstimo Consignado\n",
    "OEM | Outros Empréstimos\n",
    "MCC | Microcrédito\n",
    "VND | Vendor\n",
    "IMB | Crédito Imobiliário\n",
    "OCR | Outros Créditos\n",
    "ADD | Adiantamento a Depositantes\n",
    "OLM | Outros Limites\n",
    "RAD | Recebíveis Adquiridos\n",
    "CGA | Capital de Giro Agricultura"
   ]
  },
  {
   "cell_type": "code",
   "execution_count": 1,
   "id": "83b9676c",
   "metadata": {},
   "outputs": [
    {
     "data": {
      "application/vnd.jupyter.widget-view+json": {
       "model_id": "87d3e62fab8d418b98bb2043743d109a",
       "version_major": 2,
       "version_minor": 0
      },
      "text/plain": [
       "VBox()"
      ]
     },
     "metadata": {},
     "output_type": "display_data"
    },
    {
     "name": "stdout",
     "output_type": "stream",
     "text": [
      "Starting Spark application\n"
     ]
    },
    {
     "data": {
      "text/html": [
       "<table>\n",
       "<tr><th>ID</th><th>YARN Application ID</th><th>Kind</th><th>State</th><th>Spark UI</th><th>Driver log</th><th>Current session?</th></tr><tr><td>8</td><td>application_1644856271165_0009</td><td>pyspark</td><td>idle</td><td><a target=\"_blank\" href=\"http://ip-10-163-20-184.ec2.internal:20888/proxy/application_1644856271165_0009/\" class=\"emr-proxy-link\" emr-resource=\"j-1OIR3U40JHCJ3\n",
       "\" application-id=\"application_1644856271165_0009\">Link</a></td><td><a target=\"_blank\" href=\"http://ip-10-163-17-45.ec2.internal:8042/node/containerlogs/container_1644856271165_0009_01_000001/user_alexandre_somogyi\" >Link</a></td><td>✔</td></tr></table>"
      ],
      "text/plain": [
       "<IPython.core.display.HTML object>"
      ]
     },
     "metadata": {},
     "output_type": "display_data"
    },
    {
     "data": {
      "application/vnd.jupyter.widget-view+json": {
       "model_id": "",
       "version_major": 2,
       "version_minor": 0
      },
      "text/plain": [
       "FloatProgress(value=0.0, bar_style='info', description='Progress:', layout=Layout(height='25px', width='50%'),…"
      ]
     },
     "metadata": {},
     "output_type": "display_data"
    },
    {
     "name": "stdout",
     "output_type": "stream",
     "text": [
      "SparkSession available as 'spark'.\n"
     ]
    },
    {
     "data": {
      "application/vnd.jupyter.widget-view+json": {
       "model_id": "",
       "version_major": 2,
       "version_minor": 0
      },
      "text/plain": [
       "FloatProgress(value=0.0, bar_style='info', description='Progress:', layout=Layout(height='25px', width='50%'),…"
      ]
     },
     "metadata": {},
     "output_type": "display_data"
    }
   ],
   "source": [
    "modality = 'TT'"
   ]
  },
  {
   "cell_type": "code",
   "execution_count": 2,
   "id": "8f6cb135",
   "metadata": {},
   "outputs": [
    {
     "data": {
      "application/vnd.jupyter.widget-view+json": {
       "model_id": "934be665c4e147af84c52a0f8de05a55",
       "version_major": 2,
       "version_minor": 0
      },
      "text/plain": [
       "VBox()"
      ]
     },
     "metadata": {},
     "output_type": "display_data"
    },
    {
     "data": {
      "application/vnd.jupyter.widget-view+json": {
       "model_id": "",
       "version_major": 2,
       "version_minor": 0
      },
      "text/plain": [
       "FloatProgress(value=0.0, bar_style='info', description='Progress:', layout=Layout(height='25px', width='50%'),…"
      ]
     },
     "metadata": {},
     "output_type": "display_data"
    }
   ],
   "source": [
    "lista_cpfs = ['00572740700'] #'00201741873','00323499805','00572740700',"
   ]
  },
  {
   "cell_type": "code",
   "execution_count": 3,
   "id": "3e4f8824",
   "metadata": {},
   "outputs": [
    {
     "data": {
      "application/vnd.jupyter.widget-view+json": {
       "model_id": "b11103dc81ef42fbac5ae2a53cc3961a",
       "version_major": 2,
       "version_minor": 0
      },
      "text/plain": [
       "VBox()"
      ]
     },
     "metadata": {},
     "output_type": "display_data"
    },
    {
     "data": {
      "application/vnd.jupyter.widget-view+json": {
       "model_id": "",
       "version_major": 2,
       "version_minor": 0
      },
      "text/plain": [
       "FloatProgress(value=0.0, bar_style='info', description='Progress:', layout=Layout(height='25px', width='50%'),…"
      ]
     },
     "metadata": {},
     "output_type": "display_data"
    }
   ],
   "source": [
    "bucket = \"modelagem\"\n",
    "data_key = \"scr/etl-variaveis/raw-data/SCR_MODALIDADE_CLIENTE_2021*.csv\"\n",
    "#data_key = \"scr/etl-variaveis/raw-data/extract_SCR_MOD_2.csv\"\n",
    "data_location = f\"s3://{bucket}/{data_key}\"\n",
    "\n",
    "scr_data_key = \"scr/etl-variaveis/raw-data/SCR_CLIENTE_2021*.csv\"\n",
    "#scr_data_key = \"scr/etl-variaveis/raw-data/SCR_CLIENTE.csv\"\n",
    "scr_data_location = f\"s3://{bucket}/{scr_data_key}\"\n",
    "\n",
    "#s3://modelagem/scr/omni-scr/\n",
    "risco_tratado_key = \"scr/omni-scr/\"\n",
    "risco_tratado_data_location = f\"s3://{bucket}/{risco_tratado_key}\"\n",
    "\n",
    "modalities = {\n",
    "    'CRT': ['0204','0210','0218','0406','1304','1904'],\n",
    "    'DMS': ['0404', '0402', '0499', '1399', '0101', '1350', '0802', '0299'],\n",
    "    'VEIC':['0401'],\n",
    "    'FIN': ['0402','0499'],\n",
    "    'CP':  ['0203'],\n",
    "    'CHE': ['0213','1902'],\n",
    "    'CNG': ['0202'],\n",
    "    'OEM': ['0299'],\n",
    "    #'LCP': ['1906'],\n",
    "    #'LCC': ['1903'],\n",
    "    #'LG':  ['1901'],\n",
    "    'MCC': ['0212', '0403'],\n",
    "    'VND': ['0404'],\n",
    "    'IMB': ['0901','0902'],\n",
    "    'OCR': ['1399'],\n",
    "    'ADD': ['0101'],\n",
    "    'OLM': ['1901', '1903', '1906', '1999'],\n",
    "    'RAD': ['1350'],\n",
    "    'CGA': ['0802']\n",
    "}"
   ]
  },
  {
   "cell_type": "code",
   "execution_count": 4,
   "id": "879973b8",
   "metadata": {},
   "outputs": [
    {
     "data": {
      "application/vnd.jupyter.widget-view+json": {
       "model_id": "bdf51080d4ca4a2082357d282506d816",
       "version_major": 2,
       "version_minor": 0
      },
      "text/plain": [
       "VBox()"
      ]
     },
     "metadata": {},
     "output_type": "display_data"
    },
    {
     "data": {
      "application/vnd.jupyter.widget-view+json": {
       "model_id": "",
       "version_major": 2,
       "version_minor": 0
      },
      "text/plain": [
       "FloatProgress(value=0.0, bar_style='info', description='Progress:', layout=Layout(height='25px', width='50%'),…"
      ]
     },
     "metadata": {},
     "output_type": "display_data"
    }
   ],
   "source": [
    "from pyspark import SparkConf\n",
    "from pyspark.sql import SparkSession\n",
    "import botocore.session\n",
    "import boto3\n",
    "\n",
    "import pyspark\n",
    "from pyspark.sql.functions import *\n",
    "from pyspark.sql.types import StructType,StructField, StringType, IntegerType \n",
    "from pyspark.sql.types import ArrayType, DoubleType, BooleanType\n",
    "from pyspark.sql.functions import col,array_contains,months_between,sum\n",
    "from pyspark.sql import functions as F\n",
    "from operator import add, and_, sub\n",
    "from functools import reduce"
   ]
  },
  {
   "cell_type": "code",
   "execution_count": 5,
   "id": "8d814371",
   "metadata": {},
   "outputs": [
    {
     "data": {
      "application/vnd.jupyter.widget-view+json": {
       "model_id": "26a6732dee004731a4e3189dfc9e6961",
       "version_major": 2,
       "version_minor": 0
      },
      "text/plain": [
       "VBox()"
      ]
     },
     "metadata": {},
     "output_type": "display_data"
    },
    {
     "data": {
      "application/vnd.jupyter.widget-view+json": {
       "model_id": "",
       "version_major": 2,
       "version_minor": 0
      },
      "text/plain": [
       "FloatProgress(value=0.0, bar_style='info', description='Progress:', layout=Layout(height='25px', width='50%'),…"
      ]
     },
     "metadata": {},
     "output_type": "display_data"
    }
   ],
   "source": [
    "def sumIgnoringNaN(listOfColumnsToSum):\n",
    "    return F.when(\n",
    "        reduce(and_,\n",
    "               [(F.col(column).isNull()) for column in listOfColumnsToSum]),\n",
    "        F.lit(None)).otherwise(\n",
    "            reduce(add, [\n",
    "                F.coalesce(F.col(column), F.lit(0.0))\n",
    "                for column in listOfColumnsToSum\n",
    "            ]))"
   ]
  },
  {
   "cell_type": "code",
   "execution_count": 6,
   "id": "a2fc7cc5",
   "metadata": {},
   "outputs": [
    {
     "data": {
      "application/vnd.jupyter.widget-view+json": {
       "model_id": "39af3fa1860e4884a355cea7f71bb128",
       "version_major": 2,
       "version_minor": 0
      },
      "text/plain": [
       "VBox()"
      ]
     },
     "metadata": {},
     "output_type": "display_data"
    },
    {
     "data": {
      "application/vnd.jupyter.widget-view+json": {
       "model_id": "",
       "version_major": 2,
       "version_minor": 0
      },
      "text/plain": [
       "FloatProgress(value=0.0, bar_style='info', description='Progress:', layout=Layout(height='25px', width='50%'),…"
      ]
     },
     "metadata": {},
     "output_type": "display_data"
    }
   ],
   "source": [
    "def avgIgnoringNaN(listOfColumnsToAvg):\n",
    "    return F.when(\n",
    "                reduce(and_, [(F.col(column).isNull()) for column in listOfColumnsToAvg]), \n",
    "                F.lit(None)\n",
    "            ).otherwise(\n",
    "                #the first reduce does the sum ignoring nan by replacing it by 0, the second reduce counts the number of non nan values in order to do the avg ignoring nan\n",
    "                reduce(add, [F.coalesce(F.col(column), F.lit(0.0)) for column in listOfColumnsToAvg])/reduce(add, [F.col(column).isNotNull().cast(IntegerType()) for column in listOfColumnsToAvg])\n",
    "            )"
   ]
  },
  {
   "cell_type": "code",
   "execution_count": 7,
   "id": "04df2d86",
   "metadata": {},
   "outputs": [
    {
     "data": {
      "application/vnd.jupyter.widget-view+json": {
       "model_id": "25ca1c82af324aa0b30af207597c97cc",
       "version_major": 2,
       "version_minor": 0
      },
      "text/plain": [
       "VBox()"
      ]
     },
     "metadata": {},
     "output_type": "display_data"
    },
    {
     "data": {
      "application/vnd.jupyter.widget-view+json": {
       "model_id": "",
       "version_major": 2,
       "version_minor": 0
      },
      "text/plain": [
       "FloatProgress(value=0.0, bar_style='info', description='Progress:', layout=Layout(height='25px', width='50%'),…"
      ]
     },
     "metadata": {},
     "output_type": "display_data"
    }
   ],
   "source": [
    "def subIgnoringNaN(listOfColumnsToSub):\n",
    "    return F.when(\n",
    "        reduce(and_,\n",
    "               [(F.col(column).isNull()) for column in listOfColumnsToSub]),\n",
    "        F.lit(None)).otherwise(\n",
    "            reduce(sub, [\n",
    "                F.coalesce(F.col(column), F.lit(0.0))\n",
    "                for column in listOfColumnsToSub\n",
    "            ]))"
   ]
  },
  {
   "cell_type": "code",
   "execution_count": 8,
   "id": "f4fe75bc",
   "metadata": {},
   "outputs": [
    {
     "data": {
      "application/vnd.jupyter.widget-view+json": {
       "model_id": "6ef939a7671440c59e663f3bb3721aef",
       "version_major": 2,
       "version_minor": 0
      },
      "text/plain": [
       "VBox()"
      ]
     },
     "metadata": {},
     "output_type": "display_data"
    },
    {
     "data": {
      "application/vnd.jupyter.widget-view+json": {
       "model_id": "",
       "version_major": 2,
       "version_minor": 0
      },
      "text/plain": [
       "FloatProgress(value=0.0, bar_style='info', description='Progress:', layout=Layout(height='25px', width='50%'),…"
      ]
     },
     "metadata": {},
     "output_type": "display_data"
    }
   ],
   "source": [
    "schema = StructType()\\\n",
    "      .add(\"DTBASE\",IntegerType(),True)\\\n",
    "      .add(\"CD\",StringType(),True)\\\n",
    "      .add(\"TP\",StringType(),True)\\\n",
    "      .add(\"MOD\",StringType(),True)\\\n",
    "      .add(\"VINCME\",StringType(),True)\\\n",
    "      .add(\"LIMITE_CRED_VENCIMENTO_ATE_360\",StringType(),True)\\\n",
    "      .add(\"LIMITE_CRED_VENCIM_ACIMA_360\",StringType(),True)\\\n",
    "      .add(\"CRED_A_LIBERAR_ATE_360\",StringType(),True)\\\n",
    "      .add(\"CRED_A_LIBERAR_ACIMA_360\",StringType(),True)\\\n",
    "      .add(\"CRED_A_VENCER_ATE_30\",StringType(),True)\\\n",
    "      .add(\"CRED_A_VENCER_DE_31_A_60\",StringType(),True)\\\n",
    "      .add(\"CRED_A_VENCER_DE_61_A_90\",StringType(),True)\\\n",
    "      .add(\"CRED_A_VENCER_DE_91_A_180\",StringType(),True)\\\n",
    "      .add(\"CRED_A_VENCER_DE_181_A_360\",StringType(),True)\\\n",
    "      .add(\"CRED_A_VENCER_DE_361_A_720\",StringType(),True)\\\n",
    "      .add(\"CRED_A_VENCER_DE_721_A_1080\",StringType(),True)\\\n",
    "      .add(\"CRED_A_VENCER_DE_1081_A_1440\",StringType(),True)\\\n",
    "      .add(\"CRED_A_VENCER_DE_1441_A_1800\",StringType(),True)\\\n",
    "      .add(\"CRED_A_VENCER_DE_1801_A_5400\",StringType(),True)\\\n",
    "      .add(\"CRED_A_VENCER_ACIMA_5400\",StringType(),True)\\\n",
    "      .add(\"CRED_A_VENCER_PRAZO_INDETERM\",StringType(),True)\\\n",
    "      .add(\"CRED_VENCIDOS_DE_1_A_14\",StringType(),True)\\\n",
    "      .add(\"CRED_VENCIDOS_DE_15_A_30\",StringType(),True)\\\n",
    "      .add(\"CRED_VENCIDOS_DE_31_A_60\",StringType(),True)\\\n",
    "      .add(\"CRED_VENCIDOS_DE_61_A_90\",StringType(),True)\\\n",
    "      .add(\"CRED_VENCIDOS_DE_91_A_120\",StringType(),True)\\\n",
    "      .add(\"CRED_VENCIDOS_DE_121_A_150\",StringType(),True)\\\n",
    "      .add(\"CRED_VENCIDOS_DE_151_A_180\",StringType(),True)\\\n",
    "      .add(\"CRED_VENCIDOS_DE_181_A_240\",StringType(),True)\\\n",
    "      .add(\"CRED_VENCIDOS_DE_241_A_300\",StringType(),True)\\\n",
    "      .add(\"CRED_VENCIDOS_DE_301_A_360\",StringType(),True)\\\n",
    "      .add(\"CRED_VENCIDOS_DE_361_A_540\",StringType(),True)\\\n",
    "      .add(\"CRED_VENCIDOS_ACIMA_540\",StringType(),True)\\\n",
    "      .add(\"CRED_BAIX_PREJ_ATE_12_M\",StringType(),True)\\\n",
    "      .add(\"CRED_BAIX_PREJ_MAIS_12_A_48_M\",StringType(),True)\\\n",
    "      .add(\"CRED_BAIX_PREJ_MAIS_48_M\",StringType(),True)\\\n",
    "      .add(\"ORIGEM\",StringType(),True)\\"
   ]
  },
  {
   "cell_type": "code",
   "execution_count": 9,
   "id": "b61181f4",
   "metadata": {},
   "outputs": [
    {
     "data": {
      "application/vnd.jupyter.widget-view+json": {
       "model_id": "c793fe6cb6be406089b52cc5eabeacc0",
       "version_major": 2,
       "version_minor": 0
      },
      "text/plain": [
       "VBox()"
      ]
     },
     "metadata": {},
     "output_type": "display_data"
    },
    {
     "data": {
      "application/vnd.jupyter.widget-view+json": {
       "model_id": "",
       "version_major": 2,
       "version_minor": 0
      },
      "text/plain": [
       "FloatProgress(value=0.0, bar_style='info', description='Progress:', layout=Layout(height='25px', width='50%'),…"
      ]
     },
     "metadata": {},
     "output_type": "display_data"
    }
   ],
   "source": [
    "#Leitura da base SCR_CLIENTE_MODALIDADE\n",
    "df_SCR_CLIENTE_MODALIDADE = spark.read.format(\"csv\") \\\n",
    "      .options(header='True', delimiter=';') \\\n",
    "      .schema(schema) \\\n",
    "      .load(data_location)\n",
    "\n",
    "#converting string to double by replacing ',' by '.' and then casting\n",
    "for column in df_SCR_CLIENTE_MODALIDADE.columns:\n",
    "    if column.startswith('LIMITE') or column.startswith('CRED'):\n",
    "        df_SCR_CLIENTE_MODALIDADE = df_SCR_CLIENTE_MODALIDADE.withColumn(column, F.regexp_replace(column, ',','.')).withColumn(column, F.col(column).cast(DoubleType()))"
   ]
  },
  {
   "cell_type": "code",
   "execution_count": 10,
   "id": "38571ebf",
   "metadata": {},
   "outputs": [
    {
     "data": {
      "application/vnd.jupyter.widget-view+json": {
       "model_id": "bc440510027e4fdda18efb1609167984",
       "version_major": 2,
       "version_minor": 0
      },
      "text/plain": [
       "VBox()"
      ]
     },
     "metadata": {},
     "output_type": "display_data"
    },
    {
     "data": {
      "application/vnd.jupyter.widget-view+json": {
       "model_id": "",
       "version_major": 2,
       "version_minor": 0
      },
      "text/plain": [
       "FloatProgress(value=0.0, bar_style='info', description='Progress:', layout=Layout(height='25px', width='50%'),…"
      ]
     },
     "metadata": {},
     "output_type": "display_data"
    }
   ],
   "source": [
    "schema_cliente = StructType() \\\n",
    "      .add(\"DTBASE\",StringType(),True) \\\n",
    "      .add(\"CD\",StringType(),True) \\\n",
    "      .add(\"TP\",StringType(),True) \\\n",
    "      .add(\"COOBASS\",StringType(),True) \\\n",
    "      .add(\"COOBREC\",StringType(),True) \\\n",
    "      .add(\"INIRELACTCLI\",StringType(),True) \\\n",
    "      .add(\"QTDIF\",StringType(),True) \\\n",
    "      .add(\"QTDOPMANIF\",StringType(),True) \\\n",
    "      .add(\"QTDOPJUD\",StringType(),True) \\\n",
    "      .add(\"QTDOP\",StringType(),True) \\\n",
    "      .add(\"RESPTOTMANIF\",StringType(),True) \\\n",
    "      .add(\"RESPTOTJUD\",StringType(),True) \\\n",
    "      .add(\"RISCOINDVENDOR\",StringType(),True) \\\n",
    "      .add(\"ORIGEM\",StringType(),True)"
   ]
  },
  {
   "cell_type": "code",
   "execution_count": 11,
   "id": "0269a11b",
   "metadata": {},
   "outputs": [
    {
     "data": {
      "application/vnd.jupyter.widget-view+json": {
       "model_id": "e7274646c97c41428043c2ec75eccd96",
       "version_major": 2,
       "version_minor": 0
      },
      "text/plain": [
       "VBox()"
      ]
     },
     "metadata": {},
     "output_type": "display_data"
    },
    {
     "data": {
      "application/vnd.jupyter.widget-view+json": {
       "model_id": "",
       "version_major": 2,
       "version_minor": 0
      },
      "text/plain": [
       "FloatProgress(value=0.0, bar_style='info', description='Progress:', layout=Layout(height='25px', width='50%'),…"
      ]
     },
     "metadata": {},
     "output_type": "display_data"
    }
   ],
   "source": [
    "#Leitura da base SCR_CLIENTE\n",
    "df_SCR_CLIENTE = spark.read.format(\"csv\") \\\n",
    "      .options(header='True', delimiter=';') \\\n",
    "      .schema(schema_cliente) \\\n",
    "      .load(scr_data_location)\n",
    "\n",
    "#converting string to double by replacing ',' by '.' and then casting\n",
    "for column in df_SCR_CLIENTE.columns:\n",
    "    if column.startswith('LIMITE') or column.startswith('CRED'):\n",
    "        df_SCR_CLIENTE = df_SCR_CLIENTE.withColumn(column, F.regexp_replace(column, ',','.')).withColumn(column, F.col(column).cast(DoubleType()))"
   ]
  },
  {
   "cell_type": "code",
   "execution_count": 12,
   "id": "124479e2",
   "metadata": {},
   "outputs": [
    {
     "data": {
      "application/vnd.jupyter.widget-view+json": {
       "model_id": "e6fdeb448e70495eb1b419f1a044c504",
       "version_major": 2,
       "version_minor": 0
      },
      "text/plain": [
       "VBox()"
      ]
     },
     "metadata": {},
     "output_type": "display_data"
    },
    {
     "data": {
      "application/vnd.jupyter.widget-view+json": {
       "model_id": "",
       "version_major": 2,
       "version_minor": 0
      },
      "text/plain": [
       "FloatProgress(value=0.0, bar_style='info', description='Progress:', layout=Layout(height='25px', width='50%'),…"
      ]
     },
     "metadata": {},
     "output_type": "display_data"
    }
   ],
   "source": [
    "df_risco_tratado = spark.read.parquet(risco_tratado_data_location)"
   ]
  },
  {
   "cell_type": "code",
   "execution_count": 13,
   "id": "97cb2c9e",
   "metadata": {},
   "outputs": [
    {
     "data": {
      "application/vnd.jupyter.widget-view+json": {
       "model_id": "99120ae98e554e22a054701091a51624",
       "version_major": 2,
       "version_minor": 0
      },
      "text/plain": [
       "VBox()"
      ]
     },
     "metadata": {},
     "output_type": "display_data"
    },
    {
     "data": {
      "application/vnd.jupyter.widget-view+json": {
       "model_id": "",
       "version_major": 2,
       "version_minor": 0
      },
      "text/plain": [
       "FloatProgress(value=0.0, bar_style='info', description='Progress:', layout=Layout(height='25px', width='50%'),…"
      ]
     },
     "metadata": {},
     "output_type": "display_data"
    }
   ],
   "source": [
    "df_risco_tratado = df_risco_tratado.withColumn('CRED_A_VENCER_ATE_30', sumIgnoringNaN(['CRED_A_VENCER_ATE_30','CRED_VENCIDOS_DE_1_A_14']))\n",
    "df_risco_tratado = df_risco_tratado.withColumn('CRED_VENCIDOS_DE_1_A_14', F.lit(0))"
   ]
  },
  {
   "cell_type": "code",
   "execution_count": 14,
   "id": "918d42dd",
   "metadata": {},
   "outputs": [
    {
     "data": {
      "application/vnd.jupyter.widget-view+json": {
       "model_id": "e5f58c58a88b4b7aa88fb1f1d88e1096",
       "version_major": 2,
       "version_minor": 0
      },
      "text/plain": [
       "VBox()"
      ]
     },
     "metadata": {},
     "output_type": "display_data"
    },
    {
     "data": {
      "application/vnd.jupyter.widget-view+json": {
       "model_id": "",
       "version_major": 2,
       "version_minor": 0
      },
      "text/plain": [
       "FloatProgress(value=0.0, bar_style='info', description='Progress:', layout=Layout(height='25px', width='50%'),…"
      ]
     },
     "metadata": {},
     "output_type": "display_data"
    }
   ],
   "source": [
    "df_risco_tratado = df_risco_tratado.withColumn('DATA_BASE', substring(regexp_replace(col('DATA_BASE'), \"-\", \"\"),1,6).cast(StringType()))"
   ]
  },
  {
   "cell_type": "code",
   "execution_count": null,
   "id": "ce72eb0a",
   "metadata": {},
   "outputs": [],
   "source": []
  },
  {
   "cell_type": "code",
   "execution_count": 15,
   "id": "715858bf",
   "metadata": {},
   "outputs": [
    {
     "data": {
      "application/vnd.jupyter.widget-view+json": {
       "model_id": "c55b9306821a4e02adbd8bf164a2a689",
       "version_major": 2,
       "version_minor": 0
      },
      "text/plain": [
       "VBox()"
      ]
     },
     "metadata": {},
     "output_type": "display_data"
    },
    {
     "data": {
      "application/vnd.jupyter.widget-view+json": {
       "model_id": "",
       "version_major": 2,
       "version_minor": 0
      },
      "text/plain": [
       "FloatProgress(value=0.0, bar_style='info', description='Progress:', layout=Layout(height='25px', width='50%'),…"
      ]
     },
     "metadata": {},
     "output_type": "display_data"
    }
   ],
   "source": [
    "lista_divida = [\"CRED_A_VENCER_ATE_30\",\n",
    "\"CRED_A_VENCER_DE_31_A_60\",\n",
    "\"CRED_A_VENCER_DE_61_A_90\",\n",
    "\"CRED_A_VENCER_DE_91_A_180\",\n",
    "\"CRED_A_VENCER_DE_181_A_360\",\n",
    "\"CRED_A_VENCER_DE_361_A_720\",\n",
    "\"CRED_A_VENCER_DE_721_A_1080\",\n",
    "\"CRED_A_VENCER_DE_1081_A_1440\",\n",
    "\"CRED_A_VENCER_DE_1441_A_1800\",\n",
    "\"CRED_A_VENCER_DE_1801_A_5400\",\n",
    "\"CRED_A_VENCER_ACIMA_5400\",\n",
    "\"CRED_A_VENCER_PRAZO_INDETERM\",\n",
    "\"CRED_VENCIDOS_DE_1_A_14\",\n",
    "\"CRED_VENCIDOS_DE_15_A_30\",\n",
    "\"CRED_VENCIDOS_DE_31_A_60\",\n",
    "\"CRED_VENCIDOS_DE_61_A_90\",\n",
    "\"CRED_VENCIDOS_DE_91_A_120\",\n",
    "\"CRED_VENCIDOS_DE_121_A_150\",\n",
    "\"CRED_VENCIDOS_DE_151_A_180\",\n",
    "\"CRED_VENCIDOS_DE_181_A_240\",\n",
    "\"CRED_VENCIDOS_DE_241_A_300\",\n",
    "\"CRED_VENCIDOS_DE_301_A_360\",\n",
    "\"CRED_VENCIDOS_DE_361_A_540\",\n",
    "\"CRED_VENCIDOS_ACIMA_540\",\n",
    "\"CRED_BAIX_PREJ_ATE_12_M\",\n",
    "\"CRED_BAIX_PREJ_MAIS_12_A_48_M\",\n",
    "\"CRED_BAIX_PREJ_MAIS_48_M\"]"
   ]
  },
  {
   "cell_type": "code",
   "execution_count": 16,
   "id": "59b275f0",
   "metadata": {},
   "outputs": [
    {
     "data": {
      "application/vnd.jupyter.widget-view+json": {
       "model_id": "107b294033c148bf98d94a12c2ff3202",
       "version_major": 2,
       "version_minor": 0
      },
      "text/plain": [
       "VBox()"
      ]
     },
     "metadata": {},
     "output_type": "display_data"
    },
    {
     "data": {
      "application/vnd.jupyter.widget-view+json": {
       "model_id": "",
       "version_major": 2,
       "version_minor": 0
      },
      "text/plain": [
       "FloatProgress(value=0.0, bar_style='info', description='Progress:', layout=Layout(height='25px', width='50%'),…"
      ]
     },
     "metadata": {},
     "output_type": "display_data"
    }
   ],
   "source": [
    "lista_vencidos = ['CRED_VENCIDOS_DE_1_A_14',\n",
    "'CRED_VENCIDOS_DE_15_A_30',\n",
    "'CRED_VENCIDOS_DE_31_A_60',\n",
    "'CRED_VENCIDOS_DE_61_A_90',\n",
    "'CRED_VENCIDOS_DE_91_A_120',\n",
    "'CRED_VENCIDOS_DE_121_A_150',\n",
    "'CRED_VENCIDOS_DE_151_A_180',\n",
    "'CRED_VENCIDOS_DE_181_A_240',\n",
    "'CRED_VENCIDOS_DE_241_A_300',\n",
    "'CRED_VENCIDOS_DE_301_A_360',\n",
    "'CRED_VENCIDOS_DE_361_A_540',\n",
    "'CRED_VENCIDOS_ACIMA_540']"
   ]
  },
  {
   "cell_type": "code",
   "execution_count": 17,
   "id": "f7e74669",
   "metadata": {},
   "outputs": [
    {
     "data": {
      "application/vnd.jupyter.widget-view+json": {
       "model_id": "8d14b3d5c1db479b83c7b0a445c3f498",
       "version_major": 2,
       "version_minor": 0
      },
      "text/plain": [
       "VBox()"
      ]
     },
     "metadata": {},
     "output_type": "display_data"
    },
    {
     "data": {
      "application/vnd.jupyter.widget-view+json": {
       "model_id": "",
       "version_major": 2,
       "version_minor": 0
      },
      "text/plain": [
       "FloatProgress(value=0.0, bar_style='info', description='Progress:', layout=Layout(height='25px', width='50%'),…"
      ]
     },
     "metadata": {},
     "output_type": "display_data"
    }
   ],
   "source": [
    "lista_vencer = ['CRED_A_VENCER_ATE_30',\n",
    "'CRED_A_VENCER_DE_31_A_60',\n",
    "'CRED_A_VENCER_DE_61_A_90',\n",
    "'CRED_A_VENCER_DE_91_A_180',\n",
    "'CRED_A_VENCER_DE_181_A_360',\n",
    "'CRED_A_VENCER_DE_361_A_720',\n",
    "'CRED_A_VENCER_DE_721_A_1080',\n",
    "'CRED_A_VENCER_DE_1081_A_1440',\n",
    "'CRED_A_VENCER_DE_1441_A_1800',\n",
    "'CRED_A_VENCER_DE_1801_A_5400',\n",
    "'CRED_A_VENCER_ACIMA_5400',\n",
    "'CRED_A_VENCER_PRAZO_INDETERM']"
   ]
  },
  {
   "cell_type": "code",
   "execution_count": 18,
   "id": "8c761b83",
   "metadata": {},
   "outputs": [
    {
     "data": {
      "application/vnd.jupyter.widget-view+json": {
       "model_id": "ff9c81c164e04bdb95dd9bdc4fdde8ef",
       "version_major": 2,
       "version_minor": 0
      },
      "text/plain": [
       "VBox()"
      ]
     },
     "metadata": {},
     "output_type": "display_data"
    },
    {
     "data": {
      "application/vnd.jupyter.widget-view+json": {
       "model_id": "",
       "version_major": 2,
       "version_minor": 0
      },
      "text/plain": [
       "FloatProgress(value=0.0, bar_style='info', description='Progress:', layout=Layout(height='25px', width='50%'),…"
      ]
     },
     "metadata": {},
     "output_type": "display_data"
    }
   ],
   "source": [
    "lista_prejuizo = ['CRED_BAIX_PREJ_ATE_12_M',\n",
    "'CRED_BAIX_PREJ_MAIS_12_A_48_M',\n",
    "'CRED_BAIX_PREJ_MAIS_48_M']"
   ]
  },
  {
   "cell_type": "code",
   "execution_count": 19,
   "id": "b9e9e450",
   "metadata": {},
   "outputs": [
    {
     "data": {
      "application/vnd.jupyter.widget-view+json": {
       "model_id": "eb037191a0334e709de93d0d21d7b36b",
       "version_major": 2,
       "version_minor": 0
      },
      "text/plain": [
       "VBox()"
      ]
     },
     "metadata": {},
     "output_type": "display_data"
    },
    {
     "data": {
      "application/vnd.jupyter.widget-view+json": {
       "model_id": "",
       "version_major": 2,
       "version_minor": 0
      },
      "text/plain": [
       "FloatProgress(value=0.0, bar_style='info', description='Progress:', layout=Layout(height='25px', width='50%'),…"
      ]
     },
     "metadata": {},
     "output_type": "display_data"
    }
   ],
   "source": [
    "#renaming columns to remove the sum(column) aggregation in the name\n",
    "for column in df_risco_tratado.columns:\n",
    "    df_risco_tratado = df_risco_tratado.withColumnRenamed(column, column.replace('sum(','').replace(')',''))"
   ]
  },
  {
   "cell_type": "code",
   "execution_count": 20,
   "id": "f844fbd0",
   "metadata": {},
   "outputs": [
    {
     "data": {
      "application/vnd.jupyter.widget-view+json": {
       "model_id": "e901766e3fc44fa7889baae2bbe5e8fa",
       "version_major": 2,
       "version_minor": 0
      },
      "text/plain": [
       "VBox()"
      ]
     },
     "metadata": {},
     "output_type": "display_data"
    },
    {
     "data": {
      "application/vnd.jupyter.widget-view+json": {
       "model_id": "",
       "version_major": 2,
       "version_minor": 0
      },
      "text/plain": [
       "FloatProgress(value=0.0, bar_style='info', description='Progress:', layout=Layout(height='25px', width='50%'),…"
      ]
     },
     "metadata": {},
     "output_type": "display_data"
    }
   ],
   "source": [
    "df_risco_tratado = df_risco_tratado.withColumn(f'{modality}_SALDO_TOTAL_TT',round(sumIgnoringNaN(lista_divida).cast(DoubleType()),4))"
   ]
  },
  {
   "cell_type": "code",
   "execution_count": 21,
   "id": "0c721b71",
   "metadata": {},
   "outputs": [
    {
     "data": {
      "application/vnd.jupyter.widget-view+json": {
       "model_id": "737387d21d9b4cb78f67cbf45366bc84",
       "version_major": 2,
       "version_minor": 0
      },
      "text/plain": [
       "VBox()"
      ]
     },
     "metadata": {},
     "output_type": "display_data"
    },
    {
     "data": {
      "application/vnd.jupyter.widget-view+json": {
       "model_id": "",
       "version_major": 2,
       "version_minor": 0
      },
      "text/plain": [
       "FloatProgress(value=0.0, bar_style='info', description='Progress:', layout=Layout(height='25px', width='50%'),…"
      ]
     },
     "metadata": {},
     "output_type": "display_data"
    }
   ],
   "source": [
    "df_risco_tratado = df_risco_tratado.withColumn(f'{modality}_SALDO_VCD_TOTAL_TT',round(sumIgnoringNaN(lista_vencidos).cast(DoubleType()),4))"
   ]
  },
  {
   "cell_type": "code",
   "execution_count": 22,
   "id": "2a5afbc6",
   "metadata": {},
   "outputs": [
    {
     "data": {
      "application/vnd.jupyter.widget-view+json": {
       "model_id": "d963e6b103e04c13b20b256fcacdd432",
       "version_major": 2,
       "version_minor": 0
      },
      "text/plain": [
       "VBox()"
      ]
     },
     "metadata": {},
     "output_type": "display_data"
    },
    {
     "data": {
      "application/vnd.jupyter.widget-view+json": {
       "model_id": "",
       "version_major": 2,
       "version_minor": 0
      },
      "text/plain": [
       "FloatProgress(value=0.0, bar_style='info', description='Progress:', layout=Layout(height='25px', width='50%'),…"
      ]
     },
     "metadata": {},
     "output_type": "display_data"
    }
   ],
   "source": [
    "df_risco_tratado = df_risco_tratado.withColumn(f'{modality}_SALDO_AVCR_TOTAL_TT',round(sumIgnoringNaN(lista_vencer).cast(DoubleType()),4))"
   ]
  },
  {
   "cell_type": "code",
   "execution_count": 23,
   "id": "5de6b142",
   "metadata": {},
   "outputs": [
    {
     "data": {
      "application/vnd.jupyter.widget-view+json": {
       "model_id": "420b1aa663a042c58e65b06a0c8aa054",
       "version_major": 2,
       "version_minor": 0
      },
      "text/plain": [
       "VBox()"
      ]
     },
     "metadata": {},
     "output_type": "display_data"
    },
    {
     "data": {
      "application/vnd.jupyter.widget-view+json": {
       "model_id": "",
       "version_major": 2,
       "version_minor": 0
      },
      "text/plain": [
       "FloatProgress(value=0.0, bar_style='info', description='Progress:', layout=Layout(height='25px', width='50%'),…"
      ]
     },
     "metadata": {},
     "output_type": "display_data"
    }
   ],
   "source": [
    "df_risco_tratado = df_risco_tratado.withColumn(f'{modality}_SALDO_PREJUIZO_TOTAL_TT',round(sumIgnoringNaN(lista_prejuizo).cast(DoubleType()),4))"
   ]
  },
  {
   "cell_type": "code",
   "execution_count": 24,
   "id": "06872495",
   "metadata": {},
   "outputs": [
    {
     "data": {
      "application/vnd.jupyter.widget-view+json": {
       "model_id": "541bb8c84de74daf98124ac30d33b840",
       "version_major": 2,
       "version_minor": 0
      },
      "text/plain": [
       "VBox()"
      ]
     },
     "metadata": {},
     "output_type": "display_data"
    },
    {
     "data": {
      "application/vnd.jupyter.widget-view+json": {
       "model_id": "",
       "version_major": 2,
       "version_minor": 0
      },
      "text/plain": [
       "FloatProgress(value=0.0, bar_style='info', description='Progress:', layout=Layout(height='25px', width='50%'),…"
      ]
     },
     "metadata": {},
     "output_type": "display_data"
    }
   ],
   "source": [
    "df_risco_tratado = df_risco_tratado.withColumnRenamed('DATA_BASE','DTBASE')\n",
    "df_risco_tratado = df_risco_tratado.withColumnRenamed('CPF_CNPJ','CD')\n",
    "df_risco_tratado = df_risco_tratado.withColumnRenamed('MODALIDADE_OPERACAO','MOD')"
   ]
  },
  {
   "cell_type": "code",
   "execution_count": 25,
   "id": "41490706",
   "metadata": {},
   "outputs": [
    {
     "data": {
      "application/vnd.jupyter.widget-view+json": {
       "model_id": "294c050973fe4a13bc88291e1ea876fa",
       "version_major": 2,
       "version_minor": 0
      },
      "text/plain": [
       "VBox()"
      ]
     },
     "metadata": {},
     "output_type": "display_data"
    },
    {
     "data": {
      "application/vnd.jupyter.widget-view+json": {
       "model_id": "",
       "version_major": 2,
       "version_minor": 0
      },
      "text/plain": [
       "FloatProgress(value=0.0, bar_style='info', description='Progress:', layout=Layout(height='25px', width='50%'),…"
      ]
     },
     "metadata": {},
     "output_type": "display_data"
    }
   ],
   "source": [
    "df_risco_tratado = df_risco_tratado.na.fill(value=0)"
   ]
  },
  {
   "cell_type": "code",
   "execution_count": 26,
   "id": "4cf9bd82",
   "metadata": {},
   "outputs": [
    {
     "data": {
      "application/vnd.jupyter.widget-view+json": {
       "model_id": "1fe371c8704d460ab9434a73325f06a0",
       "version_major": 2,
       "version_minor": 0
      },
      "text/plain": [
       "VBox()"
      ]
     },
     "metadata": {},
     "output_type": "display_data"
    },
    {
     "data": {
      "application/vnd.jupyter.widget-view+json": {
       "model_id": "",
       "version_major": 2,
       "version_minor": 0
      },
      "text/plain": [
       "FloatProgress(value=0.0, bar_style='info', description='Progress:', layout=Layout(height='25px', width='50%'),…"
      ]
     },
     "metadata": {},
     "output_type": "display_data"
    }
   ],
   "source": [
    "for column in df_risco_tratado.columns:\n",
    "    if column.startswith('LIMITE') or column.startswith('CRED'):\n",
    "        df_risco_tratado = df_risco_tratado.withColumn(column, F.round(column, 4))"
   ]
  },
  {
   "cell_type": "code",
   "execution_count": 27,
   "id": "eb2020ed",
   "metadata": {},
   "outputs": [
    {
     "data": {
      "application/vnd.jupyter.widget-view+json": {
       "model_id": "4648d621cfa9461eb836ac1557c10cf0",
       "version_major": 2,
       "version_minor": 0
      },
      "text/plain": [
       "VBox()"
      ]
     },
     "metadata": {},
     "output_type": "display_data"
    },
    {
     "data": {
      "application/vnd.jupyter.widget-view+json": {
       "model_id": "",
       "version_major": 2,
       "version_minor": 0
      },
      "text/plain": [
       "FloatProgress(value=0.0, bar_style='info', description='Progress:', layout=Layout(height='25px', width='50%'),…"
      ]
     },
     "metadata": {},
     "output_type": "display_data"
    }
   ],
   "source": [
    "df_risco_tratado_market = df_risco_tratado"
   ]
  },
  {
   "cell_type": "code",
   "execution_count": 28,
   "id": "4f796317",
   "metadata": {},
   "outputs": [
    {
     "data": {
      "application/vnd.jupyter.widget-view+json": {
       "model_id": "33ec3e2a622c48b082858b4a2ec7820e",
       "version_major": 2,
       "version_minor": 0
      },
      "text/plain": [
       "VBox()"
      ]
     },
     "metadata": {},
     "output_type": "display_data"
    },
    {
     "data": {
      "application/vnd.jupyter.widget-view+json": {
       "model_id": "",
       "version_major": 2,
       "version_minor": 0
      },
      "text/plain": [
       "FloatProgress(value=0.0, bar_style='info', description='Progress:', layout=Layout(height='25px', width='50%'),…"
      ]
     },
     "metadata": {},
     "output_type": "display_data"
    }
   ],
   "source": [
    "df_risco_tratado_market = df_risco_tratado_market.filter(df_risco_tratado_market.CD.isin(lista_cpfs))"
   ]
  },
  {
   "cell_type": "code",
   "execution_count": 29,
   "id": "7b0c1947",
   "metadata": {},
   "outputs": [
    {
     "data": {
      "application/vnd.jupyter.widget-view+json": {
       "model_id": "f177625a941d471ab828e3be68cc716e",
       "version_major": 2,
       "version_minor": 0
      },
      "text/plain": [
       "VBox()"
      ]
     },
     "metadata": {},
     "output_type": "display_data"
    },
    {
     "data": {
      "application/vnd.jupyter.widget-view+json": {
       "model_id": "",
       "version_major": 2,
       "version_minor": 0
      },
      "text/plain": [
       "FloatProgress(value=0.0, bar_style='info', description='Progress:', layout=Layout(height='25px', width='50%'),…"
      ]
     },
     "metadata": {},
     "output_type": "display_data"
    }
   ],
   "source": [
    "df_SCR_CLIENTE_MODALIDADE = df_SCR_CLIENTE_MODALIDADE.filter(df_SCR_CLIENTE_MODALIDADE.CD.isin(lista_cpfs))"
   ]
  },
  {
   "cell_type": "code",
   "execution_count": 30,
   "id": "d9b793f2",
   "metadata": {},
   "outputs": [
    {
     "data": {
      "application/vnd.jupyter.widget-view+json": {
       "model_id": "12ed24b85058422fb3c061cdfa0d93ac",
       "version_major": 2,
       "version_minor": 0
      },
      "text/plain": [
       "VBox()"
      ]
     },
     "metadata": {},
     "output_type": "display_data"
    },
    {
     "data": {
      "application/vnd.jupyter.widget-view+json": {
       "model_id": "",
       "version_major": 2,
       "version_minor": 0
      },
      "text/plain": [
       "FloatProgress(value=0.0, bar_style='info', description='Progress:', layout=Layout(height='25px', width='50%'),…"
      ]
     },
     "metadata": {},
     "output_type": "display_data"
    }
   ],
   "source": [
    "for column in df_risco_tratado_market.columns[3:]:\n",
    "    df_risco_tratado_market = df_risco_tratado_market.withColumnRenamed(column, column + '_OMNI')"
   ]
  },
  {
   "cell_type": "code",
   "execution_count": 31,
   "id": "27d223f7",
   "metadata": {},
   "outputs": [
    {
     "data": {
      "application/vnd.jupyter.widget-view+json": {
       "model_id": "c973839694d84b86bb1c15c78b91eab4",
       "version_major": 2,
       "version_minor": 0
      },
      "text/plain": [
       "VBox()"
      ]
     },
     "metadata": {},
     "output_type": "display_data"
    },
    {
     "data": {
      "application/vnd.jupyter.widget-view+json": {
       "model_id": "",
       "version_major": 2,
       "version_minor": 0
      },
      "text/plain": [
       "FloatProgress(value=0.0, bar_style='info', description='Progress:', layout=Layout(height='25px', width='50%'),…"
      ]
     },
     "metadata": {},
     "output_type": "display_data"
    }
   ],
   "source": [
    "df_visao_omni = df_risco_tratado_market.select(\"DTBASE\",\"CD\", \"MOD\", f\"{modality}_SALDO_TOTAL_TT_OMNI\",f\"{modality}_SALDO_VCD_TOTAL_TT_OMNI\",f\"{modality}_SALDO_AVCR_TOTAL_TT_OMNI\",f\"{modality}_SALDO_PREJUIZO_TOTAL_TT_OMNI\")"
   ]
  },
  {
   "cell_type": "code",
   "execution_count": 32,
   "id": "9af29c1d",
   "metadata": {
    "scrolled": true
   },
   "outputs": [
    {
     "data": {
      "application/vnd.jupyter.widget-view+json": {
       "model_id": "c651cd040d0e481a96c3876fde6e0fac",
       "version_major": 2,
       "version_minor": 0
      },
      "text/plain": [
       "VBox()"
      ]
     },
     "metadata": {},
     "output_type": "display_data"
    },
    {
     "data": {
      "application/vnd.jupyter.widget-view+json": {
       "model_id": "",
       "version_major": 2,
       "version_minor": 0
      },
      "text/plain": [
       "FloatProgress(value=0.0, bar_style='info', description='Progress:', layout=Layout(height='25px', width='50%'),…"
      ]
     },
     "metadata": {},
     "output_type": "display_data"
    }
   ],
   "source": [
    "df_lista_duplicados = df_SCR_CLIENTE_MODALIDADE.groupBy(\"DTBASE\",\"CD\", \"MOD\").agg(count('CD').alias('count')).filter(col(\"count\") > 1)"
   ]
  },
  {
   "cell_type": "code",
   "execution_count": 33,
   "id": "247301fc",
   "metadata": {},
   "outputs": [
    {
     "data": {
      "application/vnd.jupyter.widget-view+json": {
       "model_id": "7e65e55929f0471a8c2a921f6a0c5380",
       "version_major": 2,
       "version_minor": 0
      },
      "text/plain": [
       "VBox()"
      ]
     },
     "metadata": {},
     "output_type": "display_data"
    },
    {
     "data": {
      "application/vnd.jupyter.widget-view+json": {
       "model_id": "",
       "version_major": 2,
       "version_minor": 0
      },
      "text/plain": [
       "FloatProgress(value=0.0, bar_style='info', description='Progress:', layout=Layout(height='25px', width='50%'),…"
      ]
     },
     "metadata": {},
     "output_type": "display_data"
    }
   ],
   "source": [
    "cpfs_drop = df_lista_duplicados.withColumn('ORIGEM',when(df_lista_duplicados.DTBASE > 0,'TRIGG'))"
   ]
  },
  {
   "cell_type": "code",
   "execution_count": 34,
   "id": "c38c8303",
   "metadata": {},
   "outputs": [
    {
     "data": {
      "application/vnd.jupyter.widget-view+json": {
       "model_id": "87eb74eb25b64553be355959ed7bcc30",
       "version_major": 2,
       "version_minor": 0
      },
      "text/plain": [
       "VBox()"
      ]
     },
     "metadata": {},
     "output_type": "display_data"
    },
    {
     "data": {
      "application/vnd.jupyter.widget-view+json": {
       "model_id": "",
       "version_major": 2,
       "version_minor": 0
      },
      "text/plain": [
       "FloatProgress(value=0.0, bar_style='info', description='Progress:', layout=Layout(height='25px', width='50%'),…"
      ]
     },
     "metadata": {},
     "output_type": "display_data"
    }
   ],
   "source": [
    "df2 = df_SCR_CLIENTE_MODALIDADE.na.fill(value=0)"
   ]
  },
  {
   "cell_type": "code",
   "execution_count": 35,
   "id": "7b5d7083",
   "metadata": {},
   "outputs": [
    {
     "data": {
      "application/vnd.jupyter.widget-view+json": {
       "model_id": "395bb57052f544ebb8e2ada3316ccb3c",
       "version_major": 2,
       "version_minor": 0
      },
      "text/plain": [
       "VBox()"
      ]
     },
     "metadata": {},
     "output_type": "display_data"
    },
    {
     "data": {
      "application/vnd.jupyter.widget-view+json": {
       "model_id": "",
       "version_major": 2,
       "version_minor": 0
      },
      "text/plain": [
       "FloatProgress(value=0.0, bar_style='info', description='Progress:', layout=Layout(height='25px', width='50%'),…"
      ]
     },
     "metadata": {},
     "output_type": "display_data"
    }
   ],
   "source": [
    "df2 = df2.join(cpfs_drop,[\"DTBASE\",\"CD\",\"MOD\",\"ORIGEM\"],\"leftanti\")"
   ]
  },
  {
   "cell_type": "code",
   "execution_count": 36,
   "id": "8ac198f0",
   "metadata": {},
   "outputs": [
    {
     "data": {
      "application/vnd.jupyter.widget-view+json": {
       "model_id": "bb67874bac1e4724ad3ef97f9cabe46f",
       "version_major": 2,
       "version_minor": 0
      },
      "text/plain": [
       "VBox()"
      ]
     },
     "metadata": {},
     "output_type": "display_data"
    },
    {
     "data": {
      "application/vnd.jupyter.widget-view+json": {
       "model_id": "",
       "version_major": 2,
       "version_minor": 0
      },
      "text/plain": [
       "FloatProgress(value=0.0, bar_style='info', description='Progress:', layout=Layout(height='25px', width='50%'),…"
      ]
     },
     "metadata": {},
     "output_type": "display_data"
    }
   ],
   "source": [
    "df2 = df2.withColumn(f'{modality}_SALDO_TOTAL_TT',round(sumIgnoringNaN(lista_divida).cast(DoubleType()),4))"
   ]
  },
  {
   "cell_type": "code",
   "execution_count": 37,
   "id": "5f00c8fa",
   "metadata": {},
   "outputs": [
    {
     "data": {
      "application/vnd.jupyter.widget-view+json": {
       "model_id": "07ee08fd5fd041f3bff4dc73050251b2",
       "version_major": 2,
       "version_minor": 0
      },
      "text/plain": [
       "VBox()"
      ]
     },
     "metadata": {},
     "output_type": "display_data"
    },
    {
     "data": {
      "application/vnd.jupyter.widget-view+json": {
       "model_id": "",
       "version_major": 2,
       "version_minor": 0
      },
      "text/plain": [
       "FloatProgress(value=0.0, bar_style='info', description='Progress:', layout=Layout(height='25px', width='50%'),…"
      ]
     },
     "metadata": {},
     "output_type": "display_data"
    }
   ],
   "source": [
    "df2 = df2.withColumn(f'{modality}_SALDO_VCD_TOTAL_TT',round(sumIgnoringNaN(lista_vencidos).cast(DoubleType()),4))"
   ]
  },
  {
   "cell_type": "code",
   "execution_count": 38,
   "id": "4d17dbca",
   "metadata": {},
   "outputs": [
    {
     "data": {
      "application/vnd.jupyter.widget-view+json": {
       "model_id": "5463963e1c874f5797c76ade56916146",
       "version_major": 2,
       "version_minor": 0
      },
      "text/plain": [
       "VBox()"
      ]
     },
     "metadata": {},
     "output_type": "display_data"
    },
    {
     "data": {
      "application/vnd.jupyter.widget-view+json": {
       "model_id": "",
       "version_major": 2,
       "version_minor": 0
      },
      "text/plain": [
       "FloatProgress(value=0.0, bar_style='info', description='Progress:', layout=Layout(height='25px', width='50%'),…"
      ]
     },
     "metadata": {},
     "output_type": "display_data"
    }
   ],
   "source": [
    "df2 = df2.withColumn(f'{modality}_SALDO_AVCR_TOTAL_TT',round(sumIgnoringNaN(lista_vencer).cast(DoubleType()),4))"
   ]
  },
  {
   "cell_type": "code",
   "execution_count": 39,
   "id": "72cf4c7a",
   "metadata": {},
   "outputs": [
    {
     "data": {
      "application/vnd.jupyter.widget-view+json": {
       "model_id": "fa7ec5e9b666422c9a0111e00a8274af",
       "version_major": 2,
       "version_minor": 0
      },
      "text/plain": [
       "VBox()"
      ]
     },
     "metadata": {},
     "output_type": "display_data"
    },
    {
     "data": {
      "application/vnd.jupyter.widget-view+json": {
       "model_id": "",
       "version_major": 2,
       "version_minor": 0
      },
      "text/plain": [
       "FloatProgress(value=0.0, bar_style='info', description='Progress:', layout=Layout(height='25px', width='50%'),…"
      ]
     },
     "metadata": {},
     "output_type": "display_data"
    }
   ],
   "source": [
    "df2 = df2.withColumn(f'{modality}_SALDO_PREJUIZO_TOTAL_TT',round(sumIgnoringNaN(lista_prejuizo).cast(DoubleType()),4))"
   ]
  },
  {
   "cell_type": "code",
   "execution_count": 40,
   "id": "00e314ab",
   "metadata": {},
   "outputs": [
    {
     "data": {
      "application/vnd.jupyter.widget-view+json": {
       "model_id": "93a568b2aa784ba7b6bf12ee6877f8c0",
       "version_major": 2,
       "version_minor": 0
      },
      "text/plain": [
       "VBox()"
      ]
     },
     "metadata": {},
     "output_type": "display_data"
    },
    {
     "data": {
      "application/vnd.jupyter.widget-view+json": {
       "model_id": "",
       "version_major": 2,
       "version_minor": 0
      },
      "text/plain": [
       "FloatProgress(value=0.0, bar_style='info', description='Progress:', layout=Layout(height='25px', width='50%'),…"
      ]
     },
     "metadata": {},
     "output_type": "display_data"
    }
   ],
   "source": [
    "df2 = df2.groupBy(\"DTBASE\",\"CD\", \"MOD\").sum().drop('sum(DTBASE)', 'sum(TP)')\n",
    "\n",
    "#renaming columns to remove the sum(column) aggregation in the name\n",
    "for column in df2.columns:\n",
    "    df2 = df2.withColumnRenamed(column, column.replace('sum(','').replace(')',''))"
   ]
  },
  {
   "cell_type": "code",
   "execution_count": 41,
   "id": "2c8b5bb9",
   "metadata": {},
   "outputs": [
    {
     "data": {
      "application/vnd.jupyter.widget-view+json": {
       "model_id": "9fc90ad5aa484e119ac59d6905ba58f0",
       "version_major": 2,
       "version_minor": 0
      },
      "text/plain": [
       "VBox()"
      ]
     },
     "metadata": {},
     "output_type": "display_data"
    },
    {
     "data": {
      "application/vnd.jupyter.widget-view+json": {
       "model_id": "",
       "version_major": 2,
       "version_minor": 0
      },
      "text/plain": [
       "FloatProgress(value=0.0, bar_style='info', description='Progress:', layout=Layout(height='25px', width='50%'),…"
      ]
     },
     "metadata": {},
     "output_type": "display_data"
    }
   ],
   "source": [
    "df2 = df2.join(df_risco_tratado_market,[\"DTBASE\",\"CD\", \"MOD\"],\"left\")"
   ]
  },
  {
   "cell_type": "code",
   "execution_count": 42,
   "id": "2d7fe80c",
   "metadata": {},
   "outputs": [
    {
     "data": {
      "application/vnd.jupyter.widget-view+json": {
       "model_id": "e22e06a82ea449ec977b0aca6595005f",
       "version_major": 2,
       "version_minor": 0
      },
      "text/plain": [
       "VBox()"
      ]
     },
     "metadata": {},
     "output_type": "display_data"
    },
    {
     "data": {
      "application/vnd.jupyter.widget-view+json": {
       "model_id": "",
       "version_major": 2,
       "version_minor": 0
      },
      "text/plain": [
       "FloatProgress(value=0.0, bar_style='info', description='Progress:', layout=Layout(height='25px', width='50%'),…"
      ]
     },
     "metadata": {},
     "output_type": "display_data"
    }
   ],
   "source": [
    "#dropping unused columns\n",
    "df2 = df2.drop('TP','VINCME','ORIGEM')"
   ]
  },
  {
   "cell_type": "code",
   "execution_count": 43,
   "id": "a4bbf34f",
   "metadata": {},
   "outputs": [
    {
     "data": {
      "application/vnd.jupyter.widget-view+json": {
       "model_id": "8d5ba31937774f998c7fe2db5c9253ef",
       "version_major": 2,
       "version_minor": 0
      },
      "text/plain": [
       "VBox()"
      ]
     },
     "metadata": {},
     "output_type": "display_data"
    },
    {
     "data": {
      "application/vnd.jupyter.widget-view+json": {
       "model_id": "",
       "version_major": 2,
       "version_minor": 0
      },
      "text/plain": [
       "FloatProgress(value=0.0, bar_style='info', description='Progress:', layout=Layout(height='25px', width='50%'),…"
      ]
     },
     "metadata": {},
     "output_type": "display_data"
    },
    {
     "name": "stdout",
     "output_type": "stream",
     "text": [
      "root\n",
      " |-- DTBASE: integer (nullable = true)\n",
      " |-- CD: string (nullable = true)\n",
      " |-- MOD: string (nullable = true)\n",
      " |-- LIMITE_CRED_VENCIMENTO_ATE_360: double (nullable = true)\n",
      " |-- LIMITE_CRED_VENCIM_ACIMA_360: double (nullable = true)\n",
      " |-- CRED_A_LIBERAR_ATE_360: double (nullable = true)\n",
      " |-- CRED_A_LIBERAR_ACIMA_360: double (nullable = true)\n",
      " |-- CRED_A_VENCER_ATE_30: double (nullable = true)\n",
      " |-- CRED_A_VENCER_DE_31_A_60: double (nullable = true)\n",
      " |-- CRED_A_VENCER_DE_61_A_90: double (nullable = true)\n",
      " |-- CRED_A_VENCER_DE_91_A_180: double (nullable = true)\n",
      " |-- CRED_A_VENCER_DE_181_A_360: double (nullable = true)\n",
      " |-- CRED_A_VENCER_DE_361_A_720: double (nullable = true)\n",
      " |-- CRED_A_VENCER_DE_721_A_1080: double (nullable = true)\n",
      " |-- CRED_A_VENCER_DE_1081_A_1440: double (nullable = true)\n",
      " |-- CRED_A_VENCER_DE_1441_A_1800: double (nullable = true)\n",
      " |-- CRED_A_VENCER_DE_1801_A_5400: double (nullable = true)\n",
      " |-- CRED_A_VENCER_ACIMA_5400: double (nullable = true)\n",
      " |-- CRED_A_VENCER_PRAZO_INDETERM: double (nullable = true)\n",
      " |-- CRED_VENCIDOS_DE_1_A_14: double (nullable = true)\n",
      " |-- CRED_VENCIDOS_DE_15_A_30: double (nullable = true)\n",
      " |-- CRED_VENCIDOS_DE_31_A_60: double (nullable = true)\n",
      " |-- CRED_VENCIDOS_DE_61_A_90: double (nullable = true)\n",
      " |-- CRED_VENCIDOS_DE_91_A_120: double (nullable = true)\n",
      " |-- CRED_VENCIDOS_DE_121_A_150: double (nullable = true)\n",
      " |-- CRED_VENCIDOS_DE_151_A_180: double (nullable = true)\n",
      " |-- CRED_VENCIDOS_DE_181_A_240: double (nullable = true)\n",
      " |-- CRED_VENCIDOS_DE_241_A_300: double (nullable = true)\n",
      " |-- CRED_VENCIDOS_DE_301_A_360: double (nullable = true)\n",
      " |-- CRED_VENCIDOS_DE_361_A_540: double (nullable = true)\n",
      " |-- CRED_VENCIDOS_ACIMA_540: double (nullable = true)\n",
      " |-- CRED_BAIX_PREJ_ATE_12_M: double (nullable = true)\n",
      " |-- CRED_BAIX_PREJ_MAIS_12_A_48_M: double (nullable = true)\n",
      " |-- CRED_BAIX_PREJ_MAIS_48_M: double (nullable = true)\n",
      " |-- TT_SALDO_TOTAL_TT: double (nullable = true)\n",
      " |-- TT_SALDO_VCD_TOTAL_TT: double (nullable = true)\n",
      " |-- TT_SALDO_AVCR_TOTAL_TT: double (nullable = true)\n",
      " |-- TT_SALDO_PREJUIZO_TOTAL_TT: double (nullable = true)\n",
      " |-- LIMITE_CRED_VENCIMENTO_ATE_360_OMNI: double (nullable = true)\n",
      " |-- LIMITE_CRED_VENCIM_ACIMA_360_OMNI: double (nullable = true)\n",
      " |-- CRED_A_LIBERAR_ATE_360_OMNI: double (nullable = true)\n",
      " |-- CRED_A_LIBERAR_ACIMA_360_OMNI: double (nullable = true)\n",
      " |-- CRED_A_VENCER_ATE_30_OMNI: double (nullable = true)\n",
      " |-- CRED_A_VENCER_DE_31_A_60_OMNI: double (nullable = true)\n",
      " |-- CRED_A_VENCER_DE_61_A_90_OMNI: double (nullable = true)\n",
      " |-- CRED_A_VENCER_DE_91_A_180_OMNI: double (nullable = true)\n",
      " |-- CRED_A_VENCER_DE_181_A_360_OMNI: double (nullable = true)\n",
      " |-- CRED_A_VENCER_DE_361_A_720_OMNI: double (nullable = true)\n",
      " |-- CRED_A_VENCER_DE_721_A_1080_OMNI: double (nullable = true)\n",
      " |-- CRED_A_VENCER_DE_1081_A_1440_OMNI: double (nullable = true)\n",
      " |-- CRED_A_VENCER_DE_1441_A_1800_OMNI: double (nullable = true)\n",
      " |-- CRED_A_VENCER_DE_1801_A_5400_OMNI: double (nullable = true)\n",
      " |-- CRED_A_VENCER_ACIMA_5400_OMNI: double (nullable = true)\n",
      " |-- CRED_A_VENCER_PRAZO_INDETERM_OMNI: double (nullable = true)\n",
      " |-- CRED_VENCIDOS_DE_1_A_14_OMNI: integer (nullable = true)\n",
      " |-- CRED_VENCIDOS_DE_15_A_30_OMNI: double (nullable = true)\n",
      " |-- CRED_VENCIDOS_DE_31_A_60_OMNI: double (nullable = true)\n",
      " |-- CRED_VENCIDOS_DE_61_A_90_OMNI: double (nullable = true)\n",
      " |-- CRED_VENCIDOS_DE_91_A_120_OMNI: double (nullable = true)\n",
      " |-- CRED_VENCIDOS_DE_121_A_150_OMNI: double (nullable = true)\n",
      " |-- CRED_VENCIDOS_DE_151_A_180_OMNI: double (nullable = true)\n",
      " |-- CRED_VENCIDOS_DE_181_A_240_OMNI: double (nullable = true)\n",
      " |-- CRED_VENCIDOS_DE_241_A_300_OMNI: double (nullable = true)\n",
      " |-- CRED_VENCIDOS_DE_301_A_360_OMNI: double (nullable = true)\n",
      " |-- CRED_VENCIDOS_DE_361_A_540_OMNI: double (nullable = true)\n",
      " |-- CRED_VENCIDOS_ACIMA_540_OMNI: double (nullable = true)\n",
      " |-- CRED_BAIX_PREJ_ATE_12_M_OMNI: double (nullable = true)\n",
      " |-- CRED_BAIX_PREJ_MAIS_12_A_48_M_OMNI: double (nullable = true)\n",
      " |-- CRED_BAIX_PREJ_MAIS_48_M_OMNI: double (nullable = true)\n",
      " |-- TT_SALDO_TOTAL_TT_OMNI: double (nullable = true)\n",
      " |-- TT_SALDO_VCD_TOTAL_TT_OMNI: double (nullable = true)\n",
      " |-- TT_SALDO_AVCR_TOTAL_TT_OMNI: double (nullable = true)\n",
      " |-- TT_SALDO_PREJUIZO_TOTAL_TT_OMNI: double (nullable = true)"
     ]
    }
   ],
   "source": [
    "df2.printSchema()"
   ]
  },
  {
   "cell_type": "code",
   "execution_count": 44,
   "id": "306e96b5",
   "metadata": {},
   "outputs": [
    {
     "data": {
      "application/vnd.jupyter.widget-view+json": {
       "model_id": "98b214bac3194552bbf01f982bc0f029",
       "version_major": 2,
       "version_minor": 0
      },
      "text/plain": [
       "VBox()"
      ]
     },
     "metadata": {},
     "output_type": "display_data"
    },
    {
     "data": {
      "application/vnd.jupyter.widget-view+json": {
       "model_id": "",
       "version_major": 2,
       "version_minor": 0
      },
      "text/plain": [
       "FloatProgress(value=0.0, bar_style='info', description='Progress:', layout=Layout(height='25px', width='50%'),…"
      ]
     },
     "metadata": {},
     "output_type": "display_data"
    }
   ],
   "source": [
    "#the when logic is necessary to keep nan if the columns are all null, otherwise it will have a value\n",
    "for column in df2.columns[3:38]:\n",
    "    df2 = df2.withColumn(column+'_MERCADO',\n",
    "        F.when(\n",
    "            (F.col(column).isNull() & F.col(column+'_OMNI').isNull()),\n",
    "            F.lit(None)\n",
    "        ).otherwise(\n",
    "            F.round(F.coalesce(F.col(column),F.lit(0.0))-F.coalesce(F.col(column+'_OMNI'),F.lit(0.0)),4))\n",
    "        ).drop(column+'_OMNI').withColumnRenamed(column, column+'_TOTAL')"
   ]
  },
  {
   "cell_type": "code",
   "execution_count": 45,
   "id": "e6af860f",
   "metadata": {},
   "outputs": [
    {
     "data": {
      "application/vnd.jupyter.widget-view+json": {
       "model_id": "c321ef8c4ced4f188d58a9c2c584c9e3",
       "version_major": 2,
       "version_minor": 0
      },
      "text/plain": [
       "VBox()"
      ]
     },
     "metadata": {},
     "output_type": "display_data"
    },
    {
     "data": {
      "application/vnd.jupyter.widget-view+json": {
       "model_id": "",
       "version_major": 2,
       "version_minor": 0
      },
      "text/plain": [
       "FloatProgress(value=0.0, bar_style='info', description='Progress:', layout=Layout(height='25px', width='50%'),…"
      ]
     },
     "metadata": {},
     "output_type": "display_data"
    }
   ],
   "source": [
    "df2 = df2.join(df_visao_omni,[\"DTBASE\",\"CD\",\"MOD\"],\"left\")#.persist()"
   ]
  },
  {
   "cell_type": "code",
   "execution_count": 46,
   "id": "06a839c0",
   "metadata": {},
   "outputs": [
    {
     "data": {
      "application/vnd.jupyter.widget-view+json": {
       "model_id": "8449ef6c3db14e0daee231cea3e14f21",
       "version_major": 2,
       "version_minor": 0
      },
      "text/plain": [
       "VBox()"
      ]
     },
     "metadata": {},
     "output_type": "display_data"
    },
    {
     "data": {
      "application/vnd.jupyter.widget-view+json": {
       "model_id": "",
       "version_major": 2,
       "version_minor": 0
      },
      "text/plain": [
       "FloatProgress(value=0.0, bar_style='info', description='Progress:', layout=Layout(height='25px', width='50%'),…"
      ]
     },
     "metadata": {},
     "output_type": "display_data"
    }
   ],
   "source": [
    "df2 = df2.withColumn('MENOR_VALOR_VISAO_MERCADO', F.least(\n",
    "                                                                F.col('CRED_A_VENCER_ATE_30_MERCADO'),\n",
    "                                                                F.col('CRED_A_VENCER_DE_31_A_60_MERCADO'),\n",
    "                                                                F.col('CRED_A_VENCER_DE_61_A_90_MERCADO'),\n",
    "                                                                F.col('CRED_A_VENCER_DE_91_A_180_MERCADO'),\n",
    "                                                                F.col('CRED_A_VENCER_DE_181_A_360_MERCADO'),\n",
    "                                                                F.col('CRED_A_VENCER_DE_361_A_720_MERCADO'),\n",
    "                                                                F.col('CRED_A_VENCER_DE_721_A_1080_MERCADO'),\n",
    "                                                                F.col('CRED_A_VENCER_DE_1081_A_1440_MERCADO'),\n",
    "                                                                F.col('CRED_A_VENCER_DE_1441_A_1800_MERCADO'),\n",
    "                                                                F.col('CRED_A_VENCER_DE_1801_A_5400_MERCADO'),\n",
    "                                                                F.col('CRED_A_VENCER_ACIMA_5400_MERCADO'),\n",
    "                                                                F.col('CRED_A_VENCER_PRAZO_INDETERM_MERCADO'),\n",
    "                                                                F.col('CRED_VENCIDOS_DE_1_A_14_MERCADO'),\n",
    "                                                                F.col('CRED_VENCIDOS_DE_15_A_30_MERCADO'),\n",
    "                                                                F.col('CRED_VENCIDOS_DE_31_A_60_MERCADO'),\n",
    "                                                                F.col('CRED_VENCIDOS_DE_61_A_90_MERCADO'),\n",
    "                                                                F.col('CRED_VENCIDOS_DE_91_A_120_MERCADO'),\n",
    "                                                                F.col('CRED_VENCIDOS_DE_121_A_150_MERCADO'),\n",
    "                                                                F.col('CRED_VENCIDOS_DE_151_A_180_MERCADO'),\n",
    "                                                                F.col('CRED_VENCIDOS_DE_181_A_240_MERCADO'),\n",
    "                                                                F.col('CRED_VENCIDOS_DE_241_A_300_MERCADO'),\n",
    "                                                                F.col('CRED_VENCIDOS_DE_301_A_360_MERCADO'),\n",
    "                                                                F.col('CRED_VENCIDOS_DE_361_A_540_MERCADO'),\n",
    "                                                                F.col('CRED_VENCIDOS_ACIMA_540_MERCADO'),\n",
    "                                                                F.col('CRED_BAIX_PREJ_ATE_12_M_MERCADO'),\n",
    "                                                                F.col('CRED_BAIX_PREJ_MAIS_12_A_48_M_MERCADO'),\n",
    "                                                                F.col('CRED_BAIX_PREJ_MAIS_48_M_MERCADO'),\n",
    "                                                                F.col('LIMITE_CRED_VENCIMENTO_ATE_360_MERCADO'),\n",
    "                                                                F.col('LIMITE_CRED_VENCIM_ACIMA_360_MERCADO')\n",
    "                                                            ))#ajustar - visao total manter - eliminar (zerar) somente visao mercado ou nao demonstrar - deixar somente as de mercado negativo e manter as de total"
   ]
  },
  {
   "cell_type": "code",
   "execution_count": 47,
   "id": "e3decf62",
   "metadata": {},
   "outputs": [
    {
     "data": {
      "application/vnd.jupyter.widget-view+json": {
       "model_id": "e466abc9e57e40fd939bb0475d9ceb14",
       "version_major": 2,
       "version_minor": 0
      },
      "text/plain": [
       "VBox()"
      ]
     },
     "metadata": {},
     "output_type": "display_data"
    },
    {
     "data": {
      "application/vnd.jupyter.widget-view+json": {
       "model_id": "",
       "version_major": 2,
       "version_minor": 0
      },
      "text/plain": [
       "FloatProgress(value=0.0, bar_style='info', description='Progress:', layout=Layout(height='25px', width='50%'),…"
      ]
     },
     "metadata": {},
     "output_type": "display_data"
    }
   ],
   "source": [
    "if modality!='TT':\n",
    "    df2 = df2.filter(df2.MOD.isin(modalities[modality]))"
   ]
  },
  {
   "cell_type": "code",
   "execution_count": 48,
   "id": "e813965d",
   "metadata": {},
   "outputs": [
    {
     "data": {
      "application/vnd.jupyter.widget-view+json": {
       "model_id": "ad2ba4edd98c476f9a3a21b718fbab08",
       "version_major": 2,
       "version_minor": 0
      },
      "text/plain": [
       "VBox()"
      ]
     },
     "metadata": {},
     "output_type": "display_data"
    },
    {
     "data": {
      "application/vnd.jupyter.widget-view+json": {
       "model_id": "",
       "version_major": 2,
       "version_minor": 0
      },
      "text/plain": [
       "FloatProgress(value=0.0, bar_style='info', description='Progress:', layout=Layout(height='25px', width='50%'),…"
      ]
     },
     "metadata": {},
     "output_type": "display_data"
    }
   ],
   "source": [
    "df2 = df2.groupBy(\"DTBASE\",\"CD\").sum().drop('sum(DTBASE)', 'sum(TP)')\n",
    "\n",
    "#renaming columns to remove the sum(column) aggregation in the name\n",
    "for column in df2.columns:\n",
    "    df2 = df2.withColumnRenamed(column, column.replace('sum(','').replace(')',''))"
   ]
  },
  {
   "cell_type": "code",
   "execution_count": 49,
   "id": "a3fa4f93",
   "metadata": {},
   "outputs": [
    {
     "data": {
      "application/vnd.jupyter.widget-view+json": {
       "model_id": "cd7b6e27cdef4ba5982b4b3b3af4231b",
       "version_major": 2,
       "version_minor": 0
      },
      "text/plain": [
       "VBox()"
      ]
     },
     "metadata": {},
     "output_type": "display_data"
    },
    {
     "data": {
      "application/vnd.jupyter.widget-view+json": {
       "model_id": "",
       "version_major": 2,
       "version_minor": 0
      },
      "text/plain": [
       "FloatProgress(value=0.0, bar_style='info', description='Progress:', layout=Layout(height='25px', width='50%'),…"
      ]
     },
     "metadata": {},
     "output_type": "display_data"
    }
   ],
   "source": [
    "df2 = df2.na.fill(value=0)"
   ]
  },
  {
   "cell_type": "code",
   "execution_count": 50,
   "id": "3c4f4854",
   "metadata": {},
   "outputs": [
    {
     "data": {
      "application/vnd.jupyter.widget-view+json": {
       "model_id": "9e3c03c548cf4048a96d26e17036249b",
       "version_major": 2,
       "version_minor": 0
      },
      "text/plain": [
       "VBox()"
      ]
     },
     "metadata": {},
     "output_type": "display_data"
    },
    {
     "data": {
      "application/vnd.jupyter.widget-view+json": {
       "model_id": "",
       "version_major": 2,
       "version_minor": 0
      },
      "text/plain": [
       "FloatProgress(value=0.0, bar_style='info', description='Progress:', layout=Layout(height='25px', width='50%'),…"
      ]
     },
     "metadata": {},
     "output_type": "display_data"
    }
   ],
   "source": [
    "df2 = df2.filter(df2.CD.isin(lista_cpfs))"
   ]
  },
  {
   "cell_type": "code",
   "execution_count": null,
   "id": "469315ed",
   "metadata": {},
   "outputs": [],
   "source": [
    "df2.show()"
   ]
  },
  {
   "cell_type": "code",
   "execution_count": null,
   "id": "673657e8",
   "metadata": {},
   "outputs": [],
   "source": []
  },
  {
   "cell_type": "code",
   "execution_count": null,
   "id": "6f01f3c3",
   "metadata": {},
   "outputs": [],
   "source": []
  },
  {
   "cell_type": "code",
   "execution_count": null,
   "id": "33930041",
   "metadata": {},
   "outputs": [],
   "source": []
  },
  {
   "cell_type": "code",
   "execution_count": null,
   "id": "ea3ba54e",
   "metadata": {},
   "outputs": [],
   "source": []
  },
  {
   "cell_type": "code",
   "execution_count": 51,
   "id": "a079a527",
   "metadata": {},
   "outputs": [
    {
     "data": {
      "application/vnd.jupyter.widget-view+json": {
       "model_id": "f9aa9748271c44f6842e030261194e45",
       "version_major": 2,
       "version_minor": 0
      },
      "text/plain": [
       "VBox()"
      ]
     },
     "metadata": {},
     "output_type": "display_data"
    },
    {
     "data": {
      "application/vnd.jupyter.widget-view+json": {
       "model_id": "",
       "version_major": 2,
       "version_minor": 0
      },
      "text/plain": [
       "FloatProgress(value=0.0, bar_style='info', description='Progress:', layout=Layout(height='25px', width='50%'),…"
      ]
     },
     "metadata": {},
     "output_type": "display_data"
    }
   ],
   "source": [
    "df2 = df2.withColumn('CRED_A_VENCER_ATE_30_MERCADO', when(df2.MENOR_VALOR_VISAO_MERCADO < 0,0).otherwise(df2.CRED_A_VENCER_ATE_30_MERCADO))\n",
    "df2 = df2.withColumn('CRED_A_VENCER_DE_31_A_60_MERCADO', when(df2.MENOR_VALOR_VISAO_MERCADO < 0,0).otherwise(df2.CRED_A_VENCER_DE_31_A_60_MERCADO))\n",
    "df2 = df2.withColumn('CRED_A_VENCER_DE_61_A_90_MERCADO', when(df2.MENOR_VALOR_VISAO_MERCADO < 0,0).otherwise(df2.CRED_A_VENCER_DE_61_A_90_MERCADO))\n",
    "df2 = df2.withColumn('CRED_A_VENCER_DE_91_A_180_MERCADO', when(df2.MENOR_VALOR_VISAO_MERCADO < 0,0).otherwise(df2.CRED_A_VENCER_DE_91_A_180_MERCADO))\n",
    "df2 = df2.withColumn('CRED_A_VENCER_DE_181_A_360_MERCADO', when(df2.MENOR_VALOR_VISAO_MERCADO < 0,0).otherwise(df2.CRED_A_VENCER_DE_181_A_360_MERCADO))\n",
    "df2 = df2.withColumn('CRED_A_VENCER_DE_361_A_720_MERCADO', when(df2.MENOR_VALOR_VISAO_MERCADO < 0,0).otherwise(df2.CRED_A_VENCER_DE_361_A_720_MERCADO))\n",
    "df2 = df2.withColumn('CRED_A_VENCER_DE_721_A_1080_MERCADO', when(df2.MENOR_VALOR_VISAO_MERCADO < 0,0).otherwise(df2.CRED_A_VENCER_DE_721_A_1080_MERCADO))\n",
    "df2 = df2.withColumn('CRED_A_VENCER_DE_1081_A_1440_MERCADO', when(df2.MENOR_VALOR_VISAO_MERCADO < 0,0).otherwise(df2.CRED_A_VENCER_DE_1081_A_1440_MERCADO))\n",
    "df2 = df2.withColumn('CRED_A_VENCER_DE_1441_A_1800_MERCADO', when(df2.MENOR_VALOR_VISAO_MERCADO < 0,0).otherwise(df2.CRED_A_VENCER_DE_1441_A_1800_MERCADO))\n",
    "df2 = df2.withColumn('CRED_A_VENCER_DE_1801_A_5400_MERCADO', when(df2.MENOR_VALOR_VISAO_MERCADO < 0,0).otherwise(df2.CRED_A_VENCER_DE_1801_A_5400_MERCADO))\n",
    "df2 = df2.withColumn('CRED_A_VENCER_ACIMA_5400_MERCADO', when(df2.MENOR_VALOR_VISAO_MERCADO < 0,0).otherwise(df2.CRED_A_VENCER_ACIMA_5400_MERCADO))\n",
    "df2 = df2.withColumn('CRED_A_VENCER_PRAZO_INDETERM_MERCADO', when(df2.MENOR_VALOR_VISAO_MERCADO < 0,0).otherwise(df2.CRED_A_VENCER_PRAZO_INDETERM_MERCADO))\n",
    "df2 = df2.withColumn('CRED_VENCIDOS_DE_1_A_14_MERCADO', when(df2.MENOR_VALOR_VISAO_MERCADO < 0,0).otherwise(df2.CRED_VENCIDOS_DE_1_A_14_MERCADO))\n",
    "df2 = df2.withColumn('CRED_VENCIDOS_DE_15_A_30_MERCADO', when(df2.MENOR_VALOR_VISAO_MERCADO < 0,0).otherwise(df2.CRED_VENCIDOS_DE_15_A_30_MERCADO))\n",
    "df2 = df2.withColumn('CRED_VENCIDOS_DE_31_A_60_MERCADO', when(df2.MENOR_VALOR_VISAO_MERCADO < 0,0).otherwise(df2.CRED_VENCIDOS_DE_31_A_60_MERCADO))\n",
    "df2 = df2.withColumn('CRED_VENCIDOS_DE_61_A_90_MERCADO', when(df2.MENOR_VALOR_VISAO_MERCADO < 0,0).otherwise(df2.CRED_VENCIDOS_DE_61_A_90_MERCADO))\n",
    "df2 = df2.withColumn('CRED_VENCIDOS_DE_91_A_120_MERCADO', when(df2.MENOR_VALOR_VISAO_MERCADO < 0,0).otherwise(df2.CRED_VENCIDOS_DE_91_A_120_MERCADO))\n",
    "df2 = df2.withColumn('CRED_VENCIDOS_DE_121_A_150_MERCADO', when(df2.MENOR_VALOR_VISAO_MERCADO < 0,0).otherwise(df2.CRED_VENCIDOS_DE_121_A_150_MERCADO))\n",
    "df2 = df2.withColumn('CRED_VENCIDOS_DE_151_A_180_MERCADO', when(df2.MENOR_VALOR_VISAO_MERCADO < 0,0).otherwise(df2.CRED_VENCIDOS_DE_151_A_180_MERCADO))\n",
    "df2 = df2.withColumn('CRED_VENCIDOS_DE_181_A_240_MERCADO', when(df2.MENOR_VALOR_VISAO_MERCADO < 0,0).otherwise(df2.CRED_VENCIDOS_DE_181_A_240_MERCADO))\n",
    "df2 = df2.withColumn('CRED_VENCIDOS_DE_241_A_300_MERCADO', when(df2.MENOR_VALOR_VISAO_MERCADO < 0,0).otherwise(df2.CRED_VENCIDOS_DE_241_A_300_MERCADO))\n",
    "df2 = df2.withColumn('CRED_VENCIDOS_DE_301_A_360_MERCADO', when(df2.MENOR_VALOR_VISAO_MERCADO < 0,0).otherwise(df2.CRED_VENCIDOS_DE_301_A_360_MERCADO))\n",
    "df2 = df2.withColumn('CRED_VENCIDOS_DE_361_A_540_MERCADO', when(df2.MENOR_VALOR_VISAO_MERCADO < 0,0).otherwise(df2.CRED_VENCIDOS_DE_361_A_540_MERCADO))\n",
    "df2 = df2.withColumn('CRED_VENCIDOS_ACIMA_540_MERCADO', when(df2.MENOR_VALOR_VISAO_MERCADO < 0,0).otherwise(df2.CRED_VENCIDOS_ACIMA_540_MERCADO))\n",
    "df2 = df2.withColumn('CRED_BAIX_PREJ_ATE_12_M_MERCADO', when(df2.MENOR_VALOR_VISAO_MERCADO < 0,0).otherwise(df2.CRED_BAIX_PREJ_ATE_12_M_MERCADO))\n",
    "df2 = df2.withColumn('CRED_BAIX_PREJ_MAIS_12_A_48_M_MERCADO', when(df2.MENOR_VALOR_VISAO_MERCADO < 0,0).otherwise(df2.CRED_BAIX_PREJ_MAIS_12_A_48_M_MERCADO))\n",
    "df2 = df2.withColumn('CRED_BAIX_PREJ_MAIS_48_M_MERCADO', when(df2.MENOR_VALOR_VISAO_MERCADO < 0,0).otherwise(df2.CRED_BAIX_PREJ_MAIS_48_M_MERCADO))\n",
    "df2 = df2.withColumn('LIMITE_CRED_VENCIMENTO_ATE_360_MERCADO', when(df2.MENOR_VALOR_VISAO_MERCADO < 0,0).otherwise(df2.LIMITE_CRED_VENCIMENTO_ATE_360_MERCADO))\n",
    "df2 = df2.withColumn('LIMITE_CRED_VENCIM_ACIMA_360_MERCADO', when(df2.MENOR_VALOR_VISAO_MERCADO < 0,0).otherwise(df2.LIMITE_CRED_VENCIM_ACIMA_360_MERCADO))"
   ]
  },
  {
   "cell_type": "code",
   "execution_count": 52,
   "id": "1e316ecf",
   "metadata": {},
   "outputs": [
    {
     "data": {
      "application/vnd.jupyter.widget-view+json": {
       "model_id": "8def85268f3a427580e731d33e8b5fbf",
       "version_major": 2,
       "version_minor": 0
      },
      "text/plain": [
       "VBox()"
      ]
     },
     "metadata": {},
     "output_type": "display_data"
    },
    {
     "data": {
      "application/vnd.jupyter.widget-view+json": {
       "model_id": "",
       "version_major": 2,
       "version_minor": 0
      },
      "text/plain": [
       "FloatProgress(value=0.0, bar_style='info', description='Progress:', layout=Layout(height='25px', width='50%'),…"
      ]
     },
     "metadata": {},
     "output_type": "display_data"
    }
   ],
   "source": [
    "import datetime\n",
    "from dateutil.relativedelta import relativedelta\n",
    "\n",
    "df2 = df2.withColumn(\"M0\",col(\"DTBASE\").cast(StringType()))\n",
    "df2 = df2.withColumn(\"M0\",to_date(col(\"M0\"),\"yyyyMM\"))\n",
    "\n",
    "df2 = df2.withColumn(\"M5\",add_months(date_format(col(\"M0\"),'yyyy-MM-dd'),-5))\n",
    "df2 = df2.withColumn(\"M4\",add_months(date_format(col(\"M0\"),'yyyy-MM-dd'),-4))\n",
    "df2 = df2.withColumn(\"M3\",add_months(date_format(col(\"M0\"),'yyyy-MM-dd'),-3))\n",
    "df2 = df2.withColumn(\"M2\",add_months(date_format(col(\"M0\"),'yyyy-MM-dd'),-2))\n",
    "df2 = df2.withColumn(\"M1\",add_months(date_format(col(\"M0\"),'yyyy-MM-dd'),-1))\n"
   ]
  },
  {
   "cell_type": "code",
   "execution_count": 53,
   "id": "92936d92",
   "metadata": {},
   "outputs": [
    {
     "data": {
      "application/vnd.jupyter.widget-view+json": {
       "model_id": "3d00ecb5c2aa4196a1cd49fd000e53c4",
       "version_major": 2,
       "version_minor": 0
      },
      "text/plain": [
       "VBox()"
      ]
     },
     "metadata": {},
     "output_type": "display_data"
    },
    {
     "data": {
      "application/vnd.jupyter.widget-view+json": {
       "model_id": "",
       "version_major": 2,
       "version_minor": 0
      },
      "text/plain": [
       "FloatProgress(value=0.0, bar_style='info', description='Progress:', layout=Layout(height='25px', width='50%'),…"
      ]
     },
     "metadata": {},
     "output_type": "display_data"
    }
   ],
   "source": [
    "for column in df2.columns:\n",
    "    if column.startswith(f'{modality}_'):\n",
    "        df2 = df2.withColumn(column, F.round(column, 4))"
   ]
  },
  {
   "cell_type": "markdown",
   "id": "99f85cde",
   "metadata": {},
   "source": [
    "MAIOR_ATRASO_VCD & MAIOR_ATRASO_VCD_MERC"
   ]
  },
  {
   "cell_type": "code",
   "execution_count": 54,
   "id": "2a1c34c7",
   "metadata": {},
   "outputs": [
    {
     "data": {
      "application/vnd.jupyter.widget-view+json": {
       "model_id": "4b5d03fc81a348fb9a3c4b5cc6d4c61f",
       "version_major": 2,
       "version_minor": 0
      },
      "text/plain": [
       "VBox()"
      ]
     },
     "metadata": {},
     "output_type": "display_data"
    },
    {
     "data": {
      "application/vnd.jupyter.widget-view+json": {
       "model_id": "",
       "version_major": 2,
       "version_minor": 0
      },
      "text/plain": [
       "FloatProgress(value=0.0, bar_style='info', description='Progress:', layout=Layout(height='25px', width='50%'),…"
      ]
     },
     "metadata": {},
     "output_type": "display_data"
    }
   ],
   "source": [
    "#Maior atraso de crédito vencido\n",
    "from pyspark.sql.functions import when\n",
    "df4 = df2.withColumn(f\"{modality}_MAIOR_ATRASO_VCD\", when((df2.CRED_VENCIDOS_ACIMA_540_TOTAL > 0),999)\n",
    "                                          .when((df2.CRED_VENCIDOS_DE_361_A_540_TOTAL > 0),540)\n",
    "                                          .when((df2.CRED_VENCIDOS_DE_301_A_360_TOTAL > 0),360)\n",
    "                                          .when((df2.CRED_VENCIDOS_DE_241_A_300_TOTAL > 0),300)\n",
    "                                          .when((df2.CRED_VENCIDOS_DE_181_A_240_TOTAL > 0),240)\n",
    "                                          .when((df2.CRED_VENCIDOS_DE_151_A_180_TOTAL > 0),180)\n",
    "                                          .when((df2.CRED_VENCIDOS_DE_121_A_150_TOTAL > 0),150)\n",
    "                                          .when((df2.CRED_VENCIDOS_DE_91_A_120_TOTAL > 0),120)\n",
    "                                          .when((df2.CRED_VENCIDOS_DE_61_A_90_TOTAL > 0),90)\n",
    "                                          .when((df2.CRED_VENCIDOS_DE_31_A_60_TOTAL > 0),60)\n",
    "                                          .when((df2.CRED_VENCIDOS_DE_15_A_30_TOTAL > 0),30)\n",
    "                                          .when((df2.CRED_VENCIDOS_DE_1_A_14_TOTAL > 0),14)\n",
    "                                          .otherwise(0))\n",
    "\n",
    "df4 = df4.withColumn(f\"{modality}_MAIOR_ATRASO_VCD_MERC\", F.when(df4.CRED_VENCIDOS_ACIMA_540_MERCADO > 0,999)\n",
    "                                                 .when(df4.CRED_VENCIDOS_DE_361_A_540_MERCADO > 0,540)\n",
    "                                                 .when(df4.CRED_VENCIDOS_DE_301_A_360_MERCADO > 0,360)\n",
    "                                                 .when(df4.CRED_VENCIDOS_DE_241_A_300_MERCADO > 0,300)\n",
    "                                                 .when(df4.CRED_VENCIDOS_DE_181_A_240_MERCADO > 0,240)\n",
    "                                                 .when(df4.CRED_VENCIDOS_DE_151_A_180_MERCADO > 0,180)\n",
    "                                                 .when(df4.CRED_VENCIDOS_DE_121_A_150_MERCADO > 0,150)\n",
    "                                                 .when(df4.CRED_VENCIDOS_DE_91_A_120_MERCADO > 0,120)\n",
    "                                                 .when(df4.CRED_VENCIDOS_DE_61_A_90_MERCADO > 0,90)\n",
    "                                                 .when(df4.CRED_VENCIDOS_DE_31_A_60_MERCADO > 0,60)\n",
    "                                                 .when(df4.CRED_VENCIDOS_DE_15_A_30_MERCADO > 0,30)\n",
    "                                                 .when(df4.CRED_VENCIDOS_DE_1_A_14_MERCADO > 0,14)\n",
    "                                                 .otherwise(0))#verificar zerado e nao nulo"
   ]
  },
  {
   "cell_type": "code",
   "execution_count": 55,
   "id": "cc8b4e90",
   "metadata": {},
   "outputs": [
    {
     "data": {
      "application/vnd.jupyter.widget-view+json": {
       "model_id": "90b6217b932c4cf394aeb5e4c9877db0",
       "version_major": 2,
       "version_minor": 0
      },
      "text/plain": [
       "VBox()"
      ]
     },
     "metadata": {},
     "output_type": "display_data"
    },
    {
     "data": {
      "application/vnd.jupyter.widget-view+json": {
       "model_id": "",
       "version_major": 2,
       "version_minor": 0
      },
      "text/plain": [
       "FloatProgress(value=0.0, bar_style='info', description='Progress:', layout=Layout(height='25px', width='50%'),…"
      ]
     },
     "metadata": {},
     "output_type": "display_data"
    }
   ],
   "source": [
    "lista_divida = [\"CRED_A_VENCER_ATE_30\",\n",
    "\"CRED_A_VENCER_DE_31_A_60\",\n",
    "\"CRED_A_VENCER_DE_61_A_90\",\n",
    "\"CRED_A_VENCER_DE_91_A_180\",\n",
    "\"CRED_A_VENCER_DE_181_A_360\",\n",
    "\"CRED_A_VENCER_DE_361_A_720\",\n",
    "\"CRED_A_VENCER_DE_721_A_1080\",\n",
    "\"CRED_A_VENCER_DE_1081_A_1440\",\n",
    "\"CRED_A_VENCER_DE_1441_A_1800\",\n",
    "\"CRED_A_VENCER_DE_1801_A_5400\",\n",
    "\"CRED_A_VENCER_ACIMA_5400\",\n",
    "\"CRED_A_VENCER_PRAZO_INDETERM\",\n",
    "\"CRED_VENCIDOS_DE_1_A_14\",\n",
    "\"CRED_VENCIDOS_DE_15_A_30\",\n",
    "\"CRED_VENCIDOS_DE_31_A_60\",\n",
    "\"CRED_VENCIDOS_DE_61_A_90\",\n",
    "\"CRED_VENCIDOS_DE_91_A_120\",\n",
    "\"CRED_VENCIDOS_DE_121_A_150\",\n",
    "\"CRED_VENCIDOS_DE_151_A_180\",\n",
    "\"CRED_VENCIDOS_DE_181_A_240\",\n",
    "\"CRED_VENCIDOS_DE_241_A_300\",\n",
    "\"CRED_VENCIDOS_DE_301_A_360\",\n",
    "\"CRED_VENCIDOS_DE_361_A_540\",\n",
    "\"CRED_VENCIDOS_ACIMA_540\",\n",
    "\"CRED_BAIX_PREJ_ATE_12_M\",\n",
    "\"CRED_BAIX_PREJ_MAIS_12_A_48_M\",\n",
    "\"CRED_BAIX_PREJ_MAIS_48_M\"]"
   ]
  },
  {
   "cell_type": "code",
   "execution_count": 56,
   "id": "07230b7a",
   "metadata": {},
   "outputs": [
    {
     "data": {
      "application/vnd.jupyter.widget-view+json": {
       "model_id": "79ad71f6277344bf97ca141f93e2a8f7",
       "version_major": 2,
       "version_minor": 0
      },
      "text/plain": [
       "VBox()"
      ]
     },
     "metadata": {},
     "output_type": "display_data"
    },
    {
     "data": {
      "application/vnd.jupyter.widget-view+json": {
       "model_id": "",
       "version_major": 2,
       "version_minor": 0
      },
      "text/plain": [
       "FloatProgress(value=0.0, bar_style='info', description='Progress:', layout=Layout(height='25px', width='50%'),…"
      ]
     },
     "metadata": {},
     "output_type": "display_data"
    }
   ],
   "source": [
    "lista_vencidos_total = ['CRED_VENCIDOS_DE_1_A_14_TOTAL',\n",
    "'CRED_VENCIDOS_DE_15_A_30_TOTAL',\n",
    "'CRED_VENCIDOS_DE_31_A_60_TOTAL',\n",
    "'CRED_VENCIDOS_DE_61_A_90_TOTAL',\n",
    "'CRED_VENCIDOS_DE_91_A_120_TOTAL',\n",
    "'CRED_VENCIDOS_DE_121_A_150_TOTAL',\n",
    "'CRED_VENCIDOS_DE_151_A_180_TOTAL',\n",
    "'CRED_VENCIDOS_DE_181_A_240_TOTAL',\n",
    "'CRED_VENCIDOS_DE_241_A_300_TOTAL',\n",
    "'CRED_VENCIDOS_DE_301_A_360_TOTAL',\n",
    "'CRED_VENCIDOS_DE_361_A_540_TOTAL',\n",
    "'CRED_VENCIDOS_ACIMA_540_TOTAL']\n",
    "\n",
    "lista_vencidos_mercado = ['CRED_VENCIDOS_DE_1_A_14_MERCADO',\n",
    "'CRED_VENCIDOS_DE_15_A_30_MERCADO',\n",
    "'CRED_VENCIDOS_DE_31_A_60_MERCADO',\n",
    "'CRED_VENCIDOS_DE_61_A_90_MERCADO',\n",
    "'CRED_VENCIDOS_DE_91_A_120_MERCADO',\n",
    "'CRED_VENCIDOS_DE_121_A_150_MERCADO',\n",
    "'CRED_VENCIDOS_DE_151_A_180_MERCADO',\n",
    "'CRED_VENCIDOS_DE_181_A_240_MERCADO',\n",
    "'CRED_VENCIDOS_DE_241_A_300_MERCADO',\n",
    "'CRED_VENCIDOS_DE_301_A_360_MERCADO',\n",
    "'CRED_VENCIDOS_DE_361_A_540_MERCADO',\n",
    "'CRED_VENCIDOS_ACIMA_540_MERCADO']"
   ]
  },
  {
   "cell_type": "code",
   "execution_count": 57,
   "id": "96600188",
   "metadata": {},
   "outputs": [
    {
     "data": {
      "application/vnd.jupyter.widget-view+json": {
       "model_id": "ca838b6ea6c74cca9b5127f684b6dd48",
       "version_major": 2,
       "version_minor": 0
      },
      "text/plain": [
       "VBox()"
      ]
     },
     "metadata": {},
     "output_type": "display_data"
    },
    {
     "data": {
      "application/vnd.jupyter.widget-view+json": {
       "model_id": "",
       "version_major": 2,
       "version_minor": 0
      },
      "text/plain": [
       "FloatProgress(value=0.0, bar_style='info', description='Progress:', layout=Layout(height='25px', width='50%'),…"
      ]
     },
     "metadata": {},
     "output_type": "display_data"
    }
   ],
   "source": [
    "lista_vencer_total = ['CRED_A_VENCER_ATE_30_TOTAL',\n",
    "'CRED_A_VENCER_DE_31_A_60_TOTAL',\n",
    "'CRED_A_VENCER_DE_61_A_90_TOTAL',\n",
    "'CRED_A_VENCER_DE_91_A_180_TOTAL',\n",
    "'CRED_A_VENCER_DE_181_A_360_TOTAL',\n",
    "'CRED_A_VENCER_DE_361_A_720_TOTAL',\n",
    "'CRED_A_VENCER_DE_721_A_1080_TOTAL',\n",
    "'CRED_A_VENCER_DE_1081_A_1440_TOTAL',\n",
    "'CRED_A_VENCER_DE_1441_A_1800_TOTAL',\n",
    "'CRED_A_VENCER_DE_1801_A_5400_TOTAL',\n",
    "'CRED_A_VENCER_ACIMA_5400_TOTAL',\n",
    "'CRED_A_VENCER_PRAZO_INDETERM_TOTAL']\n",
    "\n",
    "lista_vencer_mercado = ['CRED_A_VENCER_ATE_30_MERCADO',\n",
    "'CRED_A_VENCER_DE_31_A_60_MERCADO',\n",
    "'CRED_A_VENCER_DE_61_A_90_MERCADO',\n",
    "'CRED_A_VENCER_DE_91_A_180_MERCADO',\n",
    "'CRED_A_VENCER_DE_181_A_360_MERCADO',\n",
    "'CRED_A_VENCER_DE_361_A_720_MERCADO',\n",
    "'CRED_A_VENCER_DE_721_A_1080_MERCADO',\n",
    "'CRED_A_VENCER_DE_1081_A_1440_MERCADO',\n",
    "'CRED_A_VENCER_DE_1441_A_1800_MERCADO',\n",
    "'CRED_A_VENCER_DE_1801_A_5400_MERCADO',\n",
    "'CRED_A_VENCER_ACIMA_5400_MERCADO',\n",
    "'CRED_A_VENCER_PRAZO_INDETERM_MERCADO']"
   ]
  },
  {
   "cell_type": "code",
   "execution_count": 58,
   "id": "7f2d24dc",
   "metadata": {},
   "outputs": [
    {
     "data": {
      "application/vnd.jupyter.widget-view+json": {
       "model_id": "cf5b07edb883431ab535238eb5c6f256",
       "version_major": 2,
       "version_minor": 0
      },
      "text/plain": [
       "VBox()"
      ]
     },
     "metadata": {},
     "output_type": "display_data"
    },
    {
     "data": {
      "application/vnd.jupyter.widget-view+json": {
       "model_id": "",
       "version_major": 2,
       "version_minor": 0
      },
      "text/plain": [
       "FloatProgress(value=0.0, bar_style='info', description='Progress:', layout=Layout(height='25px', width='50%'),…"
      ]
     },
     "metadata": {},
     "output_type": "display_data"
    }
   ],
   "source": [
    "lista_prejuizo_total = ['CRED_BAIX_PREJ_ATE_12_M_TOTAL',\n",
    "'CRED_BAIX_PREJ_MAIS_12_A_48_M_TOTAL',\n",
    "'CRED_BAIX_PREJ_MAIS_48_M_TOTAL']\n",
    "\n",
    "lista_prejuizo_mercado = ['CRED_BAIX_PREJ_ATE_12_M_MERCADO',\n",
    "'CRED_BAIX_PREJ_MAIS_12_A_48_M_MERCADO',\n",
    "'CRED_BAIX_PREJ_MAIS_48_M_MERCADO']"
   ]
  },
  {
   "cell_type": "markdown",
   "id": "b9ebc28b",
   "metadata": {},
   "source": [
    "VCD & VCD_MERC & VCD_RZMO"
   ]
  },
  {
   "cell_type": "code",
   "execution_count": 59,
   "id": "ebe9df63",
   "metadata": {},
   "outputs": [
    {
     "data": {
      "application/vnd.jupyter.widget-view+json": {
       "model_id": "f715bd3b4a704497862a7686725b6499",
       "version_major": 2,
       "version_minor": 0
      },
      "text/plain": [
       "VBox()"
      ]
     },
     "metadata": {},
     "output_type": "display_data"
    },
    {
     "data": {
      "application/vnd.jupyter.widget-view+json": {
       "model_id": "",
       "version_major": 2,
       "version_minor": 0
      },
      "text/plain": [
       "FloatProgress(value=0.0, bar_style='info', description='Progress:', layout=Layout(height='25px', width='50%'),…"
      ]
     },
     "metadata": {},
     "output_type": "display_data"
    }
   ],
   "source": [
    "#Obtenção da soma de todas as colunas de crédito vencido e a vencer em uma coluna de resposta para cada\n",
    "df4 = df4.withColumn(f'{modality}_VCD',round(reduce(add, [F.col(x) for x in lista_vencidos_total]).cast(DoubleType()),4))"
   ]
  },
  {
   "cell_type": "code",
   "execution_count": 60,
   "id": "6a82061d",
   "metadata": {},
   "outputs": [
    {
     "data": {
      "application/vnd.jupyter.widget-view+json": {
       "model_id": "ed5a5e1a1c4d4e7d8bb0e9f3d8824ade",
       "version_major": 2,
       "version_minor": 0
      },
      "text/plain": [
       "VBox()"
      ]
     },
     "metadata": {},
     "output_type": "display_data"
    },
    {
     "data": {
      "application/vnd.jupyter.widget-view+json": {
       "model_id": "",
       "version_major": 2,
       "version_minor": 0
      },
      "text/plain": [
       "FloatProgress(value=0.0, bar_style='info', description='Progress:', layout=Layout(height='25px', width='50%'),…"
      ]
     },
     "metadata": {},
     "output_type": "display_data"
    }
   ],
   "source": [
    "#Obtenção da soma de todas as colunas de crédito vencido e a vencer em uma coluna de resposta para cada\n",
    "df4 = df4.withColumn(f'{modality}_VCD_MERC',round(reduce(add, [F.col(x) for x in lista_vencidos_mercado]).cast(DoubleType()),4))"
   ]
  },
  {
   "cell_type": "code",
   "execution_count": 61,
   "id": "793cb7d1",
   "metadata": {},
   "outputs": [
    {
     "data": {
      "application/vnd.jupyter.widget-view+json": {
       "model_id": "f00ecbd39c8c40faa62bdeeb89647b1d",
       "version_major": 2,
       "version_minor": 0
      },
      "text/plain": [
       "VBox()"
      ]
     },
     "metadata": {},
     "output_type": "display_data"
    },
    {
     "data": {
      "application/vnd.jupyter.widget-view+json": {
       "model_id": "",
       "version_major": 2,
       "version_minor": 0
      },
      "text/plain": [
       "FloatProgress(value=0.0, bar_style='info', description='Progress:', layout=Layout(height='25px', width='50%'),…"
      ]
     },
     "metadata": {},
     "output_type": "display_data"
    }
   ],
   "source": [
    "#Obtenção da soma de todas as colunas de crédito vencido e a vencer em uma coluna de resposta para cada - PONDERADO\n",
    "df4 = df4.withColumn(f'{modality}_VCD_RZMO',round(F.col(f'{modality}_VCD_MERC')/F.col(f'{modality}_SALDO_TOTAL_TT_OMNI').cast(DoubleType()),4))"
   ]
  },
  {
   "cell_type": "code",
   "execution_count": 62,
   "id": "5763b390",
   "metadata": {},
   "outputs": [
    {
     "data": {
      "application/vnd.jupyter.widget-view+json": {
       "model_id": "b9e2223119a04017a32e6a41cbe232ba",
       "version_major": 2,
       "version_minor": 0
      },
      "text/plain": [
       "VBox()"
      ]
     },
     "metadata": {},
     "output_type": "display_data"
    },
    {
     "data": {
      "application/vnd.jupyter.widget-view+json": {
       "model_id": "",
       "version_major": 2,
       "version_minor": 0
      },
      "text/plain": [
       "FloatProgress(value=0.0, bar_style='info', description='Progress:', layout=Layout(height='25px', width='50%'),…"
      ]
     },
     "metadata": {},
     "output_type": "display_data"
    }
   ],
   "source": [
    "#AQUI - HOMOLOGAÇÃO"
   ]
  },
  {
   "cell_type": "code",
   "execution_count": 63,
   "id": "1a0aa723",
   "metadata": {},
   "outputs": [
    {
     "data": {
      "application/vnd.jupyter.widget-view+json": {
       "model_id": "ffcfaf603e6f4a24858e4b3156f08f9f",
       "version_major": 2,
       "version_minor": 0
      },
      "text/plain": [
       "VBox()"
      ]
     },
     "metadata": {},
     "output_type": "display_data"
    },
    {
     "data": {
      "application/vnd.jupyter.widget-view+json": {
       "model_id": "",
       "version_major": 2,
       "version_minor": 0
      },
      "text/plain": [
       "FloatProgress(value=0.0, bar_style='info', description='Progress:', layout=Layout(height='25px', width='50%'),…"
      ]
     },
     "metadata": {},
     "output_type": "display_data"
    }
   ],
   "source": [
    "df4 = df4.filter(df4.CD.isin(lista_cpfs))"
   ]
  },
  {
   "cell_type": "code",
   "execution_count": 64,
   "id": "6ed12a42",
   "metadata": {},
   "outputs": [
    {
     "data": {
      "application/vnd.jupyter.widget-view+json": {
       "model_id": "d425fe417e46444cbe658e75cfc9d239",
       "version_major": 2,
       "version_minor": 0
      },
      "text/plain": [
       "VBox()"
      ]
     },
     "metadata": {},
     "output_type": "display_data"
    },
    {
     "data": {
      "application/vnd.jupyter.widget-view+json": {
       "model_id": "",
       "version_major": 2,
       "version_minor": 0
      },
      "text/plain": [
       "FloatProgress(value=0.0, bar_style='info', description='Progress:', layout=Layout(height='25px', width='50%'),…"
      ]
     },
     "metadata": {},
     "output_type": "display_data"
    },
    {
     "name": "stdout",
     "output_type": "stream",
     "text": [
      "root\n",
      " |-- DTBASE: integer (nullable = true)\n",
      " |-- CD: string (nullable = true)\n",
      " |-- LIMITE_CRED_VENCIMENTO_ATE_360_TOTAL: double (nullable = false)\n",
      " |-- LIMITE_CRED_VENCIM_ACIMA_360_TOTAL: double (nullable = false)\n",
      " |-- CRED_A_LIBERAR_ATE_360_TOTAL: double (nullable = false)\n",
      " |-- CRED_A_LIBERAR_ACIMA_360_TOTAL: double (nullable = false)\n",
      " |-- CRED_A_VENCER_ATE_30_TOTAL: double (nullable = false)\n",
      " |-- CRED_A_VENCER_DE_31_A_60_TOTAL: double (nullable = false)\n",
      " |-- CRED_A_VENCER_DE_61_A_90_TOTAL: double (nullable = false)\n",
      " |-- CRED_A_VENCER_DE_91_A_180_TOTAL: double (nullable = false)\n",
      " |-- CRED_A_VENCER_DE_181_A_360_TOTAL: double (nullable = false)\n",
      " |-- CRED_A_VENCER_DE_361_A_720_TOTAL: double (nullable = false)\n",
      " |-- CRED_A_VENCER_DE_721_A_1080_TOTAL: double (nullable = false)\n",
      " |-- CRED_A_VENCER_DE_1081_A_1440_TOTAL: double (nullable = false)\n",
      " |-- CRED_A_VENCER_DE_1441_A_1800_TOTAL: double (nullable = false)\n",
      " |-- CRED_A_VENCER_DE_1801_A_5400_TOTAL: double (nullable = false)\n",
      " |-- CRED_A_VENCER_ACIMA_5400_TOTAL: double (nullable = false)\n",
      " |-- CRED_A_VENCER_PRAZO_INDETERM_TOTAL: double (nullable = false)\n",
      " |-- CRED_VENCIDOS_DE_1_A_14_TOTAL: double (nullable = false)\n",
      " |-- CRED_VENCIDOS_DE_15_A_30_TOTAL: double (nullable = false)\n",
      " |-- CRED_VENCIDOS_DE_31_A_60_TOTAL: double (nullable = false)\n",
      " |-- CRED_VENCIDOS_DE_61_A_90_TOTAL: double (nullable = false)\n",
      " |-- CRED_VENCIDOS_DE_91_A_120_TOTAL: double (nullable = false)\n",
      " |-- CRED_VENCIDOS_DE_121_A_150_TOTAL: double (nullable = false)\n",
      " |-- CRED_VENCIDOS_DE_151_A_180_TOTAL: double (nullable = false)\n",
      " |-- CRED_VENCIDOS_DE_181_A_240_TOTAL: double (nullable = false)\n",
      " |-- CRED_VENCIDOS_DE_241_A_300_TOTAL: double (nullable = false)\n",
      " |-- CRED_VENCIDOS_DE_301_A_360_TOTAL: double (nullable = false)\n",
      " |-- CRED_VENCIDOS_DE_361_A_540_TOTAL: double (nullable = false)\n",
      " |-- CRED_VENCIDOS_ACIMA_540_TOTAL: double (nullable = false)\n",
      " |-- CRED_BAIX_PREJ_ATE_12_M_TOTAL: double (nullable = false)\n",
      " |-- CRED_BAIX_PREJ_MAIS_12_A_48_M_TOTAL: double (nullable = false)\n",
      " |-- CRED_BAIX_PREJ_MAIS_48_M_TOTAL: double (nullable = false)\n",
      " |-- TT_SALDO_TOTAL_TT_TOTAL: double (nullable = true)\n",
      " |-- TT_SALDO_VCD_TOTAL_TT_TOTAL: double (nullable = true)\n",
      " |-- TT_SALDO_AVCR_TOTAL_TT_TOTAL: double (nullable = true)\n",
      " |-- TT_SALDO_PREJUIZO_TOTAL_TT_TOTAL: double (nullable = true)\n",
      " |-- LIMITE_CRED_VENCIMENTO_ATE_360_MERCADO: double (nullable = false)\n",
      " |-- LIMITE_CRED_VENCIM_ACIMA_360_MERCADO: double (nullable = false)\n",
      " |-- CRED_A_LIBERAR_ATE_360_MERCADO: double (nullable = false)\n",
      " |-- CRED_A_LIBERAR_ACIMA_360_MERCADO: double (nullable = false)\n",
      " |-- CRED_A_VENCER_ATE_30_MERCADO: double (nullable = false)\n",
      " |-- CRED_A_VENCER_DE_31_A_60_MERCADO: double (nullable = false)\n",
      " |-- CRED_A_VENCER_DE_61_A_90_MERCADO: double (nullable = false)\n",
      " |-- CRED_A_VENCER_DE_91_A_180_MERCADO: double (nullable = false)\n",
      " |-- CRED_A_VENCER_DE_181_A_360_MERCADO: double (nullable = false)\n",
      " |-- CRED_A_VENCER_DE_361_A_720_MERCADO: double (nullable = false)\n",
      " |-- CRED_A_VENCER_DE_721_A_1080_MERCADO: double (nullable = false)\n",
      " |-- CRED_A_VENCER_DE_1081_A_1440_MERCADO: double (nullable = false)\n",
      " |-- CRED_A_VENCER_DE_1441_A_1800_MERCADO: double (nullable = false)\n",
      " |-- CRED_A_VENCER_DE_1801_A_5400_MERCADO: double (nullable = false)\n",
      " |-- CRED_A_VENCER_ACIMA_5400_MERCADO: double (nullable = false)\n",
      " |-- CRED_A_VENCER_PRAZO_INDETERM_MERCADO: double (nullable = false)\n",
      " |-- CRED_VENCIDOS_DE_1_A_14_MERCADO: double (nullable = false)\n",
      " |-- CRED_VENCIDOS_DE_15_A_30_MERCADO: double (nullable = false)\n",
      " |-- CRED_VENCIDOS_DE_31_A_60_MERCADO: double (nullable = false)\n",
      " |-- CRED_VENCIDOS_DE_61_A_90_MERCADO: double (nullable = false)\n",
      " |-- CRED_VENCIDOS_DE_91_A_120_MERCADO: double (nullable = false)\n",
      " |-- CRED_VENCIDOS_DE_121_A_150_MERCADO: double (nullable = false)\n",
      " |-- CRED_VENCIDOS_DE_151_A_180_MERCADO: double (nullable = false)\n",
      " |-- CRED_VENCIDOS_DE_181_A_240_MERCADO: double (nullable = false)\n",
      " |-- CRED_VENCIDOS_DE_241_A_300_MERCADO: double (nullable = false)\n",
      " |-- CRED_VENCIDOS_DE_301_A_360_MERCADO: double (nullable = false)\n",
      " |-- CRED_VENCIDOS_DE_361_A_540_MERCADO: double (nullable = false)\n",
      " |-- CRED_VENCIDOS_ACIMA_540_MERCADO: double (nullable = false)\n",
      " |-- CRED_BAIX_PREJ_ATE_12_M_MERCADO: double (nullable = false)\n",
      " |-- CRED_BAIX_PREJ_MAIS_12_A_48_M_MERCADO: double (nullable = false)\n",
      " |-- CRED_BAIX_PREJ_MAIS_48_M_MERCADO: double (nullable = false)\n",
      " |-- TT_SALDO_TOTAL_TT_MERCADO: double (nullable = true)\n",
      " |-- TT_SALDO_VCD_TOTAL_TT_MERCADO: double (nullable = true)\n",
      " |-- TT_SALDO_AVCR_TOTAL_TT_MERCADO: double (nullable = true)\n",
      " |-- TT_SALDO_PREJUIZO_TOTAL_TT_MERCADO: double (nullable = true)\n",
      " |-- TT_SALDO_TOTAL_TT_OMNI: double (nullable = true)\n",
      " |-- TT_SALDO_VCD_TOTAL_TT_OMNI: double (nullable = true)\n",
      " |-- TT_SALDO_AVCR_TOTAL_TT_OMNI: double (nullable = true)\n",
      " |-- TT_SALDO_PREJUIZO_TOTAL_TT_OMNI: double (nullable = true)\n",
      " |-- MENOR_VALOR_VISAO_MERCADO: double (nullable = false)\n",
      " |-- M0: date (nullable = true)\n",
      " |-- M5: date (nullable = true)\n",
      " |-- M4: date (nullable = true)\n",
      " |-- M3: date (nullable = true)\n",
      " |-- M2: date (nullable = true)\n",
      " |-- M1: date (nullable = true)\n",
      " |-- TT_MAIOR_ATRASO_VCD: integer (nullable = false)\n",
      " |-- TT_MAIOR_ATRASO_VCD_MERC: integer (nullable = false)\n",
      " |-- TT_VCD: double (nullable = true)\n",
      " |-- TT_VCD_MERC: double (nullable = true)\n",
      " |-- TT_VCD_RZMO: double (nullable = true)"
     ]
    }
   ],
   "source": [
    "df4.printSchema()"
   ]
  },
  {
   "cell_type": "code",
   "execution_count": 65,
   "id": "8a28a17e",
   "metadata": {},
   "outputs": [
    {
     "data": {
      "application/vnd.jupyter.widget-view+json": {
       "model_id": "cc77889085c249ddba339878a36f9494",
       "version_major": 2,
       "version_minor": 0
      },
      "text/plain": [
       "VBox()"
      ]
     },
     "metadata": {},
     "output_type": "display_data"
    },
    {
     "data": {
      "application/vnd.jupyter.widget-view+json": {
       "model_id": "",
       "version_major": 2,
       "version_minor": 0
      },
      "text/plain": [
       "FloatProgress(value=0.0, bar_style='info', description='Progress:', layout=Layout(height='25px', width='50%'),…"
      ]
     },
     "metadata": {},
     "output_type": "display_data"
    }
   ],
   "source": [
    "#df4.select(\"CD\",\"DTBASE\",\"TT_SALDO_TOTAL_TT_TOTAL\",\"TT_SALDO_TOTAL_TT_MERCADO\",\"TT_SALDO_TOTAL_TT_OMNI\").show()"
   ]
  },
  {
   "cell_type": "markdown",
   "id": "76b4338f",
   "metadata": {},
   "source": [
    "AVCR & AVCR_MERC & AVCR_RZMO"
   ]
  },
  {
   "cell_type": "code",
   "execution_count": 66,
   "id": "7f0a0c4f",
   "metadata": {},
   "outputs": [
    {
     "data": {
      "application/vnd.jupyter.widget-view+json": {
       "model_id": "965f9b59b0594197a56262b4b596389a",
       "version_major": 2,
       "version_minor": 0
      },
      "text/plain": [
       "VBox()"
      ]
     },
     "metadata": {},
     "output_type": "display_data"
    },
    {
     "data": {
      "application/vnd.jupyter.widget-view+json": {
       "model_id": "",
       "version_major": 2,
       "version_minor": 0
      },
      "text/plain": [
       "FloatProgress(value=0.0, bar_style='info', description='Progress:', layout=Layout(height='25px', width='50%'),…"
      ]
     },
     "metadata": {},
     "output_type": "display_data"
    }
   ],
   "source": [
    "#Obtenção da soma de todas as colunas de crédito vencido e a vencer em uma coluna de resposta para cada\n",
    "df4 = df4.withColumn(f'{modality}_AVCR',round(reduce(add, [F.col(x) for x in lista_vencer_total]).cast(DoubleType()),4))"
   ]
  },
  {
   "cell_type": "code",
   "execution_count": 67,
   "id": "6479e3be",
   "metadata": {},
   "outputs": [
    {
     "data": {
      "application/vnd.jupyter.widget-view+json": {
       "model_id": "d671240fd9e14805ac0fe67489181162",
       "version_major": 2,
       "version_minor": 0
      },
      "text/plain": [
       "VBox()"
      ]
     },
     "metadata": {},
     "output_type": "display_data"
    },
    {
     "data": {
      "application/vnd.jupyter.widget-view+json": {
       "model_id": "",
       "version_major": 2,
       "version_minor": 0
      },
      "text/plain": [
       "FloatProgress(value=0.0, bar_style='info', description='Progress:', layout=Layout(height='25px', width='50%'),…"
      ]
     },
     "metadata": {},
     "output_type": "display_data"
    }
   ],
   "source": [
    "#Obtenção da soma de todas as colunas de crédito vencido e a vencer em uma coluna de resposta para cada\n",
    "df4 = df4.withColumn(f'{modality}_AVCR_MERC',round(reduce(add, [F.col(x) for x in lista_vencer_mercado]).cast(DoubleType()),4))"
   ]
  },
  {
   "cell_type": "code",
   "execution_count": 68,
   "id": "7ba8c228",
   "metadata": {},
   "outputs": [
    {
     "data": {
      "application/vnd.jupyter.widget-view+json": {
       "model_id": "686e7c0ab34a4e4f8fadf06cececac21",
       "version_major": 2,
       "version_minor": 0
      },
      "text/plain": [
       "VBox()"
      ]
     },
     "metadata": {},
     "output_type": "display_data"
    },
    {
     "data": {
      "application/vnd.jupyter.widget-view+json": {
       "model_id": "",
       "version_major": 2,
       "version_minor": 0
      },
      "text/plain": [
       "FloatProgress(value=0.0, bar_style='info', description='Progress:', layout=Layout(height='25px', width='50%'),…"
      ]
     },
     "metadata": {},
     "output_type": "display_data"
    }
   ],
   "source": [
    "#Obtenção da soma de todas as colunas de crédito vencido e a vencer em uma coluna de resposta para cada\n",
    "df4 = df4.withColumn(f'{modality}_AVCR_RZMO',round(F.col(f'{modality}_AVCR')/F.col(f'{modality}_SALDO_TOTAL_TT_OMNI').cast(DoubleType()),4))"
   ]
  },
  {
   "cell_type": "markdown",
   "id": "b1fd4702",
   "metadata": {},
   "source": [
    "RZ_VCD_POR_VCD_E_AVCR & RZ_VCD_POR_VCD_E_AVCR_MERC"
   ]
  },
  {
   "cell_type": "code",
   "execution_count": 69,
   "id": "8f5440c0",
   "metadata": {},
   "outputs": [
    {
     "data": {
      "application/vnd.jupyter.widget-view+json": {
       "model_id": "a314d4890ca5451187aa35aac3329243",
       "version_major": 2,
       "version_minor": 0
      },
      "text/plain": [
       "VBox()"
      ]
     },
     "metadata": {},
     "output_type": "display_data"
    },
    {
     "data": {
      "application/vnd.jupyter.widget-view+json": {
       "model_id": "",
       "version_major": 2,
       "version_minor": 0
      },
      "text/plain": [
       "FloatProgress(value=0.0, bar_style='info', description='Progress:', layout=Layout(height='25px', width='50%'),…"
      ]
     },
     "metadata": {},
     "output_type": "display_data"
    }
   ],
   "source": [
    "#(Crédito vencido)/(Crédito vencido + Crédito a vencer)\n",
    "#Crédito vencido + Crédito a vencer\n",
    "df4 = df4.withColumn(f'{modality}_RZ_VCD_POR_VCD_E_AVCR',round(F.col(f'{modality}_VCD')/(F.col(f'{modality}_VCD')+F.col(f'{modality}_AVCR')).cast(DoubleType()),4))"
   ]
  },
  {
   "cell_type": "code",
   "execution_count": 70,
   "id": "2af79334",
   "metadata": {},
   "outputs": [
    {
     "data": {
      "application/vnd.jupyter.widget-view+json": {
       "model_id": "e81f907cef9241f4a41d27135bc96bc5",
       "version_major": 2,
       "version_minor": 0
      },
      "text/plain": [
       "VBox()"
      ]
     },
     "metadata": {},
     "output_type": "display_data"
    },
    {
     "data": {
      "application/vnd.jupyter.widget-view+json": {
       "model_id": "",
       "version_major": 2,
       "version_minor": 0
      },
      "text/plain": [
       "FloatProgress(value=0.0, bar_style='info', description='Progress:', layout=Layout(height='25px', width='50%'),…"
      ]
     },
     "metadata": {},
     "output_type": "display_data"
    }
   ],
   "source": [
    "#(Crédito vencido)/(Crédito vencido + Crédito a vencer)\n",
    "#Crédito vencido + Crédito a vencer\n",
    "df4 = df4.withColumn(f'{modality}_RZ_VCD_POR_VCD_E_AVCR_MERC',round(F.col(f'{modality}_VCD_MERC')/(F.col(f'{modality}_VCD_MERC')+F.col(f'{modality}_AVCR_MERC')).cast(DoubleType()),4))"
   ]
  },
  {
   "cell_type": "markdown",
   "id": "f47cb642",
   "metadata": {},
   "source": [
    "VCD_E_AVCR_TOTAL & VCD_E_AVCR_TOTAL_MERC & VCD_E_AVCR_TOTAL_RZMO"
   ]
  },
  {
   "cell_type": "code",
   "execution_count": 71,
   "id": "6f2f3671",
   "metadata": {},
   "outputs": [
    {
     "data": {
      "application/vnd.jupyter.widget-view+json": {
       "model_id": "81149ca32060499c9030920c49888e75",
       "version_major": 2,
       "version_minor": 0
      },
      "text/plain": [
       "VBox()"
      ]
     },
     "metadata": {},
     "output_type": "display_data"
    },
    {
     "data": {
      "application/vnd.jupyter.widget-view+json": {
       "model_id": "",
       "version_major": 2,
       "version_minor": 0
      },
      "text/plain": [
       "FloatProgress(value=0.0, bar_style='info', description='Progress:', layout=Layout(height='25px', width='50%'),…"
      ]
     },
     "metadata": {},
     "output_type": "display_data"
    }
   ],
   "source": [
    "#(Crédito vencido)/(Crédito vencido + Crédito a vencer)\n",
    "#Crédito vencido + Crédito a vencer\n",
    "df4 = df4.withColumn(f'{modality}_VCD_E_AVCR_TOTAL',round((F.col(f'{modality}_VCD')+F.col(f'{modality}_AVCR')).cast(DoubleType()),4))"
   ]
  },
  {
   "cell_type": "code",
   "execution_count": 72,
   "id": "8dbea087",
   "metadata": {},
   "outputs": [
    {
     "data": {
      "application/vnd.jupyter.widget-view+json": {
       "model_id": "b626fbc228154f92bf4e9cf9a1d52740",
       "version_major": 2,
       "version_minor": 0
      },
      "text/plain": [
       "VBox()"
      ]
     },
     "metadata": {},
     "output_type": "display_data"
    },
    {
     "data": {
      "application/vnd.jupyter.widget-view+json": {
       "model_id": "",
       "version_major": 2,
       "version_minor": 0
      },
      "text/plain": [
       "FloatProgress(value=0.0, bar_style='info', description='Progress:', layout=Layout(height='25px', width='50%'),…"
      ]
     },
     "metadata": {},
     "output_type": "display_data"
    }
   ],
   "source": [
    "#(Crédito vencido)/(Crédito vencido + Crédito a vencer)\n",
    "#Crédito vencido + Crédito a vencer\n",
    "df4 = df4.withColumn(f'{modality}_VCD_E_AVCR_MERC',round((F.col(f'{modality}_VCD_MERC')+F.col(f'{modality}_AVCR_MERC')).cast(DoubleType()),4))"
   ]
  },
  {
   "cell_type": "code",
   "execution_count": 73,
   "id": "a02669f1",
   "metadata": {},
   "outputs": [
    {
     "data": {
      "application/vnd.jupyter.widget-view+json": {
       "model_id": "6f6eed5f850f4de4afd8032695d7cced",
       "version_major": 2,
       "version_minor": 0
      },
      "text/plain": [
       "VBox()"
      ]
     },
     "metadata": {},
     "output_type": "display_data"
    },
    {
     "data": {
      "application/vnd.jupyter.widget-view+json": {
       "model_id": "",
       "version_major": 2,
       "version_minor": 0
      },
      "text/plain": [
       "FloatProgress(value=0.0, bar_style='info', description='Progress:', layout=Layout(height='25px', width='50%'),…"
      ]
     },
     "metadata": {},
     "output_type": "display_data"
    }
   ],
   "source": [
    "#(Crédito vencido)/(Crédito vencido + Crédito a vencer) - PONDERADO\n",
    "df4 = df4.withColumn(f'{modality}_VCD_E_AVCR_RZMO',round((F.col(f'{modality}_VCD_E_AVCR_MERC')/F.col(f'{modality}_SALDO_TOTAL_TT_OMNI')).cast(DoubleType()),4))"
   ]
  },
  {
   "cell_type": "code",
   "execution_count": 74,
   "id": "78a52505",
   "metadata": {},
   "outputs": [
    {
     "data": {
      "application/vnd.jupyter.widget-view+json": {
       "model_id": "18991a20face4b03b088ac4e707b0b13",
       "version_major": 2,
       "version_minor": 0
      },
      "text/plain": [
       "VBox()"
      ]
     },
     "metadata": {},
     "output_type": "display_data"
    },
    {
     "data": {
      "application/vnd.jupyter.widget-view+json": {
       "model_id": "",
       "version_major": 2,
       "version_minor": 0
      },
      "text/plain": [
       "FloatProgress(value=0.0, bar_style='info', description='Progress:', layout=Layout(height='25px', width='50%'),…"
      ]
     },
     "metadata": {},
     "output_type": "display_data"
    }
   ],
   "source": [
    "#building temporary columns \n",
    "df4 = df4.withColumn(f'{modality}_PREJ', sumIgnoringNaN(lista_prejuizo_total))\n",
    "df4 = df4.withColumn(f'{modality}_PREJ_MERC', sumIgnoringNaN(lista_prejuizo_mercado))\n",
    "df4 = df4.withColumn(f'{modality}_VCD_E_AVCR_E_PREJ', sumIgnoringNaN([f'{modality}_VCD',f'{modality}_AVCR',f'{modality}_PREJ']))\n",
    "df4 = df4.withColumn(f'{modality}_VCD_E_AVCR_E_PREJ_MERC', sumIgnoringNaN([f'{modality}_VCD_MERC',f'{modality}_AVCR_MERC',f'{modality}_PREJ_MERC']))\n",
    "df4 = df4.withColumn(f'{modality}_VCD_E_PREJ', sumIgnoringNaN([f'{modality}_VCD',f'{modality}_PREJ']))\n",
    "df4 = df4.withColumn(f'{modality}_VCD_E_PREJ_MERC', sumIgnoringNaN([f'{modality}_VCD_MERC',f'{modality}_PREJ_MERC']))"
   ]
  },
  {
   "cell_type": "markdown",
   "id": "efc4e40c",
   "metadata": {},
   "source": [
    "RZ_VCD_PREJ_POR_DIVIDA & RZ_VCD_PREJ_POR_DIVIDA_MERC"
   ]
  },
  {
   "cell_type": "code",
   "execution_count": 75,
   "id": "3572d6c9",
   "metadata": {},
   "outputs": [
    {
     "data": {
      "application/vnd.jupyter.widget-view+json": {
       "model_id": "7df734148aa8432d9b66161cdfcf01af",
       "version_major": 2,
       "version_minor": 0
      },
      "text/plain": [
       "VBox()"
      ]
     },
     "metadata": {},
     "output_type": "display_data"
    },
    {
     "data": {
      "application/vnd.jupyter.widget-view+json": {
       "model_id": "",
       "version_major": 2,
       "version_minor": 0
      },
      "text/plain": [
       "FloatProgress(value=0.0, bar_style='info', description='Progress:', layout=Layout(height='25px', width='50%'),…"
      ]
     },
     "metadata": {},
     "output_type": "display_data"
    }
   ],
   "source": [
    "df4 = df4.withColumn(f'{modality}_RZ_VCD_PREJ_POR_DIVIDA', round(F.col(f'{modality}_VCD_E_PREJ')/F.col(f'{modality}_VCD_E_AVCR_E_PREJ').cast(DoubleType()),4))"
   ]
  },
  {
   "cell_type": "code",
   "execution_count": 76,
   "id": "504ef7cf",
   "metadata": {},
   "outputs": [
    {
     "data": {
      "application/vnd.jupyter.widget-view+json": {
       "model_id": "38a30bbc771b471391e5062a48fce795",
       "version_major": 2,
       "version_minor": 0
      },
      "text/plain": [
       "VBox()"
      ]
     },
     "metadata": {},
     "output_type": "display_data"
    },
    {
     "data": {
      "application/vnd.jupyter.widget-view+json": {
       "model_id": "",
       "version_major": 2,
       "version_minor": 0
      },
      "text/plain": [
       "FloatProgress(value=0.0, bar_style='info', description='Progress:', layout=Layout(height='25px', width='50%'),…"
      ]
     },
     "metadata": {},
     "output_type": "display_data"
    }
   ],
   "source": [
    "df4 = df4.withColumn(f'{modality}_RZ_VCD_PREJ_POR_DIVIDA_MERC', round(F.col(f'{modality}_VCD_E_PREJ_MERC')/F.col(f'{modality}_VCD_E_AVCR_E_PREJ_MERC').cast(DoubleType()),4))"
   ]
  },
  {
   "cell_type": "markdown",
   "id": "7f0cb923",
   "metadata": {},
   "source": [
    "PREJ_ATE_12M & PREJ_ATE_12M_MERC & PREJ_ATE_12M_RZMO"
   ]
  },
  {
   "cell_type": "code",
   "execution_count": 77,
   "id": "5d865ab0",
   "metadata": {},
   "outputs": [
    {
     "data": {
      "application/vnd.jupyter.widget-view+json": {
       "model_id": "ec41a11b04534ba7a72d99ab6af66697",
       "version_major": 2,
       "version_minor": 0
      },
      "text/plain": [
       "VBox()"
      ]
     },
     "metadata": {},
     "output_type": "display_data"
    },
    {
     "data": {
      "application/vnd.jupyter.widget-view+json": {
       "model_id": "",
       "version_major": 2,
       "version_minor": 0
      },
      "text/plain": [
       "FloatProgress(value=0.0, bar_style='info', description='Progress:', layout=Layout(height='25px', width='50%'),…"
      ]
     },
     "metadata": {},
     "output_type": "display_data"
    }
   ],
   "source": [
    "#Baixa de prejuízo até 12M\n",
    "df4 = df4.withColumn(f'{modality}_PREJ_ATE_12M',round((df4.CRED_BAIX_PREJ_ATE_12_M_TOTAL).cast(DoubleType()),4))"
   ]
  },
  {
   "cell_type": "code",
   "execution_count": 78,
   "id": "12a26f04",
   "metadata": {},
   "outputs": [
    {
     "data": {
      "application/vnd.jupyter.widget-view+json": {
       "model_id": "cd98b4e1c2754200becd6783e3061e78",
       "version_major": 2,
       "version_minor": 0
      },
      "text/plain": [
       "VBox()"
      ]
     },
     "metadata": {},
     "output_type": "display_data"
    },
    {
     "data": {
      "application/vnd.jupyter.widget-view+json": {
       "model_id": "",
       "version_major": 2,
       "version_minor": 0
      },
      "text/plain": [
       "FloatProgress(value=0.0, bar_style='info', description='Progress:', layout=Layout(height='25px', width='50%'),…"
      ]
     },
     "metadata": {},
     "output_type": "display_data"
    }
   ],
   "source": [
    "#Baixa de prejuízo até 12M\n",
    "df4 = df4.withColumn(f'{modality}_PREJ_ATE_12M_MERC',round((df4.CRED_BAIX_PREJ_ATE_12_M_MERCADO).cast(DoubleType()),4))"
   ]
  },
  {
   "cell_type": "code",
   "execution_count": 79,
   "id": "405ce7fc",
   "metadata": {},
   "outputs": [
    {
     "data": {
      "application/vnd.jupyter.widget-view+json": {
       "model_id": "53342a65bb524c0d9aad62ac85d32836",
       "version_major": 2,
       "version_minor": 0
      },
      "text/plain": [
       "VBox()"
      ]
     },
     "metadata": {},
     "output_type": "display_data"
    },
    {
     "data": {
      "application/vnd.jupyter.widget-view+json": {
       "model_id": "",
       "version_major": 2,
       "version_minor": 0
      },
      "text/plain": [
       "FloatProgress(value=0.0, bar_style='info', description='Progress:', layout=Layout(height='25px', width='50%'),…"
      ]
     },
     "metadata": {},
     "output_type": "display_data"
    }
   ],
   "source": [
    "#Baixa de prejuízo até 12M - PONDERADO\n",
    "df4 = df4.withColumn(f'{modality}_PREJ_ATE_12M_RZMO',round(F.col(f'{modality}_PREJ_ATE_12M_MERC')/F.col(f'{modality}_SALDO_TOTAL_TT_OMNI').cast(DoubleType()),4))"
   ]
  },
  {
   "cell_type": "markdown",
   "id": "a2242745",
   "metadata": {},
   "source": [
    "PREJ_12_48M & PREJ_12_48M_MERC & PREJ_12_48M_RZMO"
   ]
  },
  {
   "cell_type": "code",
   "execution_count": 80,
   "id": "a3c85a0f",
   "metadata": {},
   "outputs": [
    {
     "data": {
      "application/vnd.jupyter.widget-view+json": {
       "model_id": "8c6f2f382d6743c486f91123ad7f1809",
       "version_major": 2,
       "version_minor": 0
      },
      "text/plain": [
       "VBox()"
      ]
     },
     "metadata": {},
     "output_type": "display_data"
    },
    {
     "data": {
      "application/vnd.jupyter.widget-view+json": {
       "model_id": "",
       "version_major": 2,
       "version_minor": 0
      },
      "text/plain": [
       "FloatProgress(value=0.0, bar_style='info', description='Progress:', layout=Layout(height='25px', width='50%'),…"
      ]
     },
     "metadata": {},
     "output_type": "display_data"
    }
   ],
   "source": [
    "#Baixa de prejuízo entre 12M e 48M\n",
    "df4 = df4.withColumn(f'{modality}_PREJ_12_48M',round((df4.CRED_BAIX_PREJ_MAIS_12_A_48_M_TOTAL).cast(DoubleType()),4))"
   ]
  },
  {
   "cell_type": "code",
   "execution_count": 81,
   "id": "38f0887f",
   "metadata": {},
   "outputs": [
    {
     "data": {
      "application/vnd.jupyter.widget-view+json": {
       "model_id": "5b6b763630164bed816b146e374ddbcc",
       "version_major": 2,
       "version_minor": 0
      },
      "text/plain": [
       "VBox()"
      ]
     },
     "metadata": {},
     "output_type": "display_data"
    },
    {
     "data": {
      "application/vnd.jupyter.widget-view+json": {
       "model_id": "",
       "version_major": 2,
       "version_minor": 0
      },
      "text/plain": [
       "FloatProgress(value=0.0, bar_style='info', description='Progress:', layout=Layout(height='25px', width='50%'),…"
      ]
     },
     "metadata": {},
     "output_type": "display_data"
    }
   ],
   "source": [
    "#Baixa de prejuízo entre 12M e 48M\n",
    "df4 = df4.withColumn(f'{modality}_PREJ_12_48M_MERC',round((df4.CRED_BAIX_PREJ_MAIS_12_A_48_M_MERCADO).cast(DoubleType()),4))"
   ]
  },
  {
   "cell_type": "code",
   "execution_count": 82,
   "id": "8d258339",
   "metadata": {},
   "outputs": [
    {
     "data": {
      "application/vnd.jupyter.widget-view+json": {
       "model_id": "0cf739de8251453aba7cf73472bd53d0",
       "version_major": 2,
       "version_minor": 0
      },
      "text/plain": [
       "VBox()"
      ]
     },
     "metadata": {},
     "output_type": "display_data"
    },
    {
     "data": {
      "application/vnd.jupyter.widget-view+json": {
       "model_id": "",
       "version_major": 2,
       "version_minor": 0
      },
      "text/plain": [
       "FloatProgress(value=0.0, bar_style='info', description='Progress:', layout=Layout(height='25px', width='50%'),…"
      ]
     },
     "metadata": {},
     "output_type": "display_data"
    }
   ],
   "source": [
    "#Baixa de prejuízo entre 12M e 48M - PONDERADO\n",
    "df4 = df4.withColumn(f'{modality}_PREJ_12_48M_RZMO',round(F.col(f'{modality}_PREJ_12_48M_MERC')/F.col(f'{modality}_SALDO_TOTAL_TT_OMNI').cast(DoubleType()),4))"
   ]
  },
  {
   "cell_type": "code",
   "execution_count": 83,
   "id": "aa9d2e1c",
   "metadata": {},
   "outputs": [
    {
     "data": {
      "application/vnd.jupyter.widget-view+json": {
       "model_id": "9f0741198dbc4719ad764120b13cc0e8",
       "version_major": 2,
       "version_minor": 0
      },
      "text/plain": [
       "VBox()"
      ]
     },
     "metadata": {},
     "output_type": "display_data"
    },
    {
     "data": {
      "application/vnd.jupyter.widget-view+json": {
       "model_id": "",
       "version_major": 2,
       "version_minor": 0
      },
      "text/plain": [
       "FloatProgress(value=0.0, bar_style='info', description='Progress:', layout=Layout(height='25px', width='50%'),…"
      ]
     },
     "metadata": {},
     "output_type": "display_data"
    },
    {
     "name": "stdout",
     "output_type": "stream",
     "text": [
      "+-----------+------+--------------+----------------------+-------------------+\n",
      "|         CD|DTBASE|TT_PREJ_12_48M|TT_SALDO_TOTAL_TT_OMNI|TT_PREJ_12_48M_RZMO|\n",
      "+-----------+------+--------------+----------------------+-------------------+\n",
      "|00572740700|202109|        726.64|                   0.0|               null|\n",
      "|00572740700|202111|           0.0|                   0.0|               null|\n",
      "|00572740700|202108|        726.64|                   0.0|               null|\n",
      "|00572740700|202110|           0.0|                   0.0|               null|\n",
      "|00572740700|202107|        726.64|                   0.0|               null|\n",
      "|00572740700|202106|       1268.59|                541.95|             1.3408|\n",
      "+-----------+------+--------------+----------------------+-------------------+"
     ]
    }
   ],
   "source": [
    "df4.select(\"CD\", \"DTBASE\",f'{modality}_PREJ_12_48M', f'{modality}_SALDO_TOTAL_TT_OMNI',f'{modality}_PREJ_12_48M_RZMO').show()"
   ]
  },
  {
   "cell_type": "code",
   "execution_count": 84,
   "id": "75598d9a",
   "metadata": {},
   "outputs": [
    {
     "data": {
      "application/vnd.jupyter.widget-view+json": {
       "model_id": "614b3770ce534145a1a2455c9106e336",
       "version_major": 2,
       "version_minor": 0
      },
      "text/plain": [
       "VBox()"
      ]
     },
     "metadata": {},
     "output_type": "display_data"
    },
    {
     "data": {
      "application/vnd.jupyter.widget-view+json": {
       "model_id": "",
       "version_major": 2,
       "version_minor": 0
      },
      "text/plain": [
       "FloatProgress(value=0.0, bar_style='info', description='Progress:', layout=Layout(height='25px', width='50%'),…"
      ]
     },
     "metadata": {},
     "output_type": "display_data"
    }
   ],
   "source": [
    "#df4.select(\"CD\",\"DTBASE\",f'{modality}_PREJ_12_48M_MERC',\"CRED_BAIX_PREJ_MAIS_12_A_48_M_MERCADO\",\"CRED_BAIX_PREJ_MAIS_12_A_48_M_TOTAL\",f'{modality}_PREJ_MERC').show()"
   ]
  },
  {
   "cell_type": "code",
   "execution_count": null,
   "id": "3c353121",
   "metadata": {},
   "outputs": [],
   "source": []
  },
  {
   "cell_type": "code",
   "execution_count": null,
   "id": "0469ef5a",
   "metadata": {},
   "outputs": [],
   "source": []
  },
  {
   "cell_type": "code",
   "execution_count": 85,
   "id": "9142eb9e",
   "metadata": {},
   "outputs": [
    {
     "data": {
      "application/vnd.jupyter.widget-view+json": {
       "model_id": "96adea44d0d94fb69ad502c58a7d149e",
       "version_major": 2,
       "version_minor": 0
      },
      "text/plain": [
       "VBox()"
      ]
     },
     "metadata": {},
     "output_type": "display_data"
    },
    {
     "data": {
      "application/vnd.jupyter.widget-view+json": {
       "model_id": "",
       "version_major": 2,
       "version_minor": 0
      },
      "text/plain": [
       "FloatProgress(value=0.0, bar_style='info', description='Progress:', layout=Layout(height='25px', width='50%'),…"
      ]
     },
     "metadata": {},
     "output_type": "display_data"
    }
   ],
   "source": [
    "#Limite disponível - Modalidade 1904\n",
    "lista_limite_disponivel = ['LIMITE_CRED_VENCIMENTO_ATE_360_TOTAL',\n",
    "'LIMITE_CRED_VENCIM_ACIMA_360_TOTAL']\n",
    "\n",
    "lista_limite_disponivel_mercado = ['LIMITE_CRED_VENCIMENTO_ATE_360_MERCADO',\n",
    "'LIMITE_CRED_VENCIM_ACIMA_360_MERCADO']"
   ]
  },
  {
   "cell_type": "code",
   "execution_count": 86,
   "id": "0e994606",
   "metadata": {},
   "outputs": [
    {
     "data": {
      "application/vnd.jupyter.widget-view+json": {
       "model_id": "9a857eef3cfc4a80a656d583c8ea3daf",
       "version_major": 2,
       "version_minor": 0
      },
      "text/plain": [
       "VBox()"
      ]
     },
     "metadata": {},
     "output_type": "display_data"
    },
    {
     "data": {
      "application/vnd.jupyter.widget-view+json": {
       "model_id": "",
       "version_major": 2,
       "version_minor": 0
      },
      "text/plain": [
       "FloatProgress(value=0.0, bar_style='info', description='Progress:', layout=Layout(height='25px', width='50%'),…"
      ]
     },
     "metadata": {},
     "output_type": "display_data"
    }
   ],
   "source": [
    "#Limite total - Modalidade 1904\n",
    "lista_limite_total = ['LIMITE_CRED_VENCIMENTO_ATE_360_TOTAL',\n",
    "'LIMITE_CRED_VENCIM_ACIMA_360_TOTAL',\n",
    "'CRED_VENCIDOS_DE_1_A_14_TOTAL',\n",
    "'CRED_VENCIDOS_DE_15_A_30_TOTAL',\n",
    "'CRED_VENCIDOS_DE_31_A_60_TOTAL',\n",
    "'CRED_VENCIDOS_DE_61_A_90_TOTAL',\n",
    "'CRED_VENCIDOS_DE_91_A_120_TOTAL',\n",
    "'CRED_VENCIDOS_DE_121_A_150_TOTAL',\n",
    "'CRED_VENCIDOS_DE_151_A_180_TOTAL',\n",
    "'CRED_VENCIDOS_DE_181_A_240_TOTAL',\n",
    "'CRED_VENCIDOS_DE_241_A_300_TOTAL',\n",
    "'CRED_VENCIDOS_DE_301_A_360_TOTAL',\n",
    "'CRED_VENCIDOS_DE_361_A_540_TOTAL',\n",
    "'CRED_VENCIDOS_ACIMA_540_TOTAL',\n",
    "'CRED_A_VENCER_ATE_30_TOTAL',\n",
    "'CRED_A_VENCER_DE_31_A_60_TOTAL',\n",
    "'CRED_A_VENCER_DE_61_A_90_TOTAL',\n",
    "'CRED_A_VENCER_DE_91_A_180_TOTAL',\n",
    "'CRED_A_VENCER_DE_181_A_360_TOTAL',\n",
    "'CRED_A_VENCER_DE_361_A_720_TOTAL',\n",
    "'CRED_A_VENCER_DE_721_A_1080_TOTAL',\n",
    "'CRED_A_VENCER_DE_1081_A_1440_TOTAL',\n",
    "'CRED_A_VENCER_DE_1441_A_1800_TOTAL',\n",
    "'CRED_A_VENCER_DE_1801_A_5400_TOTAL',\n",
    "'CRED_A_VENCER_ACIMA_5400_TOTAL',\n",
    "'CRED_A_VENCER_PRAZO_INDETERM_TOTAL']\n",
    "\n",
    "\n",
    "lista_limite_total_mercado = ['LIMITE_CRED_VENCIMENTO_ATE_360_MERCADO',\n",
    "'LIMITE_CRED_VENCIM_ACIMA_360_MERCADO',\n",
    "'CRED_VENCIDOS_DE_1_A_14_MERCADO',\n",
    "'CRED_VENCIDOS_DE_15_A_30_MERCADO',\n",
    "'CRED_VENCIDOS_DE_31_A_60_MERCADO',\n",
    "'CRED_VENCIDOS_DE_61_A_90_MERCADO',\n",
    "'CRED_VENCIDOS_DE_91_A_120_MERCADO',\n",
    "'CRED_VENCIDOS_DE_121_A_150_MERCADO',\n",
    "'CRED_VENCIDOS_DE_151_A_180_MERCADO',\n",
    "'CRED_VENCIDOS_DE_181_A_240_MERCADO',\n",
    "'CRED_VENCIDOS_DE_241_A_300_MERCADO',\n",
    "'CRED_VENCIDOS_DE_301_A_360_MERCADO',\n",
    "'CRED_VENCIDOS_DE_361_A_540_MERCADO',\n",
    "'CRED_VENCIDOS_ACIMA_540_MERCADO',\n",
    "'CRED_A_VENCER_ATE_30_MERCADO',\n",
    "'CRED_A_VENCER_DE_31_A_60_MERCADO',\n",
    "'CRED_A_VENCER_DE_61_A_90_MERCADO',\n",
    "'CRED_A_VENCER_DE_91_A_180_MERCADO',\n",
    "'CRED_A_VENCER_DE_181_A_360_MERCADO',\n",
    "'CRED_A_VENCER_DE_361_A_720_MERCADO',\n",
    "'CRED_A_VENCER_DE_721_A_1080_MERCADO',\n",
    "'CRED_A_VENCER_DE_1081_A_1440_MERCADO',\n",
    "'CRED_A_VENCER_DE_1441_A_1800_MERCADO',\n",
    "'CRED_A_VENCER_DE_1801_A_5400_MERCADO',\n",
    "'CRED_A_VENCER_ACIMA_5400_MERCADO',\n",
    "'CRED_A_VENCER_PRAZO_INDETERM_MERCADO']"
   ]
  },
  {
   "cell_type": "markdown",
   "id": "3e3f407d",
   "metadata": {},
   "source": [
    "LMT_DISPONIVEL & LMT_DISPONIVEL_MERC & LMT_DISPONIVEL_RZMO"
   ]
  },
  {
   "cell_type": "code",
   "execution_count": 87,
   "id": "1c505e67",
   "metadata": {},
   "outputs": [
    {
     "data": {
      "application/vnd.jupyter.widget-view+json": {
       "model_id": "c4e87e447a5244bca43c029d8c85289d",
       "version_major": 2,
       "version_minor": 0
      },
      "text/plain": [
       "VBox()"
      ]
     },
     "metadata": {},
     "output_type": "display_data"
    },
    {
     "data": {
      "application/vnd.jupyter.widget-view+json": {
       "model_id": "",
       "version_major": 2,
       "version_minor": 0
      },
      "text/plain": [
       "FloatProgress(value=0.0, bar_style='info', description='Progress:', layout=Layout(height='25px', width='50%'),…"
      ]
     },
     "metadata": {},
     "output_type": "display_data"
    }
   ],
   "source": [
    "#soma das colunas de limite disponivel para inclusão de valor por cpf na respectiva coluna de limite dosponivel\n",
    "df4 = df4.withColumn(f'{modality}_LMT_DISPONIVEL',round(reduce(add, [F.col(x) for x in lista_limite_disponivel]).cast(DoubleType()),4))\n",
    "#soma das colunas de limite disponivel para inclusão de valor por cpf na respectiva coluna de limite dosponivel\n",
    "df4 = df4.withColumn(f'{modality}_LMT_DISPONIVEL_MERC',round(reduce(add, [F.col(x) for x in lista_limite_disponivel_mercado]).cast(DoubleType()),4))\n",
    "#soma das colunas de limite disponivel para inclusão de valor por cpf na respectiva coluna de limite dosponivel - PONDERADO\n",
    "df4 = df4.withColumn(f'{modality}_LMT_DISPONIVEL_RZMO',round(F.col(f'{modality}_LMT_DISPONIVEL_MERC')/F.col(f'{modality}_SALDO_TOTAL_TT_OMNI').cast(DoubleType()),4))\n",
    "    "
   ]
  },
  {
   "cell_type": "markdown",
   "id": "4ef936b4",
   "metadata": {},
   "source": [
    "LMT_TOTAL & LMT_TOTAL_MERC & LMT_TOTAL_RZMO"
   ]
  },
  {
   "cell_type": "code",
   "execution_count": 88,
   "id": "ffe453cf",
   "metadata": {},
   "outputs": [
    {
     "data": {
      "application/vnd.jupyter.widget-view+json": {
       "model_id": "efc67f284e4c434e983994c8c93c1006",
       "version_major": 2,
       "version_minor": 0
      },
      "text/plain": [
       "VBox()"
      ]
     },
     "metadata": {},
     "output_type": "display_data"
    },
    {
     "data": {
      "application/vnd.jupyter.widget-view+json": {
       "model_id": "",
       "version_major": 2,
       "version_minor": 0
      },
      "text/plain": [
       "FloatProgress(value=0.0, bar_style='info', description='Progress:', layout=Layout(height='25px', width='50%'),…"
      ]
     },
     "metadata": {},
     "output_type": "display_data"
    }
   ],
   "source": [
    "#soma das colunas de limite para inclusão de valor de limite total considerando os critérios\n",
    "df4 = df4.withColumn(f'{modality}_LMT_TOTAL',when((F.col(f'{modality}_VCD') + df4.CRED_BAIX_PREJ_ATE_12_M_TOTAL + df4.CRED_BAIX_PREJ_MAIS_12_A_48_M_TOTAL) == 0,round(reduce(add, [F.col(x) for x in lista_limite_total]).cast(DoubleType()),4)).otherwise(0.0).cast(DoubleType()))\n",
    "#soma das colunas de limite para inclusão de valor de limite total considerando os critérios\n",
    "df4 = df4.withColumn(f'{modality}_LMT_TOTAL_MERC',when((F.col(f'{modality}_VCD') + df4.CRED_BAIX_PREJ_ATE_12_M_MERCADO + df4.CRED_BAIX_PREJ_MAIS_12_A_48_M_MERCADO) == 0,round(reduce(add, [F.col(x) for x in lista_limite_total_mercado]).cast(DoubleType()),4)).otherwise(0.0).cast(DoubleType()))\n",
    "#soma das colunas de limite para inclusão de valor de limite total considerando os critérios - PONDERADO\n",
    "df4 = df4.withColumn(f'{modality}_LMT_TOTAL_RZMO',round((F.col(f'{modality}_LMT_TOTAL_MERC')/F.col(f'{modality}_SALDO_TOTAL_TT_OMNI')).cast(DoubleType()),4))"
   ]
  },
  {
   "cell_type": "code",
   "execution_count": 89,
   "id": "c907f824",
   "metadata": {},
   "outputs": [
    {
     "data": {
      "application/vnd.jupyter.widget-view+json": {
       "model_id": "2d783174b4034bd396988364dddb0127",
       "version_major": 2,
       "version_minor": 0
      },
      "text/plain": [
       "VBox()"
      ]
     },
     "metadata": {},
     "output_type": "display_data"
    },
    {
     "data": {
      "application/vnd.jupyter.widget-view+json": {
       "model_id": "",
       "version_major": 2,
       "version_minor": 0
      },
      "text/plain": [
       "FloatProgress(value=0.0, bar_style='info', description='Progress:', layout=Layout(height='25px', width='50%'),…"
      ]
     },
     "metadata": {},
     "output_type": "display_data"
    },
    {
     "name": "stdout",
     "output_type": "stream",
     "text": [
      "/scr/m0-processed-data/df4/TT/"
     ]
    }
   ],
   "source": [
    "s3 = boto3.resource('s3')\n",
    "s3.Object('modelagem', f\"s3://modelagem/scr/m0-processed-data/df4/{modality}\").delete()\n",
    "\n",
    "print(f\"/scr/m0-processed-data/df4/{modality}/\")"
   ]
  },
  {
   "cell_type": "code",
   "execution_count": 90,
   "id": "2ed99a7f",
   "metadata": {},
   "outputs": [
    {
     "data": {
      "application/vnd.jupyter.widget-view+json": {
       "model_id": "caae4ce230df4d0c9b737858d2b167c1",
       "version_major": 2,
       "version_minor": 0
      },
      "text/plain": [
       "VBox()"
      ]
     },
     "metadata": {},
     "output_type": "display_data"
    },
    {
     "data": {
      "application/vnd.jupyter.widget-view+json": {
       "model_id": "",
       "version_major": 2,
       "version_minor": 0
      },
      "text/plain": [
       "FloatProgress(value=0.0, bar_style='info', description='Progress:', layout=Layout(height='25px', width='50%'),…"
      ]
     },
     "metadata": {},
     "output_type": "display_data"
    }
   ],
   "source": [
    "df4.write.format(\"parquet\").mode(\"Overwrite\").save(f\"s3://modelagem/scr/m0-processed-data/df4/{modality}/\")"
   ]
  },
  {
   "cell_type": "code",
   "execution_count": 91,
   "id": "373565ff",
   "metadata": {},
   "outputs": [
    {
     "data": {
      "application/vnd.jupyter.widget-view+json": {
       "model_id": "e5b4b4dba014409b856e44d605c10cb6",
       "version_major": 2,
       "version_minor": 0
      },
      "text/plain": [
       "VBox()"
      ]
     },
     "metadata": {},
     "output_type": "display_data"
    },
    {
     "data": {
      "application/vnd.jupyter.widget-view+json": {
       "model_id": "",
       "version_major": 2,
       "version_minor": 0
      },
      "text/plain": [
       "FloatProgress(value=0.0, bar_style='info', description='Progress:', layout=Layout(height='25px', width='50%'),…"
      ]
     },
     "metadata": {},
     "output_type": "display_data"
    }
   ],
   "source": [
    "df_consolida = spark.read.parquet(f\"s3://modelagem/scr/m0-processed-data/df4/{modality}/\")"
   ]
  },
  {
   "cell_type": "code",
   "execution_count": 92,
   "id": "30fac69a",
   "metadata": {},
   "outputs": [
    {
     "data": {
      "application/vnd.jupyter.widget-view+json": {
       "model_id": "298a8f26d65c4e53b71d17c0a6b74aee",
       "version_major": 2,
       "version_minor": 0
      },
      "text/plain": [
       "VBox()"
      ]
     },
     "metadata": {},
     "output_type": "display_data"
    },
    {
     "data": {
      "application/vnd.jupyter.widget-view+json": {
       "model_id": "",
       "version_major": 2,
       "version_minor": 0
      },
      "text/plain": [
       "FloatProgress(value=0.0, bar_style='info', description='Progress:', layout=Layout(height='25px', width='50%'),…"
      ]
     },
     "metadata": {},
     "output_type": "display_data"
    }
   ],
   "source": [
    "lista_limite_total_modalidade = ['CRT', 'CHE']"
   ]
  },
  {
   "cell_type": "code",
   "execution_count": 93,
   "id": "78586419",
   "metadata": {},
   "outputs": [
    {
     "data": {
      "application/vnd.jupyter.widget-view+json": {
       "model_id": "77036b8ee8124716adc18680102af59c",
       "version_major": 2,
       "version_minor": 0
      },
      "text/plain": [
       "VBox()"
      ]
     },
     "metadata": {},
     "output_type": "display_data"
    },
    {
     "data": {
      "application/vnd.jupyter.widget-view+json": {
       "model_id": "",
       "version_major": 2,
       "version_minor": 0
      },
      "text/plain": [
       "FloatProgress(value=0.0, bar_style='info', description='Progress:', layout=Layout(height='25px', width='50%'),…"
      ]
     },
     "metadata": {},
     "output_type": "display_data"
    }
   ],
   "source": [
    "lista_limite_disponivel=['CRT', 'CHE', 'OLM']"
   ]
  },
  {
   "cell_type": "markdown",
   "id": "aa80d694",
   "metadata": {},
   "source": [
    "QTD_IFS & QTD_OPS"
   ]
  },
  {
   "cell_type": "code",
   "execution_count": 94,
   "id": "fc36cdd0",
   "metadata": {},
   "outputs": [
    {
     "data": {
      "application/vnd.jupyter.widget-view+json": {
       "model_id": "de57803827244f6fa012e3c3b0d87c7d",
       "version_major": 2,
       "version_minor": 0
      },
      "text/plain": [
       "VBox()"
      ]
     },
     "metadata": {},
     "output_type": "display_data"
    },
    {
     "data": {
      "application/vnd.jupyter.widget-view+json": {
       "model_id": "",
       "version_major": 2,
       "version_minor": 0
      },
      "text/plain": [
       "FloatProgress(value=0.0, bar_style='info', description='Progress:', layout=Layout(height='25px', width='50%'),…"
      ]
     },
     "metadata": {},
     "output_type": "display_data"
    }
   ],
   "source": [
    "#Select para que seja obtido somente o maior atraso de credito vencido por cpf e sinalizado\n",
    "df9 = df_SCR_CLIENTE.select(\"DTBASE\",\"CD\",\"INIRELACTCLI\",\"QTDIF\",\"QTDOP\").distinct()#.persist()"
   ]
  },
  {
   "cell_type": "code",
   "execution_count": 95,
   "id": "f7e56e4f",
   "metadata": {},
   "outputs": [
    {
     "data": {
      "application/vnd.jupyter.widget-view+json": {
       "model_id": "2f698b93d9f44af4b4e2e268c983064d",
       "version_major": 2,
       "version_minor": 0
      },
      "text/plain": [
       "VBox()"
      ]
     },
     "metadata": {},
     "output_type": "display_data"
    },
    {
     "data": {
      "application/vnd.jupyter.widget-view+json": {
       "model_id": "",
       "version_major": 2,
       "version_minor": 0
      },
      "text/plain": [
       "FloatProgress(value=0.0, bar_style='info', description='Progress:', layout=Layout(height='25px', width='50%'),…"
      ]
     },
     "metadata": {},
     "output_type": "display_data"
    }
   ],
   "source": [
    "#(Limite total)/(Total de Instituições Financeiras)\n",
    "df10 = df_consolida.join(df9,[\"DTBASE\",\"CD\"],\"left\")#.persist()"
   ]
  },
  {
   "cell_type": "code",
   "execution_count": 96,
   "id": "d2dabeef",
   "metadata": {},
   "outputs": [
    {
     "data": {
      "application/vnd.jupyter.widget-view+json": {
       "model_id": "5f2941ddb33e48aca9047bd6493b6bc4",
       "version_major": 2,
       "version_minor": 0
      },
      "text/plain": [
       "VBox()"
      ]
     },
     "metadata": {},
     "output_type": "display_data"
    },
    {
     "data": {
      "application/vnd.jupyter.widget-view+json": {
       "model_id": "",
       "version_major": 2,
       "version_minor": 0
      },
      "text/plain": [
       "FloatProgress(value=0.0, bar_style='info', description='Progress:', layout=Layout(height='25px', width='50%'),…"
      ]
     },
     "metadata": {},
     "output_type": "display_data"
    }
   ],
   "source": [
    "del(df2)\n",
    "del(df4)\n",
    "del(df9)\n",
    "del(df_consolida)\n",
    "del(df_SCR_CLIENTE_MODALIDADE)\n",
    "del(df_SCR_CLIENTE)\n",
    "del(df_risco_tratado)\n",
    "del(df_risco_tratado_market)\n",
    "del(df_visao_omni)\n",
    "del(df_lista_duplicados)"
   ]
  },
  {
   "cell_type": "code",
   "execution_count": null,
   "id": "af45cd33",
   "metadata": {},
   "outputs": [],
   "source": []
  },
  {
   "cell_type": "code",
   "execution_count": 97,
   "id": "2e2cabf7",
   "metadata": {},
   "outputs": [
    {
     "data": {
      "application/vnd.jupyter.widget-view+json": {
       "model_id": "f6f082fe2b9c44ab8cf28116180cdb3d",
       "version_major": 2,
       "version_minor": 0
      },
      "text/plain": [
       "VBox()"
      ]
     },
     "metadata": {},
     "output_type": "display_data"
    },
    {
     "data": {
      "application/vnd.jupyter.widget-view+json": {
       "model_id": "",
       "version_major": 2,
       "version_minor": 0
      },
      "text/plain": [
       "FloatProgress(value=0.0, bar_style='info', description='Progress:', layout=Layout(height='25px', width='50%'),…"
      ]
     },
     "metadata": {},
     "output_type": "display_data"
    }
   ],
   "source": [
    "df10 = df10.filter(df10.CD.isin(lista_cpfs))#homologação"
   ]
  },
  {
   "cell_type": "code",
   "execution_count": 98,
   "id": "4ce83e79",
   "metadata": {},
   "outputs": [
    {
     "data": {
      "application/vnd.jupyter.widget-view+json": {
       "model_id": "1f72fc53eac142a682a1f2f69d2e8d99",
       "version_major": 2,
       "version_minor": 0
      },
      "text/plain": [
       "VBox()"
      ]
     },
     "metadata": {},
     "output_type": "display_data"
    },
    {
     "data": {
      "application/vnd.jupyter.widget-view+json": {
       "model_id": "",
       "version_major": 2,
       "version_minor": 0
      },
      "text/plain": [
       "FloatProgress(value=0.0, bar_style='info', description='Progress:', layout=Layout(height='25px', width='50%'),…"
      ]
     },
     "metadata": {},
     "output_type": "display_data"
    },
    {
     "name": "stdout",
     "output_type": "stream",
     "text": [
      "6"
     ]
    }
   ],
   "source": [
    "df10.count()"
   ]
  },
  {
   "cell_type": "markdown",
   "id": "a650c842",
   "metadata": {},
   "source": [
    "TEMPO_RELACIONAMENTO"
   ]
  },
  {
   "cell_type": "code",
   "execution_count": 99,
   "id": "d4a5aa81",
   "metadata": {},
   "outputs": [
    {
     "data": {
      "application/vnd.jupyter.widget-view+json": {
       "model_id": "eaebc4c83ad2403e9c01ed35e90a9a0c",
       "version_major": 2,
       "version_minor": 0
      },
      "text/plain": [
       "VBox()"
      ]
     },
     "metadata": {},
     "output_type": "display_data"
    },
    {
     "data": {
      "application/vnd.jupyter.widget-view+json": {
       "model_id": "",
       "version_major": 2,
       "version_minor": 0
      },
      "text/plain": [
       "FloatProgress(value=0.0, bar_style='info', description='Progress:', layout=Layout(height='25px', width='50%'),…"
      ]
     },
     "metadata": {},
     "output_type": "display_data"
    }
   ],
   "source": [
    "df10 = df10.withColumn(f'{modality}_TEMPO_RELACIONAMENTO',F.when(df10.INIRELACTCLI.isNotNull(), months_between(col(\"M0\"),col(\"INIRELACTCLI\")).cast(IntegerType())).otherwise(0))"
   ]
  },
  {
   "cell_type": "markdown",
   "id": "1f4b72ad",
   "metadata": {},
   "source": [
    "RZ_LMT_TOTAL_QTD_INST_FIN & RZ_LMT_TOTAL_QTD_OPERAC"
   ]
  },
  {
   "cell_type": "code",
   "execution_count": 100,
   "id": "e9e6404b",
   "metadata": {},
   "outputs": [
    {
     "data": {
      "application/vnd.jupyter.widget-view+json": {
       "model_id": "83c69252c10c469b88e4e844d2c7a434",
       "version_major": 2,
       "version_minor": 0
      },
      "text/plain": [
       "VBox()"
      ]
     },
     "metadata": {},
     "output_type": "display_data"
    },
    {
     "data": {
      "application/vnd.jupyter.widget-view+json": {
       "model_id": "",
       "version_major": 2,
       "version_minor": 0
      },
      "text/plain": [
       "FloatProgress(value=0.0, bar_style='info', description='Progress:', layout=Layout(height='25px', width='50%'),…"
      ]
     },
     "metadata": {},
     "output_type": "display_data"
    }
   ],
   "source": [
    "if modality in lista_limite_total_modalidade:\n",
    "    #(Limite total)/(Total de Instituições Financeiras)\n",
    "    df10 = df10.withColumn(f'{modality}_RZ_LMT_TOTAL_QTD_INST_FIN',round(F.col(f'{modality}_LMT_TOTAL')/df10.QTDIF.cast(DoubleType()),4))\n",
    "    #(Limite total)/(Total de Operações)\n",
    "    df10 = df10.withColumn(f'{modality}_RZ_LMT_TOTAL_QTD_OPERAC',round(F.col(f'{modality}_LMT_TOTAL')/df10.QTDOP.cast(DoubleType()),4))"
   ]
  },
  {
   "cell_type": "markdown",
   "id": "d069206e",
   "metadata": {},
   "source": [
    "PERC_LIMITE_DISPONIVEL & PERC_LIMITE_DISPONIVEL_MERC"
   ]
  },
  {
   "cell_type": "code",
   "execution_count": 101,
   "id": "18dce95f",
   "metadata": {},
   "outputs": [
    {
     "data": {
      "application/vnd.jupyter.widget-view+json": {
       "model_id": "bd872b6b483f4c6cad53df91663f42f9",
       "version_major": 2,
       "version_minor": 0
      },
      "text/plain": [
       "VBox()"
      ]
     },
     "metadata": {},
     "output_type": "display_data"
    },
    {
     "data": {
      "application/vnd.jupyter.widget-view+json": {
       "model_id": "",
       "version_major": 2,
       "version_minor": 0
      },
      "text/plain": [
       "FloatProgress(value=0.0, bar_style='info', description='Progress:', layout=Layout(height='25px', width='50%'),…"
      ]
     },
     "metadata": {},
     "output_type": "display_data"
    }
   ],
   "source": [
    "if modality in lista_limite_total_modalidade:\n",
    "    #percentual Limite disponivel\n",
    "    df10 = df10.withColumn(f'{modality}_PERC_LIMITE_DISPONIVEL',round(F.col(f'{modality}_LMT_DISPONIVEL')/F.col(f'{modality}_LMT_TOTAL').cast(DoubleType()),4))\n",
    "    #percentual Limite disponivel \n",
    "    df10 = df10.withColumn(f'{modality}_PERC_LIMITE_DISPONIVEL_MERC',round(F.col(f'{modality}_LMT_DISPONIVEL_MERC')/F.col(f'{modality}_LMT_TOTAL_MERC').cast(DoubleType()),4))"
   ]
  },
  {
   "cell_type": "markdown",
   "id": "af8add71",
   "metadata": {},
   "source": [
    "MEDIA_AVCR_3MESES & MEDIA_AVCR_3MESES_MERC"
   ]
  },
  {
   "cell_type": "code",
   "execution_count": 102,
   "id": "5e35203a",
   "metadata": {},
   "outputs": [
    {
     "data": {
      "application/vnd.jupyter.widget-view+json": {
       "model_id": "8dd7d9530144434dbd673716b6a15633",
       "version_major": 2,
       "version_minor": 0
      },
      "text/plain": [
       "VBox()"
      ]
     },
     "metadata": {},
     "output_type": "display_data"
    },
    {
     "data": {
      "application/vnd.jupyter.widget-view+json": {
       "model_id": "",
       "version_major": 2,
       "version_minor": 0
      },
      "text/plain": [
       "FloatProgress(value=0.0, bar_style='info', description='Progress:', layout=Layout(height='25px', width='50%'),…"
      ]
     },
     "metadata": {},
     "output_type": "display_data"
    }
   ],
   "source": [
    "lista_vencer_3meses = ['CRED_A_VENCER_ATE_30_TOTAL',\n",
    "'CRED_A_VENCER_DE_31_A_60_TOTAL',\n",
    "'CRED_A_VENCER_DE_61_A_90_TOTAL']\n",
    "\n",
    "lista_vencer_3meses_mercado = ['CRED_A_VENCER_ATE_30_MERCADO',\n",
    "'CRED_A_VENCER_DE_31_A_60_MERCADO',\n",
    "'CRED_A_VENCER_DE_61_A_90_MERCADO']"
   ]
  },
  {
   "cell_type": "code",
   "execution_count": 103,
   "id": "e5a7a9ea",
   "metadata": {},
   "outputs": [
    {
     "data": {
      "application/vnd.jupyter.widget-view+json": {
       "model_id": "df8452aa5fe94938b2618d3d3d4a845b",
       "version_major": 2,
       "version_minor": 0
      },
      "text/plain": [
       "VBox()"
      ]
     },
     "metadata": {},
     "output_type": "display_data"
    },
    {
     "data": {
      "application/vnd.jupyter.widget-view+json": {
       "model_id": "",
       "version_major": 2,
       "version_minor": 0
      },
      "text/plain": [
       "FloatProgress(value=0.0, bar_style='info', description='Progress:', layout=Layout(height='25px', width='50%'),…"
      ]
     },
     "metadata": {},
     "output_type": "display_data"
    }
   ],
   "source": [
    "#Média dos vencimentos dos próximos 3 meses V2\n",
    "df10 = df10.withColumn(f'{modality}_MEDIA_AVCR_3MESES',round((reduce(add, [F.col(x) for x in lista_vencer_3meses])/3).cast(DoubleType()),4))"
   ]
  },
  {
   "cell_type": "code",
   "execution_count": 104,
   "id": "e8f35171",
   "metadata": {},
   "outputs": [
    {
     "data": {
      "application/vnd.jupyter.widget-view+json": {
       "model_id": "33f27a22e6164bf58dfee2af0ad65d3f",
       "version_major": 2,
       "version_minor": 0
      },
      "text/plain": [
       "VBox()"
      ]
     },
     "metadata": {},
     "output_type": "display_data"
    },
    {
     "data": {
      "application/vnd.jupyter.widget-view+json": {
       "model_id": "",
       "version_major": 2,
       "version_minor": 0
      },
      "text/plain": [
       "FloatProgress(value=0.0, bar_style='info', description='Progress:', layout=Layout(height='25px', width='50%'),…"
      ]
     },
     "metadata": {},
     "output_type": "display_data"
    }
   ],
   "source": [
    "#Média dos vencimentos dos próximos 3 meses V2\n",
    "df10 = df10.withColumn(f'{modality}_MEDIA_AVCR_3MESES_MERC',round((reduce(add, [F.col(x) for x in lista_vencer_3meses_mercado])/3).cast(DoubleType()),4))"
   ]
  },
  {
   "cell_type": "markdown",
   "id": "4b172b2b",
   "metadata": {},
   "source": [
    "MEDIA_AVCR_3MESES_V2 & MEDIA_AVCR_3MESES_MERC_V2 & _MEDIA_AVCR_3MESES_RZMO"
   ]
  },
  {
   "cell_type": "code",
   "execution_count": 105,
   "id": "1ec05868",
   "metadata": {},
   "outputs": [
    {
     "data": {
      "application/vnd.jupyter.widget-view+json": {
       "model_id": "738124c9fda34693896c046a13c7fa46",
       "version_major": 2,
       "version_minor": 0
      },
      "text/plain": [
       "VBox()"
      ]
     },
     "metadata": {},
     "output_type": "display_data"
    },
    {
     "data": {
      "application/vnd.jupyter.widget-view+json": {
       "model_id": "",
       "version_major": 2,
       "version_minor": 0
      },
      "text/plain": [
       "FloatProgress(value=0.0, bar_style='info', description='Progress:', layout=Layout(height='25px', width='50%'),…"
      ]
     },
     "metadata": {},
     "output_type": "display_data"
    }
   ],
   "source": [
    "#Média dos vencimentos dos próximos 3 meses\n",
    "df10 = df10.withColumn(f'{modality}_MEDIA_AVCR_3MESES_V2', round(avgIgnoringNaN(lista_vencer_3meses).cast(DoubleType()),4))"
   ]
  },
  {
   "cell_type": "code",
   "execution_count": 106,
   "id": "612a7540",
   "metadata": {},
   "outputs": [
    {
     "data": {
      "application/vnd.jupyter.widget-view+json": {
       "model_id": "eadcd8e99a2249e6abe7a1a75f752de9",
       "version_major": 2,
       "version_minor": 0
      },
      "text/plain": [
       "VBox()"
      ]
     },
     "metadata": {},
     "output_type": "display_data"
    },
    {
     "data": {
      "application/vnd.jupyter.widget-view+json": {
       "model_id": "",
       "version_major": 2,
       "version_minor": 0
      },
      "text/plain": [
       "FloatProgress(value=0.0, bar_style='info', description='Progress:', layout=Layout(height='25px', width='50%'),…"
      ]
     },
     "metadata": {},
     "output_type": "display_data"
    }
   ],
   "source": [
    "#Média dos vencimentos dos próximos 3 meses MERCADO\n",
    "df10 = df10.withColumn(f'{modality}_MEDIA_AVCR_3MESES_MERC_V2', round(avgIgnoringNaN(lista_vencer_3meses_mercado).cast(DoubleType()),4))"
   ]
  },
  {
   "cell_type": "code",
   "execution_count": 107,
   "id": "b4cc23f8",
   "metadata": {},
   "outputs": [
    {
     "data": {
      "application/vnd.jupyter.widget-view+json": {
       "model_id": "047c58b8c14c4e5fb1655aef0b56e7d4",
       "version_major": 2,
       "version_minor": 0
      },
      "text/plain": [
       "VBox()"
      ]
     },
     "metadata": {},
     "output_type": "display_data"
    },
    {
     "data": {
      "application/vnd.jupyter.widget-view+json": {
       "model_id": "",
       "version_major": 2,
       "version_minor": 0
      },
      "text/plain": [
       "FloatProgress(value=0.0, bar_style='info', description='Progress:', layout=Layout(height='25px', width='50%'),…"
      ]
     },
     "metadata": {},
     "output_type": "display_data"
    }
   ],
   "source": [
    "#Média dos vencimentos dos próximos 3 meses - PONDERADO VER VER VER VER VER VER VER VER VER VER VER \n",
    "df10 = df10.withColumn(f'{modality}_MEDIA_AVCR_3MESES_RZMO',round(F.col(f'{modality}_MEDIA_AVCR_3MESES_MERC')/F.col(f'{modality}_SALDO_TOTAL_TT_OMNI').cast(DoubleType()),4))"
   ]
  },
  {
   "cell_type": "code",
   "execution_count": 108,
   "id": "b4b36b7a",
   "metadata": {},
   "outputs": [
    {
     "data": {
      "application/vnd.jupyter.widget-view+json": {
       "model_id": "cb1c2a736a7842edafe18a2857566e32",
       "version_major": 2,
       "version_minor": 0
      },
      "text/plain": [
       "VBox()"
      ]
     },
     "metadata": {},
     "output_type": "display_data"
    },
    {
     "data": {
      "application/vnd.jupyter.widget-view+json": {
       "model_id": "",
       "version_major": 2,
       "version_minor": 0
      },
      "text/plain": [
       "FloatProgress(value=0.0, bar_style='info', description='Progress:', layout=Layout(height='25px', width='50%'),…"
      ]
     },
     "metadata": {},
     "output_type": "display_data"
    }
   ],
   "source": [
    "#(Média dos vencimentos dos próximos 3 meses)/(Soma das parcelas dos contratos ativos do cliente) VER VER VER VER VER VER VER VER VER VER VER \n",
    "df10 = df10.withColumn(f'{modality}_MEDIA_AVCR_3MESES_RZMO_POR_M0',round(F.col(f'{modality}_MEDIA_AVCR_3MESES')/df10.CRED_A_VENCER_ATE_30_TOTAL.cast(DoubleType()),4))"
   ]
  },
  {
   "cell_type": "code",
   "execution_count": 109,
   "id": "373518b1",
   "metadata": {},
   "outputs": [
    {
     "data": {
      "application/vnd.jupyter.widget-view+json": {
       "model_id": "0b5a514019ee41db955e0b0842e8f27b",
       "version_major": 2,
       "version_minor": 0
      },
      "text/plain": [
       "VBox()"
      ]
     },
     "metadata": {},
     "output_type": "display_data"
    },
    {
     "data": {
      "application/vnd.jupyter.widget-view+json": {
       "model_id": "",
       "version_major": 2,
       "version_minor": 0
      },
      "text/plain": [
       "FloatProgress(value=0.0, bar_style='info', description='Progress:', layout=Layout(height='25px', width='50%'),…"
      ]
     },
     "metadata": {},
     "output_type": "display_data"
    }
   ],
   "source": [
    "#(Média dos vencimentos dos próximos 3 meses)/(Soma das parcelas dos contratos ativos do cliente) VER VER VER VER VER VER VER VER VER VER VER \n",
    "df10 = df10.withColumn(f'{modality}_MEDIA_AVCR_3MESES_RZMO_POR_M0_MERC',round(F.col(f'{modality}_MEDIA_AVCR_3MESES_MERC')/df10.CRED_A_VENCER_ATE_30_MERCADO.cast(DoubleType()),4))"
   ]
  },
  {
   "cell_type": "markdown",
   "id": "736114b6",
   "metadata": {},
   "source": [
    "MAIOR_PRAZO_AVCR & MAIOR_PRAZO_AVCR_MERC"
   ]
  },
  {
   "cell_type": "code",
   "execution_count": 110,
   "id": "40660d4b",
   "metadata": {},
   "outputs": [
    {
     "data": {
      "application/vnd.jupyter.widget-view+json": {
       "model_id": "0063c891f3df46eb8c6b433b8187c213",
       "version_major": 2,
       "version_minor": 0
      },
      "text/plain": [
       "VBox()"
      ]
     },
     "metadata": {},
     "output_type": "display_data"
    },
    {
     "data": {
      "application/vnd.jupyter.widget-view+json": {
       "model_id": "",
       "version_major": 2,
       "version_minor": 0
      },
      "text/plain": [
       "FloatProgress(value=0.0, bar_style='info', description='Progress:', layout=Layout(height='25px', width='50%'),…"
      ]
     },
     "metadata": {},
     "output_type": "display_data"
    }
   ],
   "source": [
    "#Maior vencimento de crédito \n",
    "df10 = df10.withColumn(f\"{modality}_MAIOR_PRAZO_AVCR\", when((df10.CRED_A_VENCER_ACIMA_5400_TOTAL > 0),5499)\n",
    "                                      .when((df10.CRED_A_VENCER_DE_1801_A_5400_TOTAL > 0),5400)\n",
    "                                      .when((df10.CRED_A_VENCER_DE_1441_A_1800_TOTAL > 0),1800)\n",
    "                                      .when((df10.CRED_A_VENCER_DE_1081_A_1440_TOTAL > 0),1440)\n",
    "                                      .when((df10.CRED_A_VENCER_DE_721_A_1080_TOTAL > 0),1080)\n",
    "                                      .when((df10.CRED_A_VENCER_DE_361_A_720_TOTAL > 0),720)\n",
    "                                      .when((df10.CRED_A_VENCER_DE_181_A_360_TOTAL > 0),360)\n",
    "                                      .when((df10.CRED_A_VENCER_DE_91_A_180_TOTAL > 0),180)\n",
    "                                      .when((df10.CRED_A_VENCER_DE_61_A_90_TOTAL > 0),90)\n",
    "                                      .when((df10.CRED_A_VENCER_DE_31_A_60_TOTAL > 0),60)\n",
    "                                      .when((df10.CRED_A_VENCER_ATE_30_TOTAL > 0),30)\n",
    "                                      .otherwise(0))\n",
    "\n",
    "df10 = df10.withColumn(f\"{modality}_MAIOR_PRAZO_AVCR_MERC\", when((df10.CRED_A_VENCER_ACIMA_5400_MERCADO > 0),5499)\n",
    "                                      .when((df10.CRED_A_VENCER_DE_1801_A_5400_MERCADO > 0),5400)\n",
    "                                      .when((df10.CRED_A_VENCER_DE_1441_A_1800_MERCADO > 0),1800)\n",
    "                                      .when((df10.CRED_A_VENCER_DE_1081_A_1440_MERCADO > 0),1440)\n",
    "                                      .when((df10.CRED_A_VENCER_DE_721_A_1080_MERCADO > 0),1080)\n",
    "                                      .when((df10.CRED_A_VENCER_DE_361_A_720_MERCADO > 0),720)\n",
    "                                      .when((df10.CRED_A_VENCER_DE_181_A_360_MERCADO > 0),360)\n",
    "                                      .when((df10.CRED_A_VENCER_DE_91_A_180_MERCADO > 0),180)\n",
    "                                      .when((df10.CRED_A_VENCER_DE_61_A_90_MERCADO > 0),90)\n",
    "                                      .when((df10.CRED_A_VENCER_DE_31_A_60_MERCADO > 0),60)\n",
    "                                      .when((df10.CRED_A_VENCER_ATE_30_MERCADO > 0),30)\n",
    "                                      .otherwise(0))#Ver a questão do zero"
   ]
  },
  {
   "cell_type": "markdown",
   "id": "cce525f7",
   "metadata": {},
   "source": [
    "RZ_AVCR_ATE90_POR_AVCR & RZ_AVCR_ATE90_POR_AVCR_MERC Á RZ_AVCR_ACI1800_POR_AVCR & RZ_AVCR_ACI1800_POR_AVCR_MERC"
   ]
  },
  {
   "cell_type": "code",
   "execution_count": 111,
   "id": "03fdb6a2",
   "metadata": {},
   "outputs": [
    {
     "data": {
      "application/vnd.jupyter.widget-view+json": {
       "model_id": "c90f79c4966a4fe09e9dc866728dfdd6",
       "version_major": 2,
       "version_minor": 0
      },
      "text/plain": [
       "VBox()"
      ]
     },
     "metadata": {},
     "output_type": "display_data"
    },
    {
     "data": {
      "application/vnd.jupyter.widget-view+json": {
       "model_id": "",
       "version_major": 2,
       "version_minor": 0
      },
      "text/plain": [
       "FloatProgress(value=0.0, bar_style='info', description='Progress:', layout=Layout(height='25px', width='50%'),…"
      ]
     },
     "metadata": {},
     "output_type": "display_data"
    }
   ],
   "source": [
    "#(Crédito a vencer até 90 dias)/(Total de crédito a vencer)\n",
    "df10 = df10.withColumn(f'{modality}_RZ_AVCR_ATE90_POR_AVCR',round((reduce(add, [F.col(x) for x in lista_vencer_3meses])/F.col(f'{modality}_AVCR')).cast(DoubleType()),4))"
   ]
  },
  {
   "cell_type": "code",
   "execution_count": 112,
   "id": "4422e18c",
   "metadata": {},
   "outputs": [
    {
     "data": {
      "application/vnd.jupyter.widget-view+json": {
       "model_id": "136c3da99e0a4ceabaa1e71886e59f4b",
       "version_major": 2,
       "version_minor": 0
      },
      "text/plain": [
       "VBox()"
      ]
     },
     "metadata": {},
     "output_type": "display_data"
    },
    {
     "data": {
      "application/vnd.jupyter.widget-view+json": {
       "model_id": "",
       "version_major": 2,
       "version_minor": 0
      },
      "text/plain": [
       "FloatProgress(value=0.0, bar_style='info', description='Progress:', layout=Layout(height='25px', width='50%'),…"
      ]
     },
     "metadata": {},
     "output_type": "display_data"
    }
   ],
   "source": [
    "#(Crédito a vencer até 90 dias)/(Total de crédito a vencer)\n",
    "\n",
    "#CORRIGIR NOMENCLATURA A VENCER\n",
    "\n",
    "df10 = df10.withColumn(f'{modality}_RZ_AVCR_ATE90_POR_AVCR_MERC',round((reduce(add, [F.col(x) for x in lista_vencer_3meses_mercado])/F.col(f'{modality}_AVCR_MERC')).cast(DoubleType()),4))"
   ]
  },
  {
   "cell_type": "code",
   "execution_count": 113,
   "id": "d8ea90ed",
   "metadata": {},
   "outputs": [
    {
     "data": {
      "application/vnd.jupyter.widget-view+json": {
       "model_id": "ac4feb366363469aa275223c94dfa8f1",
       "version_major": 2,
       "version_minor": 0
      },
      "text/plain": [
       "VBox()"
      ]
     },
     "metadata": {},
     "output_type": "display_data"
    },
    {
     "data": {
      "application/vnd.jupyter.widget-view+json": {
       "model_id": "",
       "version_major": 2,
       "version_minor": 0
      },
      "text/plain": [
       "FloatProgress(value=0.0, bar_style='info', description='Progress:', layout=Layout(height='25px', width='50%'),…"
      ]
     },
     "metadata": {},
     "output_type": "display_data"
    }
   ],
   "source": [
    "#(Crédito a vencer entre 91 e 180 dias)/(Total de crédito a vencer) \n",
    "df10 = df10.withColumn(f'{modality}_RZ_AVCR_91_180_POR_AVCR',round((df10.CRED_A_VENCER_DE_91_A_180_TOTAL/F.col(f'{modality}_AVCR')).cast(DoubleType()),4))"
   ]
  },
  {
   "cell_type": "code",
   "execution_count": 114,
   "id": "61cae852",
   "metadata": {},
   "outputs": [
    {
     "data": {
      "application/vnd.jupyter.widget-view+json": {
       "model_id": "c309ab99311844dda420ff8fd347359f",
       "version_major": 2,
       "version_minor": 0
      },
      "text/plain": [
       "VBox()"
      ]
     },
     "metadata": {},
     "output_type": "display_data"
    },
    {
     "data": {
      "application/vnd.jupyter.widget-view+json": {
       "model_id": "",
       "version_major": 2,
       "version_minor": 0
      },
      "text/plain": [
       "FloatProgress(value=0.0, bar_style='info', description='Progress:', layout=Layout(height='25px', width='50%'),…"
      ]
     },
     "metadata": {},
     "output_type": "display_data"
    }
   ],
   "source": [
    "#(Crédito a vencer entre 91 e 180 dias)/(Total de crédito a vencer)\n",
    "df10 = df10.withColumn(f'{modality}_RZ_AVCR_91_180_POR_AVCR_MERC',round((df10.CRED_A_VENCER_DE_91_A_180_MERCADO/F.col(f'{modality}_AVCR_MERC')).cast(DoubleType()),4))"
   ]
  },
  {
   "cell_type": "code",
   "execution_count": 115,
   "id": "9151dbb8",
   "metadata": {},
   "outputs": [
    {
     "data": {
      "application/vnd.jupyter.widget-view+json": {
       "model_id": "781841b082234aee86dd2e1342f94d40",
       "version_major": 2,
       "version_minor": 0
      },
      "text/plain": [
       "VBox()"
      ]
     },
     "metadata": {},
     "output_type": "display_data"
    },
    {
     "data": {
      "application/vnd.jupyter.widget-view+json": {
       "model_id": "",
       "version_major": 2,
       "version_minor": 0
      },
      "text/plain": [
       "FloatProgress(value=0.0, bar_style='info', description='Progress:', layout=Layout(height='25px', width='50%'),…"
      ]
     },
     "metadata": {},
     "output_type": "display_data"
    }
   ],
   "source": [
    "#(Crédito a vencer entre 181 e 360 dias)/(Total de crédito a vencer)\n",
    "df10 = df10.withColumn(f'{modality}_RZ_AVCR_181_360_POR_AVCR',round((df10.CRED_A_VENCER_DE_181_A_360_TOTAL/F.col(f'{modality}_AVCR')).cast(DoubleType()),4))"
   ]
  },
  {
   "cell_type": "code",
   "execution_count": 116,
   "id": "31261684",
   "metadata": {},
   "outputs": [
    {
     "data": {
      "application/vnd.jupyter.widget-view+json": {
       "model_id": "7e540a9472f649178a8b39e0295ed0da",
       "version_major": 2,
       "version_minor": 0
      },
      "text/plain": [
       "VBox()"
      ]
     },
     "metadata": {},
     "output_type": "display_data"
    },
    {
     "data": {
      "application/vnd.jupyter.widget-view+json": {
       "model_id": "",
       "version_major": 2,
       "version_minor": 0
      },
      "text/plain": [
       "FloatProgress(value=0.0, bar_style='info', description='Progress:', layout=Layout(height='25px', width='50%'),…"
      ]
     },
     "metadata": {},
     "output_type": "display_data"
    }
   ],
   "source": [
    "#(Crédito a vencer entre 181 e 360 dias)/(Total de crédito a vencer)\n",
    "df10 = df10.withColumn(f'{modality}_RZ_AVCR_181_360_POR_AVCR_MERC',round((df10.CRED_A_VENCER_DE_181_A_360_MERCADO/F.col(f'{modality}_AVCR_MERC')).cast(DoubleType()),4))"
   ]
  },
  {
   "cell_type": "code",
   "execution_count": 117,
   "id": "19643c56",
   "metadata": {},
   "outputs": [
    {
     "data": {
      "application/vnd.jupyter.widget-view+json": {
       "model_id": "18fb328384694b4b92be8af156868f5e",
       "version_major": 2,
       "version_minor": 0
      },
      "text/plain": [
       "VBox()"
      ]
     },
     "metadata": {},
     "output_type": "display_data"
    },
    {
     "data": {
      "application/vnd.jupyter.widget-view+json": {
       "model_id": "",
       "version_major": 2,
       "version_minor": 0
      },
      "text/plain": [
       "FloatProgress(value=0.0, bar_style='info', description='Progress:', layout=Layout(height='25px', width='50%'),…"
      ]
     },
     "metadata": {},
     "output_type": "display_data"
    }
   ],
   "source": [
    "#(Crédito a vencer entre 361 e 720 dias)/(Total de crédito a vencer)\n",
    "df10 = df10.withColumn(f'{modality}_RZ_AVCR_361_720_POR_AVCR',round((df10.CRED_A_VENCER_DE_361_A_720_TOTAL/F.col(f'{modality}_AVCR')).cast(DoubleType()),4))"
   ]
  },
  {
   "cell_type": "code",
   "execution_count": 118,
   "id": "8924a548",
   "metadata": {},
   "outputs": [
    {
     "data": {
      "application/vnd.jupyter.widget-view+json": {
       "model_id": "d8e7b5a6074e4169ba29d8c8b65cbd6e",
       "version_major": 2,
       "version_minor": 0
      },
      "text/plain": [
       "VBox()"
      ]
     },
     "metadata": {},
     "output_type": "display_data"
    },
    {
     "data": {
      "application/vnd.jupyter.widget-view+json": {
       "model_id": "",
       "version_major": 2,
       "version_minor": 0
      },
      "text/plain": [
       "FloatProgress(value=0.0, bar_style='info', description='Progress:', layout=Layout(height='25px', width='50%'),…"
      ]
     },
     "metadata": {},
     "output_type": "display_data"
    }
   ],
   "source": [
    "#(Crédito a vencer entre 361 e 720 dias)/(Total de crédito a vencer)\n",
    "df10 = df10.withColumn(f'{modality}_RZ_AVCR_361_720_POR_AVCR_MERC',round((df10.CRED_A_VENCER_DE_361_A_720_MERCADO/F.col(f'{modality}_AVCR_MERC')).cast(DoubleType()),4))"
   ]
  },
  {
   "cell_type": "code",
   "execution_count": 119,
   "id": "a030555f",
   "metadata": {},
   "outputs": [
    {
     "data": {
      "application/vnd.jupyter.widget-view+json": {
       "model_id": "9c3834b1d9ce46709f1510b2ac4bde05",
       "version_major": 2,
       "version_minor": 0
      },
      "text/plain": [
       "VBox()"
      ]
     },
     "metadata": {},
     "output_type": "display_data"
    },
    {
     "data": {
      "application/vnd.jupyter.widget-view+json": {
       "model_id": "",
       "version_major": 2,
       "version_minor": 0
      },
      "text/plain": [
       "FloatProgress(value=0.0, bar_style='info', description='Progress:', layout=Layout(height='25px', width='50%'),…"
      ]
     },
     "metadata": {},
     "output_type": "display_data"
    }
   ],
   "source": [
    "#(Crédito a vencer entre 721 e 1080 dias)/(Total de crédito a vencer)\n",
    "df10 = df10.withColumn(f'{modality}_RZ_AVCR_721_1080_POR_AVCR',round((df10.CRED_A_VENCER_DE_721_A_1080_TOTAL/F.col(f'{modality}_AVCR')).cast(DoubleType()),4))"
   ]
  },
  {
   "cell_type": "code",
   "execution_count": 120,
   "id": "2298aee0",
   "metadata": {},
   "outputs": [
    {
     "data": {
      "application/vnd.jupyter.widget-view+json": {
       "model_id": "294de3e2e91b4cd8af45d1597cb3b05e",
       "version_major": 2,
       "version_minor": 0
      },
      "text/plain": [
       "VBox()"
      ]
     },
     "metadata": {},
     "output_type": "display_data"
    },
    {
     "data": {
      "application/vnd.jupyter.widget-view+json": {
       "model_id": "",
       "version_major": 2,
       "version_minor": 0
      },
      "text/plain": [
       "FloatProgress(value=0.0, bar_style='info', description='Progress:', layout=Layout(height='25px', width='50%'),…"
      ]
     },
     "metadata": {},
     "output_type": "display_data"
    }
   ],
   "source": [
    "#(Crédito a vencer entre 721 e 1080 dias)/(Total de crédito a vencer)\n",
    "df10 = df10.withColumn(f'{modality}_RZ_AVCR_721_1080_POR_AVCR_MERC',round((df10.CRED_A_VENCER_DE_721_A_1080_MERCADO/F.col(f'{modality}_AVCR_MERC')).cast(DoubleType()),4))"
   ]
  },
  {
   "cell_type": "code",
   "execution_count": 121,
   "id": "d54830e4",
   "metadata": {},
   "outputs": [
    {
     "data": {
      "application/vnd.jupyter.widget-view+json": {
       "model_id": "11ddc76d87cb40d7b9fc57c8f1b2322f",
       "version_major": 2,
       "version_minor": 0
      },
      "text/plain": [
       "VBox()"
      ]
     },
     "metadata": {},
     "output_type": "display_data"
    },
    {
     "data": {
      "application/vnd.jupyter.widget-view+json": {
       "model_id": "",
       "version_major": 2,
       "version_minor": 0
      },
      "text/plain": [
       "FloatProgress(value=0.0, bar_style='info', description='Progress:', layout=Layout(height='25px', width='50%'),…"
      ]
     },
     "metadata": {},
     "output_type": "display_data"
    }
   ],
   "source": [
    "lista_1080_1800 = ['CRED_A_VENCER_DE_1081_A_1440_TOTAL',\n",
    "'CRED_A_VENCER_DE_1441_A_1800_TOTAL']\n",
    "\n",
    "lista_1080_1800_mercado = ['CRED_A_VENCER_DE_1081_A_1440_MERCADO',\n",
    "'CRED_A_VENCER_DE_1441_A_1800_MERCADO']"
   ]
  },
  {
   "cell_type": "code",
   "execution_count": 122,
   "id": "a8939a5a",
   "metadata": {},
   "outputs": [
    {
     "data": {
      "application/vnd.jupyter.widget-view+json": {
       "model_id": "75f5dc810c7c45dba37d0a1ff981b4e9",
       "version_major": 2,
       "version_minor": 0
      },
      "text/plain": [
       "VBox()"
      ]
     },
     "metadata": {},
     "output_type": "display_data"
    },
    {
     "data": {
      "application/vnd.jupyter.widget-view+json": {
       "model_id": "",
       "version_major": 2,
       "version_minor": 0
      },
      "text/plain": [
       "FloatProgress(value=0.0, bar_style='info', description='Progress:', layout=Layout(height='25px', width='50%'),…"
      ]
     },
     "metadata": {},
     "output_type": "display_data"
    }
   ],
   "source": [
    "#(Crédito a vencer entre 1081 e 1800 dias)/(Total de crédito a vencer)\n",
    "df10 = df10.withColumn(f'{modality}_RZ_AVCR_1081_1800_POR_AVCR',round((reduce(add, [F.col(x) for x in lista_1080_1800])/F.col(f'{modality}_AVCR')).cast(DoubleType()),4))"
   ]
  },
  {
   "cell_type": "code",
   "execution_count": 123,
   "id": "7d008291",
   "metadata": {},
   "outputs": [
    {
     "data": {
      "application/vnd.jupyter.widget-view+json": {
       "model_id": "8d9813e70ae346709c751e4f429081cc",
       "version_major": 2,
       "version_minor": 0
      },
      "text/plain": [
       "VBox()"
      ]
     },
     "metadata": {},
     "output_type": "display_data"
    },
    {
     "data": {
      "application/vnd.jupyter.widget-view+json": {
       "model_id": "",
       "version_major": 2,
       "version_minor": 0
      },
      "text/plain": [
       "FloatProgress(value=0.0, bar_style='info', description='Progress:', layout=Layout(height='25px', width='50%'),…"
      ]
     },
     "metadata": {},
     "output_type": "display_data"
    }
   ],
   "source": [
    "#(Crédito a vencer entre 1081 e 1800 dias)/(Total de crédito a vencer)\n",
    "df10 = df10.withColumn(f'{modality}_RZ_AVCR_1081_1800_POR_AVCR_MERC',round((reduce(add, [F.col(x) for x in lista_1080_1800_mercado])/F.col(f'{modality}_AVCR_MERC')).cast(DoubleType()),4))"
   ]
  },
  {
   "cell_type": "code",
   "execution_count": 124,
   "id": "5d1e9452",
   "metadata": {},
   "outputs": [
    {
     "data": {
      "application/vnd.jupyter.widget-view+json": {
       "model_id": "438385b908f4401b95aa8bb07bf2dbf8",
       "version_major": 2,
       "version_minor": 0
      },
      "text/plain": [
       "VBox()"
      ]
     },
     "metadata": {},
     "output_type": "display_data"
    },
    {
     "data": {
      "application/vnd.jupyter.widget-view+json": {
       "model_id": "",
       "version_major": 2,
       "version_minor": 0
      },
      "text/plain": [
       "FloatProgress(value=0.0, bar_style='info', description='Progress:', layout=Layout(height='25px', width='50%'),…"
      ]
     },
     "metadata": {},
     "output_type": "display_data"
    }
   ],
   "source": [
    "lista_acima_1800 = ['CRED_A_VENCER_DE_1801_A_5400_TOTAL','CRED_A_VENCER_ACIMA_5400_TOTAL']\n",
    "\n",
    "lista_acima_1800_mercado = ['CRED_A_VENCER_DE_1801_A_5400_MERCADO','CRED_A_VENCER_ACIMA_5400_MERCADO']"
   ]
  },
  {
   "cell_type": "code",
   "execution_count": 125,
   "id": "92704d97",
   "metadata": {},
   "outputs": [
    {
     "data": {
      "application/vnd.jupyter.widget-view+json": {
       "model_id": "8393fd2e289644059e68412273254b77",
       "version_major": 2,
       "version_minor": 0
      },
      "text/plain": [
       "VBox()"
      ]
     },
     "metadata": {},
     "output_type": "display_data"
    },
    {
     "data": {
      "application/vnd.jupyter.widget-view+json": {
       "model_id": "",
       "version_major": 2,
       "version_minor": 0
      },
      "text/plain": [
       "FloatProgress(value=0.0, bar_style='info', description='Progress:', layout=Layout(height='25px', width='50%'),…"
      ]
     },
     "metadata": {},
     "output_type": "display_data"
    }
   ],
   "source": [
    "#(Crédito a vencer acima de 5400)/(Total de crédito a vencer)\n",
    "df10 = df10.withColumn(f'{modality}_RZ_AVCR_ACI1800_POR_AVCR',round((reduce(add, [F.col(x) for x in lista_acima_1800])/F.col(f'{modality}_AVCR')).cast(DoubleType()),4))"
   ]
  },
  {
   "cell_type": "code",
   "execution_count": 126,
   "id": "6e0a8c50",
   "metadata": {},
   "outputs": [
    {
     "data": {
      "application/vnd.jupyter.widget-view+json": {
       "model_id": "5e93e2fd1be74036bd4725b3929d7e9c",
       "version_major": 2,
       "version_minor": 0
      },
      "text/plain": [
       "VBox()"
      ]
     },
     "metadata": {},
     "output_type": "display_data"
    },
    {
     "data": {
      "application/vnd.jupyter.widget-view+json": {
       "model_id": "",
       "version_major": 2,
       "version_minor": 0
      },
      "text/plain": [
       "FloatProgress(value=0.0, bar_style='info', description='Progress:', layout=Layout(height='25px', width='50%'),…"
      ]
     },
     "metadata": {},
     "output_type": "display_data"
    }
   ],
   "source": [
    "#(Crédito a vencer acima de 5400)/(Total de crédito a vencer)\n",
    "df10 = df10.withColumn(f'{modality}_RZ_AVCR_ACI1800_POR_AVCR_MERC',round((reduce(add, [F.col(x) for x in lista_acima_1800_mercado])/F.col(f'{modality}_AVCR_MERC')).cast(DoubleType()),4))"
   ]
  },
  {
   "cell_type": "markdown",
   "id": "b8846e46",
   "metadata": {},
   "source": [
    "AVCR_ATE90 & AVCR_ATE90_MERC & AVCR_ATE90_RZMO Á AVCR_ACI1800 & AVCR_ACI1800_MERC & AVCR_ACI1800_RZMO"
   ]
  },
  {
   "cell_type": "code",
   "execution_count": 127,
   "id": "82348ad2",
   "metadata": {},
   "outputs": [
    {
     "data": {
      "application/vnd.jupyter.widget-view+json": {
       "model_id": "3a883d5d1fe34e8a8e4f3d32ae2c241c",
       "version_major": 2,
       "version_minor": 0
      },
      "text/plain": [
       "VBox()"
      ]
     },
     "metadata": {},
     "output_type": "display_data"
    },
    {
     "data": {
      "application/vnd.jupyter.widget-view+json": {
       "model_id": "",
       "version_major": 2,
       "version_minor": 0
      },
      "text/plain": [
       "FloatProgress(value=0.0, bar_style='info', description='Progress:', layout=Layout(height='25px', width='50%'),…"
      ]
     },
     "metadata": {},
     "output_type": "display_data"
    }
   ],
   "source": [
    "#Crédito a vencer até 90 dias\n",
    "df10 = df10.withColumn(f'{modality}_AVCR_ATE90',round(reduce(add, [F.col(x) for x in lista_vencer_3meses]).cast(DoubleType()),4))"
   ]
  },
  {
   "cell_type": "code",
   "execution_count": 128,
   "id": "47abe256",
   "metadata": {},
   "outputs": [
    {
     "data": {
      "application/vnd.jupyter.widget-view+json": {
       "model_id": "7db0b010afe44883892b7d8edbe2aad0",
       "version_major": 2,
       "version_minor": 0
      },
      "text/plain": [
       "VBox()"
      ]
     },
     "metadata": {},
     "output_type": "display_data"
    },
    {
     "data": {
      "application/vnd.jupyter.widget-view+json": {
       "model_id": "",
       "version_major": 2,
       "version_minor": 0
      },
      "text/plain": [
       "FloatProgress(value=0.0, bar_style='info', description='Progress:', layout=Layout(height='25px', width='50%'),…"
      ]
     },
     "metadata": {},
     "output_type": "display_data"
    }
   ],
   "source": [
    "#Crédito a vencer até 90 dias\n",
    "df10 = df10.withColumn(f'{modality}_AVCR_ATE90_MERC',round(reduce(add, [F.col(x) for x in lista_vencer_3meses_mercado]).cast(DoubleType()),4))"
   ]
  },
  {
   "cell_type": "code",
   "execution_count": 129,
   "id": "749ba6bc",
   "metadata": {},
   "outputs": [
    {
     "data": {
      "application/vnd.jupyter.widget-view+json": {
       "model_id": "a22f9e4e888845aa80bf402e3effdde2",
       "version_major": 2,
       "version_minor": 0
      },
      "text/plain": [
       "VBox()"
      ]
     },
     "metadata": {},
     "output_type": "display_data"
    },
    {
     "data": {
      "application/vnd.jupyter.widget-view+json": {
       "model_id": "",
       "version_major": 2,
       "version_minor": 0
      },
      "text/plain": [
       "FloatProgress(value=0.0, bar_style='info', description='Progress:', layout=Layout(height='25px', width='50%'),…"
      ]
     },
     "metadata": {},
     "output_type": "display_data"
    }
   ],
   "source": [
    "#Crédito a vencer até 90 dias - PONDERADO\n",
    "df10 = df10.withColumn(f'{modality}_AVCR_ATE90_RZMO',round((F.col(f'{modality}_AVCR_ATE90_MERC')/F.col(f'{modality}_SALDO_TOTAL_TT_OMNI')).cast(DoubleType()),4))"
   ]
  },
  {
   "cell_type": "code",
   "execution_count": 130,
   "id": "6a7b8c66",
   "metadata": {},
   "outputs": [
    {
     "data": {
      "application/vnd.jupyter.widget-view+json": {
       "model_id": "f16edebebc694865abf6af98024ed836",
       "version_major": 2,
       "version_minor": 0
      },
      "text/plain": [
       "VBox()"
      ]
     },
     "metadata": {},
     "output_type": "display_data"
    },
    {
     "data": {
      "application/vnd.jupyter.widget-view+json": {
       "model_id": "",
       "version_major": 2,
       "version_minor": 0
      },
      "text/plain": [
       "FloatProgress(value=0.0, bar_style='info', description='Progress:', layout=Layout(height='25px', width='50%'),…"
      ]
     },
     "metadata": {},
     "output_type": "display_data"
    }
   ],
   "source": [
    "#Crédito a vencer entre 91 e 180 dias\n",
    "df10 = df10.withColumn(f'{modality}_AVCR_91_180',round((df10.CRED_A_VENCER_DE_91_A_180_TOTAL).cast(DoubleType()),4))"
   ]
  },
  {
   "cell_type": "code",
   "execution_count": 131,
   "id": "071edc01",
   "metadata": {},
   "outputs": [
    {
     "data": {
      "application/vnd.jupyter.widget-view+json": {
       "model_id": "209b7b9d81a140748f4de56dc5d34c61",
       "version_major": 2,
       "version_minor": 0
      },
      "text/plain": [
       "VBox()"
      ]
     },
     "metadata": {},
     "output_type": "display_data"
    },
    {
     "data": {
      "application/vnd.jupyter.widget-view+json": {
       "model_id": "",
       "version_major": 2,
       "version_minor": 0
      },
      "text/plain": [
       "FloatProgress(value=0.0, bar_style='info', description='Progress:', layout=Layout(height='25px', width='50%'),…"
      ]
     },
     "metadata": {},
     "output_type": "display_data"
    }
   ],
   "source": [
    "#Crédito a vencer entre 91 e 180 dias\n",
    "df10 = df10.withColumn(f'{modality}_AVCR_91_180_MERC',round((df10.CRED_A_VENCER_DE_91_A_180_MERCADO).cast(DoubleType()),4))"
   ]
  },
  {
   "cell_type": "code",
   "execution_count": 132,
   "id": "75771266",
   "metadata": {},
   "outputs": [
    {
     "data": {
      "application/vnd.jupyter.widget-view+json": {
       "model_id": "38a4ea9e01864d559ab9f4793703023c",
       "version_major": 2,
       "version_minor": 0
      },
      "text/plain": [
       "VBox()"
      ]
     },
     "metadata": {},
     "output_type": "display_data"
    },
    {
     "data": {
      "application/vnd.jupyter.widget-view+json": {
       "model_id": "",
       "version_major": 2,
       "version_minor": 0
      },
      "text/plain": [
       "FloatProgress(value=0.0, bar_style='info', description='Progress:', layout=Layout(height='25px', width='50%'),…"
      ]
     },
     "metadata": {},
     "output_type": "display_data"
    }
   ],
   "source": [
    "#Crédito a vencer entre 91 e 180 dias - PONDERADO\n",
    "df10 = df10.withColumn(f'{modality}_AVCR_91_180_RZMO',round((F.col(f'{modality}_AVCR_91_180_MERC')/F.col(f'{modality}_SALDO_TOTAL_TT_OMNI')).cast(DoubleType()),4))"
   ]
  },
  {
   "cell_type": "code",
   "execution_count": 133,
   "id": "0f1fa3ad",
   "metadata": {},
   "outputs": [
    {
     "data": {
      "application/vnd.jupyter.widget-view+json": {
       "model_id": "6c7dc23e5b1c44a38e3d2250c2b74b7b",
       "version_major": 2,
       "version_minor": 0
      },
      "text/plain": [
       "VBox()"
      ]
     },
     "metadata": {},
     "output_type": "display_data"
    },
    {
     "data": {
      "application/vnd.jupyter.widget-view+json": {
       "model_id": "",
       "version_major": 2,
       "version_minor": 0
      },
      "text/plain": [
       "FloatProgress(value=0.0, bar_style='info', description='Progress:', layout=Layout(height='25px', width='50%'),…"
      ]
     },
     "metadata": {},
     "output_type": "display_data"
    }
   ],
   "source": [
    "#Crédito a vencer entre 181 e 360 dias\n",
    "df10 = df10.withColumn(f'{modality}_AVCR_181_360',round((df10.CRED_A_VENCER_DE_181_A_360_TOTAL).cast(DoubleType()),4))"
   ]
  },
  {
   "cell_type": "code",
   "execution_count": 134,
   "id": "0709b1f3",
   "metadata": {},
   "outputs": [
    {
     "data": {
      "application/vnd.jupyter.widget-view+json": {
       "model_id": "a6769efb620e4dda8fd8ec28e331bbfe",
       "version_major": 2,
       "version_minor": 0
      },
      "text/plain": [
       "VBox()"
      ]
     },
     "metadata": {},
     "output_type": "display_data"
    },
    {
     "data": {
      "application/vnd.jupyter.widget-view+json": {
       "model_id": "",
       "version_major": 2,
       "version_minor": 0
      },
      "text/plain": [
       "FloatProgress(value=0.0, bar_style='info', description='Progress:', layout=Layout(height='25px', width='50%'),…"
      ]
     },
     "metadata": {},
     "output_type": "display_data"
    }
   ],
   "source": [
    "#Crédito a vencer entre 181 e 360 dias\n",
    "df10 = df10.withColumn(f'{modality}_AVCR_181_360_MERC',round((df10.CRED_A_VENCER_DE_181_A_360_MERCADO).cast(DoubleType()),4))"
   ]
  },
  {
   "cell_type": "code",
   "execution_count": 135,
   "id": "05ab9928",
   "metadata": {},
   "outputs": [
    {
     "data": {
      "application/vnd.jupyter.widget-view+json": {
       "model_id": "88c4a3c153334de7acb268c8ee419f95",
       "version_major": 2,
       "version_minor": 0
      },
      "text/plain": [
       "VBox()"
      ]
     },
     "metadata": {},
     "output_type": "display_data"
    },
    {
     "data": {
      "application/vnd.jupyter.widget-view+json": {
       "model_id": "",
       "version_major": 2,
       "version_minor": 0
      },
      "text/plain": [
       "FloatProgress(value=0.0, bar_style='info', description='Progress:', layout=Layout(height='25px', width='50%'),…"
      ]
     },
     "metadata": {},
     "output_type": "display_data"
    }
   ],
   "source": [
    "#Crédito a vencer entre 181 e 360 dias - PONDERADO\n",
    "df10 = df10.withColumn(f'{modality}_AVCR_181_360_RZMO',round((F.col(f'{modality}_AVCR_181_360_MERC')/F.col(f'{modality}_SALDO_TOTAL_TT_OMNI')).cast(DoubleType()),4))"
   ]
  },
  {
   "cell_type": "code",
   "execution_count": 136,
   "id": "8e75a695",
   "metadata": {},
   "outputs": [
    {
     "data": {
      "application/vnd.jupyter.widget-view+json": {
       "model_id": "ae9a0ad9ff9443659f8a59683b70272f",
       "version_major": 2,
       "version_minor": 0
      },
      "text/plain": [
       "VBox()"
      ]
     },
     "metadata": {},
     "output_type": "display_data"
    },
    {
     "data": {
      "application/vnd.jupyter.widget-view+json": {
       "model_id": "",
       "version_major": 2,
       "version_minor": 0
      },
      "text/plain": [
       "FloatProgress(value=0.0, bar_style='info', description='Progress:', layout=Layout(height='25px', width='50%'),…"
      ]
     },
     "metadata": {},
     "output_type": "display_data"
    }
   ],
   "source": [
    "#Crédito a vencer entre 361 e 720 dias\n",
    "df10 = df10.withColumn(f'{modality}_AVCR_361_720',round((df10.CRED_A_VENCER_DE_361_A_720_TOTAL).cast(DoubleType()),4))"
   ]
  },
  {
   "cell_type": "code",
   "execution_count": 137,
   "id": "f498be02",
   "metadata": {},
   "outputs": [
    {
     "data": {
      "application/vnd.jupyter.widget-view+json": {
       "model_id": "3b8c18c7572646009eb1ff474a17b025",
       "version_major": 2,
       "version_minor": 0
      },
      "text/plain": [
       "VBox()"
      ]
     },
     "metadata": {},
     "output_type": "display_data"
    },
    {
     "data": {
      "application/vnd.jupyter.widget-view+json": {
       "model_id": "",
       "version_major": 2,
       "version_minor": 0
      },
      "text/plain": [
       "FloatProgress(value=0.0, bar_style='info', description='Progress:', layout=Layout(height='25px', width='50%'),…"
      ]
     },
     "metadata": {},
     "output_type": "display_data"
    }
   ],
   "source": [
    "#Crédito a vencer entre 361 e 720 dias\n",
    "df10 = df10.withColumn(f'{modality}_AVCR_361_720_MERC',round((df10.CRED_A_VENCER_DE_361_A_720_MERCADO).cast(DoubleType()),4))"
   ]
  },
  {
   "cell_type": "code",
   "execution_count": 138,
   "id": "1b41011c",
   "metadata": {},
   "outputs": [
    {
     "data": {
      "application/vnd.jupyter.widget-view+json": {
       "model_id": "03914343188c4787b4e2d526e07410aa",
       "version_major": 2,
       "version_minor": 0
      },
      "text/plain": [
       "VBox()"
      ]
     },
     "metadata": {},
     "output_type": "display_data"
    },
    {
     "data": {
      "application/vnd.jupyter.widget-view+json": {
       "model_id": "",
       "version_major": 2,
       "version_minor": 0
      },
      "text/plain": [
       "FloatProgress(value=0.0, bar_style='info', description='Progress:', layout=Layout(height='25px', width='50%'),…"
      ]
     },
     "metadata": {},
     "output_type": "display_data"
    }
   ],
   "source": [
    "#Crédito a vencer entre 361 e 720 dias - PONDERADO\n",
    "df10 = df10.withColumn(f'{modality}_AVCR_361_720_RZMO',round((F.col(f'{modality}_AVCR_361_720_MERC')/F.col(f'{modality}_SALDO_TOTAL_TT_OMNI')).cast(DoubleType()),2))"
   ]
  },
  {
   "cell_type": "code",
   "execution_count": 139,
   "id": "2d2d5449",
   "metadata": {},
   "outputs": [
    {
     "data": {
      "application/vnd.jupyter.widget-view+json": {
       "model_id": "32f8672d15c549cfb29d265a9ba5f146",
       "version_major": 2,
       "version_minor": 0
      },
      "text/plain": [
       "VBox()"
      ]
     },
     "metadata": {},
     "output_type": "display_data"
    },
    {
     "data": {
      "application/vnd.jupyter.widget-view+json": {
       "model_id": "",
       "version_major": 2,
       "version_minor": 0
      },
      "text/plain": [
       "FloatProgress(value=0.0, bar_style='info', description='Progress:', layout=Layout(height='25px', width='50%'),…"
      ]
     },
     "metadata": {},
     "output_type": "display_data"
    }
   ],
   "source": [
    "#Crédito a vencer entre 721 e 1080 dias\n",
    "df10 = df10.withColumn(f'{modality}_AVCR_721_1080',round((df10.CRED_A_VENCER_DE_721_A_1080_TOTAL).cast(DoubleType()),4))"
   ]
  },
  {
   "cell_type": "code",
   "execution_count": 140,
   "id": "b4fe5421",
   "metadata": {},
   "outputs": [
    {
     "data": {
      "application/vnd.jupyter.widget-view+json": {
       "model_id": "02362cc3a4c44e6ca17a692515c89dba",
       "version_major": 2,
       "version_minor": 0
      },
      "text/plain": [
       "VBox()"
      ]
     },
     "metadata": {},
     "output_type": "display_data"
    },
    {
     "data": {
      "application/vnd.jupyter.widget-view+json": {
       "model_id": "",
       "version_major": 2,
       "version_minor": 0
      },
      "text/plain": [
       "FloatProgress(value=0.0, bar_style='info', description='Progress:', layout=Layout(height='25px', width='50%'),…"
      ]
     },
     "metadata": {},
     "output_type": "display_data"
    }
   ],
   "source": [
    "#Crédito a vencer entre 721 e 1080 dias\n",
    "df10 = df10.withColumn(f'{modality}_AVCR_721_1080_MERC',round((df10.CRED_A_VENCER_DE_721_A_1080_MERCADO).cast(DoubleType()),4))"
   ]
  },
  {
   "cell_type": "code",
   "execution_count": 141,
   "id": "df516705",
   "metadata": {},
   "outputs": [
    {
     "data": {
      "application/vnd.jupyter.widget-view+json": {
       "model_id": "74bb51c8c7f74d788ac7af3a2bed80ce",
       "version_major": 2,
       "version_minor": 0
      },
      "text/plain": [
       "VBox()"
      ]
     },
     "metadata": {},
     "output_type": "display_data"
    },
    {
     "data": {
      "application/vnd.jupyter.widget-view+json": {
       "model_id": "",
       "version_major": 2,
       "version_minor": 0
      },
      "text/plain": [
       "FloatProgress(value=0.0, bar_style='info', description='Progress:', layout=Layout(height='25px', width='50%'),…"
      ]
     },
     "metadata": {},
     "output_type": "display_data"
    }
   ],
   "source": [
    "#Crédito a vencer entre 721 e 1080 dias - PONDERADO\n",
    "df10 = df10.withColumn(f'{modality}_AVCR_721_1080_RZMO',round((F.col(f'{modality}_AVCR_721_1080_MERC')/F.col(f'{modality}_SALDO_TOTAL_TT_OMNI')).cast(DoubleType()),4))"
   ]
  },
  {
   "cell_type": "code",
   "execution_count": 142,
   "id": "5b760b92",
   "metadata": {},
   "outputs": [
    {
     "data": {
      "application/vnd.jupyter.widget-view+json": {
       "model_id": "f2ae4ebda93e47a38f85764ab4baa124",
       "version_major": 2,
       "version_minor": 0
      },
      "text/plain": [
       "VBox()"
      ]
     },
     "metadata": {},
     "output_type": "display_data"
    },
    {
     "data": {
      "application/vnd.jupyter.widget-view+json": {
       "model_id": "",
       "version_major": 2,
       "version_minor": 0
      },
      "text/plain": [
       "FloatProgress(value=0.0, bar_style='info', description='Progress:', layout=Layout(height='25px', width='50%'),…"
      ]
     },
     "metadata": {},
     "output_type": "display_data"
    }
   ],
   "source": [
    "#Crédito a vencer entre 1081 e 1800 dias\n",
    "df10 = df10.withColumn(f'{modality}_AVCR_1081_1800',round((reduce(add, [F.col(x) for x in lista_1080_1800])).cast(DoubleType()),4))"
   ]
  },
  {
   "cell_type": "code",
   "execution_count": 143,
   "id": "d35c318d",
   "metadata": {},
   "outputs": [
    {
     "data": {
      "application/vnd.jupyter.widget-view+json": {
       "model_id": "021f6ac9d4cb49e09f626217e2a919a0",
       "version_major": 2,
       "version_minor": 0
      },
      "text/plain": [
       "VBox()"
      ]
     },
     "metadata": {},
     "output_type": "display_data"
    },
    {
     "data": {
      "application/vnd.jupyter.widget-view+json": {
       "model_id": "",
       "version_major": 2,
       "version_minor": 0
      },
      "text/plain": [
       "FloatProgress(value=0.0, bar_style='info', description='Progress:', layout=Layout(height='25px', width='50%'),…"
      ]
     },
     "metadata": {},
     "output_type": "display_data"
    }
   ],
   "source": [
    "#Crédito a vencer entre 1081 e 1800 dias\n",
    "df10 = df10.withColumn(f'{modality}_AVCR_1081_1800_MERC',round((reduce(add, [F.col(x) for x in lista_1080_1800_mercado])).cast(DoubleType()),4))"
   ]
  },
  {
   "cell_type": "code",
   "execution_count": 144,
   "id": "69700a47",
   "metadata": {},
   "outputs": [
    {
     "data": {
      "application/vnd.jupyter.widget-view+json": {
       "model_id": "b8c67834885d47569499dc834da829f5",
       "version_major": 2,
       "version_minor": 0
      },
      "text/plain": [
       "VBox()"
      ]
     },
     "metadata": {},
     "output_type": "display_data"
    },
    {
     "data": {
      "application/vnd.jupyter.widget-view+json": {
       "model_id": "",
       "version_major": 2,
       "version_minor": 0
      },
      "text/plain": [
       "FloatProgress(value=0.0, bar_style='info', description='Progress:', layout=Layout(height='25px', width='50%'),…"
      ]
     },
     "metadata": {},
     "output_type": "display_data"
    }
   ],
   "source": [
    "#Crédito a vencer entre 1081 e 1800 dias - PONDERADO\n",
    "df10 = df10.withColumn(f'{modality}_AVCR_1081_1800_RZMO',round(((F.col(f'{modality}_AVCR_1081_1800_MERC'))/F.col(f'{modality}_SALDO_TOTAL_TT_OMNI')).cast(DoubleType()),4))"
   ]
  },
  {
   "cell_type": "code",
   "execution_count": 145,
   "id": "492d737a",
   "metadata": {},
   "outputs": [
    {
     "data": {
      "application/vnd.jupyter.widget-view+json": {
       "model_id": "9b6e52b23b5249438bfb094c5f3d9375",
       "version_major": 2,
       "version_minor": 0
      },
      "text/plain": [
       "VBox()"
      ]
     },
     "metadata": {},
     "output_type": "display_data"
    },
    {
     "data": {
      "application/vnd.jupyter.widget-view+json": {
       "model_id": "",
       "version_major": 2,
       "version_minor": 0
      },
      "text/plain": [
       "FloatProgress(value=0.0, bar_style='info', description='Progress:', layout=Layout(height='25px', width='50%'),…"
      ]
     },
     "metadata": {},
     "output_type": "display_data"
    }
   ],
   "source": [
    "#Crédito a vencer acima de 1800\n",
    "df10 = df10.withColumn(f'{modality}_AVCR_ACI1800',round((reduce(add, [F.col(x) for x in lista_acima_1800])).cast(DoubleType()),4))"
   ]
  },
  {
   "cell_type": "code",
   "execution_count": 146,
   "id": "ef7b7591",
   "metadata": {},
   "outputs": [
    {
     "data": {
      "application/vnd.jupyter.widget-view+json": {
       "model_id": "b519f2d290aa46d8a0cde2c20abd4367",
       "version_major": 2,
       "version_minor": 0
      },
      "text/plain": [
       "VBox()"
      ]
     },
     "metadata": {},
     "output_type": "display_data"
    },
    {
     "data": {
      "application/vnd.jupyter.widget-view+json": {
       "model_id": "",
       "version_major": 2,
       "version_minor": 0
      },
      "text/plain": [
       "FloatProgress(value=0.0, bar_style='info', description='Progress:', layout=Layout(height='25px', width='50%'),…"
      ]
     },
     "metadata": {},
     "output_type": "display_data"
    }
   ],
   "source": [
    "#Crédito a vencer acima de 1800\n",
    "df10 = df10.withColumn(f'{modality}_AVCR_ACI1800_MERC',round((reduce(add, [F.col(x) for x in lista_acima_1800_mercado])).cast(DoubleType()),4))"
   ]
  },
  {
   "cell_type": "code",
   "execution_count": 147,
   "id": "7108bbfe",
   "metadata": {},
   "outputs": [
    {
     "data": {
      "application/vnd.jupyter.widget-view+json": {
       "model_id": "e4f4e4f7a3f64645a52b642779a3d2af",
       "version_major": 2,
       "version_minor": 0
      },
      "text/plain": [
       "VBox()"
      ]
     },
     "metadata": {},
     "output_type": "display_data"
    },
    {
     "data": {
      "application/vnd.jupyter.widget-view+json": {
       "model_id": "",
       "version_major": 2,
       "version_minor": 0
      },
      "text/plain": [
       "FloatProgress(value=0.0, bar_style='info', description='Progress:', layout=Layout(height='25px', width='50%'),…"
      ]
     },
     "metadata": {},
     "output_type": "display_data"
    }
   ],
   "source": [
    "#Crédito a vencer acima de 1800 - PONDERADO\n",
    "df10 = df10.withColumn(f'{modality}_AVCR_ACI1800_RZMO',round((F.col(f'{modality}_AVCR_ACI1800_MERC')/F.col(f'{modality}_SALDO_TOTAL_TT_OMNI')).cast(DoubleType()),4))"
   ]
  },
  {
   "cell_type": "markdown",
   "id": "9f906d62",
   "metadata": {},
   "source": [
    "RZ_VCD_ATE30_POR_VCD & RZ_VCD_ATE30_POR_VCD_MERC Á RZ_VCD_181_360_POR_VCD & RZ_VCD_181_360_POR_VCD_MERC"
   ]
  },
  {
   "cell_type": "code",
   "execution_count": 148,
   "id": "a849f505",
   "metadata": {},
   "outputs": [
    {
     "data": {
      "application/vnd.jupyter.widget-view+json": {
       "model_id": "0be09a0d4c8f4434a1c8a24af4dcbabb",
       "version_major": 2,
       "version_minor": 0
      },
      "text/plain": [
       "VBox()"
      ]
     },
     "metadata": {},
     "output_type": "display_data"
    },
    {
     "data": {
      "application/vnd.jupyter.widget-view+json": {
       "model_id": "",
       "version_major": 2,
       "version_minor": 0
      },
      "text/plain": [
       "FloatProgress(value=0.0, bar_style='info', description='Progress:', layout=Layout(height='25px', width='50%'),…"
      ]
     },
     "metadata": {},
     "output_type": "display_data"
    }
   ],
   "source": [
    "lista_vencido_ate_30 = ['CRED_VENCIDOS_DE_1_A_14_TOTAL','CRED_VENCIDOS_DE_15_A_30_TOTAL']\n",
    "\n",
    "lista_vencido_ate_30_mercado = ['CRED_VENCIDOS_DE_1_A_14_MERCADO','CRED_VENCIDOS_DE_15_A_30_MERCADO']"
   ]
  },
  {
   "cell_type": "code",
   "execution_count": 149,
   "id": "f21a219a",
   "metadata": {},
   "outputs": [
    {
     "data": {
      "application/vnd.jupyter.widget-view+json": {
       "model_id": "cdb7671c837e485f9d4a3124040eaade",
       "version_major": 2,
       "version_minor": 0
      },
      "text/plain": [
       "VBox()"
      ]
     },
     "metadata": {},
     "output_type": "display_data"
    },
    {
     "data": {
      "application/vnd.jupyter.widget-view+json": {
       "model_id": "",
       "version_major": 2,
       "version_minor": 0
      },
      "text/plain": [
       "FloatProgress(value=0.0, bar_style='info', description='Progress:', layout=Layout(height='25px', width='50%'),…"
      ]
     },
     "metadata": {},
     "output_type": "display_data"
    }
   ],
   "source": [
    "#Crédito vencido até 30 dias/Total crédito vencido\n",
    "df10 = df10.withColumn(f'{modality}_RZ_VCD_ATE30_POR_VCD',round(((reduce(add, [F.col(x) for x in lista_vencido_ate_30]))/F.col(f'{modality}_VCD')).cast(DoubleType()),4))"
   ]
  },
  {
   "cell_type": "code",
   "execution_count": 150,
   "id": "5f1e3b3b",
   "metadata": {},
   "outputs": [
    {
     "data": {
      "application/vnd.jupyter.widget-view+json": {
       "model_id": "82ecef4313dc4e71ab9ae91b30e99ee9",
       "version_major": 2,
       "version_minor": 0
      },
      "text/plain": [
       "VBox()"
      ]
     },
     "metadata": {},
     "output_type": "display_data"
    },
    {
     "data": {
      "application/vnd.jupyter.widget-view+json": {
       "model_id": "",
       "version_major": 2,
       "version_minor": 0
      },
      "text/plain": [
       "FloatProgress(value=0.0, bar_style='info', description='Progress:', layout=Layout(height='25px', width='50%'),…"
      ]
     },
     "metadata": {},
     "output_type": "display_data"
    }
   ],
   "source": [
    "#Crédito vencido até 30 dias/Total crédito vencido\n",
    "df10 = df10.withColumn(f'{modality}_RZ_VCD_ATE30_POR_VCD_MERC',round(((reduce(add, [F.col(x) for x in lista_vencido_ate_30_mercado]))/F.col(f'{modality}_VCD_MERC')).cast(DoubleType()),4))"
   ]
  },
  {
   "cell_type": "code",
   "execution_count": 151,
   "id": "cfc417d9",
   "metadata": {},
   "outputs": [
    {
     "data": {
      "application/vnd.jupyter.widget-view+json": {
       "model_id": "e96ff44d89494fb78e769fa8120142a5",
       "version_major": 2,
       "version_minor": 0
      },
      "text/plain": [
       "VBox()"
      ]
     },
     "metadata": {},
     "output_type": "display_data"
    },
    {
     "data": {
      "application/vnd.jupyter.widget-view+json": {
       "model_id": "",
       "version_major": 2,
       "version_minor": 0
      },
      "text/plain": [
       "FloatProgress(value=0.0, bar_style='info', description='Progress:', layout=Layout(height='25px', width='50%'),…"
      ]
     },
     "metadata": {},
     "output_type": "display_data"
    }
   ],
   "source": [
    "#Crédito vencido entre 31 e 60 dias/Total crédito vencido\n",
    "df10 = df10.withColumn(f'{modality}_RZ_VCD_31_60_POR_VCD',round((df10.CRED_VENCIDOS_DE_31_A_60_TOTAL/F.col(f'{modality}_VCD')).cast(DoubleType()),4))"
   ]
  },
  {
   "cell_type": "code",
   "execution_count": 152,
   "id": "0bba3387",
   "metadata": {},
   "outputs": [
    {
     "data": {
      "application/vnd.jupyter.widget-view+json": {
       "model_id": "32b184f94e87436abe1165d715bdb4ed",
       "version_major": 2,
       "version_minor": 0
      },
      "text/plain": [
       "VBox()"
      ]
     },
     "metadata": {},
     "output_type": "display_data"
    },
    {
     "data": {
      "application/vnd.jupyter.widget-view+json": {
       "model_id": "",
       "version_major": 2,
       "version_minor": 0
      },
      "text/plain": [
       "FloatProgress(value=0.0, bar_style='info', description='Progress:', layout=Layout(height='25px', width='50%'),…"
      ]
     },
     "metadata": {},
     "output_type": "display_data"
    }
   ],
   "source": [
    "#Crédito vencido entre 31 e 60 dias/Total crédito vencido\n",
    "df10 = df10.withColumn(f'{modality}_RZ_VCD_31_60_POR_VCD_MERC',round((df10.CRED_VENCIDOS_DE_31_A_60_MERCADO/F.col(f'{modality}_VCD_MERC')).cast(DoubleType()),4))"
   ]
  },
  {
   "cell_type": "code",
   "execution_count": 153,
   "id": "eb53a38e",
   "metadata": {},
   "outputs": [
    {
     "data": {
      "application/vnd.jupyter.widget-view+json": {
       "model_id": "6b698182f09044819a9a459f80e275d5",
       "version_major": 2,
       "version_minor": 0
      },
      "text/plain": [
       "VBox()"
      ]
     },
     "metadata": {},
     "output_type": "display_data"
    },
    {
     "data": {
      "application/vnd.jupyter.widget-view+json": {
       "model_id": "",
       "version_major": 2,
       "version_minor": 0
      },
      "text/plain": [
       "FloatProgress(value=0.0, bar_style='info', description='Progress:', layout=Layout(height='25px', width='50%'),…"
      ]
     },
     "metadata": {},
     "output_type": "display_data"
    }
   ],
   "source": [
    "#Crédito vencido entre 61 e 90 dias/Total crédito vencido\n",
    "df10 = df10.withColumn(f'{modality}_RZ_VCD_61_90_POR_VCD',round((df10.CRED_VENCIDOS_DE_61_A_90_TOTAL/F.col(f'{modality}_VCD')).cast(DoubleType()),4))"
   ]
  },
  {
   "cell_type": "code",
   "execution_count": 154,
   "id": "3c7b026c",
   "metadata": {},
   "outputs": [
    {
     "data": {
      "application/vnd.jupyter.widget-view+json": {
       "model_id": "d1d7c361806347238a9ba1d3cec76901",
       "version_major": 2,
       "version_minor": 0
      },
      "text/plain": [
       "VBox()"
      ]
     },
     "metadata": {},
     "output_type": "display_data"
    },
    {
     "data": {
      "application/vnd.jupyter.widget-view+json": {
       "model_id": "",
       "version_major": 2,
       "version_minor": 0
      },
      "text/plain": [
       "FloatProgress(value=0.0, bar_style='info', description='Progress:', layout=Layout(height='25px', width='50%'),…"
      ]
     },
     "metadata": {},
     "output_type": "display_data"
    }
   ],
   "source": [
    "#Crédito vencido entre 61 e 90 dias/Total crédito vencido\n",
    "df10 = df10.withColumn(f'{modality}_RZ_VCD_61_90_POR_VCD_MERC',round((df10.CRED_VENCIDOS_DE_61_A_90_MERCADO/F.col(f'{modality}_VCD_MERC')).cast(DoubleType()),4))"
   ]
  },
  {
   "cell_type": "code",
   "execution_count": 155,
   "id": "bc06e769",
   "metadata": {},
   "outputs": [
    {
     "data": {
      "application/vnd.jupyter.widget-view+json": {
       "model_id": "ba81310fe7614bc8bb3cb2255ecb65a3",
       "version_major": 2,
       "version_minor": 0
      },
      "text/plain": [
       "VBox()"
      ]
     },
     "metadata": {},
     "output_type": "display_data"
    },
    {
     "data": {
      "application/vnd.jupyter.widget-view+json": {
       "model_id": "",
       "version_major": 2,
       "version_minor": 0
      },
      "text/plain": [
       "FloatProgress(value=0.0, bar_style='info', description='Progress:', layout=Layout(height='25px', width='50%'),…"
      ]
     },
     "metadata": {},
     "output_type": "display_data"
    }
   ],
   "source": [
    "lista_vencido_91_ate_180 = ['CRED_VENCIDOS_DE_91_A_120_TOTAL','CRED_VENCIDOS_DE_121_A_150_TOTAL','CRED_VENCIDOS_DE_151_A_180_TOTAL']\n",
    "\n",
    "lista_vencido_91_ate_180_mercado = ['CRED_VENCIDOS_DE_91_A_120_MERCADO','CRED_VENCIDOS_DE_121_A_150_MERCADO','CRED_VENCIDOS_DE_151_A_180_MERCADO']"
   ]
  },
  {
   "cell_type": "code",
   "execution_count": 156,
   "id": "8f554f83",
   "metadata": {},
   "outputs": [
    {
     "data": {
      "application/vnd.jupyter.widget-view+json": {
       "model_id": "131b04312fb2496c9790cea69b53c80e",
       "version_major": 2,
       "version_minor": 0
      },
      "text/plain": [
       "VBox()"
      ]
     },
     "metadata": {},
     "output_type": "display_data"
    },
    {
     "data": {
      "application/vnd.jupyter.widget-view+json": {
       "model_id": "",
       "version_major": 2,
       "version_minor": 0
      },
      "text/plain": [
       "FloatProgress(value=0.0, bar_style='info', description='Progress:', layout=Layout(height='25px', width='50%'),…"
      ]
     },
     "metadata": {},
     "output_type": "display_data"
    }
   ],
   "source": [
    "#Crédito vencido entre 91 e 180 dias/Total crédito vencido\n",
    "df10 = df10.withColumn(f'{modality}_RZ_VCD_91_180_POR_VCD',round(((reduce(add, [F.col(x) for x in lista_vencido_91_ate_180]))/F.col(f'{modality}_VCD')).cast(DoubleType()),4))"
   ]
  },
  {
   "cell_type": "code",
   "execution_count": 157,
   "id": "c9a8e13b",
   "metadata": {},
   "outputs": [
    {
     "data": {
      "application/vnd.jupyter.widget-view+json": {
       "model_id": "0ae5dfcc1bfe4a1f9f2e63a0afbd7e8e",
       "version_major": 2,
       "version_minor": 0
      },
      "text/plain": [
       "VBox()"
      ]
     },
     "metadata": {},
     "output_type": "display_data"
    },
    {
     "data": {
      "application/vnd.jupyter.widget-view+json": {
       "model_id": "",
       "version_major": 2,
       "version_minor": 0
      },
      "text/plain": [
       "FloatProgress(value=0.0, bar_style='info', description='Progress:', layout=Layout(height='25px', width='50%'),…"
      ]
     },
     "metadata": {},
     "output_type": "display_data"
    }
   ],
   "source": [
    "#Crédito vencido entre 91 e 180 dias/Total crédito vencido\n",
    "df10 = df10.withColumn(f'{modality}_RZ_VCD_91_180_POR_VCD_MERC',round(((reduce(add, [F.col(x) for x in lista_vencido_91_ate_180_mercado]))/F.col(f'{modality}_VCD_MERC')).cast(DoubleType()),4))"
   ]
  },
  {
   "cell_type": "code",
   "execution_count": 158,
   "id": "95674387",
   "metadata": {},
   "outputs": [
    {
     "data": {
      "application/vnd.jupyter.widget-view+json": {
       "model_id": "802386655a1043dfa7f29678a8800ca2",
       "version_major": 2,
       "version_minor": 0
      },
      "text/plain": [
       "VBox()"
      ]
     },
     "metadata": {},
     "output_type": "display_data"
    },
    {
     "data": {
      "application/vnd.jupyter.widget-view+json": {
       "model_id": "",
       "version_major": 2,
       "version_minor": 0
      },
      "text/plain": [
       "FloatProgress(value=0.0, bar_style='info', description='Progress:', layout=Layout(height='25px', width='50%'),…"
      ]
     },
     "metadata": {},
     "output_type": "display_data"
    }
   ],
   "source": [
    "lista_vencido_181_ate_360 = ['CRED_VENCIDOS_DE_181_A_240_TOTAL','CRED_VENCIDOS_DE_241_A_300_TOTAL','CRED_VENCIDOS_DE_301_A_360_TOTAL']\n",
    "\n",
    "lista_vencido_181_ate_360_mercado = ['CRED_VENCIDOS_DE_181_A_240_MERCADO','CRED_VENCIDOS_DE_241_A_300_MERCADO','CRED_VENCIDOS_DE_301_A_360_MERCADO']"
   ]
  },
  {
   "cell_type": "code",
   "execution_count": 159,
   "id": "5fb26980",
   "metadata": {},
   "outputs": [
    {
     "data": {
      "application/vnd.jupyter.widget-view+json": {
       "model_id": "75b3d0721b3745d8b5e52a5152f39503",
       "version_major": 2,
       "version_minor": 0
      },
      "text/plain": [
       "VBox()"
      ]
     },
     "metadata": {},
     "output_type": "display_data"
    },
    {
     "data": {
      "application/vnd.jupyter.widget-view+json": {
       "model_id": "",
       "version_major": 2,
       "version_minor": 0
      },
      "text/plain": [
       "FloatProgress(value=0.0, bar_style='info', description='Progress:', layout=Layout(height='25px', width='50%'),…"
      ]
     },
     "metadata": {},
     "output_type": "display_data"
    }
   ],
   "source": [
    "#Crédito vencido entre 181 e 360 dias/Total crédito vencido\n",
    "df10 = df10.withColumn(f'{modality}_RZ_VCD_181_360_POR_VCD',round(((reduce(add, [F.col(x) for x in lista_vencido_181_ate_360]))/F.col(f'{modality}_VCD')).cast(DoubleType()),4))"
   ]
  },
  {
   "cell_type": "code",
   "execution_count": 160,
   "id": "5d965d64",
   "metadata": {},
   "outputs": [
    {
     "data": {
      "application/vnd.jupyter.widget-view+json": {
       "model_id": "98739838f2674aa3bb98239e2abb1a8a",
       "version_major": 2,
       "version_minor": 0
      },
      "text/plain": [
       "VBox()"
      ]
     },
     "metadata": {},
     "output_type": "display_data"
    },
    {
     "data": {
      "application/vnd.jupyter.widget-view+json": {
       "model_id": "",
       "version_major": 2,
       "version_minor": 0
      },
      "text/plain": [
       "FloatProgress(value=0.0, bar_style='info', description='Progress:', layout=Layout(height='25px', width='50%'),…"
      ]
     },
     "metadata": {},
     "output_type": "display_data"
    }
   ],
   "source": [
    "#Crédito vencido entre 181 e 360 dias/Total crédito vencido\n",
    "df10 = df10.withColumn(f'{modality}_RZ_VCD_181_360_POR_VCD_MERC',round(((reduce(add, [F.col(x) for x in lista_vencido_181_ate_360_mercado]))/F.col(f'{modality}_VCD_MERC')).cast(DoubleType()),4))"
   ]
  },
  {
   "cell_type": "markdown",
   "id": "c0515a48",
   "metadata": {},
   "source": [
    "VCD_ATE30 & VCD_ATE30_MERC & VCD_ATE30_RZMO Á  VCD_181_360 & VCD_181_360_MERC & VCD_181_360_RZMO"
   ]
  },
  {
   "cell_type": "code",
   "execution_count": 161,
   "id": "04fbb427",
   "metadata": {},
   "outputs": [
    {
     "data": {
      "application/vnd.jupyter.widget-view+json": {
       "model_id": "f32ca7a2fdd447038481b9e3af278f3a",
       "version_major": 2,
       "version_minor": 0
      },
      "text/plain": [
       "VBox()"
      ]
     },
     "metadata": {},
     "output_type": "display_data"
    },
    {
     "data": {
      "application/vnd.jupyter.widget-view+json": {
       "model_id": "",
       "version_major": 2,
       "version_minor": 0
      },
      "text/plain": [
       "FloatProgress(value=0.0, bar_style='info', description='Progress:', layout=Layout(height='25px', width='50%'),…"
      ]
     },
     "metadata": {},
     "output_type": "display_data"
    }
   ],
   "source": [
    "#Crédito vencido até 30 dias\n",
    "df10 = df10.withColumn(f'{modality}_VCD_ATE30',round((reduce(add, [F.col(x) for x in lista_vencido_ate_30])).cast(DoubleType()),4))"
   ]
  },
  {
   "cell_type": "code",
   "execution_count": 162,
   "id": "c3a9ffb6",
   "metadata": {},
   "outputs": [
    {
     "data": {
      "application/vnd.jupyter.widget-view+json": {
       "model_id": "3cda839165c2407e9ecf987a364a8f97",
       "version_major": 2,
       "version_minor": 0
      },
      "text/plain": [
       "VBox()"
      ]
     },
     "metadata": {},
     "output_type": "display_data"
    },
    {
     "data": {
      "application/vnd.jupyter.widget-view+json": {
       "model_id": "",
       "version_major": 2,
       "version_minor": 0
      },
      "text/plain": [
       "FloatProgress(value=0.0, bar_style='info', description='Progress:', layout=Layout(height='25px', width='50%'),…"
      ]
     },
     "metadata": {},
     "output_type": "display_data"
    }
   ],
   "source": [
    "#Crédito vencido até 30 dias\n",
    "df10 = df10.withColumn(f'{modality}_VCD_ATE30_MERC',round((reduce(add, [F.col(x) for x in lista_vencido_ate_30_mercado])).cast(DoubleType()),4))"
   ]
  },
  {
   "cell_type": "code",
   "execution_count": 163,
   "id": "a384866c",
   "metadata": {},
   "outputs": [
    {
     "data": {
      "application/vnd.jupyter.widget-view+json": {
       "model_id": "d24addd3f0a34f74ad4fd5ae69e35b9b",
       "version_major": 2,
       "version_minor": 0
      },
      "text/plain": [
       "VBox()"
      ]
     },
     "metadata": {},
     "output_type": "display_data"
    },
    {
     "data": {
      "application/vnd.jupyter.widget-view+json": {
       "model_id": "",
       "version_major": 2,
       "version_minor": 0
      },
      "text/plain": [
       "FloatProgress(value=0.0, bar_style='info', description='Progress:', layout=Layout(height='25px', width='50%'),…"
      ]
     },
     "metadata": {},
     "output_type": "display_data"
    }
   ],
   "source": [
    "#Crédito vencido até 30 dias - PONDERADO\n",
    "df10 = df10.withColumn(f'{modality}_VCD_ATE30_RZMO',round((F.col(f'{modality}_VCD_ATE30_MERC')/F.col(f'{modality}_SALDO_TOTAL_TT_OMNI')).cast(DoubleType()),4))"
   ]
  },
  {
   "cell_type": "code",
   "execution_count": 164,
   "id": "7ca7917a",
   "metadata": {},
   "outputs": [
    {
     "data": {
      "application/vnd.jupyter.widget-view+json": {
       "model_id": "163293990c304c35b8f8d63560832324",
       "version_major": 2,
       "version_minor": 0
      },
      "text/plain": [
       "VBox()"
      ]
     },
     "metadata": {},
     "output_type": "display_data"
    },
    {
     "data": {
      "application/vnd.jupyter.widget-view+json": {
       "model_id": "",
       "version_major": 2,
       "version_minor": 0
      },
      "text/plain": [
       "FloatProgress(value=0.0, bar_style='info', description='Progress:', layout=Layout(height='25px', width='50%'),…"
      ]
     },
     "metadata": {},
     "output_type": "display_data"
    }
   ],
   "source": [
    "#Crédito vencido entre 31 e 60 dias\n",
    "df10 = df10.withColumn(f'{modality}_VCD_31_60',round((df10.CRED_VENCIDOS_DE_31_A_60_TOTAL).cast(DoubleType()),4))"
   ]
  },
  {
   "cell_type": "code",
   "execution_count": 165,
   "id": "319c4dda",
   "metadata": {},
   "outputs": [
    {
     "data": {
      "application/vnd.jupyter.widget-view+json": {
       "model_id": "01e8c46ff5ce4a549b4dd87d0c9acfab",
       "version_major": 2,
       "version_minor": 0
      },
      "text/plain": [
       "VBox()"
      ]
     },
     "metadata": {},
     "output_type": "display_data"
    },
    {
     "data": {
      "application/vnd.jupyter.widget-view+json": {
       "model_id": "",
       "version_major": 2,
       "version_minor": 0
      },
      "text/plain": [
       "FloatProgress(value=0.0, bar_style='info', description='Progress:', layout=Layout(height='25px', width='50%'),…"
      ]
     },
     "metadata": {},
     "output_type": "display_data"
    }
   ],
   "source": [
    "#Crédito vencido entre 31 e 60 dias\n",
    "df10 = df10.withColumn(f'{modality}_VCD_31_60_MERC',round((df10.CRED_VENCIDOS_DE_31_A_60_MERCADO).cast(DoubleType()),4))"
   ]
  },
  {
   "cell_type": "code",
   "execution_count": 166,
   "id": "00caf446",
   "metadata": {},
   "outputs": [
    {
     "data": {
      "application/vnd.jupyter.widget-view+json": {
       "model_id": "a66e48f0e9c34d4abcc617b19ac02a6a",
       "version_major": 2,
       "version_minor": 0
      },
      "text/plain": [
       "VBox()"
      ]
     },
     "metadata": {},
     "output_type": "display_data"
    },
    {
     "data": {
      "application/vnd.jupyter.widget-view+json": {
       "model_id": "",
       "version_major": 2,
       "version_minor": 0
      },
      "text/plain": [
       "FloatProgress(value=0.0, bar_style='info', description='Progress:', layout=Layout(height='25px', width='50%'),…"
      ]
     },
     "metadata": {},
     "output_type": "display_data"
    }
   ],
   "source": [
    "#Crédito vencido entre 31 e 60 dias - PONDERADO\n",
    "df10 = df10.withColumn(f'{modality}_VCD_31_60_RZMO',round((F.col(f'{modality}_VCD_31_60_MERC')/F.col(f'{modality}_SALDO_TOTAL_TT_OMNI')).cast(DoubleType()),4))"
   ]
  },
  {
   "cell_type": "code",
   "execution_count": 167,
   "id": "e71bc0ad",
   "metadata": {},
   "outputs": [
    {
     "data": {
      "application/vnd.jupyter.widget-view+json": {
       "model_id": "0f80b51876a94323b15e6bbe4fe608d6",
       "version_major": 2,
       "version_minor": 0
      },
      "text/plain": [
       "VBox()"
      ]
     },
     "metadata": {},
     "output_type": "display_data"
    },
    {
     "data": {
      "application/vnd.jupyter.widget-view+json": {
       "model_id": "",
       "version_major": 2,
       "version_minor": 0
      },
      "text/plain": [
       "FloatProgress(value=0.0, bar_style='info', description='Progress:', layout=Layout(height='25px', width='50%'),…"
      ]
     },
     "metadata": {},
     "output_type": "display_data"
    }
   ],
   "source": [
    "#Crédito vencido entre 61 e 90 dias\n",
    "df10 = df10.withColumn(f'{modality}_VCD_61_90',round((df10.CRED_VENCIDOS_DE_61_A_90_TOTAL).cast(DoubleType()),4))"
   ]
  },
  {
   "cell_type": "code",
   "execution_count": 168,
   "id": "d3cec3b6",
   "metadata": {},
   "outputs": [
    {
     "data": {
      "application/vnd.jupyter.widget-view+json": {
       "model_id": "496a9b5b4c2743e89d035d800828461b",
       "version_major": 2,
       "version_minor": 0
      },
      "text/plain": [
       "VBox()"
      ]
     },
     "metadata": {},
     "output_type": "display_data"
    },
    {
     "data": {
      "application/vnd.jupyter.widget-view+json": {
       "model_id": "",
       "version_major": 2,
       "version_minor": 0
      },
      "text/plain": [
       "FloatProgress(value=0.0, bar_style='info', description='Progress:', layout=Layout(height='25px', width='50%'),…"
      ]
     },
     "metadata": {},
     "output_type": "display_data"
    }
   ],
   "source": [
    "#Crédito vencido entre 61 e 90 dias\n",
    "df10 = df10.withColumn(f'{modality}_VCD_61_90_MERC',round((df10.CRED_VENCIDOS_DE_61_A_90_MERCADO).cast(DoubleType()),4))"
   ]
  },
  {
   "cell_type": "code",
   "execution_count": 169,
   "id": "2e1ad967",
   "metadata": {},
   "outputs": [
    {
     "data": {
      "application/vnd.jupyter.widget-view+json": {
       "model_id": "18f4b183fef64a638cd6b595f09c475a",
       "version_major": 2,
       "version_minor": 0
      },
      "text/plain": [
       "VBox()"
      ]
     },
     "metadata": {},
     "output_type": "display_data"
    },
    {
     "data": {
      "application/vnd.jupyter.widget-view+json": {
       "model_id": "",
       "version_major": 2,
       "version_minor": 0
      },
      "text/plain": [
       "FloatProgress(value=0.0, bar_style='info', description='Progress:', layout=Layout(height='25px', width='50%'),…"
      ]
     },
     "metadata": {},
     "output_type": "display_data"
    }
   ],
   "source": [
    "#Crédito vencido entre 61 e 90 dias - PONDERADO\n",
    "df10 = df10.withColumn(f'{modality}_VCD_61_90_RZMO',round((F.col(f'{modality}_VCD_61_90_MERC')/F.col(f'{modality}_SALDO_TOTAL_TT_OMNI')).cast(DoubleType()),4))"
   ]
  },
  {
   "cell_type": "code",
   "execution_count": 170,
   "id": "8b595148",
   "metadata": {},
   "outputs": [
    {
     "data": {
      "application/vnd.jupyter.widget-view+json": {
       "model_id": "537f13a8d1fa4aeeb6e70529037dd655",
       "version_major": 2,
       "version_minor": 0
      },
      "text/plain": [
       "VBox()"
      ]
     },
     "metadata": {},
     "output_type": "display_data"
    },
    {
     "data": {
      "application/vnd.jupyter.widget-view+json": {
       "model_id": "",
       "version_major": 2,
       "version_minor": 0
      },
      "text/plain": [
       "FloatProgress(value=0.0, bar_style='info', description='Progress:', layout=Layout(height='25px', width='50%'),…"
      ]
     },
     "metadata": {},
     "output_type": "display_data"
    }
   ],
   "source": [
    "#Crédito vencido entre 91 e 180 dias\n",
    "df10 = df10.withColumn(f'{modality}_VCD_91_180',round((reduce(add, [F.col(x) for x in lista_vencido_91_ate_180])).cast(DoubleType()),4))"
   ]
  },
  {
   "cell_type": "code",
   "execution_count": 171,
   "id": "f207735d",
   "metadata": {},
   "outputs": [
    {
     "data": {
      "application/vnd.jupyter.widget-view+json": {
       "model_id": "d50094560bce4550ab944a4162ff19f2",
       "version_major": 2,
       "version_minor": 0
      },
      "text/plain": [
       "VBox()"
      ]
     },
     "metadata": {},
     "output_type": "display_data"
    },
    {
     "data": {
      "application/vnd.jupyter.widget-view+json": {
       "model_id": "",
       "version_major": 2,
       "version_minor": 0
      },
      "text/plain": [
       "FloatProgress(value=0.0, bar_style='info', description='Progress:', layout=Layout(height='25px', width='50%'),…"
      ]
     },
     "metadata": {},
     "output_type": "display_data"
    }
   ],
   "source": [
    "#Crédito vencido entre 91 e 180 dias\n",
    "df10 = df10.withColumn(f'{modality}_VCD_91_180_MERC',round((reduce(add, [F.col(x) for x in lista_vencido_91_ate_180_mercado])).cast(DoubleType()),4))"
   ]
  },
  {
   "cell_type": "code",
   "execution_count": 172,
   "id": "6d08812b",
   "metadata": {},
   "outputs": [
    {
     "data": {
      "application/vnd.jupyter.widget-view+json": {
       "model_id": "c485f32df67f4d2dab044e8db301c36b",
       "version_major": 2,
       "version_minor": 0
      },
      "text/plain": [
       "VBox()"
      ]
     },
     "metadata": {},
     "output_type": "display_data"
    },
    {
     "data": {
      "application/vnd.jupyter.widget-view+json": {
       "model_id": "",
       "version_major": 2,
       "version_minor": 0
      },
      "text/plain": [
       "FloatProgress(value=0.0, bar_style='info', description='Progress:', layout=Layout(height='25px', width='50%'),…"
      ]
     },
     "metadata": {},
     "output_type": "display_data"
    }
   ],
   "source": [
    "#Crédito vencido entre 91 e 180 dias - PONDERADO\n",
    "df10 = df10.withColumn(f'{modality}_VCD_91_180_RZMO',round((F.col(f'{modality}_VCD_91_180_MERC')/F.col(f'{modality}_SALDO_TOTAL_TT_OMNI')).cast(DoubleType()),4))"
   ]
  },
  {
   "cell_type": "code",
   "execution_count": 173,
   "id": "2eada327",
   "metadata": {},
   "outputs": [
    {
     "data": {
      "application/vnd.jupyter.widget-view+json": {
       "model_id": "23628c1309f94eacba2d1da02942863e",
       "version_major": 2,
       "version_minor": 0
      },
      "text/plain": [
       "VBox()"
      ]
     },
     "metadata": {},
     "output_type": "display_data"
    },
    {
     "data": {
      "application/vnd.jupyter.widget-view+json": {
       "model_id": "",
       "version_major": 2,
       "version_minor": 0
      },
      "text/plain": [
       "FloatProgress(value=0.0, bar_style='info', description='Progress:', layout=Layout(height='25px', width='50%'),…"
      ]
     },
     "metadata": {},
     "output_type": "display_data"
    }
   ],
   "source": [
    "#Crédito vencido entre 181 e 360 dias\n",
    "df10 = df10.withColumn(f'{modality}_VCD_181_360',round((reduce(add, [F.col(x) for x in lista_vencido_181_ate_360])).cast(DoubleType()),4))"
   ]
  },
  {
   "cell_type": "code",
   "execution_count": 174,
   "id": "72b656e0",
   "metadata": {},
   "outputs": [
    {
     "data": {
      "application/vnd.jupyter.widget-view+json": {
       "model_id": "0b1ed98552764c388e6c2a0b0affe437",
       "version_major": 2,
       "version_minor": 0
      },
      "text/plain": [
       "VBox()"
      ]
     },
     "metadata": {},
     "output_type": "display_data"
    },
    {
     "data": {
      "application/vnd.jupyter.widget-view+json": {
       "model_id": "",
       "version_major": 2,
       "version_minor": 0
      },
      "text/plain": [
       "FloatProgress(value=0.0, bar_style='info', description='Progress:', layout=Layout(height='25px', width='50%'),…"
      ]
     },
     "metadata": {},
     "output_type": "display_data"
    }
   ],
   "source": [
    "#Crédito vencido entre 181 e 360 dias\n",
    "df10 = df10.withColumn(f'{modality}_VCD_181_360_MERC',round((reduce(add, [F.col(x) for x in lista_vencido_181_ate_360_mercado])).cast(DoubleType()),4))"
   ]
  },
  {
   "cell_type": "code",
   "execution_count": 175,
   "id": "40b3654b",
   "metadata": {},
   "outputs": [
    {
     "data": {
      "application/vnd.jupyter.widget-view+json": {
       "model_id": "58ce5411938a4ce69301d9db038e76e4",
       "version_major": 2,
       "version_minor": 0
      },
      "text/plain": [
       "VBox()"
      ]
     },
     "metadata": {},
     "output_type": "display_data"
    },
    {
     "data": {
      "application/vnd.jupyter.widget-view+json": {
       "model_id": "",
       "version_major": 2,
       "version_minor": 0
      },
      "text/plain": [
       "FloatProgress(value=0.0, bar_style='info', description='Progress:', layout=Layout(height='25px', width='50%'),…"
      ]
     },
     "metadata": {},
     "output_type": "display_data"
    }
   ],
   "source": [
    "#Crédito vencido entre 181 e 360 dias - PONDERADO\n",
    "df10 = df10.withColumn(f'{modality}_VCD_181_360_RZMO',round((F.col(f'{modality}_VCD_181_360_MERC')/F.col(f'{modality}_SALDO_TOTAL_TT_OMNI')).cast(DoubleType()),4))"
   ]
  },
  {
   "cell_type": "code",
   "execution_count": 176,
   "id": "ff33a284",
   "metadata": {},
   "outputs": [
    {
     "data": {
      "application/vnd.jupyter.widget-view+json": {
       "model_id": "4328d57b8fe34de794a8abf815e3d5d2",
       "version_major": 2,
       "version_minor": 0
      },
      "text/plain": [
       "VBox()"
      ]
     },
     "metadata": {},
     "output_type": "display_data"
    },
    {
     "data": {
      "application/vnd.jupyter.widget-view+json": {
       "model_id": "",
       "version_major": 2,
       "version_minor": 0
      },
      "text/plain": [
       "FloatProgress(value=0.0, bar_style='info', description='Progress:', layout=Layout(height='25px', width='50%'),…"
      ]
     },
     "metadata": {},
     "output_type": "display_data"
    }
   ],
   "source": [
    "lista_divida_total = [\"CRED_A_VENCER_ATE_30_TOTAL\",\n",
    "\"CRED_A_VENCER_DE_31_A_60_TOTAL\",\n",
    "\"CRED_A_VENCER_DE_61_A_90_TOTAL\",\n",
    "\"CRED_A_VENCER_DE_91_A_180_TOTAL\",\n",
    "\"CRED_A_VENCER_DE_181_A_360_TOTAL\",\n",
    "\"CRED_A_VENCER_DE_361_A_720_TOTAL\",\n",
    "\"CRED_A_VENCER_DE_721_A_1080_TOTAL\",\n",
    "\"CRED_A_VENCER_DE_1081_A_1440_TOTAL\",\n",
    "\"CRED_A_VENCER_DE_1441_A_1800_TOTAL\",\n",
    "\"CRED_A_VENCER_DE_1801_A_5400_TOTAL\",\n",
    "\"CRED_A_VENCER_ACIMA_5400_TOTAL\",\n",
    "\"CRED_A_VENCER_PRAZO_INDETERM_TOTAL\",\n",
    "\"CRED_VENCIDOS_DE_1_A_14_TOTAL\",\n",
    "\"CRED_VENCIDOS_DE_15_A_30_TOTAL\",\n",
    "\"CRED_VENCIDOS_DE_31_A_60_TOTAL\",\n",
    "\"CRED_VENCIDOS_DE_61_A_90_TOTAL\",\n",
    "\"CRED_VENCIDOS_DE_91_A_120_TOTAL\",\n",
    "\"CRED_VENCIDOS_DE_121_A_150_TOTAL\",\n",
    "\"CRED_VENCIDOS_DE_151_A_180_TOTAL\",\n",
    "\"CRED_VENCIDOS_DE_181_A_240_TOTAL\",\n",
    "\"CRED_VENCIDOS_DE_241_A_300_TOTAL\",\n",
    "\"CRED_VENCIDOS_DE_301_A_360_TOTAL\",\n",
    "\"CRED_VENCIDOS_DE_361_A_540_TOTAL\",\n",
    "\"CRED_VENCIDOS_ACIMA_540_TOTAL\",\n",
    "\"CRED_BAIX_PREJ_ATE_12_M_TOTAL\",\n",
    "\"CRED_BAIX_PREJ_MAIS_12_A_48_M_TOTAL\",\n",
    "\"CRED_BAIX_PREJ_MAIS_48_M_TOTAL\"]\n",
    "\n",
    "lista_divida_total_mercado = [\"CRED_A_VENCER_ATE_30_MERCADO\",\n",
    "\"CRED_A_VENCER_DE_31_A_60_MERCADO\",\n",
    "\"CRED_A_VENCER_DE_61_A_90_MERCADO\",\n",
    "\"CRED_A_VENCER_DE_91_A_180_MERCADO\",\n",
    "\"CRED_A_VENCER_DE_181_A_360_MERCADO\",\n",
    "\"CRED_A_VENCER_DE_361_A_720_MERCADO\",\n",
    "\"CRED_A_VENCER_DE_721_A_1080_MERCADO\",\n",
    "\"CRED_A_VENCER_DE_1081_A_1440_MERCADO\",\n",
    "\"CRED_A_VENCER_DE_1441_A_1800_MERCADO\",\n",
    "\"CRED_A_VENCER_DE_1801_A_5400_MERCADO\",\n",
    "\"CRED_A_VENCER_ACIMA_5400_MERCADO\",\n",
    "\"CRED_A_VENCER_PRAZO_INDETERM_MERCADO\",\n",
    "\"CRED_VENCIDOS_DE_1_A_14_MERCADO\",\n",
    "\"CRED_VENCIDOS_DE_15_A_30_MERCADO\",\n",
    "\"CRED_VENCIDOS_DE_31_A_60_MERCADO\",\n",
    "\"CRED_VENCIDOS_DE_61_A_90_MERCADO\",\n",
    "\"CRED_VENCIDOS_DE_91_A_120_MERCADO\",\n",
    "\"CRED_VENCIDOS_DE_121_A_150_MERCADO\",\n",
    "\"CRED_VENCIDOS_DE_151_A_180_MERCADO\",\n",
    "\"CRED_VENCIDOS_DE_181_A_240_MERCADO\",\n",
    "\"CRED_VENCIDOS_DE_241_A_300_MERCADO\",\n",
    "\"CRED_VENCIDOS_DE_301_A_360_MERCADO\",\n",
    "\"CRED_VENCIDOS_DE_361_A_540_MERCADO\",\n",
    "\"CRED_VENCIDOS_ACIMA_540_MERCADO\",\n",
    "\"CRED_BAIX_PREJ_ATE_12_M_MERCADO\",\n",
    "\"CRED_BAIX_PREJ_MAIS_12_A_48_M_MERCADO\",\n",
    "\"CRED_BAIX_PREJ_MAIS_48_M_MERCADO\"]"
   ]
  },
  {
   "cell_type": "markdown",
   "id": "a4af3fc2",
   "metadata": {},
   "source": [
    "SALDO_TOTAL & SALDO_TOTAL_MERC & SALDO_TOTAL_RZMO"
   ]
  },
  {
   "cell_type": "code",
   "execution_count": 177,
   "id": "603b3a41",
   "metadata": {},
   "outputs": [
    {
     "data": {
      "application/vnd.jupyter.widget-view+json": {
       "model_id": "95cc3c32f21f4e2382b2b5547a419319",
       "version_major": 2,
       "version_minor": 0
      },
      "text/plain": [
       "VBox()"
      ]
     },
     "metadata": {},
     "output_type": "display_data"
    },
    {
     "data": {
      "application/vnd.jupyter.widget-view+json": {
       "model_id": "",
       "version_major": 2,
       "version_minor": 0
      },
      "text/plain": [
       "FloatProgress(value=0.0, bar_style='info', description='Progress:', layout=Layout(height='25px', width='50%'),…"
      ]
     },
     "metadata": {},
     "output_type": "display_data"
    }
   ],
   "source": [
    "df10 = df10.withColumn(f'{modality}_SALDO_TOTAL',round((reduce(add, [F.col(x) for x in lista_divida_total])).cast(DoubleType()),4))#listada no início do código"
   ]
  },
  {
   "cell_type": "code",
   "execution_count": 178,
   "id": "2410c370",
   "metadata": {},
   "outputs": [
    {
     "data": {
      "application/vnd.jupyter.widget-view+json": {
       "model_id": "87a8b11add38410d85d95c915721aba9",
       "version_major": 2,
       "version_minor": 0
      },
      "text/plain": [
       "VBox()"
      ]
     },
     "metadata": {},
     "output_type": "display_data"
    },
    {
     "data": {
      "application/vnd.jupyter.widget-view+json": {
       "model_id": "",
       "version_major": 2,
       "version_minor": 0
      },
      "text/plain": [
       "FloatProgress(value=0.0, bar_style='info', description='Progress:', layout=Layout(height='25px', width='50%'),…"
      ]
     },
     "metadata": {},
     "output_type": "display_data"
    }
   ],
   "source": [
    "df10 = df10.withColumn(f'{modality}_SALDO_TOTAL_MERC',round((reduce(add, [F.col(x) for x in lista_divida_total_mercado])).cast(DoubleType()),4))#listada no início do código"
   ]
  },
  {
   "cell_type": "code",
   "execution_count": 179,
   "id": "dd24a5ca",
   "metadata": {},
   "outputs": [
    {
     "data": {
      "application/vnd.jupyter.widget-view+json": {
       "model_id": "20e1dd79bd00438cb0b256ce0ab0df53",
       "version_major": 2,
       "version_minor": 0
      },
      "text/plain": [
       "VBox()"
      ]
     },
     "metadata": {},
     "output_type": "display_data"
    },
    {
     "data": {
      "application/vnd.jupyter.widget-view+json": {
       "model_id": "",
       "version_major": 2,
       "version_minor": 0
      },
      "text/plain": [
       "FloatProgress(value=0.0, bar_style='info', description='Progress:', layout=Layout(height='25px', width='50%'),…"
      ]
     },
     "metadata": {},
     "output_type": "display_data"
    }
   ],
   "source": [
    "df10 = df10.withColumn(f'{modality}_SALDO_TOTAL_RZMO',round((F.col(f'{modality}_SALDO_TOTAL_MERC')/F.col(f'{modality}_SALDO_TOTAL_TT_OMNI')).cast(DoubleType()),4))"
   ]
  },
  {
   "cell_type": "code",
   "execution_count": 180,
   "id": "0e4189f1",
   "metadata": {},
   "outputs": [
    {
     "data": {
      "application/vnd.jupyter.widget-view+json": {
       "model_id": "02e60d8b59f74f98b6f48b970c4bb5f2",
       "version_major": 2,
       "version_minor": 0
      },
      "text/plain": [
       "VBox()"
      ]
     },
     "metadata": {},
     "output_type": "display_data"
    },
    {
     "data": {
      "application/vnd.jupyter.widget-view+json": {
       "model_id": "",
       "version_major": 2,
       "version_minor": 0
      },
      "text/plain": [
       "FloatProgress(value=0.0, bar_style='info', description='Progress:', layout=Layout(height='25px', width='50%'),…"
      ]
     },
     "metadata": {},
     "output_type": "display_data"
    }
   ],
   "source": [
    "lista_vencido_prejuizo = [\"CRED_VENCIDOS_DE_1_A_14_TOTAL\",\n",
    "\"CRED_VENCIDOS_DE_15_A_30_TOTAL\",\n",
    "\"CRED_VENCIDOS_DE_31_A_60_TOTAL\",\n",
    "\"CRED_VENCIDOS_DE_61_A_90_TOTAL\",\n",
    "\"CRED_VENCIDOS_DE_91_A_120_TOTAL\",\n",
    "\"CRED_VENCIDOS_DE_121_A_150_TOTAL\",\n",
    "\"CRED_VENCIDOS_DE_151_A_180_TOTAL\",\n",
    "\"CRED_VENCIDOS_DE_181_A_240_TOTAL\",\n",
    "\"CRED_VENCIDOS_DE_241_A_300_TOTAL\",\n",
    "\"CRED_VENCIDOS_DE_301_A_360_TOTAL\",\n",
    "\"CRED_VENCIDOS_DE_361_A_540_TOTAL\",\n",
    "\"CRED_VENCIDOS_ACIMA_540_TOTAL\",\n",
    "\"CRED_BAIX_PREJ_ATE_12_M_TOTAL\",\n",
    "\"CRED_BAIX_PREJ_MAIS_12_A_48_M_TOTAL\",\n",
    "\"CRED_BAIX_PREJ_MAIS_48_M_TOTAL\"]\n",
    "\n",
    "lista_vencido_prejuizo_mercado = [\"CRED_VENCIDOS_DE_1_A_14_MERCADO\",\n",
    "\"CRED_VENCIDOS_DE_15_A_30_MERCADO\",\n",
    "\"CRED_VENCIDOS_DE_31_A_60_MERCADO\",\n",
    "\"CRED_VENCIDOS_DE_61_A_90_MERCADO\",\n",
    "\"CRED_VENCIDOS_DE_91_A_120_MERCADO\",\n",
    "\"CRED_VENCIDOS_DE_121_A_150_MERCADO\",\n",
    "\"CRED_VENCIDOS_DE_151_A_180_MERCADO\",\n",
    "\"CRED_VENCIDOS_DE_181_A_240_MERCADO\",\n",
    "\"CRED_VENCIDOS_DE_241_A_300_MERCADO\",\n",
    "\"CRED_VENCIDOS_DE_301_A_360_MERCADO\",\n",
    "\"CRED_VENCIDOS_DE_361_A_540_MERCADO\",\n",
    "\"CRED_VENCIDOS_ACIMA_540_MERCADO\",\n",
    "\"CRED_BAIX_PREJ_ATE_12_M_MERCADO\",\n",
    "\"CRED_BAIX_PREJ_MAIS_12_A_48_M_MERCADO\",\n",
    "\"CRED_BAIX_PREJ_MAIS_48_M_MERCADO\"]"
   ]
  },
  {
   "cell_type": "markdown",
   "id": "7ccf8725",
   "metadata": {},
   "source": [
    "PREJ & PREJ_MERC & PREJ_RZMO"
   ]
  },
  {
   "cell_type": "code",
   "execution_count": 181,
   "id": "123a8491",
   "metadata": {},
   "outputs": [
    {
     "data": {
      "application/vnd.jupyter.widget-view+json": {
       "model_id": "03b24f5250b94140830d4a6fbddb7256",
       "version_major": 2,
       "version_minor": 0
      },
      "text/plain": [
       "VBox()"
      ]
     },
     "metadata": {},
     "output_type": "display_data"
    },
    {
     "data": {
      "application/vnd.jupyter.widget-view+json": {
       "model_id": "",
       "version_major": 2,
       "version_minor": 0
      },
      "text/plain": [
       "FloatProgress(value=0.0, bar_style='info', description='Progress:', layout=Layout(height='25px', width='50%'),…"
      ]
     },
     "metadata": {},
     "output_type": "display_data"
    }
   ],
   "source": [
    "df10 = df10.withColumn(f'{modality}_PREJ',round((reduce(add, [F.col(x) for x in lista_vencido_prejuizo])).cast(DoubleType()),4))"
   ]
  },
  {
   "cell_type": "code",
   "execution_count": 182,
   "id": "3c1bb1a6",
   "metadata": {},
   "outputs": [
    {
     "data": {
      "application/vnd.jupyter.widget-view+json": {
       "model_id": "5060279d0a564d12ae511807d36de620",
       "version_major": 2,
       "version_minor": 0
      },
      "text/plain": [
       "VBox()"
      ]
     },
     "metadata": {},
     "output_type": "display_data"
    },
    {
     "data": {
      "application/vnd.jupyter.widget-view+json": {
       "model_id": "",
       "version_major": 2,
       "version_minor": 0
      },
      "text/plain": [
       "FloatProgress(value=0.0, bar_style='info', description='Progress:', layout=Layout(height='25px', width='50%'),…"
      ]
     },
     "metadata": {},
     "output_type": "display_data"
    }
   ],
   "source": [
    "df10 = df10.withColumn(f'{modality}_PREJ_MERC',round((reduce(add, [F.col(x) for x in lista_vencido_prejuizo_mercado])).cast(DoubleType()),4))"
   ]
  },
  {
   "cell_type": "code",
   "execution_count": 183,
   "id": "038b9fb3",
   "metadata": {},
   "outputs": [
    {
     "data": {
      "application/vnd.jupyter.widget-view+json": {
       "model_id": "a3d7b0d24d4a4168b9bbb78e4df08173",
       "version_major": 2,
       "version_minor": 0
      },
      "text/plain": [
       "VBox()"
      ]
     },
     "metadata": {},
     "output_type": "display_data"
    },
    {
     "data": {
      "application/vnd.jupyter.widget-view+json": {
       "model_id": "",
       "version_major": 2,
       "version_minor": 0
      },
      "text/plain": [
       "FloatProgress(value=0.0, bar_style='info', description='Progress:', layout=Layout(height='25px', width='50%'),…"
      ]
     },
     "metadata": {},
     "output_type": "display_data"
    }
   ],
   "source": [
    "df10 = df10.withColumn(f'{modality}_PREJ_RZMO',round((F.col(f'{modality}_PREJ_MERC')/F.col(f'{modality}_SALDO_TOTAL_TT_OMNI')).cast(DoubleType()),4))"
   ]
  },
  {
   "cell_type": "markdown",
   "id": "9c98c48f",
   "metadata": {},
   "source": [
    "VAR_MAIOR_ATRASO_M0_M1 & VAR_SALDO_M0_M1 & VAR_VCD_PREJ_M0_M1"
   ]
  },
  {
   "cell_type": "markdown",
   "id": "dc101218",
   "metadata": {},
   "source": [
    "RZ_SALDO_M1_M0 & RZ_VCD_M1_M0 & RZ_AVCR_M1_M0 & RZ_PREJ_M1_M0"
   ]
  },
  {
   "cell_type": "code",
   "execution_count": 184,
   "id": "942f5d7a",
   "metadata": {},
   "outputs": [
    {
     "data": {
      "application/vnd.jupyter.widget-view+json": {
       "model_id": "9c4a759b3bd3400aa50e7a976bb2214a",
       "version_major": 2,
       "version_minor": 0
      },
      "text/plain": [
       "VBox()"
      ]
     },
     "metadata": {},
     "output_type": "display_data"
    },
    {
     "data": {
      "application/vnd.jupyter.widget-view+json": {
       "model_id": "",
       "version_major": 2,
       "version_minor": 0
      },
      "text/plain": [
       "FloatProgress(value=0.0, bar_style='info', description='Progress:', layout=Layout(height='25px', width='50%'),…"
      ]
     },
     "metadata": {},
     "output_type": "display_data"
    }
   ],
   "source": [
    "#Variação do maior atraso entre o mês atual e o mês anterior\n",
    "from pyspark.sql.window import Window\n",
    "\n",
    "w_chaves = Window.partitionBy().orderBy(\"CD\",\"M0\")\n",
    "\n",
    "df10 = df10.withColumn(\"prev_key_dtbase\",F.lag(df10.M0).over(w_chaves))\n",
    "df10 = df10.withColumn(\"prev_key_cd\",F.lag(df10.CD).over(w_chaves))\n",
    "df10 = df10.withColumn(f\"prev_{modality}_MAIOR_ATRASO_VCD\",F.lag(F.col(f'{modality}_MAIOR_ATRASO_VCD')).over(w_chaves))\n",
    "df10 = df10.withColumn(f\"prev_{modality}_RZ_SALDO_TT_ANTR\",F.lag(F.col(f'{modality}_SALDO_TOTAL')).over(w_chaves))\n",
    "df10 = df10.withColumn(f\"prev_{modality}_RZ_SALDO_ATRS_PREJ_MES_ANTR\",F.lag(F.col(f'{modality}_PREJ')).over(w_chaves))\n",
    "df10 = df10.withColumn(f\"prev_{modality}_RZ_LMT_DSPN_MES_ANTR\",F.lag(F.col(f'{modality}_LMT_DISPONIVEL')).over(w_chaves))\n",
    "df10 = df10.withColumn(f\"prev_{modality}_RZ_LMT_TT_MES_ANTR\",F.lag(F.col(f'{modality}_LMT_TOTAL')).over(w_chaves))\n",
    "\n",
    "df10 = df10.withColumn(f\"prev_{modality}_SALDO_TOTAL_TT_TOTAL_ANTR\",F.lag(F.col(f'{modality}_SALDO_TOTAL_TT_TOTAL')).over(w_chaves))\n",
    "df10 = df10.withColumn(f\"prev_{modality}_SALDO_VCD_TOTAL_TT_TOTAL_ANTR\",F.lag(F.col(f'{modality}_SALDO_VCD_TOTAL_TT_TOTAL')).over(w_chaves))\n",
    "df10 = df10.withColumn(f\"prev_{modality}_SALDO_AVCR_TOTAL_TT_TOTAL_ANTR\",F.lag(F.col(f'{modality}_SALDO_AVCR_TOTAL_TT_TOTAL')).over(w_chaves))\n",
    "df10 = df10.withColumn(f\"prev_{modality}_SALDO_PREJUIZO_TOTAL_TT_TOTAL_ANTR\",F.lag(F.col(f'{modality}_SALDO_PREJUIZO_TOTAL_TT_TOTAL')).over(w_chaves))\n",
    "\n",
    "df10 = df10.withColumn(f\"{modality}_VAR_MAIOR_ATRASO_M0_M1\", when(F.isnull(F.col(f'{modality}_MAIOR_ATRASO_VCD') - F.col(f'prev_{modality}_MAIOR_ATRASO_VCD')), 0) \\\n",
    "                           .when((df10.prev_key_cd == df10.CD) & \\\n",
    "                                 (df10.prev_key_dtbase == (df10.M1)), \\\n",
    "                                  F.col(f'{modality}_MAIOR_ATRASO_VCD') - F.col(f'prev_{modality}_MAIOR_ATRASO_VCD'))\n",
    "                         .otherwise(0.0))\n",
    "\n",
    "df10 = df10.withColumn(f\"{modality}_VAR_SALDO_M0_M1\", when(F.isnull(F.col(f'{modality}_SALDO_TOTAL') - F.col(f'prev_{modality}_RZ_SALDO_TT_ANTR')), 0) \\\n",
    "                           .when((df10.prev_key_cd == df10.CD) & \\\n",
    "                                 (df10.prev_key_dtbase == (df10.M1)), \\\n",
    "                                  F.col(f'{modality}_SALDO_TOTAL') - F.col(f'prev_{modality}_RZ_SALDO_TT_ANTR'))\n",
    "                         .otherwise(0.0))\n",
    "                       \n",
    "df10 = df10.withColumn(f\"{modality}_VAR_VCD_PREJ_M0_M1\", when(F.isnull(F.col(f'{modality}_PREJ') - F.col(f'prev_{modality}_RZ_SALDO_ATRS_PREJ_MES_ANTR')), 0) \\\n",
    "                           .when((df10.prev_key_cd == df10.CD) & \\\n",
    "                                 (df10.prev_key_dtbase == (df10.M1)), \\\n",
    "                                  F.col(f'{modality}_PREJ') - F.col(f'prev_{modality}_RZ_SALDO_ATRS_PREJ_MES_ANTR'))\n",
    "                         .otherwise(0.0))\n",
    "#NOVOS                         \n",
    "df10 = df10.withColumn(f\"{modality}_VAR_LMT_DSPN_M0_M1\", when(F.isnull(F.col(f'{modality}_LMT_DISPONIVEL') - F.col(f'prev_{modality}_RZ_LMT_DSPN_MES_ANTR')), 0) \\\n",
    "                           .when((df10.prev_key_cd == df10.CD) & \\\n",
    "                                 (df10.prev_key_dtbase == (df10.M1)), \\\n",
    "                                  F.col(f'{modality}_LMT_DISPONIVEL') - F.col(f'prev_{modality}_RZ_LMT_DSPN_MES_ANTR'))\n",
    "                         .otherwise(0.0))\n",
    "\n",
    "df10 = df10.withColumn(f\"{modality}_VAR_LMT_TT_M0_M1\", when(F.isnull(F.col(f'{modality}_LMT_TOTAL') - F.col(f'prev_{modality}_RZ_LMT_TT_MES_ANTR')), 0) \\\n",
    "                           .when((df10.prev_key_cd == df10.CD) & \\\n",
    "                                 (df10.prev_key_dtbase == (df10.M1)), \\\n",
    "                                  F.col(f'{modality}_LMT_TOTAL') - F.col(f'prev_{modality}_RZ_LMT_TT_MES_ANTR'))\n",
    "                         .otherwise(0.0))\n",
    "#NOVOS SALDO\n",
    "df10 = df10.withColumn(f\"{modality}_RZ_SALDO_M1_M0\", when(F.isnull(F.col(f'{modality}_SALDO_TOTAL_TT_TOTAL') - F.col(f'prev_{modality}_SALDO_TOTAL_TT_TOTAL_ANTR')), 0) \\\n",
    "                           .when((df10.prev_key_cd == df10.CD) & \\\n",
    "                                 (df10.prev_key_dtbase == (df10.M1)), \\\n",
    "                                  F.col(f'{modality}_SALDO_TOTAL_TT_TOTAL') - F.col(f'prev_{modality}_SALDO_TOTAL_TT_TOTAL_ANTR'))\n",
    "                         .otherwise(0.0))\n",
    "\n",
    "df10 = df10.withColumn(f\"{modality}_RZ_VCD_M1_M0\", when(F.isnull(F.col(f'{modality}_SALDO_VCD_TOTAL_TT_TOTAL') - F.col(f'prev_{modality}_SALDO_VCD_TOTAL_TT_TOTAL_ANTR')), 0) \\\n",
    "                           .when((df10.prev_key_cd == df10.CD) & \\\n",
    "                                 (df10.prev_key_dtbase == (df10.M1)), \\\n",
    "                                  F.col(f'{modality}_SALDO_VCD_TOTAL_TT_TOTAL') - F.col(f'prev_{modality}_SALDO_VCD_TOTAL_TT_TOTAL_ANTR'))\n",
    "                         .otherwise(0.0))\n",
    "\n",
    "df10 = df10.withColumn(f\"{modality}_RZ_AVCR_M1_M0\", when(F.isnull(F.col(f'{modality}_SALDO_AVCR_TOTAL_TT_TOTAL') - F.col(f'prev_{modality}_SALDO_AVCR_TOTAL_TT_TOTAL_ANTR')), 0) \\\n",
    "                           .when((df10.prev_key_cd == df10.CD) & \\\n",
    "                                 (df10.prev_key_dtbase == (df10.M1)), \\\n",
    "                                  F.col(f'{modality}_SALDO_AVCR_TOTAL_TT_TOTAL') - F.col(f'prev_{modality}_SALDO_AVCR_TOTAL_TT_TOTAL_ANTR'))\n",
    "                         .otherwise(0.0))\n",
    "\n",
    "df10 = df10.withColumn(f\"{modality}_RZ_PREJ_M1_M0\", when(F.isnull(F.col(f'{modality}_SALDO_PREJUIZO_TOTAL_TT_TOTAL') - F.col(f'prev_{modality}_SALDO_PREJUIZO_TOTAL_TT_TOTAL_ANTR')), 0) \\\n",
    "                           .when((df10.prev_key_cd == df10.CD) & \\\n",
    "                                 (df10.prev_key_dtbase == (df10.M1)), \\\n",
    "                                  F.col(f'{modality}_SALDO_PREJUIZO_TOTAL_TT_TOTAL') - F.col(f'prev_{modality}_SALDO_PREJUIZO_TOTAL_TT_TOTAL_ANTR'))\n",
    "                         .otherwise(0.0))\n",
    "\n"
   ]
  },
  {
   "cell_type": "markdown",
   "id": "a547df7e",
   "metadata": {},
   "source": [
    "VAR_MAIOR_ATRASO_M0_M1_MERC & VAR_SALDO_M0_M1_MERC & VAR_VCD_PREJ_M0_M1_MERC"
   ]
  },
  {
   "cell_type": "markdown",
   "id": "c1b9858a",
   "metadata": {},
   "source": [
    "RZ_SALDO_M1_M0_MERC & RZ_VCD_M1_M0_MERC & RZ_AVCR_M1_M0_MERC & RZ_PREJ_M1_M0_MERC"
   ]
  },
  {
   "cell_type": "code",
   "execution_count": 185,
   "id": "a1b97bb2",
   "metadata": {},
   "outputs": [
    {
     "data": {
      "application/vnd.jupyter.widget-view+json": {
       "model_id": "d67b2bbaac7841f2a991f53a74bd275e",
       "version_major": 2,
       "version_minor": 0
      },
      "text/plain": [
       "VBox()"
      ]
     },
     "metadata": {},
     "output_type": "display_data"
    },
    {
     "data": {
      "application/vnd.jupyter.widget-view+json": {
       "model_id": "",
       "version_major": 2,
       "version_minor": 0
      },
      "text/plain": [
       "FloatProgress(value=0.0, bar_style='info', description='Progress:', layout=Layout(height='25px', width='50%'),…"
      ]
     },
     "metadata": {},
     "output_type": "display_data"
    }
   ],
   "source": [
    "df10 = df10.withColumn(\"prev_key_dtbase\",F.lag(df10.M0).over(w_chaves))\n",
    "df10 = df10.withColumn(\"prev_key_cd\",F.lag(df10.CD).over(w_chaves))\n",
    "df10 = df10.withColumn(f\"prev_{modality}_MAIOR_ATRASO_VCD_MERC\",F.lag(F.col(f'{modality}_MAIOR_ATRASO_VCD_MERC')).over(w_chaves))\n",
    "df10 = df10.withColumn(f\"prev_{modality}_RZ_SALDO_TT_ANTR_MERC\",F.lag(F.col(f'{modality}_SALDO_TOTAL_MERC')).over(w_chaves))\n",
    "df10 = df10.withColumn(f\"prev_{modality}_RZ_SALDO_ATRS_PREJ_MES_ANTR_MERC\",F.lag(F.col(f'{modality}_PREJ_MERC')).over(w_chaves))\n",
    "df10 = df10.withColumn(f\"prev_{modality}_RZ_LMT_DSPN_MES_ANTR_MERC\",F.lag(F.col(f'{modality}_LMT_DISPONIVEL_MERC')).over(w_chaves))\n",
    "df10 = df10.withColumn(f\"prev_{modality}_RZ_LMT_TT_MES_ANTR_MERC\",F.lag(F.col(f'{modality}_LMT_TOTAL_MERC')).over(w_chaves))\n",
    "\n",
    "df10 = df10.withColumn(f\"prev_{modality}_SALDO_TOTAL_TT_TOTAL_ANTR_MERC\",F.lag(F.col(f'{modality}_SALDO_TOTAL_TT_MERCADO')).over(w_chaves))\n",
    "df10 = df10.withColumn(f\"prev_{modality}_SALDO_VCD_TOTAL_TT_TOTAL_ANTR_MERC\",F.lag(F.col(f'{modality}_SALDO_VCD_TOTAL_TT_MERCADO')).over(w_chaves))\n",
    "df10 = df10.withColumn(f\"prev_{modality}_SALDO_AVCR_TOTAL_TT_TOTAL_ANTR_MERC\",F.lag(F.col(f'{modality}_SALDO_AVCR_TOTAL_TT_MERCADO')).over(w_chaves))\n",
    "df10 = df10.withColumn(f\"prev_{modality}_SALDO_PREJUIZO_TOTAL_TT_TOTAL_ANTR_MERC\",F.lag(F.col(f'{modality}_SALDO_PREJUIZO_TOTAL_TT_MERCADO')).over(w_chaves))\n",
    "\n",
    "\n",
    "df10 = df10.withColumn(f\"{modality}_VAR_MAIOR_ATRASO_M0_M1_MERC\", when(F.isnull(F.col(f'{modality}_MAIOR_ATRASO_VCD_MERC') - F.col(f'prev_{modality}_MAIOR_ATRASO_VCD_MERC')), 0) \\\n",
    "                           .when((df10.prev_key_cd == df10.CD) & \\\n",
    "                                 (df10.prev_key_dtbase == (df10.M1)), \\\n",
    "                                  F.col(f'{modality}_MAIOR_ATRASO_VCD_MERC') - F.col(f'prev_{modality}_MAIOR_ATRASO_VCD_MERC'))\n",
    "                         .otherwise(0.0))\n",
    "\n",
    "df10 = df10.withColumn(f\"{modality}_VAR_SALDO_M0_M1_MERC\", when(F.isnull(F.col(f'{modality}_SALDO_TOTAL_MERC') - F.col(f'prev_{modality}_RZ_SALDO_TT_ANTR_MERC')), 0) \\\n",
    "                           .when((df10.prev_key_cd == df10.CD) & \\\n",
    "                                 (df10.prev_key_dtbase == (df10.M1)), \\\n",
    "                                  F.col(f'{modality}_SALDO_TOTAL_MERC') - F.col(f'prev_{modality}_RZ_SALDO_TT_ANTR_MERC'))\n",
    "                         .otherwise(0.0))\n",
    "                       \n",
    "df10 = df10.withColumn(f\"{modality}_VAR_VCD_PREJ_M0_M1_MERC\", when(F.isnull(F.col(f'{modality}_PREJ_MERC') - F.col(f'prev_{modality}_RZ_SALDO_ATRS_PREJ_MES_ANTR_MERC')), 0) \\\n",
    "                           .when((df10.prev_key_cd == df10.CD) & \\\n",
    "                                 (df10.prev_key_dtbase == (df10.M1)), \\\n",
    "                                  F.col(f'{modality}_PREJ_MERC') - F.col(f'prev_{modality}_RZ_SALDO_ATRS_PREJ_MES_ANTR_MERC'))\n",
    "                         .otherwise(0.0))\n",
    "                        \n",
    "df10 = df10.withColumn(f\"{modality}_VAR_LMT_DSPN_M0_M1_MERC\", when(F.isnull(F.col(f'{modality}_LMT_DISPONIVEL_MERC') - F.col(f'prev_{modality}_RZ_LMT_DSPN_MES_ANTR_MERC')), 0) \\\n",
    "                           .when((df10.prev_key_cd == df10.CD) & \\\n",
    "                                 (df10.prev_key_dtbase == (df10.M1)), \\\n",
    "                                  F.col(f'{modality}_LMT_DISPONIVEL_MERC') - F.col(f'prev_{modality}_RZ_LMT_DSPN_MES_ANTR_MERC'))\n",
    "                         .otherwise(0.0))\n",
    "\n",
    "df10 = df10.withColumn(f\"{modality}_VAR_LMT_TT_M0_M1_MERC\", when(F.isnull(F.col(f'{modality}_LMT_TOTAL_MERC') - F.col(f'prev_{modality}_RZ_LMT_TT_MES_ANTR_MERC')), 0) \\\n",
    "                           .when((df10.prev_key_cd == df10.CD) & \\\n",
    "                                 (df10.prev_key_dtbase == (df10.M1)), \\\n",
    "                                  F.col(f'{modality}_LMT_TOTAL_MERC') - F.col(f'prev_{modality}_RZ_LMT_TT_MES_ANTR_MERC'))\n",
    "                         .otherwise(0.0))\n",
    "\n",
    "df10 = df10.withColumn(f\"{modality}_RZ_SALDO_M1_M0_MERC\", when(F.isnull(F.col(f'{modality}_SALDO_TOTAL_TT_MERCADO') - F.col(f'prev_{modality}_SALDO_TOTAL_TT_TOTAL_ANTR_MERC')), 0) \\\n",
    "                           .when((df10.prev_key_cd == df10.CD) & \\\n",
    "                                 (df10.prev_key_dtbase == (df10.M1)), \\\n",
    "                                  F.col(f'{modality}_SALDO_TOTAL_TT_MERCADO') - F.col(f'prev_{modality}_SALDO_TOTAL_TT_TOTAL_ANTR_MERC'))\n",
    "                         .otherwise(0.0))\n",
    "\n",
    "df10 = df10.withColumn(f\"{modality}_RZ_VCD_M1_M0_MERC\", when(F.isnull(F.col(f'{modality}_SALDO_VCD_TOTAL_TT_MERCADO') - F.col(f'prev_{modality}_SALDO_VCD_TOTAL_TT_TOTAL_ANTR_MERC')), 0) \\\n",
    "                           .when((df10.prev_key_cd == df10.CD) & \\\n",
    "                                 (df10.prev_key_dtbase == (df10.M1)), \\\n",
    "                                  F.col(f'{modality}_SALDO_VCD_TOTAL_TT_MERCADO') - F.col(f'prev_{modality}_SALDO_VCD_TOTAL_TT_TOTAL_ANTR_MERC'))\n",
    "                         .otherwise(0.0))\n",
    "\n",
    "df10 = df10.withColumn(f\"{modality}_RZ_AVCR_M1_M0_MERC\", when(F.isnull(F.col(f'{modality}_SALDO_AVCR_TOTAL_TT_MERCADO') - F.col(f'prev_{modality}_SALDO_AVCR_TOTAL_TT_TOTAL_ANTR_MERC')), 0) \\\n",
    "                           .when((df10.prev_key_cd == df10.CD) & \\\n",
    "                                 (df10.prev_key_dtbase == (df10.M1)), \\\n",
    "                                  F.col(f'{modality}_SALDO_AVCR_TOTAL_TT_MERCADO') - F.col(f'prev_{modality}_SALDO_AVCR_TOTAL_TT_TOTAL_ANTR_MERC'))\n",
    "                         .otherwise(0.0))\n",
    "\n",
    "df10 = df10.withColumn(f\"{modality}_RZ_PREJ_M1_M0_MERC\", when(F.isnull(F.col(f'{modality}_SALDO_PREJUIZO_TOTAL_TT_MERCADO') - F.col(f'prev_{modality}_SALDO_PREJUIZO_TOTAL_TT_TOTAL_ANTR_MERC')), 0) \\\n",
    "                           .when((df10.prev_key_cd == df10.CD) & \\\n",
    "                                 (df10.prev_key_dtbase == (df10.M1)), \\\n",
    "                                  F.col(f'{modality}_SALDO_PREJUIZO_TOTAL_TT_MERCADO') - F.col(f'prev_{modality}_SALDO_PREJUIZO_TOTAL_TT_TOTAL_ANTR_MERC'))\n",
    "                         .otherwise(0.0))"
   ]
  },
  {
   "cell_type": "code",
   "execution_count": 186,
   "id": "7ef00147",
   "metadata": {},
   "outputs": [
    {
     "data": {
      "application/vnd.jupyter.widget-view+json": {
       "model_id": "aae3425c70484919933be42427848a55",
       "version_major": 2,
       "version_minor": 0
      },
      "text/plain": [
       "VBox()"
      ]
     },
     "metadata": {},
     "output_type": "display_data"
    },
    {
     "data": {
      "application/vnd.jupyter.widget-view+json": {
       "model_id": "",
       "version_major": 2,
       "version_minor": 0
      },
      "text/plain": [
       "FloatProgress(value=0.0, bar_style='info', description='Progress:', layout=Layout(height='25px', width='50%'),…"
      ]
     },
     "metadata": {},
     "output_type": "display_data"
    }
   ],
   "source": [
    "for column in df10.columns:\n",
    "    if column.endswith('M1_M0') or column.endswith('M1_M0_MERC') or column.endswith('M1_M0_RZMO'):\n",
    "        df10 = df10.withColumn(column, F.round(column, 4))"
   ]
  },
  {
   "cell_type": "markdown",
   "id": "2e6a18c5",
   "metadata": {},
   "source": [
    "PERC_LIMITE_DISP_3M & PERC_LIMITE_DISP_3M_MERC"
   ]
  },
  {
   "cell_type": "code",
   "execution_count": 187,
   "id": "a3c5cadf",
   "metadata": {},
   "outputs": [
    {
     "data": {
      "application/vnd.jupyter.widget-view+json": {
       "model_id": "bbb709cc04d14725b4ed84d2a8fbc01a",
       "version_major": 2,
       "version_minor": 0
      },
      "text/plain": [
       "VBox()"
      ]
     },
     "metadata": {},
     "output_type": "display_data"
    },
    {
     "data": {
      "application/vnd.jupyter.widget-view+json": {
       "model_id": "",
       "version_major": 2,
       "version_minor": 0
      },
      "text/plain": [
       "FloatProgress(value=0.0, bar_style='info', description='Progress:', layout=Layout(height='25px', width='50%'),…"
      ]
     },
     "metadata": {},
     "output_type": "display_data"
    }
   ],
   "source": [
    "if modality in lista_limite_total_modalidade:\n",
    "\n",
    "    df_limite_disponivel_3_M0 = df10.select(\"CD\",\"M0\",f'{modality}_LMT_DISPONIVEL')\n",
    "    df_limite_disponivel_3_M0 = df_limite_disponivel_3_M0.withColumnRenamed(f'{modality}_LMT_DISPONIVEL', f'{modality}_LMT_DISPONIVEL_M1')\n",
    "\n",
    "    df_limite_disponivel_3_M1 = df10.select(\"CD\",\"M0\",f'{modality}_LMT_DISPONIVEL')\n",
    "    df_limite_disponivel_3_M1 = df_limite_disponivel_3_M1.withColumnRenamed('M0', 'M1')\n",
    "    df_limite_disponivel_3_M1 = df_limite_disponivel_3_M1.withColumnRenamed(f'{modality}_LMT_DISPONIVEL', f'{modality}_LMT_DISPONIVEL_M2')\n",
    "\n",
    "    df_limite_disponivel_3_M2 = df10.select(\"CD\",\"M0\",f'{modality}_LMT_DISPONIVEL')\n",
    "    df_limite_disponivel_3_M2 = df_limite_disponivel_3_M2.withColumnRenamed('M0', 'M2')\n",
    "    df_limite_disponivel_3_M2 = df_limite_disponivel_3_M2.withColumnRenamed(f'{modality}_LMT_DISPONIVEL', f'{modality}_LMT_DISPONIVEL_M3')\n",
    "\n",
    "    df10 = df10.join(df_limite_disponivel_3_M0,[\"M0\",\"CD\"],\"left\")# join entre M0 e M0\n",
    "    df10 = df10.join(df_limite_disponivel_3_M1,[\"M1\",\"CD\"],\"left\")# join entre M0 e M1\n",
    "    df10 = df10.join(df_limite_disponivel_3_M2,[\"M2\",\"CD\"],\"left\")# join entre M0 e M2"
   ]
  },
  {
   "cell_type": "code",
   "execution_count": 188,
   "id": "dd857302",
   "metadata": {},
   "outputs": [
    {
     "data": {
      "application/vnd.jupyter.widget-view+json": {
       "model_id": "7aa2ce0cf6c44c6e9797f58c4e24f8c7",
       "version_major": 2,
       "version_minor": 0
      },
      "text/plain": [
       "VBox()"
      ]
     },
     "metadata": {},
     "output_type": "display_data"
    },
    {
     "data": {
      "application/vnd.jupyter.widget-view+json": {
       "model_id": "",
       "version_major": 2,
       "version_minor": 0
      },
      "text/plain": [
       "FloatProgress(value=0.0, bar_style='info', description='Progress:', layout=Layout(height='25px', width='50%'),…"
      ]
     },
     "metadata": {},
     "output_type": "display_data"
    }
   ],
   "source": [
    "if modality in lista_limite_total_modalidade:    \n",
    "    df_limite_disponivel_3_MERC_M0 = df10.select(\"CD\",\"M0\",f'{modality}_LMT_DISPONIVEL_MERC')\n",
    "    df_limite_disponivel_3_MERC_M0 = df_limite_disponivel_3_MERC_M0.withColumnRenamed(f'{modality}_LMT_DISPONIVEL_MERC', f'{modality}_LMT_DISPONIVEL_MERC_M1')\n",
    "\n",
    "    df_limite_disponivel_3_MERC_M1 = df10.select(\"CD\",\"M0\",f'{modality}_LMT_DISPONIVEL_MERC')\n",
    "    df_limite_disponivel_3_MERC_M1 = df_limite_disponivel_3_MERC_M1.withColumnRenamed('M0', 'M1')\n",
    "    df_limite_disponivel_3_MERC_M1 = df_limite_disponivel_3_MERC_M1.withColumnRenamed(f'{modality}_LMT_DISPONIVEL_MERC', f'{modality}_LMT_DISPONIVEL_MERC_M2')\n",
    "\n",
    "    df_limite_disponivel_3_MERC_M2 = df10.select(\"CD\",\"M0\",f'{modality}_LMT_DISPONIVEL_MERC')\n",
    "    df_limite_disponivel_3_MERC_M2 = df_limite_disponivel_3_MERC_M2.withColumnRenamed('M0', 'M2')\n",
    "    df_limite_disponivel_3_MERC_M2 = df_limite_disponivel_3_MERC_M2.withColumnRenamed(f'{modality}_LMT_DISPONIVEL_MERC', f'{modality}_LMT_DISPONIVEL_MERC_M3')\n",
    "\n",
    "    df10 = df10.join(df_limite_disponivel_3_MERC_M0,[\"M0\",\"CD\"],\"left\")# join entre M0 e M0\n",
    "    df10 = df10.join(df_limite_disponivel_3_MERC_M1,[\"M1\",\"CD\"],\"left\")# join entre M0 e M1\n",
    "    df10 = df10.join(df_limite_disponivel_3_MERC_M2,[\"M2\",\"CD\"],\"left\")# join entre M0 e M2"
   ]
  },
  {
   "cell_type": "code",
   "execution_count": 189,
   "id": "eff7588e",
   "metadata": {},
   "outputs": [
    {
     "data": {
      "application/vnd.jupyter.widget-view+json": {
       "model_id": "0f8efc6ed8d649e78109cc264e57c3c7",
       "version_major": 2,
       "version_minor": 0
      },
      "text/plain": [
       "VBox()"
      ]
     },
     "metadata": {},
     "output_type": "display_data"
    },
    {
     "data": {
      "application/vnd.jupyter.widget-view+json": {
       "model_id": "",
       "version_major": 2,
       "version_minor": 0
      },
      "text/plain": [
       "FloatProgress(value=0.0, bar_style='info', description='Progress:', layout=Layout(height='25px', width='50%'),…"
      ]
     },
     "metadata": {},
     "output_type": "display_data"
    }
   ],
   "source": [
    "if modality in lista_limite_total_modalidade:\n",
    "    lista_limite_disponivel_3 = [f'{modality}_LMT_DISPONIVEL_M1', f'{modality}_LMT_DISPONIVEL_M2', f'{modality}_LMT_DISPONIVEL_M3']\n",
    "\n",
    "    lista_limite_disponivel_3_MERC = [f'{modality}_LMT_DISPONIVEL_MERC_M1', f'{modality}_LMT_DISPONIVEL_MERC_M2', f'{modality}_LMT_DISPONIVEL_MERC_M3']"
   ]
  },
  {
   "cell_type": "code",
   "execution_count": 190,
   "id": "3bec91a4",
   "metadata": {},
   "outputs": [
    {
     "data": {
      "application/vnd.jupyter.widget-view+json": {
       "model_id": "a69fab992f2c454597931d6a1f66efd3",
       "version_major": 2,
       "version_minor": 0
      },
      "text/plain": [
       "VBox()"
      ]
     },
     "metadata": {},
     "output_type": "display_data"
    },
    {
     "data": {
      "application/vnd.jupyter.widget-view+json": {
       "model_id": "",
       "version_major": 2,
       "version_minor": 0
      },
      "text/plain": [
       "FloatProgress(value=0.0, bar_style='info', description='Progress:', layout=Layout(height='25px', width='50%'),…"
      ]
     },
     "metadata": {},
     "output_type": "display_data"
    }
   ],
   "source": [
    "if modality in lista_limite_total_modalidade:\n",
    "    df10 = df10.withColumn(f'{modality}_PERC_LIMITE_DISP_3M', F.round((reduce(add, [F.col(x) for x in lista_limite_disponivel_3])/3).cast(DoubleType()),4))\n",
    "    df10 = df10.withColumn(f'{modality}_PERC_LIMITE_DISP_3M_MERC', F.round((reduce(add, [F.col(x) for x in lista_limite_disponivel_3_MERC])/3).cast(DoubleType()),4))\n",
    "    df10 = df10.withColumn(f'{modality}_PERC_LIMITE_DISP_3M_V2', F.round((reduce(add, [F.col(x) for x in lista_limite_disponivel_3])).cast(DoubleType()),4))\n",
    "    df10 = df10.withColumn(f'{modality}_PERC_LIMITE_DISP_3M_MERC_V2', F.round((reduce(add, [F.col(x) for x in lista_limite_disponivel_3_MERC])).cast(DoubleType()),4))"
   ]
  },
  {
   "cell_type": "markdown",
   "id": "a0abdb97",
   "metadata": {},
   "source": [
    "VAR_SALDO_M0_M1_RZMO & _VAR_VCD_PREJ_M0_M1_RZMO"
   ]
  },
  {
   "cell_type": "code",
   "execution_count": 191,
   "id": "d5f47e81",
   "metadata": {},
   "outputs": [
    {
     "data": {
      "application/vnd.jupyter.widget-view+json": {
       "model_id": "d63d8cd6dd0e4959b0ac19d9d8308cfd",
       "version_major": 2,
       "version_minor": 0
      },
      "text/plain": [
       "VBox()"
      ]
     },
     "metadata": {},
     "output_type": "display_data"
    },
    {
     "data": {
      "application/vnd.jupyter.widget-view+json": {
       "model_id": "",
       "version_major": 2,
       "version_minor": 0
      },
      "text/plain": [
       "FloatProgress(value=0.0, bar_style='info', description='Progress:', layout=Layout(height='25px', width='50%'),…"
      ]
     },
     "metadata": {},
     "output_type": "display_data"
    }
   ],
   "source": [
    "df10 = df10.withColumn(f'{modality}_VAR_SALDO_M0_M1_RZMO', F.col(f'{modality}_VAR_SALDO_M0_M1_MERC')/F.col(f'{modality}_SALDO_TOTAL_TT_OMNI'))"
   ]
  },
  {
   "cell_type": "code",
   "execution_count": 192,
   "id": "638bc5cb",
   "metadata": {},
   "outputs": [
    {
     "data": {
      "application/vnd.jupyter.widget-view+json": {
       "model_id": "388a7a1b508a4e98a34bbd2de7bcd10c",
       "version_major": 2,
       "version_minor": 0
      },
      "text/plain": [
       "VBox()"
      ]
     },
     "metadata": {},
     "output_type": "display_data"
    },
    {
     "data": {
      "application/vnd.jupyter.widget-view+json": {
       "model_id": "",
       "version_major": 2,
       "version_minor": 0
      },
      "text/plain": [
       "FloatProgress(value=0.0, bar_style='info', description='Progress:', layout=Layout(height='25px', width='50%'),…"
      ]
     },
     "metadata": {},
     "output_type": "display_data"
    }
   ],
   "source": [
    "df10 = df10.withColumn(f'{modality}_VAR_VCD_PREJ_M0_M1_RZMO', F.col(f'{modality}_VAR_VCD_PREJ_M0_M1_MERC')/F.col(f'{modality}_SALDO_TOTAL_TT_OMNI'))"
   ]
  },
  {
   "cell_type": "markdown",
   "id": "23f957b1",
   "metadata": {},
   "source": [
    "RZ_MEDIA_AVCR_3MESES_PARC"
   ]
  },
  {
   "cell_type": "code",
   "execution_count": 193,
   "id": "9b918e45",
   "metadata": {},
   "outputs": [
    {
     "data": {
      "application/vnd.jupyter.widget-view+json": {
       "model_id": "7582d40054d64071859062e3dd7ca3cf",
       "version_major": 2,
       "version_minor": 0
      },
      "text/plain": [
       "VBox()"
      ]
     },
     "metadata": {},
     "output_type": "display_data"
    },
    {
     "data": {
      "application/vnd.jupyter.widget-view+json": {
       "model_id": "",
       "version_major": 2,
       "version_minor": 0
      },
      "text/plain": [
       "FloatProgress(value=0.0, bar_style='info', description='Progress:', layout=Layout(height='25px', width='50%'),…"
      ]
     },
     "metadata": {},
     "output_type": "display_data"
    }
   ],
   "source": [
    "#recreating the Omni vision columns of to be overdue credit of the next three months\n",
    "df10 = df10.withColumn('CRED_A_VENCER_ATE_30_OMNI', subIgnoringNaN(['CRED_A_VENCER_ATE_30_TOTAL','CRED_A_VENCER_ATE_30_MERCADO'])).replace(0.0, None, ['CRED_A_VENCER_ATE_30_OMNI'])\n",
    "df10 = df10.withColumn('CRED_A_VENCER_DE_31_A_60_OMNI', subIgnoringNaN(['CRED_A_VENCER_DE_31_A_60_TOTAL','CRED_A_VENCER_DE_31_A_60_MERCADO'])).replace(0.0, None, ['CRED_A_VENCER_DE_31_A_60_OMNI'])\n",
    "df10 = df10.withColumn('CRED_A_VENCER_DE_61_A_90_OMNI', subIgnoringNaN(['CRED_A_VENCER_DE_61_A_90_TOTAL','CRED_A_VENCER_DE_61_A_90_MERCADO'])).replace(0.0, None, ['CRED_A_VENCER_DE_61_A_90_OMNI'])"
   ]
  },
  {
   "cell_type": "code",
   "execution_count": 194,
   "id": "84aa560d",
   "metadata": {},
   "outputs": [
    {
     "data": {
      "application/vnd.jupyter.widget-view+json": {
       "model_id": "c5f0b04ca0284aba8aff720dec11e718",
       "version_major": 2,
       "version_minor": 0
      },
      "text/plain": [
       "VBox()"
      ]
     },
     "metadata": {},
     "output_type": "display_data"
    },
    {
     "data": {
      "application/vnd.jupyter.widget-view+json": {
       "model_id": "",
       "version_major": 2,
       "version_minor": 0
      },
      "text/plain": [
       "FloatProgress(value=0.0, bar_style='info', description='Progress:', layout=Layout(height='25px', width='50%'),…"
      ]
     },
     "metadata": {},
     "output_type": "display_data"
    }
   ],
   "source": [
    "df10 = df10.withColumn(f'{modality}_RZ_MEDIA_AVCR_3MESES_PARC', round(df10[f'{modality}_MEDIA_AVCR_3MESES']/avgIgnoringNaN(['CRED_A_VENCER_ATE_30_OMNI','CRED_A_VENCER_DE_31_A_60_OMNI','CRED_A_VENCER_DE_61_A_90_OMNI']).cast(DoubleType()),4))"
   ]
  },
  {
   "cell_type": "code",
   "execution_count": 195,
   "id": "7bc2830d",
   "metadata": {},
   "outputs": [
    {
     "data": {
      "application/vnd.jupyter.widget-view+json": {
       "model_id": "53cbd76fb59a4ebd831c49df5691fdd3",
       "version_major": 2,
       "version_minor": 0
      },
      "text/plain": [
       "VBox()"
      ]
     },
     "metadata": {},
     "output_type": "display_data"
    },
    {
     "data": {
      "application/vnd.jupyter.widget-view+json": {
       "model_id": "",
       "version_major": 2,
       "version_minor": 0
      },
      "text/plain": [
       "FloatProgress(value=0.0, bar_style='info', description='Progress:', layout=Layout(height='25px', width='50%'),…"
      ]
     },
     "metadata": {},
     "output_type": "display_data"
    }
   ],
   "source": [
    "df10 = df10.withColumn(f'{modality}_RZ_MEDIA_AVCR_3MESES_PARC_V2', round(df10[f'{modality}_MEDIA_AVCR_3MESES_V2']/(reduce(add, [F.col(x) for x in ['CRED_A_VENCER_ATE_30_OMNI','CRED_A_VENCER_DE_31_A_60_OMNI','CRED_A_VENCER_DE_61_A_90_OMNI']])/3).cast(DoubleType()),4))"
   ]
  },
  {
   "cell_type": "markdown",
   "id": "93b98bbd",
   "metadata": {},
   "source": [
    "SHARE_SALDO_TOTAL & SHARE_SALDO_TOTAL_MERC"
   ]
  },
  {
   "cell_type": "code",
   "execution_count": 196,
   "id": "627ec64d",
   "metadata": {},
   "outputs": [
    {
     "data": {
      "application/vnd.jupyter.widget-view+json": {
       "model_id": "49eb41bf2b5a4947bd8b6af388703106",
       "version_major": 2,
       "version_minor": 0
      },
      "text/plain": [
       "VBox()"
      ]
     },
     "metadata": {},
     "output_type": "display_data"
    },
    {
     "data": {
      "application/vnd.jupyter.widget-view+json": {
       "model_id": "",
       "version_major": 2,
       "version_minor": 0
      },
      "text/plain": [
       "FloatProgress(value=0.0, bar_style='info', description='Progress:', layout=Layout(height='25px', width='50%'),…"
      ]
     },
     "metadata": {},
     "output_type": "display_data"
    }
   ],
   "source": [
    "lista_share = ['CRT', 'VEIC', 'CP', 'CHE', 'CNG', 'MCC', 'IMB', 'DMS']"
   ]
  },
  {
   "cell_type": "code",
   "execution_count": 197,
   "id": "a8df176c",
   "metadata": {},
   "outputs": [
    {
     "data": {
      "application/vnd.jupyter.widget-view+json": {
       "model_id": "11ea02b33ca849c0bfd2c77bc59d85e1",
       "version_major": 2,
       "version_minor": 0
      },
      "text/plain": [
       "VBox()"
      ]
     },
     "metadata": {},
     "output_type": "display_data"
    },
    {
     "data": {
      "application/vnd.jupyter.widget-view+json": {
       "model_id": "",
       "version_major": 2,
       "version_minor": 0
      },
      "text/plain": [
       "FloatProgress(value=0.0, bar_style='info', description='Progress:', layout=Layout(height='25px', width='50%'),…"
      ]
     },
     "metadata": {},
     "output_type": "display_data"
    }
   ],
   "source": [
    "if modality in lista_share:\n",
    "    df10 = df10.withColumn(f'{modality}_SHARE_SALDO_TOTAL',round((F.col(f'{modality}_SALDO_TOTAL')/F.col(f'{modality}_SALDO_TOTAL_TT_TOTAL')).cast(DoubleType()),4))\n",
    "    df10 = df10.withColumn(f'{modality}_SHARE_SALDO_TOTAL_MERC',round((F.col(f'{modality}_SALDO_TOTAL_MERC')/F.col(f'{modality}_SALDO_TOTAL_TT_TOTAL')).cast(DoubleType()),4))"
   ]
  },
  {
   "cell_type": "markdown",
   "id": "c6039172",
   "metadata": {},
   "source": [
    "SHARE_VCD & SHARE_VCD_MERC"
   ]
  },
  {
   "cell_type": "code",
   "execution_count": 198,
   "id": "849ea9cc",
   "metadata": {},
   "outputs": [
    {
     "data": {
      "application/vnd.jupyter.widget-view+json": {
       "model_id": "523e6450dbb34719b8d78341c71060a7",
       "version_major": 2,
       "version_minor": 0
      },
      "text/plain": [
       "VBox()"
      ]
     },
     "metadata": {},
     "output_type": "display_data"
    },
    {
     "data": {
      "application/vnd.jupyter.widget-view+json": {
       "model_id": "",
       "version_major": 2,
       "version_minor": 0
      },
      "text/plain": [
       "FloatProgress(value=0.0, bar_style='info', description='Progress:', layout=Layout(height='25px', width='50%'),…"
      ]
     },
     "metadata": {},
     "output_type": "display_data"
    }
   ],
   "source": [
    "if modality in lista_share:\n",
    "    df10 = df10.withColumn(f'{modality}_SHARE_VCD',round((F.col(f'{modality}_VCD')/F.col(f'{modality}_SALDO_VCD_TOTAL_TT_TOTAL')).cast(DoubleType()),4))\n",
    "    df10 = df10.withColumn(f'{modality}_SHARE_VCD_MERC',round((F.col(f'{modality}_VCD_MERC')/F.col(f'{modality}_SALDO_VCD_TOTAL_TT_TOTAL')).cast(DoubleType()),4))"
   ]
  },
  {
   "cell_type": "markdown",
   "id": "f86da778",
   "metadata": {},
   "source": [
    "SHARE_AVCR & SHARE_AVCR_MERC"
   ]
  },
  {
   "cell_type": "code",
   "execution_count": 199,
   "id": "40c34aa2",
   "metadata": {},
   "outputs": [
    {
     "data": {
      "application/vnd.jupyter.widget-view+json": {
       "model_id": "061205030d994a998c06f6bf23a5e4a4",
       "version_major": 2,
       "version_minor": 0
      },
      "text/plain": [
       "VBox()"
      ]
     },
     "metadata": {},
     "output_type": "display_data"
    },
    {
     "data": {
      "application/vnd.jupyter.widget-view+json": {
       "model_id": "",
       "version_major": 2,
       "version_minor": 0
      },
      "text/plain": [
       "FloatProgress(value=0.0, bar_style='info', description='Progress:', layout=Layout(height='25px', width='50%'),…"
      ]
     },
     "metadata": {},
     "output_type": "display_data"
    }
   ],
   "source": [
    "if modality in lista_share:\n",
    "    df10 = df10.withColumn(f'{modality}_SHARE_AVCR',round((F.col(f'{modality}_AVCR')/F.col(f'{modality}_SALDO_AVCR_TOTAL_TT_TOTAL')).cast(DoubleType()),4))\n",
    "    df10 = df10.withColumn(f'{modality}_SHARE_AVCR_MERC',round((F.col(f'{modality}_AVCR_MERC')/F.col(f'{modality}_SALDO_AVCR_TOTAL_TT_TOTAL')).cast(DoubleType()),4))"
   ]
  },
  {
   "cell_type": "markdown",
   "id": "1189928c",
   "metadata": {},
   "source": [
    "SHARE_PREJ & SHARE_PREJ_MERC"
   ]
  },
  {
   "cell_type": "code",
   "execution_count": 200,
   "id": "55657dd4",
   "metadata": {
    "scrolled": true
   },
   "outputs": [
    {
     "data": {
      "application/vnd.jupyter.widget-view+json": {
       "model_id": "ff4b56d23c344f398febd7a7c608f883",
       "version_major": 2,
       "version_minor": 0
      },
      "text/plain": [
       "VBox()"
      ]
     },
     "metadata": {},
     "output_type": "display_data"
    },
    {
     "data": {
      "application/vnd.jupyter.widget-view+json": {
       "model_id": "",
       "version_major": 2,
       "version_minor": 0
      },
      "text/plain": [
       "FloatProgress(value=0.0, bar_style='info', description='Progress:', layout=Layout(height='25px', width='50%'),…"
      ]
     },
     "metadata": {},
     "output_type": "display_data"
    }
   ],
   "source": [
    "if modality in lista_share:\n",
    "    df10 = df10.withColumn(f'{modality}_SHARE_PREJ',round((F.col(f'{modality}_PREJ')/F.col(f'{modality}_SALDO_PREJUIZO_TOTAL_TT_TOTAL')).cast(DoubleType()),4))\n",
    "    df10 = df10.withColumn(f'{modality}_SHARE_PREJ_MERC',round((F.col(f'{modality}_PREJ_MERC')/F.col(f'{modality}_SALDO_PREJUIZO_TOTAL_TT_TOTAL')).cast(DoubleType()),4))"
   ]
  },
  {
   "cell_type": "markdown",
   "id": "b9b4fb00",
   "metadata": {},
   "source": [
    "SHARE_OMNI_SALDO_TOTAL & SHARE_OMNI_VCD & SHARE_OMNI_AVCR & SHARE_OMNI_PREJUIZO"
   ]
  },
  {
   "cell_type": "code",
   "execution_count": 201,
   "id": "a6b0458d",
   "metadata": {},
   "outputs": [
    {
     "data": {
      "application/vnd.jupyter.widget-view+json": {
       "model_id": "14bcd8e4756440f89a17859855b8f648",
       "version_major": 2,
       "version_minor": 0
      },
      "text/plain": [
       "VBox()"
      ]
     },
     "metadata": {},
     "output_type": "display_data"
    },
    {
     "data": {
      "application/vnd.jupyter.widget-view+json": {
       "model_id": "",
       "version_major": 2,
       "version_minor": 0
      },
      "text/plain": [
       "FloatProgress(value=0.0, bar_style='info', description='Progress:', layout=Layout(height='25px', width='50%'),…"
      ]
     },
     "metadata": {},
     "output_type": "display_data"
    }
   ],
   "source": [
    "if modality in ['TT', 'CRT', 'VEIC', 'CP', 'CHE', 'CNG', 'MCC', 'IMB', 'DMS']:\n",
    "    df10 = df10.withColumn(f'{modality}_SHARE_OMNI_SALDO_TOTAL',round((F.col(f'{modality}_SALDO_TOTAL_TT_OMNI')/F.col(f'{modality}_SALDO_TOTAL_TT_TOTAL')).cast(DoubleType()),4))\n",
    "    df10 = df10.withColumn(f'{modality}_SHARE_OMNI_VCD',round((F.col(f'{modality}_SALDO_VCD_TOTAL_TT_OMNI')/F.col(f'{modality}_SALDO_VCD_TOTAL_TT_TOTAL')).cast(DoubleType()),4))\n",
    "    df10 = df10.withColumn(f'{modality}_SHARE_OMNI_AVCR',round((F.col(f'{modality}_SALDO_AVCR_TOTAL_TT_OMNI')/F.col(f'{modality}_SALDO_AVCR_TOTAL_TT_TOTAL')).cast(DoubleType()),4))\n",
    "    df10 = df10.withColumn(f'{modality}_SHARE_OMNI_PREJUIZO',round((F.col(f'{modality}_SALDO_PREJUIZO_TOTAL_TT_OMNI')/F.col(f'{modality}_SALDO_PREJUIZO_TOTAL_TT_TOTAL')).cast(DoubleType()),4))\n"
   ]
  },
  {
   "cell_type": "code",
   "execution_count": 202,
   "id": "e185b190",
   "metadata": {},
   "outputs": [
    {
     "data": {
      "application/vnd.jupyter.widget-view+json": {
       "model_id": "b9ccbab9ca1040b59dcbd4c70b3d7e65",
       "version_major": 2,
       "version_minor": 0
      },
      "text/plain": [
       "VBox()"
      ]
     },
     "metadata": {},
     "output_type": "display_data"
    },
    {
     "data": {
      "application/vnd.jupyter.widget-view+json": {
       "model_id": "",
       "version_major": 2,
       "version_minor": 0
      },
      "text/plain": [
       "FloatProgress(value=0.0, bar_style='info', description='Progress:', layout=Layout(height='25px', width='50%'),…"
      ]
     },
     "metadata": {},
     "output_type": "display_data"
    }
   ],
   "source": [
    "for column in df10.columns:\n",
    "    if column.endswith('M0_M1') or column.endswith('M0_M1_MERC') or column.endswith('M0_M1_RZMO'):\n",
    "        df10 = df10.withColumn(column, F.round(column, 4))"
   ]
  },
  {
   "cell_type": "code",
   "execution_count": 203,
   "id": "570d383f",
   "metadata": {},
   "outputs": [
    {
     "data": {
      "application/vnd.jupyter.widget-view+json": {
       "model_id": "a71a1a4585fe464d976064e02699f3b9",
       "version_major": 2,
       "version_minor": 0
      },
      "text/plain": [
       "VBox()"
      ]
     },
     "metadata": {},
     "output_type": "display_data"
    },
    {
     "data": {
      "application/vnd.jupyter.widget-view+json": {
       "model_id": "",
       "version_major": 2,
       "version_minor": 0
      },
      "text/plain": [
       "FloatProgress(value=0.0, bar_style='info', description='Progress:', layout=Layout(height='25px', width='50%'),…"
      ]
     },
     "metadata": {},
     "output_type": "display_data"
    }
   ],
   "source": [
    "df10 = df10.na.fill(value=0)"
   ]
  },
  {
   "cell_type": "code",
   "execution_count": 204,
   "id": "3d88f0ce",
   "metadata": {},
   "outputs": [
    {
     "data": {
      "application/vnd.jupyter.widget-view+json": {
       "model_id": "93665cb6b8534b05bcf331b1466951be",
       "version_major": 2,
       "version_minor": 0
      },
      "text/plain": [
       "VBox()"
      ]
     },
     "metadata": {},
     "output_type": "display_data"
    },
    {
     "data": {
      "application/vnd.jupyter.widget-view+json": {
       "model_id": "",
       "version_major": 2,
       "version_minor": 0
      },
      "text/plain": [
       "FloatProgress(value=0.0, bar_style='info', description='Progress:', layout=Layout(height='25px', width='50%'),…"
      ]
     },
     "metadata": {},
     "output_type": "display_data"
    }
   ],
   "source": [
    "lista_em_comum = ['VEIC', 'CP', 'CNG', 'MCC', 'IMB', 'DMS']"
   ]
  },
  {
   "cell_type": "code",
   "execution_count": 205,
   "id": "2fdbaea5",
   "metadata": {},
   "outputs": [
    {
     "data": {
      "application/vnd.jupyter.widget-view+json": {
       "model_id": "5bb69f743a0d48da9895b0d418915fbf",
       "version_major": 2,
       "version_minor": 0
      },
      "text/plain": [
       "VBox()"
      ]
     },
     "metadata": {},
     "output_type": "display_data"
    },
    {
     "data": {
      "application/vnd.jupyter.widget-view+json": {
       "model_id": "",
       "version_major": 2,
       "version_minor": 0
      },
      "text/plain": [
       "FloatProgress(value=0.0, bar_style='info', description='Progress:', layout=Layout(height='25px', width='50%'),…"
      ]
     },
     "metadata": {},
     "output_type": "display_data"
    }
   ],
   "source": [
    "if modality in lista_limite_total_modalidade:\n",
    "    df11 = df10.select(\n",
    "    \"DTBASE\",\n",
    "    \"CD\",\n",
    "    \"M0\",\n",
    "    \"M1\",\n",
    "    \"M2\",\n",
    "    \"M3\",\n",
    "    \"M4\",\n",
    "    \"M5\",\n",
    "    f\"{modality}_MAIOR_ATRASO_VCD\",\n",
    "    f\"{modality}_MAIOR_ATRASO_VCD_MERC\",\n",
    "    f\"{modality}_PREJ_ATE_12M\",\n",
    "    f\"{modality}_PREJ_ATE_12M_MERC\",\n",
    "    f\"{modality}_PREJ_ATE_12M_RZMO\",\n",
    "    f\"{modality}_PREJ_12_48M\",\n",
    "    f\"{modality}_PREJ_12_48M_MERC\",\n",
    "    f\"{modality}_PREJ_12_48M_RZMO\",\n",
    "    f\"{modality}_VCD_E_AVCR_TOTAL\",\n",
    "    f\"{modality}_VCD_E_AVCR_MERC\",\n",
    "    f\"{modality}_VCD_E_AVCR_RZMO\",\n",
    "    f\"{modality}_VCD\",\n",
    "    f\"{modality}_VCD_MERC\",\n",
    "    f\"{modality}_VCD_RZMO\",\n",
    "    f\"{modality}_RZ_VCD_POR_VCD_E_AVCR\",\n",
    "    f\"{modality}_RZ_VCD_POR_VCD_E_AVCR_MERC\",\n",
    "    f\"{modality}_RZ_VCD_PREJ_POR_DIVIDA\",\n",
    "    f\"{modality}_RZ_VCD_PREJ_POR_DIVIDA_MERC\",\n",
    "    f\"{modality}_MAIOR_PRAZO_AVCR\",\n",
    "    f\"{modality}_MAIOR_PRAZO_AVCR_MERC\",\n",
    "    f\"{modality}_RZ_AVCR_ATE90_POR_AVCR\",\n",
    "    f\"{modality}_RZ_AVCR_ATE90_POR_AVCR_MERC\",\n",
    "    f\"{modality}_RZ_AVCR_91_180_POR_AVCR\",\n",
    "    f\"{modality}_RZ_AVCR_91_180_POR_AVCR_MERC\",\n",
    "    f\"{modality}_RZ_AVCR_181_360_POR_AVCR\",\n",
    "    f\"{modality}_RZ_AVCR_181_360_POR_AVCR_MERC\",\n",
    "    f\"{modality}_RZ_AVCR_361_720_POR_AVCR\",\n",
    "    f\"{modality}_RZ_AVCR_361_720_POR_AVCR_MERC\",\n",
    "    f\"{modality}_RZ_AVCR_721_1080_POR_AVCR\",\n",
    "    f\"{modality}_RZ_AVCR_721_1080_POR_AVCR_MERC\",\n",
    "    f\"{modality}_RZ_AVCR_1081_1800_POR_AVCR\",\n",
    "    f\"{modality}_RZ_AVCR_1081_1800_POR_AVCR_MERC\",\n",
    "    f\"{modality}_RZ_AVCR_ACI1800_POR_AVCR\",\n",
    "    f\"{modality}_RZ_AVCR_ACI1800_POR_AVCR_MERC\",\n",
    "    f\"{modality}_AVCR_ATE90\",\n",
    "    f\"{modality}_AVCR_ATE90_MERC\",\n",
    "    f\"{modality}_AVCR_ATE90_RZMO\",\n",
    "    f\"{modality}_AVCR_91_180\",\n",
    "    f\"{modality}_AVCR_91_180_MERC\",\n",
    "    f\"{modality}_AVCR_91_180_RZMO\",\n",
    "    f\"{modality}_AVCR_181_360\",\n",
    "    f\"{modality}_AVCR_181_360_MERC\",\n",
    "    f\"{modality}_AVCR_181_360_RZMO\",\n",
    "    f\"{modality}_AVCR_361_720\",\n",
    "    f\"{modality}_AVCR_361_720_MERC\",\n",
    "    f\"{modality}_AVCR_361_720_RZMO\",\n",
    "    f\"{modality}_AVCR_721_1080\",\n",
    "    f\"{modality}_AVCR_721_1080_MERC\",\n",
    "    f\"{modality}_AVCR_721_1080_RZMO\",\n",
    "    f\"{modality}_AVCR_1081_1800\",\n",
    "    f\"{modality}_AVCR_1081_1800_MERC\",\n",
    "    f\"{modality}_AVCR_1081_1800_RZMO\",\n",
    "    f\"{modality}_AVCR_ACI1800\",\n",
    "    f\"{modality}_AVCR_ACI1800_MERC\",\n",
    "    f\"{modality}_AVCR_ACI1800_RZMO\",\n",
    "    f\"{modality}_RZ_VCD_ATE30_POR_VCD\",\n",
    "    f\"{modality}_RZ_VCD_ATE30_POR_VCD_MERC\",\n",
    "    f\"{modality}_RZ_VCD_31_60_POR_VCD\",\n",
    "    f\"{modality}_RZ_VCD_31_60_POR_VCD_MERC\",\n",
    "    f\"{modality}_RZ_VCD_61_90_POR_VCD\",\n",
    "    f\"{modality}_RZ_VCD_61_90_POR_VCD_MERC\",\n",
    "    f\"{modality}_RZ_VCD_91_180_POR_VCD\",\n",
    "    f\"{modality}_RZ_VCD_91_180_POR_VCD_MERC\",\n",
    "    f\"{modality}_RZ_VCD_181_360_POR_VCD\",\n",
    "    f\"{modality}_RZ_VCD_181_360_POR_VCD_MERC\",\n",
    "    f\"{modality}_VCD_ATE30\",\n",
    "    f\"{modality}_VCD_ATE30_MERC\",\n",
    "    f\"{modality}_VCD_ATE30_RZMO\",\n",
    "    f\"{modality}_VCD_31_60\",\n",
    "    f\"{modality}_VCD_31_60_MERC\",\n",
    "    f\"{modality}_VCD_31_60_RZMO\",\n",
    "    f\"{modality}_VCD_61_90\",\n",
    "    f\"{modality}_VCD_61_90_MERC\",\n",
    "    f\"{modality}_VCD_61_90_RZMO\",\n",
    "    f\"{modality}_VCD_91_180\",\n",
    "    f\"{modality}_VCD_91_180_MERC\",\n",
    "    f\"{modality}_VCD_91_180_RZMO\",\n",
    "    f\"{modality}_VCD_181_360\",\n",
    "    f\"{modality}_VCD_181_360_MERC\",\n",
    "    f\"{modality}_VCD_181_360_RZMO\",\n",
    "    f\"{modality}_VAR_MAIOR_ATRASO_M0_M1\",\n",
    "    f\"{modality}_VAR_MAIOR_ATRASO_M0_M1_MERC\",\n",
    "    f\"{modality}_VAR_SALDO_M0_M1\",\n",
    "    f\"{modality}_VAR_SALDO_M0_M1_MERC\",\n",
    "    f\"{modality}_VAR_SALDO_M0_M1_RZMO\",\n",
    "    f\"{modality}_VAR_VCD_PREJ_M0_M1\",\n",
    "    f\"{modality}_VAR_VCD_PREJ_M0_M1_MERC\",\n",
    "    f\"{modality}_VAR_VCD_PREJ_M0_M1_RZMO\",\n",
    "    f\"{modality}_MEDIA_AVCR_3MESES\",\n",
    "    f\"{modality}_MEDIA_AVCR_3MESES_MERC\",\n",
    "    f\"{modality}_RZ_MEDIA_AVCR_3MESES_PARC\",\n",
    "    f\"{modality}_MEDIA_AVCR_3MESES_V2\",\n",
    "    f\"{modality}_MEDIA_AVCR_3MESES_MERC_V2\",\n",
    "    f\"{modality}_RZ_MEDIA_AVCR_3MESES_PARC_V2\",\n",
    "    f\"{modality}_LMT_DISPONIVEL\",\n",
    "    f\"{modality}_LMT_DISPONIVEL_MERC\",\n",
    "    f\"{modality}_LMT_DISPONIVEL_RZMO\",\n",
    "    f\"{modality}_LMT_TOTAL\",\n",
    "    f\"{modality}_LMT_TOTAL_MERC\",\n",
    "    f\"{modality}_LMT_TOTAL_RZMO\",\n",
    "    f\"{modality}_RZ_LMT_TOTAL_QTD_INST_FIN\",\n",
    "    f\"{modality}_RZ_LMT_TOTAL_QTD_OPERAC\",\n",
    "    f\"{modality}_PERC_LIMITE_DISPONIVEL\",\n",
    "    f\"{modality}_PERC_LIMITE_DISPONIVEL_MERC\",\n",
    "    f\"{modality}_PERC_LIMITE_DISP_3M\",\n",
    "    f\"{modality}_PERC_LIMITE_DISP_3M_MERC\",\n",
    "    f\"{modality}_PERC_LIMITE_DISP_3M_V2\",\n",
    "    f\"{modality}_PERC_LIMITE_DISP_3M_MERC_V2\",\n",
    "    f\"{modality}_SALDO_TOTAL\",\n",
    "    f\"{modality}_SALDO_TOTAL_MERC\",\n",
    "    f\"{modality}_SALDO_TOTAL_RZMO\",\n",
    "    f\"{modality}_PREJ\",\n",
    "    f\"{modality}_PREJ_MERC\",\n",
    "    f\"{modality}_PREJ_RZMO\",\n",
    "    f\"{modality}_AVCR\",\n",
    "    f\"{modality}_AVCR_MERC\",\n",
    "    f\"{modality}_AVCR_RZMO\",\n",
    "    f\"{modality}_SHARE_SALDO_TOTAL\",\n",
    "    f\"{modality}_SHARE_SALDO_TOTAL_MERC\",\n",
    "    f\"{modality}_SHARE_VCD\",\n",
    "    f\"{modality}_SHARE_VCD_MERC\",\n",
    "    f\"{modality}_SHARE_AVCR\",\n",
    "    f\"{modality}_SHARE_AVCR_MERC\",\n",
    "    f\"{modality}_SHARE_PREJ\",\n",
    "    f\"{modality}_SHARE_PREJ_MERC\",\n",
    "    f\"{modality}_SHARE_OMNI_SALDO_TOTAL\",\n",
    "    f\"{modality}_SHARE_OMNI_VCD\",\n",
    "    f\"{modality}_SHARE_OMNI_AVCR\",\n",
    "    f\"{modality}_SHARE_OMNI_PREJUIZO\",\n",
    "    f\"{modality}_RZ_SALDO_M1_M0\",\n",
    "    f\"{modality}_RZ_SALDO_M1_M0_MERC\",\n",
    "    f\"{modality}_RZ_VCD_M1_M0\",\n",
    "    f\"{modality}_RZ_VCD_M1_M0_MERC\",\n",
    "    f\"{modality}_RZ_AVCR_M1_M0\",\n",
    "    f\"{modality}_RZ_AVCR_M1_M0_MERC\",\n",
    "    f\"{modality}_RZ_PREJ_M1_M0\",\n",
    "    f\"{modality}_RZ_PREJ_M1_M0_MERC\")"
   ]
  },
  {
   "cell_type": "code",
   "execution_count": 206,
   "id": "44581a69",
   "metadata": {},
   "outputs": [
    {
     "data": {
      "application/vnd.jupyter.widget-view+json": {
       "model_id": "06287005f6f44cc68f8b2bdd9cfedae6",
       "version_major": 2,
       "version_minor": 0
      },
      "text/plain": [
       "VBox()"
      ]
     },
     "metadata": {},
     "output_type": "display_data"
    },
    {
     "data": {
      "application/vnd.jupyter.widget-view+json": {
       "model_id": "",
       "version_major": 2,
       "version_minor": 0
      },
      "text/plain": [
       "FloatProgress(value=0.0, bar_style='info', description='Progress:', layout=Layout(height='25px', width='50%'),…"
      ]
     },
     "metadata": {},
     "output_type": "display_data"
    }
   ],
   "source": [
    "if modality in 'TT':\n",
    "\tdf11=df10.select(\n",
    "\t\"DTBASE\",\n",
    "\t\"CD\",\n",
    "    \"M0\",\n",
    "    \"M1\",\n",
    "    \"M2\",\n",
    "    \"M3\",\n",
    "    \"M4\",\n",
    "    \"M5\",\n",
    "    f\"{modality}_MAIOR_ATRASO_VCD\",\n",
    "    f\"{modality}_MAIOR_ATRASO_VCD_MERC\",\n",
    "    f\"{modality}_PREJ_ATE_12M\",\n",
    "    f\"{modality}_PREJ_ATE_12M_MERC\",\n",
    "    f\"{modality}_PREJ_ATE_12M_RZMO\",\n",
    "    f\"{modality}_PREJ_12_48M\",\n",
    "    f\"{modality}_PREJ_12_48M_MERC\",\n",
    "    f\"{modality}_PREJ_12_48M_RZMO\",\n",
    "    f\"{modality}_VCD_E_AVCR_TOTAL\",\n",
    "    f\"{modality}_VCD_E_AVCR_MERC\",\n",
    "    f\"{modality}_VCD_E_AVCR_RZMO\",\n",
    "    f\"{modality}_VCD\",\n",
    "    f\"{modality}_VCD_MERC\",\n",
    "    f\"{modality}_VCD_RZMO\",\n",
    "    f\"{modality}_RZ_VCD_POR_VCD_E_AVCR\",\n",
    "    f\"{modality}_RZ_VCD_POR_VCD_E_AVCR_MERC\",\n",
    "    f\"{modality}_RZ_VCD_PREJ_POR_DIVIDA\",\n",
    "    f\"{modality}_RZ_VCD_PREJ_POR_DIVIDA_MERC\",\n",
    "    f\"{modality}_MAIOR_PRAZO_AVCR\",\n",
    "    f\"{modality}_MAIOR_PRAZO_AVCR_MERC\",\n",
    "    f\"{modality}_RZ_AVCR_ATE90_POR_AVCR\",\n",
    "    f\"{modality}_RZ_AVCR_ATE90_POR_AVCR_MERC\",\n",
    "    f\"{modality}_RZ_AVCR_91_180_POR_AVCR\",\n",
    "    f\"{modality}_RZ_AVCR_91_180_POR_AVCR_MERC\",\n",
    "    f\"{modality}_RZ_AVCR_181_360_POR_AVCR\",\n",
    "    f\"{modality}_RZ_AVCR_181_360_POR_AVCR_MERC\",\n",
    "    f\"{modality}_RZ_AVCR_361_720_POR_AVCR\",\n",
    "    f\"{modality}_RZ_AVCR_361_720_POR_AVCR_MERC\",\n",
    "    f\"{modality}_RZ_AVCR_721_1080_POR_AVCR\",\n",
    "    f\"{modality}_RZ_AVCR_721_1080_POR_AVCR_MERC\",\n",
    "    f\"{modality}_RZ_AVCR_1081_1800_POR_AVCR\",\n",
    "    f\"{modality}_RZ_AVCR_1081_1800_POR_AVCR_MERC\",\n",
    "    f\"{modality}_RZ_AVCR_ACI1800_POR_AVCR\",\n",
    "    f\"{modality}_RZ_AVCR_ACI1800_POR_AVCR_MERC\",\n",
    "    f\"{modality}_AVCR_ATE90\",\n",
    "    f\"{modality}_AVCR_ATE90_MERC\",\n",
    "    f\"{modality}_AVCR_ATE90_RZMO\",\n",
    "    f\"{modality}_AVCR_91_180\",\n",
    "    f\"{modality}_AVCR_91_180_MERC\",\n",
    "    f\"{modality}_AVCR_91_180_RZMO\",\n",
    "    f\"{modality}_AVCR_181_360\",\n",
    "    f\"{modality}_AVCR_181_360_MERC\",\n",
    "    f\"{modality}_AVCR_181_360_RZMO\",\n",
    "    f\"{modality}_AVCR_361_720\",\n",
    "    f\"{modality}_AVCR_361_720_MERC\",\n",
    "    f\"{modality}_AVCR_361_720_RZMO\",\n",
    "    f\"{modality}_AVCR_721_1080\",\n",
    "    f\"{modality}_AVCR_721_1080_MERC\",\n",
    "    f\"{modality}_AVCR_721_1080_RZMO\",\n",
    "    f\"{modality}_AVCR_1081_1800\",\n",
    "    f\"{modality}_AVCR_1081_1800_MERC\",\n",
    "    f\"{modality}_AVCR_1081_1800_RZMO\",\n",
    "    f\"{modality}_AVCR_ACI1800\",\n",
    "    f\"{modality}_AVCR_ACI1800_MERC\",\n",
    "    f\"{modality}_AVCR_ACI1800_RZMO\",\n",
    "    f\"{modality}_RZ_VCD_ATE30_POR_VCD\",\n",
    "    f\"{modality}_RZ_VCD_ATE30_POR_VCD_MERC\",\n",
    "    f\"{modality}_RZ_VCD_31_60_POR_VCD\",\n",
    "    f\"{modality}_RZ_VCD_31_60_POR_VCD_MERC\",\n",
    "    f\"{modality}_RZ_VCD_61_90_POR_VCD\",\n",
    "    f\"{modality}_RZ_VCD_61_90_POR_VCD_MERC\",\n",
    "    f\"{modality}_RZ_VCD_91_180_POR_VCD\",\n",
    "    f\"{modality}_RZ_VCD_91_180_POR_VCD_MERC\",\n",
    "    f\"{modality}_RZ_VCD_181_360_POR_VCD\",\n",
    "    f\"{modality}_RZ_VCD_181_360_POR_VCD_MERC\",\n",
    "    f\"{modality}_VCD_ATE30\",\n",
    "    f\"{modality}_VCD_ATE30_MERC\",\n",
    "    f\"{modality}_VCD_ATE30_RZMO\",\n",
    "    f\"{modality}_VCD_31_60\",\n",
    "    f\"{modality}_VCD_31_60_MERC\",\n",
    "    f\"{modality}_VCD_31_60_RZMO\",\n",
    "    f\"{modality}_VCD_61_90\",\n",
    "    f\"{modality}_VCD_61_90_MERC\",\n",
    "    f\"{modality}_VCD_61_90_RZMO\",\n",
    "    f\"{modality}_VCD_91_180\",\n",
    "    f\"{modality}_VCD_91_180_MERC\",\n",
    "    f\"{modality}_VCD_91_180_RZMO\",\n",
    "    f\"{modality}_VCD_181_360\",\n",
    "    f\"{modality}_VCD_181_360_MERC\",\n",
    "    f\"{modality}_VCD_181_360_RZMO\",\n",
    "    f\"{modality}_VAR_MAIOR_ATRASO_M0_M1\",\n",
    "    f\"{modality}_VAR_MAIOR_ATRASO_M0_M1_MERC\",\n",
    "    f\"{modality}_VAR_SALDO_M0_M1\",\n",
    "    f\"{modality}_VAR_SALDO_M0_M1_MERC\",\n",
    "    f\"{modality}_VAR_SALDO_M0_M1_RZMO\",\n",
    "    f\"{modality}_VAR_VCD_PREJ_M0_M1\",\n",
    "    f\"{modality}_VAR_VCD_PREJ_M0_M1_MERC\",\n",
    "    f\"{modality}_VAR_VCD_PREJ_M0_M1_RZMO\",\n",
    "    f\"{modality}_MEDIA_AVCR_3MESES\",\n",
    "    f\"{modality}_MEDIA_AVCR_3MESES_MERC\",\n",
    "    f\"{modality}_RZ_MEDIA_AVCR_3MESES_PARC\",\n",
    "    f\"{modality}_MEDIA_AVCR_3MESES_V2\",\n",
    "    f\"{modality}_MEDIA_AVCR_3MESES_MERC_V2\",\n",
    "    f\"{modality}_RZ_MEDIA_AVCR_3MESES_PARC_V2\",\n",
    "    \"QTDIF\",\n",
    "    \"QTDOP\",\n",
    "    f\"{modality}_TEMPO_RELACIONAMENTO\",\n",
    "    f\"{modality}_SALDO_TOTAL\",\n",
    "    f\"{modality}_SALDO_TOTAL_MERC\",\n",
    "    f\"{modality}_SALDO_TOTAL_RZMO\",\n",
    "    f\"{modality}_PREJ\",\n",
    "    f\"{modality}_PREJ_MERC\",\n",
    "    f\"{modality}_PREJ_RZMO\",\n",
    "    f\"{modality}_AVCR\",\n",
    "    f\"{modality}_AVCR_MERC\",\n",
    "    f\"{modality}_AVCR_RZMO\",\n",
    "    f\"{modality}_SHARE_OMNI_SALDO_TOTAL\",\n",
    "    f\"{modality}_SHARE_OMNI_VCD\",\n",
    "    f\"{modality}_SHARE_OMNI_AVCR\",\n",
    "    f\"{modality}_SHARE_OMNI_PREJUIZO\",\n",
    "    f\"{modality}_RZ_SALDO_M1_M0\",\n",
    "    f\"{modality}_RZ_SALDO_M1_M0_MERC\",\n",
    "    f\"{modality}_RZ_VCD_M1_M0\",\n",
    "    f\"{modality}_RZ_VCD_M1_M0_MERC\",\n",
    "    f\"{modality}_RZ_AVCR_M1_M0\",\n",
    "    f\"{modality}_RZ_AVCR_M1_M0_MERC\",\n",
    "    f\"{modality}_RZ_PREJ_M1_M0\",\n",
    "    f\"{modality}_RZ_PREJ_M1_M0_MERC\"\n",
    "\t)"
   ]
  },
  {
   "cell_type": "code",
   "execution_count": 207,
   "id": "b7e0989c",
   "metadata": {},
   "outputs": [
    {
     "data": {
      "application/vnd.jupyter.widget-view+json": {
       "model_id": "166dcf1be6f3447497400eb1be5176fb",
       "version_major": 2,
       "version_minor": 0
      },
      "text/plain": [
       "VBox()"
      ]
     },
     "metadata": {},
     "output_type": "display_data"
    },
    {
     "data": {
      "application/vnd.jupyter.widget-view+json": {
       "model_id": "",
       "version_major": 2,
       "version_minor": 0
      },
      "text/plain": [
       "FloatProgress(value=0.0, bar_style='info', description='Progress:', layout=Layout(height='25px', width='50%'),…"
      ]
     },
     "metadata": {},
     "output_type": "display_data"
    }
   ],
   "source": [
    "if modality in lista_em_comum:\n",
    "\tdf11=df10.select(\n",
    "\t\"DTBASE\",\n",
    "\t\"CD\",\n",
    "    \"M0\",\n",
    "    \"M1\",\n",
    "    \"M2\",\n",
    "    \"M3\",\n",
    "    \"M4\",\n",
    "    \"M5\",\n",
    "\tf\"{modality}_MAIOR_ATRASO_VCD\",\n",
    "\tf\"{modality}_MAIOR_ATRASO_VCD_MERC\",\n",
    "\tf\"{modality}_PREJ_ATE_12M\",\n",
    "\tf\"{modality}_PREJ_ATE_12M_MERC\",\n",
    "\tf\"{modality}_PREJ_ATE_12M_RZMO\",\n",
    "\tf\"{modality}_PREJ_12_48M\",\n",
    "\tf\"{modality}_PREJ_12_48M_MERC\",\n",
    "\tf\"{modality}_PREJ_12_48M_RZMO\",\n",
    "\tf\"{modality}_VCD_E_AVCR_TOTAL\",\n",
    "\tf\"{modality}_VCD_E_AVCR_MERC\",\n",
    "\tf\"{modality}_VCD_E_AVCR_RZMO\",\n",
    "\tf\"{modality}_VCD\",\n",
    "\tf\"{modality}_VCD_MERC\",\n",
    "\tf\"{modality}_VCD_RZMO\",\n",
    "\tf\"{modality}_RZ_VCD_POR_VCD_E_AVCR\",\n",
    "\tf\"{modality}_RZ_VCD_POR_VCD_E_AVCR_MERC\",\n",
    "\tf\"{modality}_RZ_VCD_PREJ_POR_DIVIDA\",\n",
    "\tf\"{modality}_RZ_VCD_PREJ_POR_DIVIDA_MERC\",\n",
    "\tf\"{modality}_MAIOR_PRAZO_AVCR\",\n",
    "\tf\"{modality}_MAIOR_PRAZO_AVCR_MERC\",\n",
    "\tf\"{modality}_RZ_AVCR_ATE90_POR_AVCR\",\n",
    "\tf\"{modality}_RZ_AVCR_ATE90_POR_AVCR_MERC\",\n",
    "\tf\"{modality}_RZ_AVCR_91_180_POR_AVCR\",\n",
    "\tf\"{modality}_RZ_AVCR_91_180_POR_AVCR_MERC\",\n",
    "\tf\"{modality}_RZ_AVCR_181_360_POR_AVCR\",\n",
    "\tf\"{modality}_RZ_AVCR_181_360_POR_AVCR_MERC\",\n",
    "\tf\"{modality}_RZ_AVCR_361_720_POR_AVCR\",\n",
    "\tf\"{modality}_RZ_AVCR_361_720_POR_AVCR_MERC\",\n",
    "\tf\"{modality}_RZ_AVCR_721_1080_POR_AVCR\",\n",
    "\tf\"{modality}_RZ_AVCR_721_1080_POR_AVCR_MERC\",\n",
    "\tf\"{modality}_RZ_AVCR_1081_1800_POR_AVCR\",\n",
    "\tf\"{modality}_RZ_AVCR_1081_1800_POR_AVCR_MERC\",\n",
    "\tf\"{modality}_RZ_AVCR_ACI1800_POR_AVCR\",\n",
    "\tf\"{modality}_RZ_AVCR_ACI1800_POR_AVCR_MERC\",\n",
    "\tf\"{modality}_AVCR_ATE90\",\n",
    "\tf\"{modality}_AVCR_ATE90_MERC\",\n",
    "\tf\"{modality}_AVCR_ATE90_RZMO\",\n",
    "\tf\"{modality}_AVCR_91_180\",\n",
    "\tf\"{modality}_AVCR_91_180_MERC\",\n",
    "\tf\"{modality}_AVCR_91_180_RZMO\",\n",
    "\tf\"{modality}_AVCR_181_360\",\n",
    "\tf\"{modality}_AVCR_181_360_MERC\",\n",
    "\tf\"{modality}_AVCR_181_360_RZMO\",\n",
    "\tf\"{modality}_AVCR_361_720\",\n",
    "\tf\"{modality}_AVCR_361_720_MERC\",\n",
    "\tf\"{modality}_AVCR_361_720_RZMO\",\n",
    "\tf\"{modality}_AVCR_721_1080\",\n",
    "\tf\"{modality}_AVCR_721_1080_MERC\",\n",
    "\tf\"{modality}_AVCR_721_1080_RZMO\",\n",
    "\tf\"{modality}_AVCR_1081_1800\",\n",
    "\tf\"{modality}_AVCR_1081_1800_MERC\",\n",
    "\tf\"{modality}_AVCR_1081_1800_RZMO\",\n",
    "\tf\"{modality}_AVCR_ACI1800\",\n",
    "\tf\"{modality}_AVCR_ACI1800_MERC\",\n",
    "\tf\"{modality}_AVCR_ACI1800_RZMO\",\n",
    "\tf\"{modality}_RZ_VCD_ATE30_POR_VCD\",\n",
    "\tf\"{modality}_RZ_VCD_ATE30_POR_VCD_MERC\",\n",
    "\tf\"{modality}_RZ_VCD_31_60_POR_VCD\",\n",
    "\tf\"{modality}_RZ_VCD_31_60_POR_VCD_MERC\",\n",
    "\tf\"{modality}_RZ_VCD_61_90_POR_VCD\",\n",
    "\tf\"{modality}_RZ_VCD_61_90_POR_VCD_MERC\",\n",
    "\tf\"{modality}_RZ_VCD_91_180_POR_VCD\",\n",
    "\tf\"{modality}_RZ_VCD_91_180_POR_VCD_MERC\",\n",
    "\tf\"{modality}_RZ_VCD_181_360_POR_VCD\",\n",
    "\tf\"{modality}_RZ_VCD_181_360_POR_VCD_MERC\",\n",
    "\tf\"{modality}_VCD_ATE30\",\n",
    "\tf\"{modality}_VCD_ATE30_MERC\",\n",
    "\tf\"{modality}_VCD_ATE30_RZMO\",\n",
    "\tf\"{modality}_VCD_31_60\",\n",
    "\tf\"{modality}_VCD_31_60_MERC\",\n",
    "\tf\"{modality}_VCD_31_60_RZMO\",\n",
    "\tf\"{modality}_VCD_61_90\",\n",
    "\tf\"{modality}_VCD_61_90_MERC\",\n",
    "\tf\"{modality}_VCD_61_90_RZMO\",\n",
    "\tf\"{modality}_VCD_91_180\",\n",
    "\tf\"{modality}_VCD_91_180_MERC\",\n",
    "\tf\"{modality}_VCD_91_180_RZMO\",\n",
    "\tf\"{modality}_VCD_181_360\",\n",
    "\tf\"{modality}_VCD_181_360_MERC\",\n",
    "\tf\"{modality}_VCD_181_360_RZMO\",\n",
    "\tf\"{modality}_VAR_MAIOR_ATRASO_M0_M1\",\n",
    "\tf\"{modality}_VAR_MAIOR_ATRASO_M0_M1_MERC\",\n",
    "\tf\"{modality}_VAR_SALDO_M0_M1\",\n",
    "\tf\"{modality}_VAR_SALDO_M0_M1_MERC\",\n",
    "\tf\"{modality}_VAR_SALDO_M0_M1_RZMO\",\n",
    "\tf\"{modality}_VAR_VCD_PREJ_M0_M1\",\n",
    "\tf\"{modality}_VAR_VCD_PREJ_M0_M1_MERC\",\n",
    "\tf\"{modality}_VAR_VCD_PREJ_M0_M1_RZMO\",\n",
    "\tf\"{modality}_MEDIA_AVCR_3MESES\",\n",
    "\tf\"{modality}_MEDIA_AVCR_3MESES_MERC\",\n",
    "\tf\"{modality}_RZ_MEDIA_AVCR_3MESES_PARC\",\n",
    "\tf\"{modality}_MEDIA_AVCR_3MESES_V2\",\n",
    "\tf\"{modality}_MEDIA_AVCR_3MESES_MERC_V2\",\n",
    "\tf\"{modality}_RZ_MEDIA_AVCR_3MESES_PARC_V2\",\n",
    "\tf\"{modality}_SALDO_TOTAL\",\n",
    "\tf\"{modality}_SALDO_TOTAL_MERC\",\n",
    "\tf\"{modality}_SALDO_TOTAL_RZMO\",\n",
    "\tf\"{modality}_PREJ\",\n",
    "\tf\"{modality}_PREJ_MERC\",\n",
    "\tf\"{modality}_PREJ_RZMO\",\n",
    "\tf\"{modality}_AVCR\",\n",
    "\tf\"{modality}_AVCR_MERC\",\n",
    "\tf\"{modality}_AVCR_RZMO\",\n",
    "\tf\"{modality}_SHARE_SALDO_TOTAL\",\n",
    "\tf\"{modality}_SHARE_SALDO_TOTAL_MERC\",\n",
    "\tf\"{modality}_SHARE_VCD\",\n",
    "\tf\"{modality}_SHARE_VCD_MERC\",\n",
    "\tf\"{modality}_SHARE_AVCR\",\n",
    "\tf\"{modality}_SHARE_AVCR_MERC\",\n",
    "\tf\"{modality}_SHARE_PREJ\",\n",
    "\tf\"{modality}_SHARE_PREJ_MERC\",\n",
    "\tf\"{modality}_SHARE_OMNI_SALDO_TOTAL\",\n",
    "\tf\"{modality}_SHARE_OMNI_VCD\",\n",
    "\tf\"{modality}_SHARE_OMNI_AVCR\",\n",
    "\tf\"{modality}_SHARE_OMNI_PREJUIZO\",\n",
    "\tf\"{modality}_RZ_SALDO_M1_M0\",\n",
    "\tf\"{modality}_RZ_SALDO_M1_M0_MERC\",\n",
    "\tf\"{modality}_RZ_VCD_M1_M0\",\n",
    "\tf\"{modality}_RZ_VCD_M1_M0_MERC\",\n",
    "\tf\"{modality}_RZ_AVCR_M1_M0\",\n",
    "\tf\"{modality}_RZ_AVCR_M1_M0_MERC\",\n",
    "\tf\"{modality}_RZ_PREJ_M1_M0\",\n",
    "    f\"{modality}_RZ_PREJ_M1_M0_MERC\"\n",
    "\t)"
   ]
  },
  {
   "cell_type": "code",
   "execution_count": 208,
   "id": "a4a97ae7",
   "metadata": {},
   "outputs": [
    {
     "data": {
      "application/vnd.jupyter.widget-view+json": {
       "model_id": "c33540111a27400498175b5f63c33cf0",
       "version_major": 2,
       "version_minor": 0
      },
      "text/plain": [
       "VBox()"
      ]
     },
     "metadata": {},
     "output_type": "display_data"
    },
    {
     "data": {
      "application/vnd.jupyter.widget-view+json": {
       "model_id": "",
       "version_major": 2,
       "version_minor": 0
      },
      "text/plain": [
       "FloatProgress(value=0.0, bar_style='info', description='Progress:', layout=Layout(height='25px', width='50%'),…"
      ]
     },
     "metadata": {},
     "output_type": "display_data"
    }
   ],
   "source": [
    "if modality in 'OLM':\n",
    "\tdf11=df10.select(\n",
    "\t\"DTBASE\",\n",
    "\t\"CD\",\n",
    "    \"M0\",\n",
    "    \"M1\",\n",
    "    \"M2\",\n",
    "    \"M3\",\n",
    "    \"M4\",\n",
    "    \"M5\",\n",
    "\tf\"{modality}_LMT_DISPONIVEL\",\n",
    "\tf\"{modality}_LMT_DISPONIVEL_MERC\",\n",
    "\tf\"{modality}_LMT_DISPONIVEL_RZMO\"\n",
    "\t)"
   ]
  },
  {
   "cell_type": "code",
   "execution_count": 209,
   "id": "35a203da",
   "metadata": {},
   "outputs": [
    {
     "data": {
      "application/vnd.jupyter.widget-view+json": {
       "model_id": "9dab0bc772cd42e5bdd749b3e42ddda5",
       "version_major": 2,
       "version_minor": 0
      },
      "text/plain": [
       "VBox()"
      ]
     },
     "metadata": {},
     "output_type": "display_data"
    },
    {
     "data": {
      "application/vnd.jupyter.widget-view+json": {
       "model_id": "",
       "version_major": 2,
       "version_minor": 0
      },
      "text/plain": [
       "FloatProgress(value=0.0, bar_style='info', description='Progress:', layout=Layout(height='25px', width='50%'),…"
      ]
     },
     "metadata": {},
     "output_type": "display_data"
    }
   ],
   "source": [
    "del(df10)"
   ]
  },
  {
   "cell_type": "code",
   "execution_count": 210,
   "id": "88840c2d",
   "metadata": {},
   "outputs": [
    {
     "data": {
      "application/vnd.jupyter.widget-view+json": {
       "model_id": "7fb9fe87b69346d8be1e2f41a82d9480",
       "version_major": 2,
       "version_minor": 0
      },
      "text/plain": [
       "VBox()"
      ]
     },
     "metadata": {},
     "output_type": "display_data"
    },
    {
     "data": {
      "application/vnd.jupyter.widget-view+json": {
       "model_id": "",
       "version_major": 2,
       "version_minor": 0
      },
      "text/plain": [
       "FloatProgress(value=0.0, bar_style='info', description='Progress:', layout=Layout(height='25px', width='50%'),…"
      ]
     },
     "metadata": {},
     "output_type": "display_data"
    },
    {
     "name": "stdout",
     "output_type": "stream",
     "text": [
      "root\n",
      " |-- DTBASE: integer (nullable = true)\n",
      " |-- CD: string (nullable = true)\n",
      " |-- M0: date (nullable = true)\n",
      " |-- M1: date (nullable = true)\n",
      " |-- M2: date (nullable = true)\n",
      " |-- M3: date (nullable = true)\n",
      " |-- M4: date (nullable = true)\n",
      " |-- M5: date (nullable = true)\n",
      " |-- TT_MAIOR_ATRASO_VCD: integer (nullable = true)\n",
      " |-- TT_MAIOR_ATRASO_VCD_MERC: integer (nullable = true)\n",
      " |-- TT_PREJ_ATE_12M: double (nullable = false)\n",
      " |-- TT_PREJ_ATE_12M_MERC: double (nullable = false)\n",
      " |-- TT_PREJ_ATE_12M_RZMO: double (nullable = false)\n",
      " |-- TT_PREJ_12_48M: double (nullable = false)\n",
      " |-- TT_PREJ_12_48M_MERC: double (nullable = false)\n",
      " |-- TT_PREJ_12_48M_RZMO: double (nullable = false)\n",
      " |-- TT_VCD_E_AVCR_TOTAL: double (nullable = false)\n",
      " |-- TT_VCD_E_AVCR_MERC: double (nullable = false)\n",
      " |-- TT_VCD_E_AVCR_RZMO: double (nullable = false)\n",
      " |-- TT_VCD: double (nullable = false)\n",
      " |-- TT_VCD_MERC: double (nullable = false)\n",
      " |-- TT_VCD_RZMO: double (nullable = false)\n",
      " |-- TT_RZ_VCD_POR_VCD_E_AVCR: double (nullable = false)\n",
      " |-- TT_RZ_VCD_POR_VCD_E_AVCR_MERC: double (nullable = false)\n",
      " |-- TT_RZ_VCD_PREJ_POR_DIVIDA: double (nullable = false)\n",
      " |-- TT_RZ_VCD_PREJ_POR_DIVIDA_MERC: double (nullable = false)\n",
      " |-- TT_MAIOR_PRAZO_AVCR: integer (nullable = false)\n",
      " |-- TT_MAIOR_PRAZO_AVCR_MERC: integer (nullable = false)\n",
      " |-- TT_RZ_AVCR_ATE90_POR_AVCR: double (nullable = false)\n",
      " |-- TT_RZ_AVCR_ATE90_POR_AVCR_MERC: double (nullable = false)\n",
      " |-- TT_RZ_AVCR_91_180_POR_AVCR: double (nullable = false)\n",
      " |-- TT_RZ_AVCR_91_180_POR_AVCR_MERC: double (nullable = false)\n",
      " |-- TT_RZ_AVCR_181_360_POR_AVCR: double (nullable = false)\n",
      " |-- TT_RZ_AVCR_181_360_POR_AVCR_MERC: double (nullable = false)\n",
      " |-- TT_RZ_AVCR_361_720_POR_AVCR: double (nullable = false)\n",
      " |-- TT_RZ_AVCR_361_720_POR_AVCR_MERC: double (nullable = false)\n",
      " |-- TT_RZ_AVCR_721_1080_POR_AVCR: double (nullable = false)\n",
      " |-- TT_RZ_AVCR_721_1080_POR_AVCR_MERC: double (nullable = false)\n",
      " |-- TT_RZ_AVCR_1081_1800_POR_AVCR: double (nullable = false)\n",
      " |-- TT_RZ_AVCR_1081_1800_POR_AVCR_MERC: double (nullable = false)\n",
      " |-- TT_RZ_AVCR_ACI1800_POR_AVCR: double (nullable = false)\n",
      " |-- TT_RZ_AVCR_ACI1800_POR_AVCR_MERC: double (nullable = false)\n",
      " |-- TT_AVCR_ATE90: double (nullable = false)\n",
      " |-- TT_AVCR_ATE90_MERC: double (nullable = false)\n",
      " |-- TT_AVCR_ATE90_RZMO: double (nullable = false)\n",
      " |-- TT_AVCR_91_180: double (nullable = false)\n",
      " |-- TT_AVCR_91_180_MERC: double (nullable = false)\n",
      " |-- TT_AVCR_91_180_RZMO: double (nullable = false)\n",
      " |-- TT_AVCR_181_360: double (nullable = false)\n",
      " |-- TT_AVCR_181_360_MERC: double (nullable = false)\n",
      " |-- TT_AVCR_181_360_RZMO: double (nullable = false)\n",
      " |-- TT_AVCR_361_720: double (nullable = false)\n",
      " |-- TT_AVCR_361_720_MERC: double (nullable = false)\n",
      " |-- TT_AVCR_361_720_RZMO: double (nullable = false)\n",
      " |-- TT_AVCR_721_1080: double (nullable = false)\n",
      " |-- TT_AVCR_721_1080_MERC: double (nullable = false)\n",
      " |-- TT_AVCR_721_1080_RZMO: double (nullable = false)\n",
      " |-- TT_AVCR_1081_1800: double (nullable = false)\n",
      " |-- TT_AVCR_1081_1800_MERC: double (nullable = false)\n",
      " |-- TT_AVCR_1081_1800_RZMO: double (nullable = false)\n",
      " |-- TT_AVCR_ACI1800: double (nullable = false)\n",
      " |-- TT_AVCR_ACI1800_MERC: double (nullable = false)\n",
      " |-- TT_AVCR_ACI1800_RZMO: double (nullable = false)\n",
      " |-- TT_RZ_VCD_ATE30_POR_VCD: double (nullable = false)\n",
      " |-- TT_RZ_VCD_ATE30_POR_VCD_MERC: double (nullable = false)\n",
      " |-- TT_RZ_VCD_31_60_POR_VCD: double (nullable = false)\n",
      " |-- TT_RZ_VCD_31_60_POR_VCD_MERC: double (nullable = false)\n",
      " |-- TT_RZ_VCD_61_90_POR_VCD: double (nullable = false)\n",
      " |-- TT_RZ_VCD_61_90_POR_VCD_MERC: double (nullable = false)\n",
      " |-- TT_RZ_VCD_91_180_POR_VCD: double (nullable = false)\n",
      " |-- TT_RZ_VCD_91_180_POR_VCD_MERC: double (nullable = false)\n",
      " |-- TT_RZ_VCD_181_360_POR_VCD: double (nullable = false)\n",
      " |-- TT_RZ_VCD_181_360_POR_VCD_MERC: double (nullable = false)\n",
      " |-- TT_VCD_ATE30: double (nullable = false)\n",
      " |-- TT_VCD_ATE30_MERC: double (nullable = false)\n",
      " |-- TT_VCD_ATE30_RZMO: double (nullable = false)\n",
      " |-- TT_VCD_31_60: double (nullable = false)\n",
      " |-- TT_VCD_31_60_MERC: double (nullable = false)\n",
      " |-- TT_VCD_31_60_RZMO: double (nullable = false)\n",
      " |-- TT_VCD_61_90: double (nullable = false)\n",
      " |-- TT_VCD_61_90_MERC: double (nullable = false)\n",
      " |-- TT_VCD_61_90_RZMO: double (nullable = false)\n",
      " |-- TT_VCD_91_180: double (nullable = false)\n",
      " |-- TT_VCD_91_180_MERC: double (nullable = false)\n",
      " |-- TT_VCD_91_180_RZMO: double (nullable = false)\n",
      " |-- TT_VCD_181_360: double (nullable = false)\n",
      " |-- TT_VCD_181_360_MERC: double (nullable = false)\n",
      " |-- TT_VCD_181_360_RZMO: double (nullable = false)\n",
      " |-- TT_VAR_MAIOR_ATRASO_M0_M1: double (nullable = false)\n",
      " |-- TT_VAR_MAIOR_ATRASO_M0_M1_MERC: double (nullable = false)\n",
      " |-- TT_VAR_SALDO_M0_M1: double (nullable = false)\n",
      " |-- TT_VAR_SALDO_M0_M1_MERC: double (nullable = false)\n",
      " |-- TT_VAR_SALDO_M0_M1_RZMO: double (nullable = false)\n",
      " |-- TT_VAR_VCD_PREJ_M0_M1: double (nullable = false)\n",
      " |-- TT_VAR_VCD_PREJ_M0_M1_MERC: double (nullable = false)\n",
      " |-- TT_VAR_VCD_PREJ_M0_M1_RZMO: double (nullable = false)\n",
      " |-- TT_MEDIA_AVCR_3MESES: double (nullable = false)\n",
      " |-- TT_MEDIA_AVCR_3MESES_MERC: double (nullable = false)\n",
      " |-- TT_RZ_MEDIA_AVCR_3MESES_PARC: double (nullable = false)\n",
      " |-- TT_MEDIA_AVCR_3MESES_V2: double (nullable = false)\n",
      " |-- TT_MEDIA_AVCR_3MESES_MERC_V2: double (nullable = false)\n",
      " |-- TT_RZ_MEDIA_AVCR_3MESES_PARC_V2: double (nullable = false)\n",
      " |-- QTDIF: string (nullable = true)\n",
      " |-- QTDOP: string (nullable = true)\n",
      " |-- TT_TEMPO_RELACIONAMENTO: integer (nullable = true)\n",
      " |-- TT_SALDO_TOTAL: double (nullable = false)\n",
      " |-- TT_SALDO_TOTAL_MERC: double (nullable = false)\n",
      " |-- TT_SALDO_TOTAL_RZMO: double (nullable = false)\n",
      " |-- TT_PREJ: double (nullable = false)\n",
      " |-- TT_PREJ_MERC: double (nullable = false)\n",
      " |-- TT_PREJ_RZMO: double (nullable = false)\n",
      " |-- TT_AVCR: double (nullable = false)\n",
      " |-- TT_AVCR_MERC: double (nullable = false)\n",
      " |-- TT_AVCR_RZMO: double (nullable = false)\n",
      " |-- TT_SHARE_OMNI_SALDO_TOTAL: double (nullable = false)\n",
      " |-- TT_SHARE_OMNI_VCD: double (nullable = false)\n",
      " |-- TT_SHARE_OMNI_AVCR: double (nullable = false)\n",
      " |-- TT_SHARE_OMNI_PREJUIZO: double (nullable = false)\n",
      " |-- TT_RZ_SALDO_M1_M0: double (nullable = false)\n",
      " |-- TT_RZ_SALDO_M1_M0_MERC: double (nullable = false)\n",
      " |-- TT_RZ_VCD_M1_M0: double (nullable = false)\n",
      " |-- TT_RZ_VCD_M1_M0_MERC: double (nullable = false)\n",
      " |-- TT_RZ_AVCR_M1_M0: double (nullable = false)\n",
      " |-- TT_RZ_AVCR_M1_M0_MERC: double (nullable = false)\n",
      " |-- TT_RZ_PREJ_M1_M0: double (nullable = false)\n",
      " |-- TT_RZ_PREJ_M1_M0_MERC: double (nullable = false)"
     ]
    }
   ],
   "source": [
    "df11.printSchema()"
   ]
  },
  {
   "cell_type": "code",
   "execution_count": 211,
   "id": "8d92431a",
   "metadata": {},
   "outputs": [
    {
     "data": {
      "application/vnd.jupyter.widget-view+json": {
       "model_id": "5d73ce6e9aaa4e9885e3ea8b39c89e99",
       "version_major": 2,
       "version_minor": 0
      },
      "text/plain": [
       "VBox()"
      ]
     },
     "metadata": {},
     "output_type": "display_data"
    },
    {
     "data": {
      "application/vnd.jupyter.widget-view+json": {
       "model_id": "",
       "version_major": 2,
       "version_minor": 0
      },
      "text/plain": [
       "FloatProgress(value=0.0, bar_style='info', description='Progress:', layout=Layout(height='25px', width='50%'),…"
      ]
     },
     "metadata": {},
     "output_type": "display_data"
    }
   ],
   "source": [
    "df11.write.format(\"parquet\").mode(\"Overwrite\").save(f\"s3://modelagem/scr/m0-processed-data/{modality}\")"
   ]
  },
  {
   "cell_type": "code",
   "execution_count": 212,
   "id": "b71182f4",
   "metadata": {},
   "outputs": [
    {
     "data": {
      "application/vnd.jupyter.widget-view+json": {
       "model_id": "bba53771b0fe4d4d94a29bf2ba0c0e4d",
       "version_major": 2,
       "version_minor": 0
      },
      "text/plain": [
       "VBox()"
      ]
     },
     "metadata": {},
     "output_type": "display_data"
    },
    {
     "data": {
      "application/vnd.jupyter.widget-view+json": {
       "model_id": "",
       "version_major": 2,
       "version_minor": 0
      },
      "text/plain": [
       "FloatProgress(value=0.0, bar_style='info', description='Progress:', layout=Layout(height='25px', width='50%'),…"
      ]
     },
     "metadata": {},
     "output_type": "display_data"
    }
   ],
   "source": [
    "df_visoes_mensais = spark.read.parquet(f\"s3://modelagem/scr/m0-processed-data/{modality}\")"
   ]
  },
  {
   "cell_type": "code",
   "execution_count": 213,
   "id": "c953c15c",
   "metadata": {},
   "outputs": [
    {
     "data": {
      "application/vnd.jupyter.widget-view+json": {
       "model_id": "4167619c288a47a2a9e39c4a9c50129f",
       "version_major": 2,
       "version_minor": 0
      },
      "text/plain": [
       "VBox()"
      ]
     },
     "metadata": {},
     "output_type": "display_data"
    },
    {
     "data": {
      "application/vnd.jupyter.widget-view+json": {
       "model_id": "",
       "version_major": 2,
       "version_minor": 0
      },
      "text/plain": [
       "FloatProgress(value=0.0, bar_style='info', description='Progress:', layout=Layout(height='25px', width='50%'),…"
      ]
     },
     "metadata": {},
     "output_type": "display_data"
    }
   ],
   "source": [
    "if modality in lista_limite_total_modalidade:\n",
    "\tdf_COLUNAS_MX = df_visoes_mensais.select(\n",
    "\t\"CD\",\n",
    "\t\"M0\",\n",
    "\tf\"{modality}_MAIOR_ATRASO_VCD\",\n",
    "\tf\"{modality}_MAIOR_ATRASO_VCD_MERC\",\n",
    "\tf\"{modality}_VCD_E_AVCR_TOTAL\",\n",
    "\tf\"{modality}_VCD_E_AVCR_MERC\",\n",
    "\tf\"{modality}_VCD_E_AVCR_RZMO\",\n",
    "\tf\"{modality}_VCD\",\n",
    "\tf\"{modality}_VCD_MERC\",\n",
    "\tf\"{modality}_VCD_RZMO\",\n",
    "\tf\"{modality}_RZ_VCD_POR_VCD_E_AVCR\",\n",
    "\tf\"{modality}_RZ_VCD_POR_VCD_E_AVCR_MERC\",\n",
    "\tf\"{modality}_RZ_VCD_PREJ_POR_DIVIDA\",\n",
    "\tf\"{modality}_RZ_VCD_PREJ_POR_DIVIDA_MERC\",\n",
    "\tf\"{modality}_MAIOR_PRAZO_AVCR\",\n",
    "\tf\"{modality}_MAIOR_PRAZO_AVCR_MERC\",\n",
    "\tf\"{modality}_LMT_DISPONIVEL\",\n",
    "\tf\"{modality}_LMT_DISPONIVEL_MERC\",\n",
    "\tf\"{modality}_LMT_DISPONIVEL_RZMO\",\n",
    "\tf\"{modality}_LMT_TOTAL\",\n",
    "\tf\"{modality}_LMT_TOTAL_MERC\",\n",
    "\tf\"{modality}_LMT_TOTAL_RZMO\",\n",
    "\tf\"{modality}_RZ_LMT_TOTAL_QTD_INST_FIN\",\n",
    "\tf\"{modality}_RZ_LMT_TOTAL_QTD_OPERAC\",\n",
    "\tf\"{modality}_PERC_LIMITE_DISPONIVEL\",\n",
    "\tf\"{modality}_PERC_LIMITE_DISPONIVEL_MERC\",\n",
    "\tf\"{modality}_SALDO_TOTAL\",\n",
    "\tf\"{modality}_SALDO_TOTAL_MERC\",\n",
    "\tf\"{modality}_SALDO_TOTAL_RZMO\",\n",
    "\tf\"{modality}_PREJ\",\n",
    "\tf\"{modality}_PREJ_MERC\",\n",
    "\tf\"{modality}_PREJ_RZMO\",\n",
    "\tf\"{modality}_AVCR_MERC\",\n",
    "\tf\"{modality}_AVCR_RZMO\",\n",
    "\tf\"{modality}_SHARE_SALDO_TOTAL\",\n",
    "\tf\"{modality}_SHARE_SALDO_TOTAL_MERC\",\n",
    "\tf\"{modality}_SHARE_VCD\",\n",
    "\tf\"{modality}_SHARE_VCD_MERC\",\n",
    "\tf\"{modality}_SHARE_AVCR\",\n",
    "\tf\"{modality}_SHARE_AVCR_MERC\",\n",
    "\tf\"{modality}_SHARE_PREJ\",\n",
    "\tf\"{modality}_SHARE_PREJ_MERC\",\n",
    "\tf\"{modality}_SHARE_OMNI_SALDO_TOTAL\",\n",
    "\tf\"{modality}_SHARE_OMNI_VCD\",\n",
    "\tf\"{modality}_SHARE_OMNI_AVCR\",\n",
    "\tf\"{modality}_SHARE_OMNI_PREJUIZO\")"
   ]
  },
  {
   "cell_type": "code",
   "execution_count": 214,
   "id": "318e867d",
   "metadata": {},
   "outputs": [
    {
     "data": {
      "application/vnd.jupyter.widget-view+json": {
       "model_id": "b3ad164a97a3462baa1d7fd4f62e93a7",
       "version_major": 2,
       "version_minor": 0
      },
      "text/plain": [
       "VBox()"
      ]
     },
     "metadata": {},
     "output_type": "display_data"
    },
    {
     "data": {
      "application/vnd.jupyter.widget-view+json": {
       "model_id": "",
       "version_major": 2,
       "version_minor": 0
      },
      "text/plain": [
       "FloatProgress(value=0.0, bar_style='info', description='Progress:', layout=Layout(height='25px', width='50%'),…"
      ]
     },
     "metadata": {},
     "output_type": "display_data"
    }
   ],
   "source": [
    "if modality in lista_em_comum:\n",
    "\tdf_COLUNAS_MX = df_visoes_mensais.select(\n",
    "\t\"CD\",\n",
    "\t\"M0\",\n",
    "\tf\"{modality}_MAIOR_ATRASO_VCD\",\n",
    "\tf\"{modality}_MAIOR_ATRASO_VCD_MERC\",\n",
    "\tf\"{modality}_VCD_E_AVCR_TOTAL\",\n",
    "\tf\"{modality}_VCD_E_AVCR_MERC\",\n",
    "\tf\"{modality}_VCD_E_AVCR_RZMO\",\n",
    "\tf\"{modality}_VCD\",\n",
    "\tf\"{modality}_VCD_MERC\",\n",
    "\tf\"{modality}_VCD_RZMO\",\n",
    "\tf\"{modality}_RZ_VCD_POR_VCD_E_AVCR\",\n",
    "\tf\"{modality}_RZ_VCD_POR_VCD_E_AVCR_MERC\",\n",
    "\tf\"{modality}_RZ_VCD_PREJ_POR_DIVIDA\",\n",
    "\tf\"{modality}_RZ_VCD_PREJ_POR_DIVIDA_MERC\",\n",
    "\tf\"{modality}_MAIOR_PRAZO_AVCR\",\n",
    "\tf\"{modality}_MAIOR_PRAZO_AVCR_MERC\",\n",
    "\tf\"{modality}_SALDO_TOTAL\",\n",
    "\tf\"{modality}_SALDO_TOTAL_MERC\",\n",
    "\tf\"{modality}_SALDO_TOTAL_RZMO\",\n",
    "\tf\"{modality}_PREJ\",\n",
    "\tf\"{modality}_PREJ_MERC\",\n",
    "\tf\"{modality}_PREJ_RZMO\",\n",
    "\tf\"{modality}_AVCR_MERC\",\n",
    "\tf\"{modality}_AVCR_RZMO\",\n",
    "\tf\"{modality}_SHARE_SALDO_TOTAL\",\n",
    "\tf\"{modality}_SHARE_SALDO_TOTAL_MERC\",\n",
    "\tf\"{modality}_SHARE_VCD\",\n",
    "\tf\"{modality}_SHARE_VCD_MERC\",\n",
    "\tf\"{modality}_SHARE_AVCR\",\n",
    "\tf\"{modality}_SHARE_AVCR_MERC\",\n",
    "\tf\"{modality}_SHARE_PREJ\",\n",
    "\tf\"{modality}_SHARE_PREJ_MERC\",\n",
    "\tf\"{modality}_SHARE_OMNI_SALDO_TOTAL\",\n",
    "\tf\"{modality}_SHARE_OMNI_VCD\",\n",
    "\tf\"{modality}_SHARE_OMNI_AVCR\",\n",
    "\tf\"{modality}_SHARE_OMNI_PREJUIZO\")"
   ]
  },
  {
   "cell_type": "code",
   "execution_count": 215,
   "id": "8b9952dc",
   "metadata": {},
   "outputs": [
    {
     "data": {
      "application/vnd.jupyter.widget-view+json": {
       "model_id": "12dc3d69a86b4ba288fa36b13fb10150",
       "version_major": 2,
       "version_minor": 0
      },
      "text/plain": [
       "VBox()"
      ]
     },
     "metadata": {},
     "output_type": "display_data"
    },
    {
     "data": {
      "application/vnd.jupyter.widget-view+json": {
       "model_id": "",
       "version_major": 2,
       "version_minor": 0
      },
      "text/plain": [
       "FloatProgress(value=0.0, bar_style='info', description='Progress:', layout=Layout(height='25px', width='50%'),…"
      ]
     },
     "metadata": {},
     "output_type": "display_data"
    }
   ],
   "source": [
    "if modality in 'TT':\n",
    "\tdf_COLUNAS_MX = df_visoes_mensais.select(\n",
    "\t\"CD\",\n",
    "\t\"M0\",\n",
    "\tf\"{modality}_MAIOR_ATRASO_VCD\",\n",
    "\tf\"{modality}_MAIOR_ATRASO_VCD_MERC\",\n",
    "\tf\"{modality}_VCD_E_AVCR_TOTAL\",\n",
    "\tf\"{modality}_VCD_E_AVCR_MERC\",\n",
    "\tf\"{modality}_VCD_E_AVCR_RZMO\",\n",
    "\tf\"{modality}_VCD\",\n",
    "\tf\"{modality}_VCD_MERC\",\n",
    "\tf\"{modality}_VCD_RZMO\",\n",
    "\tf\"{modality}_RZ_VCD_POR_VCD_E_AVCR\",\n",
    "\tf\"{modality}_RZ_VCD_POR_VCD_E_AVCR_MERC\",\n",
    "\tf\"{modality}_RZ_VCD_PREJ_POR_DIVIDA\",\n",
    "\tf\"{modality}_RZ_VCD_PREJ_POR_DIVIDA_MERC\",\n",
    "\tf\"{modality}_MAIOR_PRAZO_AVCR\",\n",
    "\tf\"{modality}_MAIOR_PRAZO_AVCR_MERC\",\n",
    "\tf\"{modality}_SALDO_TOTAL\",\n",
    "\tf\"{modality}_SALDO_TOTAL_MERC\",\n",
    "\tf\"{modality}_SALDO_TOTAL_RZMO\",\n",
    "\tf\"{modality}_PREJ\",\n",
    "\tf\"{modality}_PREJ_MERC\",\n",
    "\tf\"{modality}_PREJ_RZMO\",\n",
    "\tf\"{modality}_AVCR_MERC\",\n",
    "\tf\"{modality}_AVCR_RZMO\",\n",
    "\tf\"{modality}_SHARE_OMNI_SALDO_TOTAL\",\n",
    "\tf\"{modality}_SHARE_OMNI_VCD\",\n",
    "\tf\"{modality}_SHARE_OMNI_AVCR\",\n",
    "\tf\"{modality}_SHARE_OMNI_PREJUIZO\")"
   ]
  },
  {
   "cell_type": "code",
   "execution_count": 216,
   "id": "180daf8c",
   "metadata": {},
   "outputs": [
    {
     "data": {
      "application/vnd.jupyter.widget-view+json": {
       "model_id": "03e14b935d994f0699b5f2500ca04355",
       "version_major": 2,
       "version_minor": 0
      },
      "text/plain": [
       "VBox()"
      ]
     },
     "metadata": {},
     "output_type": "display_data"
    },
    {
     "data": {
      "application/vnd.jupyter.widget-view+json": {
       "model_id": "",
       "version_major": 2,
       "version_minor": 0
      },
      "text/plain": [
       "FloatProgress(value=0.0, bar_style='info', description='Progress:', layout=Layout(height='25px', width='50%'),…"
      ]
     },
     "metadata": {},
     "output_type": "display_data"
    }
   ],
   "source": [
    "if modality in 'OLM':\n",
    "\tdf_COLUNAS_MX = df_visoes_mensais.select(\n",
    "\t\"CD\",\n",
    "\t\"M0\",\n",
    "\tf\"{modality}_LMT_DISPONIVEL\",\n",
    "\tf\"{modality}_LMT_DISPONIVEL_MERC\",\n",
    "\tf\"{modality}_LMT_DISPONIVEL_RZMO\")"
   ]
  },
  {
   "cell_type": "code",
   "execution_count": 217,
   "id": "86b928b9",
   "metadata": {},
   "outputs": [
    {
     "data": {
      "application/vnd.jupyter.widget-view+json": {
       "model_id": "7cb70b7eaa5a45e386ea4a275c225e29",
       "version_major": 2,
       "version_minor": 0
      },
      "text/plain": [
       "VBox()"
      ]
     },
     "metadata": {},
     "output_type": "display_data"
    },
    {
     "data": {
      "application/vnd.jupyter.widget-view+json": {
       "model_id": "",
       "version_major": 2,
       "version_minor": 0
      },
      "text/plain": [
       "FloatProgress(value=0.0, bar_style='info', description='Progress:', layout=Layout(height='25px', width='50%'),…"
      ]
     },
     "metadata": {},
     "output_type": "display_data"
    }
   ],
   "source": [
    "df_m1 = df_COLUNAS_MX\n",
    "df_m2 = df_COLUNAS_MX\n",
    "df_m3 = df_COLUNAS_MX\n",
    "df_m4 = df_COLUNAS_MX\n",
    "df_m5 = df_COLUNAS_MX"
   ]
  },
  {
   "cell_type": "code",
   "execution_count": 218,
   "id": "3401ac34",
   "metadata": {},
   "outputs": [
    {
     "data": {
      "application/vnd.jupyter.widget-view+json": {
       "model_id": "a38d4b7de9014d91b4d9bb8f8554b0cb",
       "version_major": 2,
       "version_minor": 0
      },
      "text/plain": [
       "VBox()"
      ]
     },
     "metadata": {},
     "output_type": "display_data"
    },
    {
     "data": {
      "application/vnd.jupyter.widget-view+json": {
       "model_id": "",
       "version_major": 2,
       "version_minor": 0
      },
      "text/plain": [
       "FloatProgress(value=0.0, bar_style='info', description='Progress:', layout=Layout(height='25px', width='50%'),…"
      ]
     },
     "metadata": {},
     "output_type": "display_data"
    }
   ],
   "source": [
    "for column in df_m1.columns[2:]:\n",
    "    df_m1 = df_m1.withColumnRenamed(column, column+'_M1')\n",
    "df_m1 = df_m1.withColumnRenamed('M0', 'M1')"
   ]
  },
  {
   "cell_type": "code",
   "execution_count": 219,
   "id": "07645be3",
   "metadata": {},
   "outputs": [
    {
     "data": {
      "application/vnd.jupyter.widget-view+json": {
       "model_id": "a88ca4769c364c2e97997db3d2a139f0",
       "version_major": 2,
       "version_minor": 0
      },
      "text/plain": [
       "VBox()"
      ]
     },
     "metadata": {},
     "output_type": "display_data"
    },
    {
     "data": {
      "application/vnd.jupyter.widget-view+json": {
       "model_id": "",
       "version_major": 2,
       "version_minor": 0
      },
      "text/plain": [
       "FloatProgress(value=0.0, bar_style='info', description='Progress:', layout=Layout(height='25px', width='50%'),…"
      ]
     },
     "metadata": {},
     "output_type": "display_data"
    }
   ],
   "source": [
    "for column in df_m2.columns[2:]:\n",
    "    df_m2 = df_m2.withColumnRenamed(column, column+'_M2')\n",
    "df_m2 = df_m2.withColumnRenamed('M0', 'M2')"
   ]
  },
  {
   "cell_type": "code",
   "execution_count": 220,
   "id": "7a5fa06b",
   "metadata": {},
   "outputs": [
    {
     "data": {
      "application/vnd.jupyter.widget-view+json": {
       "model_id": "4b0904db81744de78fbd533ae3e6ccfd",
       "version_major": 2,
       "version_minor": 0
      },
      "text/plain": [
       "VBox()"
      ]
     },
     "metadata": {},
     "output_type": "display_data"
    },
    {
     "data": {
      "application/vnd.jupyter.widget-view+json": {
       "model_id": "",
       "version_major": 2,
       "version_minor": 0
      },
      "text/plain": [
       "FloatProgress(value=0.0, bar_style='info', description='Progress:', layout=Layout(height='25px', width='50%'),…"
      ]
     },
     "metadata": {},
     "output_type": "display_data"
    }
   ],
   "source": [
    "for column in df_m3.columns[2:]:\n",
    "    df_m3 = df_m3.withColumnRenamed(column, column+'_M3')\n",
    "df_m3 = df_m3.withColumnRenamed('M0', 'M3')"
   ]
  },
  {
   "cell_type": "code",
   "execution_count": 221,
   "id": "509c1700",
   "metadata": {},
   "outputs": [
    {
     "data": {
      "application/vnd.jupyter.widget-view+json": {
       "model_id": "d5c16ebb059649368f029c2f4472f406",
       "version_major": 2,
       "version_minor": 0
      },
      "text/plain": [
       "VBox()"
      ]
     },
     "metadata": {},
     "output_type": "display_data"
    },
    {
     "data": {
      "application/vnd.jupyter.widget-view+json": {
       "model_id": "",
       "version_major": 2,
       "version_minor": 0
      },
      "text/plain": [
       "FloatProgress(value=0.0, bar_style='info', description='Progress:', layout=Layout(height='25px', width='50%'),…"
      ]
     },
     "metadata": {},
     "output_type": "display_data"
    }
   ],
   "source": [
    "for column in df_m4.columns[2:]:\n",
    "    df_m4 = df_m4.withColumnRenamed(column, column+'_M4')\n",
    "df_m4 = df_m4.withColumnRenamed('M0', 'M4')"
   ]
  },
  {
   "cell_type": "code",
   "execution_count": 222,
   "id": "ee87498b",
   "metadata": {},
   "outputs": [
    {
     "data": {
      "application/vnd.jupyter.widget-view+json": {
       "model_id": "45ac9e77ee4248a4ba4799b4aaef8269",
       "version_major": 2,
       "version_minor": 0
      },
      "text/plain": [
       "VBox()"
      ]
     },
     "metadata": {},
     "output_type": "display_data"
    },
    {
     "data": {
      "application/vnd.jupyter.widget-view+json": {
       "model_id": "",
       "version_major": 2,
       "version_minor": 0
      },
      "text/plain": [
       "FloatProgress(value=0.0, bar_style='info', description='Progress:', layout=Layout(height='25px', width='50%'),…"
      ]
     },
     "metadata": {},
     "output_type": "display_data"
    }
   ],
   "source": [
    "for column in df_m5.columns[2:]:\n",
    "    df_m5 = df_m5.withColumnRenamed(column, column+'_M5')\n",
    "df_m5 = df_m5.withColumnRenamed('M0', 'M5')"
   ]
  },
  {
   "cell_type": "code",
   "execution_count": 223,
   "id": "1ff57810",
   "metadata": {},
   "outputs": [
    {
     "data": {
      "application/vnd.jupyter.widget-view+json": {
       "model_id": "ff8c0e5f9e8e43a89fa14e8a4820ac96",
       "version_major": 2,
       "version_minor": 0
      },
      "text/plain": [
       "VBox()"
      ]
     },
     "metadata": {},
     "output_type": "display_data"
    },
    {
     "data": {
      "application/vnd.jupyter.widget-view+json": {
       "model_id": "",
       "version_major": 2,
       "version_minor": 0
      },
      "text/plain": [
       "FloatProgress(value=0.0, bar_style='info', description='Progress:', layout=Layout(height='25px', width='50%'),…"
      ]
     },
     "metadata": {},
     "output_type": "display_data"
    }
   ],
   "source": [
    "df_visoes_mensais = df_visoes_mensais.join(df_m1,[\"M1\",\"CD\"],\"left\")# join entre M0 e M1\n",
    "df_visoes_mensais = df_visoes_mensais.join(df_m2,[\"M2\",\"CD\"],\"left\")# join entre M0 e M2\n",
    "df_visoes_mensais = df_visoes_mensais.join(df_m3,[\"M3\",\"CD\"],\"left\")# join entre M0 e M3\n",
    "df_visoes_mensais = df_visoes_mensais.join(df_m4,[\"M4\",\"CD\"],\"left\")# join entre M0 e M4\n",
    "df_visoes_mensais = df_visoes_mensais.join(df_m5,[\"M5\",\"CD\"],\"left\")# join entre M0 e M5"
   ]
  },
  {
   "cell_type": "code",
   "execution_count": 224,
   "id": "ec09c292",
   "metadata": {},
   "outputs": [
    {
     "data": {
      "application/vnd.jupyter.widget-view+json": {
       "model_id": "3586fa1e166249e3a115be54155c0cb4",
       "version_major": 2,
       "version_minor": 0
      },
      "text/plain": [
       "VBox()"
      ]
     },
     "metadata": {},
     "output_type": "display_data"
    },
    {
     "data": {
      "application/vnd.jupyter.widget-view+json": {
       "model_id": "",
       "version_major": 2,
       "version_minor": 0
      },
      "text/plain": [
       "FloatProgress(value=0.0, bar_style='info', description='Progress:', layout=Layout(height='25px', width='50%'),…"
      ]
     },
     "metadata": {},
     "output_type": "display_data"
    }
   ],
   "source": [
    "#df50 = df10"
   ]
  },
  {
   "cell_type": "code",
   "execution_count": 225,
   "id": "31629fe5",
   "metadata": {},
   "outputs": [
    {
     "data": {
      "application/vnd.jupyter.widget-view+json": {
       "model_id": "c817cd62befd4a4dbdf0e732dfb52538",
       "version_major": 2,
       "version_minor": 0
      },
      "text/plain": [
       "VBox()"
      ]
     },
     "metadata": {},
     "output_type": "display_data"
    },
    {
     "data": {
      "application/vnd.jupyter.widget-view+json": {
       "model_id": "",
       "version_major": 2,
       "version_minor": 0
      },
      "text/plain": [
       "FloatProgress(value=0.0, bar_style='info', description='Progress:', layout=Layout(height='25px', width='50%'),…"
      ]
     },
     "metadata": {},
     "output_type": "display_data"
    }
   ],
   "source": [
    "#df_COLUNAS_MX = df50.select(\"CD\",\"M0\",\n",
    "#\tf\"{modality}_MAIOR_ATRASO_VCD\",\n",
    "#\tf\"{modality}_MAIOR_ATRASO_VCD_MERC\",\n",
    "#\tf\"{modality}_VCD_E_AVCR_TOTAL\",\n",
    "#\tf\"{modality}_VCD_E_AVCR_MERC\",\n",
    "#\tf\"{modality}_VCD_E_AVCR_RZMO\",\n",
    "#\tf\"{modality}_VCD\",\n",
    "#\tf\"{modality}_VCD_MERC\",\n",
    "#\tf\"{modality}_VCD_RZMO\",\n",
    "#\tf\"{modality}_RZ_VCD_POR_VCD_E_AVCR\",\n",
    "#\tf\"{modality}_RZ_VCD_POR_VCD_E_AVCR_MERC\",\n",
    "#\tf\"{modality}_RZ_VCD_PREJ_POR_DIVIDA\",\n",
    "#\tf\"{modality}_RZ_VCD_PREJ_POR_DIVIDA_MERC\",\n",
    "#\tf\"{modality}_MAIOR_PRAZO_AVCR\",\n",
    "#\tf\"{modality}_MAIOR_PRAZO_AVCR_MERC\",\n",
    "#\tf\"{modality}_LMT_DISPONIVEL\",\n",
    "#\tf\"{modality}_LMT_DISPONIVEL_MERC\",\n",
    "#\tf\"{modality}_LMT_DISPONIVEL_RZMO\",\n",
    "#\tf\"{modality}_LMT_TOTAL\",\n",
    "#\tf\"{modality}_LMT_TOTAL_MERC\",\n",
    "#\tf\"{modality}_LMT_TOTAL_RZMO\",\n",
    "#\tf\"{modality}_RZ_LMT_TOTAL_QTD_INST_FIN\",\n",
    "#\tf\"{modality}_RZ_LMT_TOTAL_QTD_OPERAC\",\n",
    "#\tf\"{modality}_PERC_LIMITE_DISPONIVEL\",\n",
    "#\tf\"{modality}_PERC_LIMITE_DISPONIVEL_MERC\",\n",
    "#\tf\"{modality}_SALDO_TOTAL\",\n",
    "#\tf\"{modality}_SALDO_TOTAL_MERC\",\n",
    "#\tf\"{modality}_SALDO_TOTAL_RZMO\",\n",
    "#\tf\"{modality}_PREJ\",\n",
    "#\tf\"{modality}_PREJ_MERC\",\n",
    "#\tf\"{modality}_PREJ_RZMO\",\n",
    "#\tf\"{modality}_AVCR_MERC\",\n",
    "#\tf\"{modality}_AVCR_RZMO\",\n",
    "#\tf\"{modality}_SHARE_SALDO_TOTAL\",\n",
    "#\tf\"{modality}_SHARE_SALDO_TOTAL_MERC\",\n",
    "#\tf\"{modality}_SHARE_VCD\",\n",
    "#\tf\"{modality}_SHARE_VCD_MERC\",\n",
    "#\tf\"{modality}_SHARE_AVCR\",\n",
    "#\tf\"{modality}_SHARE_AVCR_MERC\",\n",
    "#\tf\"{modality}_SHARE_PREJ\",\n",
    "#\tf\"{modality}_SHARE_PREJ_MERC\",\n",
    "#\tf\"{modality}_SHARE_OMNI_SALDO_TOTAL\",\n",
    "#\tf\"{modality}_SHARE_OMNI_VCD\",\n",
    "#\tf\"{modality}_SHARE_OMNI_AVCR\",\n",
    "#\tf\"{modality}_SHARE_OMNI_PREJUIZO\")"
   ]
  },
  {
   "cell_type": "code",
   "execution_count": 226,
   "id": "40c3843b",
   "metadata": {},
   "outputs": [
    {
     "data": {
      "application/vnd.jupyter.widget-view+json": {
       "model_id": "8a4ef1ac76b441e590b1a211695d8f8c",
       "version_major": 2,
       "version_minor": 0
      },
      "text/plain": [
       "VBox()"
      ]
     },
     "metadata": {},
     "output_type": "display_data"
    },
    {
     "data": {
      "application/vnd.jupyter.widget-view+json": {
       "model_id": "",
       "version_major": 2,
       "version_minor": 0
      },
      "text/plain": [
       "FloatProgress(value=0.0, bar_style='info', description='Progress:', layout=Layout(height='25px', width='50%'),…"
      ]
     },
     "metadata": {},
     "output_type": "display_data"
    }
   ],
   "source": [
    "#for column in df50.columns[2:132]:\n",
    "#    df50 = df50.withColumnRenamed(column+'_M5',column+'_DELETED')\\\n",
    "#    .withColumnRenamed(column+'_M4',column+'_M5')\\\n",
    "#    .withColumnRenamed(column+'_M3',column+'_M4')\\\n",
    "#    .withColumnRenamed(column+'_M2',column+'_M3')\\\n",
    "#    .withColumnRenamed(column+'_M1',column+'_M2')\\\n",
    "#    .drop(column+'_DELETED')          "
   ]
  },
  {
   "cell_type": "code",
   "execution_count": 227,
   "id": "f1e71134",
   "metadata": {},
   "outputs": [
    {
     "data": {
      "application/vnd.jupyter.widget-view+json": {
       "model_id": "4a0c2797addb41eea08ff1ebe0dc847c",
       "version_major": 2,
       "version_minor": 0
      },
      "text/plain": [
       "VBox()"
      ]
     },
     "metadata": {},
     "output_type": "display_data"
    },
    {
     "data": {
      "application/vnd.jupyter.widget-view+json": {
       "model_id": "",
       "version_major": 2,
       "version_minor": 0
      },
      "text/plain": [
       "FloatProgress(value=0.0, bar_style='info', description='Progress:', layout=Layout(height='25px', width='50%'),…"
      ]
     },
     "metadata": {},
     "output_type": "display_data"
    }
   ],
   "source": [
    "#df_m1 = df_COLUNAS_MX"
   ]
  },
  {
   "cell_type": "code",
   "execution_count": 228,
   "id": "b2870e68",
   "metadata": {},
   "outputs": [
    {
     "data": {
      "application/vnd.jupyter.widget-view+json": {
       "model_id": "8a44d725e18f4d1e9633c109ae69c7c6",
       "version_major": 2,
       "version_minor": 0
      },
      "text/plain": [
       "VBox()"
      ]
     },
     "metadata": {},
     "output_type": "display_data"
    },
    {
     "data": {
      "application/vnd.jupyter.widget-view+json": {
       "model_id": "",
       "version_major": 2,
       "version_minor": 0
      },
      "text/plain": [
       "FloatProgress(value=0.0, bar_style='info', description='Progress:', layout=Layout(height='25px', width='50%'),…"
      ]
     },
     "metadata": {},
     "output_type": "display_data"
    }
   ],
   "source": [
    "#for column in df_m1.columns[2:]:\n",
    "#    df_m1 = df_m1.withColumnRenamed(column, column+'_M1')\n",
    "#df_m1 = df_m1.withColumnRenamed('M0', 'M1')"
   ]
  },
  {
   "cell_type": "code",
   "execution_count": 229,
   "id": "ee762e10",
   "metadata": {},
   "outputs": [
    {
     "data": {
      "application/vnd.jupyter.widget-view+json": {
       "model_id": "ac768d1fa0154b39b45e938315bdb331",
       "version_major": 2,
       "version_minor": 0
      },
      "text/plain": [
       "VBox()"
      ]
     },
     "metadata": {},
     "output_type": "display_data"
    },
    {
     "data": {
      "application/vnd.jupyter.widget-view+json": {
       "model_id": "",
       "version_major": 2,
       "version_minor": 0
      },
      "text/plain": [
       "FloatProgress(value=0.0, bar_style='info', description='Progress:', layout=Layout(height='25px', width='50%'),…"
      ]
     },
     "metadata": {},
     "output_type": "display_data"
    }
   ],
   "source": [
    "#df50 = df50.join(df_m1,[\"M1\",\"CD\"],\"inner\")# join entre M0 e M1"
   ]
  },
  {
   "cell_type": "code",
   "execution_count": null,
   "id": "eaed6e01",
   "metadata": {},
   "outputs": [],
   "source": []
  },
  {
   "cell_type": "code",
   "execution_count": null,
   "id": "07d6ac4b",
   "metadata": {},
   "outputs": [],
   "source": []
  },
  {
   "cell_type": "code",
   "execution_count": 230,
   "id": "18fd60e0",
   "metadata": {},
   "outputs": [
    {
     "data": {
      "application/vnd.jupyter.widget-view+json": {
       "model_id": "dbf7b837eb1443d0b70ab97df45e51df",
       "version_major": 2,
       "version_minor": 0
      },
      "text/plain": [
       "VBox()"
      ]
     },
     "metadata": {},
     "output_type": "display_data"
    },
    {
     "data": {
      "application/vnd.jupyter.widget-view+json": {
       "model_id": "",
       "version_major": 2,
       "version_minor": 0
      },
      "text/plain": [
       "FloatProgress(value=0.0, bar_style='info', description='Progress:', layout=Layout(height='25px', width='50%'),…"
      ]
     },
     "metadata": {},
     "output_type": "display_data"
    },
    {
     "name": "stdout",
     "output_type": "stream",
     "text": [
      "root\n",
      " |-- M5: date (nullable = true)\n",
      " |-- CD: string (nullable = true)\n",
      " |-- M4: date (nullable = true)\n",
      " |-- M3: date (nullable = true)\n",
      " |-- M2: date (nullable = true)\n",
      " |-- M1: date (nullable = true)\n",
      " |-- DTBASE: integer (nullable = true)\n",
      " |-- M0: date (nullable = true)\n",
      " |-- TT_MAIOR_ATRASO_VCD: integer (nullable = true)\n",
      " |-- TT_MAIOR_ATRASO_VCD_MERC: integer (nullable = true)\n",
      " |-- TT_PREJ_ATE_12M: double (nullable = true)\n",
      " |-- TT_PREJ_ATE_12M_MERC: double (nullable = true)\n",
      " |-- TT_PREJ_ATE_12M_RZMO: double (nullable = true)\n",
      " |-- TT_PREJ_12_48M: double (nullable = true)\n",
      " |-- TT_PREJ_12_48M_MERC: double (nullable = true)\n",
      " |-- TT_PREJ_12_48M_RZMO: double (nullable = true)\n",
      " |-- TT_VCD_E_AVCR_TOTAL: double (nullable = true)\n",
      " |-- TT_VCD_E_AVCR_MERC: double (nullable = true)\n",
      " |-- TT_VCD_E_AVCR_RZMO: double (nullable = true)\n",
      " |-- TT_VCD: double (nullable = true)\n",
      " |-- TT_VCD_MERC: double (nullable = true)\n",
      " |-- TT_VCD_RZMO: double (nullable = true)\n",
      " |-- TT_RZ_VCD_POR_VCD_E_AVCR: double (nullable = true)\n",
      " |-- TT_RZ_VCD_POR_VCD_E_AVCR_MERC: double (nullable = true)\n",
      " |-- TT_RZ_VCD_PREJ_POR_DIVIDA: double (nullable = true)\n",
      " |-- TT_RZ_VCD_PREJ_POR_DIVIDA_MERC: double (nullable = true)\n",
      " |-- TT_MAIOR_PRAZO_AVCR: integer (nullable = true)\n",
      " |-- TT_MAIOR_PRAZO_AVCR_MERC: integer (nullable = true)\n",
      " |-- TT_RZ_AVCR_ATE90_POR_AVCR: double (nullable = true)\n",
      " |-- TT_RZ_AVCR_ATE90_POR_AVCR_MERC: double (nullable = true)\n",
      " |-- TT_RZ_AVCR_91_180_POR_AVCR: double (nullable = true)\n",
      " |-- TT_RZ_AVCR_91_180_POR_AVCR_MERC: double (nullable = true)\n",
      " |-- TT_RZ_AVCR_181_360_POR_AVCR: double (nullable = true)\n",
      " |-- TT_RZ_AVCR_181_360_POR_AVCR_MERC: double (nullable = true)\n",
      " |-- TT_RZ_AVCR_361_720_POR_AVCR: double (nullable = true)\n",
      " |-- TT_RZ_AVCR_361_720_POR_AVCR_MERC: double (nullable = true)\n",
      " |-- TT_RZ_AVCR_721_1080_POR_AVCR: double (nullable = true)\n",
      " |-- TT_RZ_AVCR_721_1080_POR_AVCR_MERC: double (nullable = true)\n",
      " |-- TT_RZ_AVCR_1081_1800_POR_AVCR: double (nullable = true)\n",
      " |-- TT_RZ_AVCR_1081_1800_POR_AVCR_MERC: double (nullable = true)\n",
      " |-- TT_RZ_AVCR_ACI1800_POR_AVCR: double (nullable = true)\n",
      " |-- TT_RZ_AVCR_ACI1800_POR_AVCR_MERC: double (nullable = true)\n",
      " |-- TT_AVCR_ATE90: double (nullable = true)\n",
      " |-- TT_AVCR_ATE90_MERC: double (nullable = true)\n",
      " |-- TT_AVCR_ATE90_RZMO: double (nullable = true)\n",
      " |-- TT_AVCR_91_180: double (nullable = true)\n",
      " |-- TT_AVCR_91_180_MERC: double (nullable = true)\n",
      " |-- TT_AVCR_91_180_RZMO: double (nullable = true)\n",
      " |-- TT_AVCR_181_360: double (nullable = true)\n",
      " |-- TT_AVCR_181_360_MERC: double (nullable = true)\n",
      " |-- TT_AVCR_181_360_RZMO: double (nullable = true)\n",
      " |-- TT_AVCR_361_720: double (nullable = true)\n",
      " |-- TT_AVCR_361_720_MERC: double (nullable = true)\n",
      " |-- TT_AVCR_361_720_RZMO: double (nullable = true)\n",
      " |-- TT_AVCR_721_1080: double (nullable = true)\n",
      " |-- TT_AVCR_721_1080_MERC: double (nullable = true)\n",
      " |-- TT_AVCR_721_1080_RZMO: double (nullable = true)\n",
      " |-- TT_AVCR_1081_1800: double (nullable = true)\n",
      " |-- TT_AVCR_1081_1800_MERC: double (nullable = true)\n",
      " |-- TT_AVCR_1081_1800_RZMO: double (nullable = true)\n",
      " |-- TT_AVCR_ACI1800: double (nullable = true)\n",
      " |-- TT_AVCR_ACI1800_MERC: double (nullable = true)\n",
      " |-- TT_AVCR_ACI1800_RZMO: double (nullable = true)\n",
      " |-- TT_RZ_VCD_ATE30_POR_VCD: double (nullable = true)\n",
      " |-- TT_RZ_VCD_ATE30_POR_VCD_MERC: double (nullable = true)\n",
      " |-- TT_RZ_VCD_31_60_POR_VCD: double (nullable = true)\n",
      " |-- TT_RZ_VCD_31_60_POR_VCD_MERC: double (nullable = true)\n",
      " |-- TT_RZ_VCD_61_90_POR_VCD: double (nullable = true)\n",
      " |-- TT_RZ_VCD_61_90_POR_VCD_MERC: double (nullable = true)\n",
      " |-- TT_RZ_VCD_91_180_POR_VCD: double (nullable = true)\n",
      " |-- TT_RZ_VCD_91_180_POR_VCD_MERC: double (nullable = true)\n",
      " |-- TT_RZ_VCD_181_360_POR_VCD: double (nullable = true)\n",
      " |-- TT_RZ_VCD_181_360_POR_VCD_MERC: double (nullable = true)\n",
      " |-- TT_VCD_ATE30: double (nullable = true)\n",
      " |-- TT_VCD_ATE30_MERC: double (nullable = true)\n",
      " |-- TT_VCD_ATE30_RZMO: double (nullable = true)\n",
      " |-- TT_VCD_31_60: double (nullable = true)\n",
      " |-- TT_VCD_31_60_MERC: double (nullable = true)\n",
      " |-- TT_VCD_31_60_RZMO: double (nullable = true)\n",
      " |-- TT_VCD_61_90: double (nullable = true)\n",
      " |-- TT_VCD_61_90_MERC: double (nullable = true)\n",
      " |-- TT_VCD_61_90_RZMO: double (nullable = true)\n",
      " |-- TT_VCD_91_180: double (nullable = true)\n",
      " |-- TT_VCD_91_180_MERC: double (nullable = true)\n",
      " |-- TT_VCD_91_180_RZMO: double (nullable = true)\n",
      " |-- TT_VCD_181_360: double (nullable = true)\n",
      " |-- TT_VCD_181_360_MERC: double (nullable = true)\n",
      " |-- TT_VCD_181_360_RZMO: double (nullable = true)\n",
      " |-- TT_VAR_MAIOR_ATRASO_M0_M1: double (nullable = true)\n",
      " |-- TT_VAR_MAIOR_ATRASO_M0_M1_MERC: double (nullable = true)\n",
      " |-- TT_VAR_SALDO_M0_M1: double (nullable = true)\n",
      " |-- TT_VAR_SALDO_M0_M1_MERC: double (nullable = true)\n",
      " |-- TT_VAR_SALDO_M0_M1_RZMO: double (nullable = true)\n",
      " |-- TT_VAR_VCD_PREJ_M0_M1: double (nullable = true)\n",
      " |-- TT_VAR_VCD_PREJ_M0_M1_MERC: double (nullable = true)\n",
      " |-- TT_VAR_VCD_PREJ_M0_M1_RZMO: double (nullable = true)\n",
      " |-- TT_MEDIA_AVCR_3MESES: double (nullable = true)\n",
      " |-- TT_MEDIA_AVCR_3MESES_MERC: double (nullable = true)\n",
      " |-- TT_RZ_MEDIA_AVCR_3MESES_PARC: double (nullable = true)\n",
      " |-- TT_MEDIA_AVCR_3MESES_V2: double (nullable = true)\n",
      " |-- TT_MEDIA_AVCR_3MESES_MERC_V2: double (nullable = true)\n",
      " |-- TT_RZ_MEDIA_AVCR_3MESES_PARC_V2: double (nullable = true)\n",
      " |-- QTDIF: string (nullable = true)\n",
      " |-- QTDOP: string (nullable = true)\n",
      " |-- TT_TEMPO_RELACIONAMENTO: integer (nullable = true)\n",
      " |-- TT_SALDO_TOTAL: double (nullable = true)\n",
      " |-- TT_SALDO_TOTAL_MERC: double (nullable = true)\n",
      " |-- TT_SALDO_TOTAL_RZMO: double (nullable = true)\n",
      " |-- TT_PREJ: double (nullable = true)\n",
      " |-- TT_PREJ_MERC: double (nullable = true)\n",
      " |-- TT_PREJ_RZMO: double (nullable = true)\n",
      " |-- TT_AVCR: double (nullable = true)\n",
      " |-- TT_AVCR_MERC: double (nullable = true)\n",
      " |-- TT_AVCR_RZMO: double (nullable = true)\n",
      " |-- TT_SHARE_OMNI_SALDO_TOTAL: double (nullable = true)\n",
      " |-- TT_SHARE_OMNI_VCD: double (nullable = true)\n",
      " |-- TT_SHARE_OMNI_AVCR: double (nullable = true)\n",
      " |-- TT_SHARE_OMNI_PREJUIZO: double (nullable = true)\n",
      " |-- TT_RZ_SALDO_M1_M0: double (nullable = true)\n",
      " |-- TT_RZ_SALDO_M1_M0_MERC: double (nullable = true)\n",
      " |-- TT_RZ_VCD_M1_M0: double (nullable = true)\n",
      " |-- TT_RZ_VCD_M1_M0_MERC: double (nullable = true)\n",
      " |-- TT_RZ_AVCR_M1_M0: double (nullable = true)\n",
      " |-- TT_RZ_AVCR_M1_M0_MERC: double (nullable = true)\n",
      " |-- TT_RZ_PREJ_M1_M0: double (nullable = true)\n",
      " |-- TT_RZ_PREJ_M1_M0_MERC: double (nullable = true)\n",
      " |-- TT_MAIOR_ATRASO_VCD_M1: integer (nullable = true)\n",
      " |-- TT_MAIOR_ATRASO_VCD_MERC_M1: integer (nullable = true)\n",
      " |-- TT_VCD_E_AVCR_TOTAL_M1: double (nullable = true)\n",
      " |-- TT_VCD_E_AVCR_MERC_M1: double (nullable = true)\n",
      " |-- TT_VCD_E_AVCR_RZMO_M1: double (nullable = true)\n",
      " |-- TT_VCD_M1: double (nullable = true)\n",
      " |-- TT_VCD_MERC_M1: double (nullable = true)\n",
      " |-- TT_VCD_RZMO_M1: double (nullable = true)\n",
      " |-- TT_RZ_VCD_POR_VCD_E_AVCR_M1: double (nullable = true)\n",
      " |-- TT_RZ_VCD_POR_VCD_E_AVCR_MERC_M1: double (nullable = true)\n",
      " |-- TT_RZ_VCD_PREJ_POR_DIVIDA_M1: double (nullable = true)\n",
      " |-- TT_RZ_VCD_PREJ_POR_DIVIDA_MERC_M1: double (nullable = true)\n",
      " |-- TT_MAIOR_PRAZO_AVCR_M1: integer (nullable = true)\n",
      " |-- TT_MAIOR_PRAZO_AVCR_MERC_M1: integer (nullable = true)\n",
      " |-- TT_SALDO_TOTAL_M1: double (nullable = true)\n",
      " |-- TT_SALDO_TOTAL_MERC_M1: double (nullable = true)\n",
      " |-- TT_SALDO_TOTAL_RZMO_M1: double (nullable = true)\n",
      " |-- TT_PREJ_M1: double (nullable = true)\n",
      " |-- TT_PREJ_MERC_M1: double (nullable = true)\n",
      " |-- TT_PREJ_RZMO_M1: double (nullable = true)\n",
      " |-- TT_AVCR_MERC_M1: double (nullable = true)\n",
      " |-- TT_AVCR_RZMO_M1: double (nullable = true)\n",
      " |-- TT_SHARE_OMNI_SALDO_TOTAL_M1: double (nullable = true)\n",
      " |-- TT_SHARE_OMNI_VCD_M1: double (nullable = true)\n",
      " |-- TT_SHARE_OMNI_AVCR_M1: double (nullable = true)\n",
      " |-- TT_SHARE_OMNI_PREJUIZO_M1: double (nullable = true)\n",
      " |-- TT_MAIOR_ATRASO_VCD_M2: integer (nullable = true)\n",
      " |-- TT_MAIOR_ATRASO_VCD_MERC_M2: integer (nullable = true)\n",
      " |-- TT_VCD_E_AVCR_TOTAL_M2: double (nullable = true)\n",
      " |-- TT_VCD_E_AVCR_MERC_M2: double (nullable = true)\n",
      " |-- TT_VCD_E_AVCR_RZMO_M2: double (nullable = true)\n",
      " |-- TT_VCD_M2: double (nullable = true)\n",
      " |-- TT_VCD_MERC_M2: double (nullable = true)\n",
      " |-- TT_VCD_RZMO_M2: double (nullable = true)\n",
      " |-- TT_RZ_VCD_POR_VCD_E_AVCR_M2: double (nullable = true)\n",
      " |-- TT_RZ_VCD_POR_VCD_E_AVCR_MERC_M2: double (nullable = true)\n",
      " |-- TT_RZ_VCD_PREJ_POR_DIVIDA_M2: double (nullable = true)\n",
      " |-- TT_RZ_VCD_PREJ_POR_DIVIDA_MERC_M2: double (nullable = true)\n",
      " |-- TT_MAIOR_PRAZO_AVCR_M2: integer (nullable = true)\n",
      " |-- TT_MAIOR_PRAZO_AVCR_MERC_M2: integer (nullable = true)\n",
      " |-- TT_SALDO_TOTAL_M2: double (nullable = true)\n",
      " |-- TT_SALDO_TOTAL_MERC_M2: double (nullable = true)\n",
      " |-- TT_SALDO_TOTAL_RZMO_M2: double (nullable = true)\n",
      " |-- TT_PREJ_M2: double (nullable = true)\n",
      " |-- TT_PREJ_MERC_M2: double (nullable = true)\n",
      " |-- TT_PREJ_RZMO_M2: double (nullable = true)\n",
      " |-- TT_AVCR_MERC_M2: double (nullable = true)\n",
      " |-- TT_AVCR_RZMO_M2: double (nullable = true)\n",
      " |-- TT_SHARE_OMNI_SALDO_TOTAL_M2: double (nullable = true)\n",
      " |-- TT_SHARE_OMNI_VCD_M2: double (nullable = true)\n",
      " |-- TT_SHARE_OMNI_AVCR_M2: double (nullable = true)\n",
      " |-- TT_SHARE_OMNI_PREJUIZO_M2: double (nullable = true)\n",
      " |-- TT_MAIOR_ATRASO_VCD_M3: integer (nullable = true)\n",
      " |-- TT_MAIOR_ATRASO_VCD_MERC_M3: integer (nullable = true)\n",
      " |-- TT_VCD_E_AVCR_TOTAL_M3: double (nullable = true)\n",
      " |-- TT_VCD_E_AVCR_MERC_M3: double (nullable = true)\n",
      " |-- TT_VCD_E_AVCR_RZMO_M3: double (nullable = true)\n",
      " |-- TT_VCD_M3: double (nullable = true)\n",
      " |-- TT_VCD_MERC_M3: double (nullable = true)\n",
      " |-- TT_VCD_RZMO_M3: double (nullable = true)\n",
      " |-- TT_RZ_VCD_POR_VCD_E_AVCR_M3: double (nullable = true)\n",
      " |-- TT_RZ_VCD_POR_VCD_E_AVCR_MERC_M3: double (nullable = true)\n",
      " |-- TT_RZ_VCD_PREJ_POR_DIVIDA_M3: double (nullable = true)\n",
      " |-- TT_RZ_VCD_PREJ_POR_DIVIDA_MERC_M3: double (nullable = true)\n",
      " |-- TT_MAIOR_PRAZO_AVCR_M3: integer (nullable = true)\n",
      " |-- TT_MAIOR_PRAZO_AVCR_MERC_M3: integer (nullable = true)\n",
      " |-- TT_SALDO_TOTAL_M3: double (nullable = true)\n",
      " |-- TT_SALDO_TOTAL_MERC_M3: double (nullable = true)\n",
      " |-- TT_SALDO_TOTAL_RZMO_M3: double (nullable = true)\n",
      " |-- TT_PREJ_M3: double (nullable = true)\n",
      " |-- TT_PREJ_MERC_M3: double (nullable = true)\n",
      " |-- TT_PREJ_RZMO_M3: double (nullable = true)\n",
      " |-- TT_AVCR_MERC_M3: double (nullable = true)\n",
      " |-- TT_AVCR_RZMO_M3: double (nullable = true)\n",
      " |-- TT_SHARE_OMNI_SALDO_TOTAL_M3: double (nullable = true)\n",
      " |-- TT_SHARE_OMNI_VCD_M3: double (nullable = true)\n",
      " |-- TT_SHARE_OMNI_AVCR_M3: double (nullable = true)\n",
      " |-- TT_SHARE_OMNI_PREJUIZO_M3: double (nullable = true)\n",
      " |-- TT_MAIOR_ATRASO_VCD_M4: integer (nullable = true)\n",
      " |-- TT_MAIOR_ATRASO_VCD_MERC_M4: integer (nullable = true)\n",
      " |-- TT_VCD_E_AVCR_TOTAL_M4: double (nullable = true)\n",
      " |-- TT_VCD_E_AVCR_MERC_M4: double (nullable = true)\n",
      " |-- TT_VCD_E_AVCR_RZMO_M4: double (nullable = true)\n",
      " |-- TT_VCD_M4: double (nullable = true)\n",
      " |-- TT_VCD_MERC_M4: double (nullable = true)\n",
      " |-- TT_VCD_RZMO_M4: double (nullable = true)\n",
      " |-- TT_RZ_VCD_POR_VCD_E_AVCR_M4: double (nullable = true)\n",
      " |-- TT_RZ_VCD_POR_VCD_E_AVCR_MERC_M4: double (nullable = true)\n",
      " |-- TT_RZ_VCD_PREJ_POR_DIVIDA_M4: double (nullable = true)\n",
      " |-- TT_RZ_VCD_PREJ_POR_DIVIDA_MERC_M4: double (nullable = true)\n",
      " |-- TT_MAIOR_PRAZO_AVCR_M4: integer (nullable = true)\n",
      " |-- TT_MAIOR_PRAZO_AVCR_MERC_M4: integer (nullable = true)\n",
      " |-- TT_SALDO_TOTAL_M4: double (nullable = true)\n",
      " |-- TT_SALDO_TOTAL_MERC_M4: double (nullable = true)\n",
      " |-- TT_SALDO_TOTAL_RZMO_M4: double (nullable = true)\n",
      " |-- TT_PREJ_M4: double (nullable = true)\n",
      " |-- TT_PREJ_MERC_M4: double (nullable = true)\n",
      " |-- TT_PREJ_RZMO_M4: double (nullable = true)\n",
      " |-- TT_AVCR_MERC_M4: double (nullable = true)\n",
      " |-- TT_AVCR_RZMO_M4: double (nullable = true)\n",
      " |-- TT_SHARE_OMNI_SALDO_TOTAL_M4: double (nullable = true)\n",
      " |-- TT_SHARE_OMNI_VCD_M4: double (nullable = true)\n",
      " |-- TT_SHARE_OMNI_AVCR_M4: double (nullable = true)\n",
      " |-- TT_SHARE_OMNI_PREJUIZO_M4: double (nullable = true)\n",
      " |-- TT_MAIOR_ATRASO_VCD_M5: integer (nullable = true)\n",
      " |-- TT_MAIOR_ATRASO_VCD_MERC_M5: integer (nullable = true)\n",
      " |-- TT_VCD_E_AVCR_TOTAL_M5: double (nullable = true)\n",
      " |-- TT_VCD_E_AVCR_MERC_M5: double (nullable = true)\n",
      " |-- TT_VCD_E_AVCR_RZMO_M5: double (nullable = true)\n",
      " |-- TT_VCD_M5: double (nullable = true)\n",
      " |-- TT_VCD_MERC_M5: double (nullable = true)\n",
      " |-- TT_VCD_RZMO_M5: double (nullable = true)\n",
      " |-- TT_RZ_VCD_POR_VCD_E_AVCR_M5: double (nullable = true)\n",
      " |-- TT_RZ_VCD_POR_VCD_E_AVCR_MERC_M5: double (nullable = true)\n",
      " |-- TT_RZ_VCD_PREJ_POR_DIVIDA_M5: double (nullable = true)\n",
      " |-- TT_RZ_VCD_PREJ_POR_DIVIDA_MERC_M5: double (nullable = true)\n",
      " |-- TT_MAIOR_PRAZO_AVCR_M5: integer (nullable = true)\n",
      " |-- TT_MAIOR_PRAZO_AVCR_MERC_M5: integer (nullable = true)\n",
      " |-- TT_SALDO_TOTAL_M5: double (nullable = true)\n",
      " |-- TT_SALDO_TOTAL_MERC_M5: double (nullable = true)\n",
      " |-- TT_SALDO_TOTAL_RZMO_M5: double (nullable = true)\n",
      " |-- TT_PREJ_M5: double (nullable = true)\n",
      " |-- TT_PREJ_MERC_M5: double (nullable = true)\n",
      " |-- TT_PREJ_RZMO_M5: double (nullable = true)\n",
      " |-- TT_AVCR_MERC_M5: double (nullable = true)\n",
      " |-- TT_AVCR_RZMO_M5: double (nullable = true)\n",
      " |-- TT_SHARE_OMNI_SALDO_TOTAL_M5: double (nullable = true)\n",
      " |-- TT_SHARE_OMNI_VCD_M5: double (nullable = true)\n",
      " |-- TT_SHARE_OMNI_AVCR_M5: double (nullable = true)\n",
      " |-- TT_SHARE_OMNI_PREJUIZO_M5: double (nullable = true)"
     ]
    }
   ],
   "source": [
    "df_visoes_mensais.printSchema()"
   ]
  },
  {
   "cell_type": "code",
   "execution_count": 231,
   "id": "4fe3585a",
   "metadata": {
    "scrolled": false
   },
   "outputs": [
    {
     "data": {
      "application/vnd.jupyter.widget-view+json": {
       "model_id": "cf83efb9a5064503b7a6bb1a9a51c3ce",
       "version_major": 2,
       "version_minor": 0
      },
      "text/plain": [
       "VBox()"
      ]
     },
     "metadata": {},
     "output_type": "display_data"
    },
    {
     "data": {
      "application/vnd.jupyter.widget-view+json": {
       "model_id": "",
       "version_major": 2,
       "version_minor": 0
      },
      "text/plain": [
       "FloatProgress(value=0.0, bar_style='info', description='Progress:', layout=Layout(height='25px', width='50%'),…"
      ]
     },
     "metadata": {},
     "output_type": "display_data"
    }
   ],
   "source": [
    "#df10.show()"
   ]
  },
  {
   "cell_type": "code",
   "execution_count": 232,
   "id": "2ca461d6",
   "metadata": {},
   "outputs": [
    {
     "data": {
      "application/vnd.jupyter.widget-view+json": {
       "model_id": "964fe69b347d4d409a00d04431f14008",
       "version_major": 2,
       "version_minor": 0
      },
      "text/plain": [
       "VBox()"
      ]
     },
     "metadata": {},
     "output_type": "display_data"
    },
    {
     "data": {
      "application/vnd.jupyter.widget-view+json": {
       "model_id": "",
       "version_major": 2,
       "version_minor": 0
      },
      "text/plain": [
       "FloatProgress(value=0.0, bar_style='info', description='Progress:', layout=Layout(height='25px', width='50%'),…"
      ]
     },
     "metadata": {},
     "output_type": "display_data"
    }
   ],
   "source": [
    "#df10.write.format(\"parquet\").mode(\"append\").saveAsTable(\n",
    "#        path=\"s3://modelagem/scr/etl-variaveis/processed-data/\",\n",
    "#        name=\"modelagem.scr_cliente\"\n",
    "#    )"
   ]
  },
  {
   "cell_type": "code",
   "execution_count": 233,
   "id": "80c153ea",
   "metadata": {},
   "outputs": [
    {
     "data": {
      "application/vnd.jupyter.widget-view+json": {
       "model_id": "57705e7858c4475cabebdff2d5e58d99",
       "version_major": 2,
       "version_minor": 0
      },
      "text/plain": [
       "VBox()"
      ]
     },
     "metadata": {},
     "output_type": "display_data"
    },
    {
     "data": {
      "application/vnd.jupyter.widget-view+json": {
       "model_id": "",
       "version_major": 2,
       "version_minor": 0
      },
      "text/plain": [
       "FloatProgress(value=0.0, bar_style='info', description='Progress:', layout=Layout(height='25px', width='50%'),…"
      ]
     },
     "metadata": {},
     "output_type": "display_data"
    }
   ],
   "source": [
    "#df_visoes_mensais.write.format(\"parquet\").mode(\"append\").save(f\"s3://modelagem/scr/processed-data/{modality}\")"
   ]
  },
  {
   "cell_type": "code",
   "execution_count": 234,
   "id": "a17bf92d",
   "metadata": {},
   "outputs": [
    {
     "data": {
      "application/vnd.jupyter.widget-view+json": {
       "model_id": "94456fc41b6e4db58bf7bbf3379a8d88",
       "version_major": 2,
       "version_minor": 0
      },
      "text/plain": [
       "VBox()"
      ]
     },
     "metadata": {},
     "output_type": "display_data"
    },
    {
     "data": {
      "application/vnd.jupyter.widget-view+json": {
       "model_id": "",
       "version_major": 2,
       "version_minor": 0
      },
      "text/plain": [
       "FloatProgress(value=0.0, bar_style='info', description='Progress:', layout=Layout(height='25px', width='50%'),…"
      ]
     },
     "metadata": {},
     "output_type": "display_data"
    }
   ],
   "source": [
    "df_visoes_mensais = df_visoes_mensais.drop(\"M0\",\"M1\",\"M2\",\"M3\",\"M4\",\"M5\")"
   ]
  },
  {
   "cell_type": "code",
   "execution_count": 235,
   "id": "512c52d8",
   "metadata": {},
   "outputs": [
    {
     "data": {
      "application/vnd.jupyter.widget-view+json": {
       "model_id": "26824866088948f5b9f120250a9a3996",
       "version_major": 2,
       "version_minor": 0
      },
      "text/plain": [
       "VBox()"
      ]
     },
     "metadata": {},
     "output_type": "display_data"
    },
    {
     "data": {
      "application/vnd.jupyter.widget-view+json": {
       "model_id": "",
       "version_major": 2,
       "version_minor": 0
      },
      "text/plain": [
       "FloatProgress(value=0.0, bar_style='info', description='Progress:', layout=Layout(height='25px', width='50%'),…"
      ]
     },
     "metadata": {},
     "output_type": "display_data"
    }
   ],
   "source": [
    "df_visoes_mensais.write.format(\"parquet\").mode(\"Overwrite\").save(\"s3://modelagem/scr/processed-data/HML/\")"
   ]
  },
  {
   "cell_type": "code",
   "execution_count": 236,
   "id": "3f027c08",
   "metadata": {},
   "outputs": [
    {
     "data": {
      "application/vnd.jupyter.widget-view+json": {
       "model_id": "56cd9626700447d6867b04b42054c588",
       "version_major": 2,
       "version_minor": 0
      },
      "text/plain": [
       "VBox()"
      ]
     },
     "metadata": {},
     "output_type": "display_data"
    },
    {
     "data": {
      "application/vnd.jupyter.widget-view+json": {
       "model_id": "",
       "version_major": 2,
       "version_minor": 0
      },
      "text/plain": [
       "FloatProgress(value=0.0, bar_style='info', description='Progress:', layout=Layout(height='25px', width='50%'),…"
      ]
     },
     "metadata": {},
     "output_type": "display_data"
    },
    {
     "name": "stdout",
     "output_type": "stream",
     "text": [
      "+-----------+------+-------------------+------------------------+---------------+--------------------+--------------------+--------------+-------------------+-------------------+-------------------+------------------+------------------+-------+-----------+-----------+------------------------+-----------------------------+-------------------------+------------------------------+-------------------+------------------------+-------------------------+------------------------------+--------------------------+-------------------------------+---------------------------+--------------------------------+---------------------------+--------------------------------+----------------------------+---------------------------------+-----------------------------+----------------------------------+---------------------------+--------------------------------+-------------+------------------+------------------+--------------+-------------------+-------------------+---------------+--------------------+--------------------+---------------+--------------------+--------------------+----------------+---------------------+---------------------+-----------------+----------------------+----------------------+---------------+--------------------+--------------------+-----------------------+----------------------------+-----------------------+----------------------------+-----------------------+----------------------------+------------------------+-----------------------------+-------------------------+------------------------------+------------+-----------------+-----------------+------------+-----------------+-----------------+------------+-----------------+-----------------+-------------+------------------+------------------+--------------+-------------------+-------------------+-------------------------+------------------------------+------------------+-----------------------+-----------------------+---------------------+--------------------------+--------------------------+--------------------+-------------------------+----------------------------+-----------------------+----------------------------+-------------------------------+-----+-----+-----------------------+--------------+-------------------+-------------------+-------+------------+------------+--------+------------+------------+-------------------------+-----------------+------------------+----------------------+-----------------+----------------------+---------------+--------------------+----------------+---------------------+----------------+---------------------+----------------------+---------------------------+----------------------+---------------------+---------------------+---------+--------------+--------------+---------------------------+--------------------------------+----------------------------+---------------------------------+----------------------+---------------------------+-----------------+----------------------+----------------------+----------+---------------+---------------+---------------+---------------+----------------------------+--------------------+---------------------+-------------------------+----------------------+---------------------------+----------------------+---------------------+---------------------+---------+--------------+--------------+---------------------------+--------------------------------+----------------------------+---------------------------------+----------------------+---------------------------+-----------------+----------------------+----------------------+----------+---------------+---------------+---------------+---------------+----------------------------+--------------------+---------------------+-------------------------+----------------------+---------------------------+----------------------+---------------------+---------------------+---------+--------------+--------------+---------------------------+--------------------------------+----------------------------+---------------------------------+----------------------+---------------------------+-----------------+----------------------+----------------------+----------+---------------+---------------+---------------+---------------+----------------------------+--------------------+---------------------+-------------------------+----------------------+---------------------------+----------------------+---------------------+---------------------+---------+--------------+--------------+---------------------------+--------------------------------+----------------------------+---------------------------------+----------------------+---------------------------+-----------------+----------------------+----------------------+----------+---------------+---------------+---------------+---------------+----------------------------+--------------------+---------------------+-------------------------+----------------------+---------------------------+----------------------+---------------------+---------------------+---------+--------------+--------------+---------------------------+--------------------------------+----------------------------+---------------------------------+----------------------+---------------------------+-----------------+----------------------+----------------------+----------+---------------+---------------+---------------+---------------+----------------------------+--------------------+---------------------+-------------------------+\n",
      "|CD         |DTBASE|TT_MAIOR_ATRASO_VCD|TT_MAIOR_ATRASO_VCD_MERC|TT_PREJ_ATE_12M|TT_PREJ_ATE_12M_MERC|TT_PREJ_ATE_12M_RZMO|TT_PREJ_12_48M|TT_PREJ_12_48M_MERC|TT_PREJ_12_48M_RZMO|TT_VCD_E_AVCR_TOTAL|TT_VCD_E_AVCR_MERC|TT_VCD_E_AVCR_RZMO|TT_VCD |TT_VCD_MERC|TT_VCD_RZMO|TT_RZ_VCD_POR_VCD_E_AVCR|TT_RZ_VCD_POR_VCD_E_AVCR_MERC|TT_RZ_VCD_PREJ_POR_DIVIDA|TT_RZ_VCD_PREJ_POR_DIVIDA_MERC|TT_MAIOR_PRAZO_AVCR|TT_MAIOR_PRAZO_AVCR_MERC|TT_RZ_AVCR_ATE90_POR_AVCR|TT_RZ_AVCR_ATE90_POR_AVCR_MERC|TT_RZ_AVCR_91_180_POR_AVCR|TT_RZ_AVCR_91_180_POR_AVCR_MERC|TT_RZ_AVCR_181_360_POR_AVCR|TT_RZ_AVCR_181_360_POR_AVCR_MERC|TT_RZ_AVCR_361_720_POR_AVCR|TT_RZ_AVCR_361_720_POR_AVCR_MERC|TT_RZ_AVCR_721_1080_POR_AVCR|TT_RZ_AVCR_721_1080_POR_AVCR_MERC|TT_RZ_AVCR_1081_1800_POR_AVCR|TT_RZ_AVCR_1081_1800_POR_AVCR_MERC|TT_RZ_AVCR_ACI1800_POR_AVCR|TT_RZ_AVCR_ACI1800_POR_AVCR_MERC|TT_AVCR_ATE90|TT_AVCR_ATE90_MERC|TT_AVCR_ATE90_RZMO|TT_AVCR_91_180|TT_AVCR_91_180_MERC|TT_AVCR_91_180_RZMO|TT_AVCR_181_360|TT_AVCR_181_360_MERC|TT_AVCR_181_360_RZMO|TT_AVCR_361_720|TT_AVCR_361_720_MERC|TT_AVCR_361_720_RZMO|TT_AVCR_721_1080|TT_AVCR_721_1080_MERC|TT_AVCR_721_1080_RZMO|TT_AVCR_1081_1800|TT_AVCR_1081_1800_MERC|TT_AVCR_1081_1800_RZMO|TT_AVCR_ACI1800|TT_AVCR_ACI1800_MERC|TT_AVCR_ACI1800_RZMO|TT_RZ_VCD_ATE30_POR_VCD|TT_RZ_VCD_ATE30_POR_VCD_MERC|TT_RZ_VCD_31_60_POR_VCD|TT_RZ_VCD_31_60_POR_VCD_MERC|TT_RZ_VCD_61_90_POR_VCD|TT_RZ_VCD_61_90_POR_VCD_MERC|TT_RZ_VCD_91_180_POR_VCD|TT_RZ_VCD_91_180_POR_VCD_MERC|TT_RZ_VCD_181_360_POR_VCD|TT_RZ_VCD_181_360_POR_VCD_MERC|TT_VCD_ATE30|TT_VCD_ATE30_MERC|TT_VCD_ATE30_RZMO|TT_VCD_31_60|TT_VCD_31_60_MERC|TT_VCD_31_60_RZMO|TT_VCD_61_90|TT_VCD_61_90_MERC|TT_VCD_61_90_RZMO|TT_VCD_91_180|TT_VCD_91_180_MERC|TT_VCD_91_180_RZMO|TT_VCD_181_360|TT_VCD_181_360_MERC|TT_VCD_181_360_RZMO|TT_VAR_MAIOR_ATRASO_M0_M1|TT_VAR_MAIOR_ATRASO_M0_M1_MERC|TT_VAR_SALDO_M0_M1|TT_VAR_SALDO_M0_M1_MERC|TT_VAR_SALDO_M0_M1_RZMO|TT_VAR_VCD_PREJ_M0_M1|TT_VAR_VCD_PREJ_M0_M1_MERC|TT_VAR_VCD_PREJ_M0_M1_RZMO|TT_MEDIA_AVCR_3MESES|TT_MEDIA_AVCR_3MESES_MERC|TT_RZ_MEDIA_AVCR_3MESES_PARC|TT_MEDIA_AVCR_3MESES_V2|TT_MEDIA_AVCR_3MESES_MERC_V2|TT_RZ_MEDIA_AVCR_3MESES_PARC_V2|QTDIF|QTDOP|TT_TEMPO_RELACIONAMENTO|TT_SALDO_TOTAL|TT_SALDO_TOTAL_MERC|TT_SALDO_TOTAL_RZMO|TT_PREJ|TT_PREJ_MERC|TT_PREJ_RZMO|TT_AVCR |TT_AVCR_MERC|TT_AVCR_RZMO|TT_SHARE_OMNI_SALDO_TOTAL|TT_SHARE_OMNI_VCD|TT_SHARE_OMNI_AVCR|TT_SHARE_OMNI_PREJUIZO|TT_RZ_SALDO_M1_M0|TT_RZ_SALDO_M1_M0_MERC|TT_RZ_VCD_M1_M0|TT_RZ_VCD_M1_M0_MERC|TT_RZ_AVCR_M1_M0|TT_RZ_AVCR_M1_M0_MERC|TT_RZ_PREJ_M1_M0|TT_RZ_PREJ_M1_M0_MERC|TT_MAIOR_ATRASO_VCD_M1|TT_MAIOR_ATRASO_VCD_MERC_M1|TT_VCD_E_AVCR_TOTAL_M1|TT_VCD_E_AVCR_MERC_M1|TT_VCD_E_AVCR_RZMO_M1|TT_VCD_M1|TT_VCD_MERC_M1|TT_VCD_RZMO_M1|TT_RZ_VCD_POR_VCD_E_AVCR_M1|TT_RZ_VCD_POR_VCD_E_AVCR_MERC_M1|TT_RZ_VCD_PREJ_POR_DIVIDA_M1|TT_RZ_VCD_PREJ_POR_DIVIDA_MERC_M1|TT_MAIOR_PRAZO_AVCR_M1|TT_MAIOR_PRAZO_AVCR_MERC_M1|TT_SALDO_TOTAL_M1|TT_SALDO_TOTAL_MERC_M1|TT_SALDO_TOTAL_RZMO_M1|TT_PREJ_M1|TT_PREJ_MERC_M1|TT_PREJ_RZMO_M1|TT_AVCR_MERC_M1|TT_AVCR_RZMO_M1|TT_SHARE_OMNI_SALDO_TOTAL_M1|TT_SHARE_OMNI_VCD_M1|TT_SHARE_OMNI_AVCR_M1|TT_SHARE_OMNI_PREJUIZO_M1|TT_MAIOR_ATRASO_VCD_M2|TT_MAIOR_ATRASO_VCD_MERC_M2|TT_VCD_E_AVCR_TOTAL_M2|TT_VCD_E_AVCR_MERC_M2|TT_VCD_E_AVCR_RZMO_M2|TT_VCD_M2|TT_VCD_MERC_M2|TT_VCD_RZMO_M2|TT_RZ_VCD_POR_VCD_E_AVCR_M2|TT_RZ_VCD_POR_VCD_E_AVCR_MERC_M2|TT_RZ_VCD_PREJ_POR_DIVIDA_M2|TT_RZ_VCD_PREJ_POR_DIVIDA_MERC_M2|TT_MAIOR_PRAZO_AVCR_M2|TT_MAIOR_PRAZO_AVCR_MERC_M2|TT_SALDO_TOTAL_M2|TT_SALDO_TOTAL_MERC_M2|TT_SALDO_TOTAL_RZMO_M2|TT_PREJ_M2|TT_PREJ_MERC_M2|TT_PREJ_RZMO_M2|TT_AVCR_MERC_M2|TT_AVCR_RZMO_M2|TT_SHARE_OMNI_SALDO_TOTAL_M2|TT_SHARE_OMNI_VCD_M2|TT_SHARE_OMNI_AVCR_M2|TT_SHARE_OMNI_PREJUIZO_M2|TT_MAIOR_ATRASO_VCD_M3|TT_MAIOR_ATRASO_VCD_MERC_M3|TT_VCD_E_AVCR_TOTAL_M3|TT_VCD_E_AVCR_MERC_M3|TT_VCD_E_AVCR_RZMO_M3|TT_VCD_M3|TT_VCD_MERC_M3|TT_VCD_RZMO_M3|TT_RZ_VCD_POR_VCD_E_AVCR_M3|TT_RZ_VCD_POR_VCD_E_AVCR_MERC_M3|TT_RZ_VCD_PREJ_POR_DIVIDA_M3|TT_RZ_VCD_PREJ_POR_DIVIDA_MERC_M3|TT_MAIOR_PRAZO_AVCR_M3|TT_MAIOR_PRAZO_AVCR_MERC_M3|TT_SALDO_TOTAL_M3|TT_SALDO_TOTAL_MERC_M3|TT_SALDO_TOTAL_RZMO_M3|TT_PREJ_M3|TT_PREJ_MERC_M3|TT_PREJ_RZMO_M3|TT_AVCR_MERC_M3|TT_AVCR_RZMO_M3|TT_SHARE_OMNI_SALDO_TOTAL_M3|TT_SHARE_OMNI_VCD_M3|TT_SHARE_OMNI_AVCR_M3|TT_SHARE_OMNI_PREJUIZO_M3|TT_MAIOR_ATRASO_VCD_M4|TT_MAIOR_ATRASO_VCD_MERC_M4|TT_VCD_E_AVCR_TOTAL_M4|TT_VCD_E_AVCR_MERC_M4|TT_VCD_E_AVCR_RZMO_M4|TT_VCD_M4|TT_VCD_MERC_M4|TT_VCD_RZMO_M4|TT_RZ_VCD_POR_VCD_E_AVCR_M4|TT_RZ_VCD_POR_VCD_E_AVCR_MERC_M4|TT_RZ_VCD_PREJ_POR_DIVIDA_M4|TT_RZ_VCD_PREJ_POR_DIVIDA_MERC_M4|TT_MAIOR_PRAZO_AVCR_M4|TT_MAIOR_PRAZO_AVCR_MERC_M4|TT_SALDO_TOTAL_M4|TT_SALDO_TOTAL_MERC_M4|TT_SALDO_TOTAL_RZMO_M4|TT_PREJ_M4|TT_PREJ_MERC_M4|TT_PREJ_RZMO_M4|TT_AVCR_MERC_M4|TT_AVCR_RZMO_M4|TT_SHARE_OMNI_SALDO_TOTAL_M4|TT_SHARE_OMNI_VCD_M4|TT_SHARE_OMNI_AVCR_M4|TT_SHARE_OMNI_PREJUIZO_M4|TT_MAIOR_ATRASO_VCD_M5|TT_MAIOR_ATRASO_VCD_MERC_M5|TT_VCD_E_AVCR_TOTAL_M5|TT_VCD_E_AVCR_MERC_M5|TT_VCD_E_AVCR_RZMO_M5|TT_VCD_M5|TT_VCD_MERC_M5|TT_VCD_RZMO_M5|TT_RZ_VCD_POR_VCD_E_AVCR_M5|TT_RZ_VCD_POR_VCD_E_AVCR_MERC_M5|TT_RZ_VCD_PREJ_POR_DIVIDA_M5|TT_RZ_VCD_PREJ_POR_DIVIDA_MERC_M5|TT_MAIOR_PRAZO_AVCR_M5|TT_MAIOR_PRAZO_AVCR_MERC_M5|TT_SALDO_TOTAL_M5|TT_SALDO_TOTAL_MERC_M5|TT_SALDO_TOTAL_RZMO_M5|TT_PREJ_M5|TT_PREJ_MERC_M5|TT_PREJ_RZMO_M5|TT_AVCR_MERC_M5|TT_AVCR_RZMO_M5|TT_SHARE_OMNI_SALDO_TOTAL_M5|TT_SHARE_OMNI_VCD_M5|TT_SHARE_OMNI_AVCR_M5|TT_SHARE_OMNI_PREJUIZO_M5|\n",
      "+-----------+------+-------------------+------------------------+---------------+--------------------+--------------------+--------------+-------------------+-------------------+-------------------+------------------+------------------+-------+-----------+-----------+------------------------+-----------------------------+-------------------------+------------------------------+-------------------+------------------------+-------------------------+------------------------------+--------------------------+-------------------------------+---------------------------+--------------------------------+---------------------------+--------------------------------+----------------------------+---------------------------------+-----------------------------+----------------------------------+---------------------------+--------------------------------+-------------+------------------+------------------+--------------+-------------------+-------------------+---------------+--------------------+--------------------+---------------+--------------------+--------------------+----------------+---------------------+---------------------+-----------------+----------------------+----------------------+---------------+--------------------+--------------------+-----------------------+----------------------------+-----------------------+----------------------------+-----------------------+----------------------------+------------------------+-----------------------------+-------------------------+------------------------------+------------+-----------------+-----------------+------------+-----------------+-----------------+------------+-----------------+-----------------+-------------+------------------+------------------+--------------+-------------------+-------------------+-------------------------+------------------------------+------------------+-----------------------+-----------------------+---------------------+--------------------------+--------------------------+--------------------+-------------------------+----------------------------+-----------------------+----------------------------+-------------------------------+-----+-----+-----------------------+--------------+-------------------+-------------------+-------+------------+------------+--------+------------+------------+-------------------------+-----------------+------------------+----------------------+-----------------+----------------------+---------------+--------------------+----------------+---------------------+----------------+---------------------+----------------------+---------------------------+----------------------+---------------------+---------------------+---------+--------------+--------------+---------------------------+--------------------------------+----------------------------+---------------------------------+----------------------+---------------------------+-----------------+----------------------+----------------------+----------+---------------+---------------+---------------+---------------+----------------------------+--------------------+---------------------+-------------------------+----------------------+---------------------------+----------------------+---------------------+---------------------+---------+--------------+--------------+---------------------------+--------------------------------+----------------------------+---------------------------------+----------------------+---------------------------+-----------------+----------------------+----------------------+----------+---------------+---------------+---------------+---------------+----------------------------+--------------------+---------------------+-------------------------+----------------------+---------------------------+----------------------+---------------------+---------------------+---------+--------------+--------------+---------------------------+--------------------------------+----------------------------+---------------------------------+----------------------+---------------------------+-----------------+----------------------+----------------------+----------+---------------+---------------+---------------+---------------+----------------------------+--------------------+---------------------+-------------------------+----------------------+---------------------------+----------------------+---------------------+---------------------+---------+--------------+--------------+---------------------------+--------------------------------+----------------------------+---------------------------------+----------------------+---------------------------+-----------------+----------------------+----------------------+----------+---------------+---------------+---------------+---------------+----------------------------+--------------------+---------------------+-------------------------+----------------------+---------------------------+----------------------+---------------------+---------------------+---------+--------------+--------------+---------------------------+--------------------------------+----------------------------+---------------------------------+----------------------+---------------------------+-----------------+----------------------+----------------------+----------+---------------+---------------+---------------+---------------+----------------------------+--------------------+---------------------+-------------------------+\n",
      "|00572740700|202106|60                 |60                      |0.0            |0.0                 |0.0                 |1268.59       |726.64             |1.3408             |28313.59           |28313.59          |52.2439           |1666.02|1666.02    |3.0741     |0.0588                  |0.0588                       |0.0992                   |0.0824                        |5400               |5400                    |0.1233                   |0.1233                        |0.0618                    |0.0618                         |0.1049                     |0.1049                          |0.1851                     |0.1851                          |0.1567                      |0.1567                           |0.2304                       |0.2304                            |0.1379                     |0.1379                          |3284.57      |3284.57           |6.0607            |1647.56       |1647.56            |3.0401             |2794.64        |2794.64             |5.1566              |4931.92        |4931.92             |9.1                 |4174.47         |4174.47              |7.7027               |6139.72          |6139.72               |11.3289               |3674.69        |3674.69             |6.7805              |0.0                    |0.0                         |1.0                    |1.0                         |0.0                    |0.0                         |0.0                     |0.0                          |0.0                      |0.0                           |0.0         |0.0              |0.0              |1666.02     |1666.02          |3.0741           |0.0         |0.0              |0.0              |0.0          |0.0               |0.0               |0.0           |0.0                |0.0                |0.0                      |0.0                           |0.0               |0.0                    |0.0                    |0.0                  |0.0                       |0.0                       |1094.8567           |1094.8567                |0.0                         |1094.8567              |1094.8567                   |0.0                            |8    |23   |152                    |29582.18      |29040.23           |53.5847            |2934.61|2392.66     |4.4149      |26647.57|26647.57    |49.1698     |0.0183                   |0.0              |0.0               |0.4272                |0.0              |0.0                   |0.0            |0.0                 |0.0             |0.0                  |0.0             |0.0                  |null                  |null                       |null                  |null                 |null                 |null     |null          |null          |null                       |null                            |null                        |null                             |null                  |null                       |null             |null                  |null                  |null      |null           |null           |null           |null           |null                        |null                |null                 |null                     |null                  |null                       |null                  |null                 |null                 |null     |null          |null          |null                       |null                            |null                        |null                             |null                  |null                       |null             |null                  |null                  |null      |null           |null           |null           |null           |null                        |null                |null                 |null                     |null                  |null                       |null                  |null                 |null                 |null     |null          |null          |null                       |null                            |null                        |null                             |null                  |null                       |null             |null                  |null                  |null      |null           |null           |null           |null           |null                        |null                |null                 |null                     |null                  |null                       |null                  |null                 |null                 |null     |null          |null          |null                       |null                            |null                        |null                             |null                  |null                       |null             |null                  |null                  |null      |null           |null           |null           |null           |null                        |null                |null                 |null                     |null                  |null                       |null                  |null                 |null                 |null     |null          |null          |null                       |null                            |null                        |null                             |null                  |null                       |null             |null                  |null                  |null      |null           |null           |null           |null           |null                        |null                |null                 |null                     |\n",
      "|00572740700|202107|90                 |90                      |0.0            |0.0                 |0.0                 |726.64        |726.64             |0.0                |28092.17           |28092.17          |0.0               |1777.78|1777.78    |0.0        |0.0633                  |0.0633                       |0.0869                   |0.0869                        |5400               |5400                    |0.1247                   |0.1247                        |0.0571                    |0.0571                         |0.1062                     |0.1062                          |0.1875                     |0.1875                          |0.1587                      |0.1587                           |0.2326                       |0.2326                            |0.1332                     |0.1332                          |3282.03      |3282.03           |0.0               |1502.15       |1502.15            |0.0                |2795.68        |2795.68             |0.0                 |4933.14        |4933.14             |0.0                 |4175.43         |4175.43              |0.0                  |6122.03          |6122.03               |0.0                   |3503.93        |3503.93             |0.0                 |0.0                    |0.0                         |0.0                    |0.0                         |1.0                    |1.0                         |0.0                     |0.0                          |0.0                      |0.0                           |0.0         |0.0              |0.0              |0.0         |0.0              |0.0              |1777.78     |1777.78          |0.0              |0.0          |0.0               |0.0               |0.0           |0.0                |0.0                |30.0                     |30.0                          |-763.37           |-221.42                |0.0                    |-430.19              |111.76                    |0.0                       |1094.01             |1094.01                  |0.0                         |1094.01                |1094.01                     |0.0                            |7    |22   |153                    |28818.81      |28818.81           |0.0                |2504.42|2504.42     |0.0         |26314.39|26314.39    |0.0         |0.0                      |0.0              |0.0               |0.0                   |-763.37          |-221.42               |111.76         |111.76              |-333.18         |-333.18              |-541.95         |0.0                  |60                    |60                         |28313.59              |28313.59             |52.2439              |1666.02  |1666.02       |3.0741        |0.0588                     |0.0588                          |0.0992                      |0.0824                           |5400                  |5400                       |29582.18         |29040.23              |53.5847               |2934.61   |2392.66        |4.4149         |26647.57       |49.1698        |0.0183                      |0.0                 |0.0                  |0.4272                   |null                  |null                       |null                  |null                 |null                 |null     |null          |null          |null                       |null                            |null                        |null                             |null                  |null                       |null             |null                  |null                  |null      |null           |null           |null           |null           |null                        |null                |null                 |null                     |null                  |null                       |null                  |null                 |null                 |null     |null          |null          |null                       |null                            |null                        |null                             |null                  |null                       |null             |null                  |null                  |null      |null           |null           |null           |null           |null                        |null                |null                 |null                     |null                  |null                       |null                  |null                 |null                 |null     |null          |null          |null                       |null                            |null                        |null                             |null                  |null                       |null             |null                  |null                  |null      |null           |null           |null           |null           |null                        |null                |null                 |null                     |null                  |null                       |null                  |null                 |null                 |null     |null          |null          |null                       |null                            |null                        |null                             |null                  |null                       |null             |null                  |null                  |null      |null           |null           |null           |null           |null                        |null                |null                 |null                     |\n",
      "|00572740700|202108|120                |120                     |0.0            |0.0                 |0.0                 |726.64        |726.64             |0.0                |27894.69           |27894.69          |0.0               |1873.08|1873.08    |0.0        |0.0671                  |0.0671                       |0.0908                   |0.0908                        |5400               |5400                    |0.1213                   |0.1213                        |0.0585                    |0.0585                         |0.1075                     |0.1075                          |0.1896                     |0.1896                          |0.1605                      |0.1605                           |0.2346                       |0.2346                            |0.128                      |0.128                           |3155.96      |3155.96           |0.0               |1523.35       |1523.35            |0.0                |2796.7         |2796.7              |0.0                 |4934.5         |4934.5              |0.0                 |4176.31         |4176.31              |0.0                  |6103.96          |6103.96               |0.0                   |3330.83        |3330.83             |0.0                 |0.0                    |0.0                         |0.0                    |0.0                         |0.0                    |0.0                         |1.0                     |1.0                          |0.0                      |0.0                           |0.0         |0.0              |0.0              |0.0         |0.0              |0.0              |0.0         |0.0              |0.0              |1873.08      |1873.08           |0.0               |0.0           |0.0                |0.0                |30.0                     |30.0                          |-197.48           |-197.48                |0.0                    |95.3                 |95.3                      |0.0                       |1051.9867           |1051.9867                |0.0                         |1051.9867              |1051.9867                   |0.0                            |7    |21   |154                    |28621.33      |28621.33           |0.0                |2599.72|2599.72     |0.0         |26021.61|26021.61    |0.0         |0.0                      |0.0              |0.0               |0.0                   |-197.48          |-197.48               |95.3           |95.3                |-292.78         |-292.78              |0.0             |0.0                  |90                    |90                         |28092.17              |28092.17             |0.0                  |1777.78  |1777.78       |0.0           |0.0633                     |0.0633                          |0.0869                      |0.0869                           |5400                  |5400                       |28818.81         |28818.81              |0.0                   |2504.42   |2504.42        |0.0            |26314.39       |0.0            |0.0                         |0.0                 |0.0                  |0.0                      |60                    |60                         |28313.59              |28313.59             |52.2439              |1666.02  |1666.02       |3.0741        |0.0588                     |0.0588                          |0.0992                      |0.0824                           |5400                  |5400                       |29582.18         |29040.23              |53.5847               |2934.61   |2392.66        |4.4149         |26647.57       |49.1698        |0.0183                      |0.0                 |0.0                  |0.4272                   |null                  |null                       |null                  |null                 |null                 |null     |null          |null          |null                       |null                            |null                        |null                             |null                  |null                       |null             |null                  |null                  |null      |null           |null           |null           |null           |null                        |null                |null                 |null                     |null                  |null                       |null                  |null                 |null                 |null     |null          |null          |null                       |null                            |null                        |null                             |null                  |null                       |null             |null                  |null                  |null      |null           |null           |null           |null           |null                        |null                |null                 |null                     |null                  |null                       |null                  |null                 |null                 |null     |null          |null          |null                       |null                            |null                        |null                             |null                  |null                       |null             |null                  |null                  |null      |null           |null           |null           |null           |null                        |null                |null                 |null                     |\n",
      "|00572740700|202109|150                |150                     |0.0            |0.0                 |0.0                 |726.64        |726.64             |0.0                |27759.34           |27759.34          |0.0               |1873.08|1873.08    |0.0        |0.0675                  |0.0675                       |0.0913                   |0.0913                        |5400               |5400                    |0.1258                   |0.1258                        |0.0575                    |0.0575                         |0.108                      |0.108                           |0.1906                     |0.1906                          |0.1613                      |0.1613                           |0.235                        |0.235                             |0.1218                     |0.1218                          |3255.97      |3255.97           |0.0               |1488.5        |1488.5             |0.0                |2795.9         |2795.9              |0.0                 |4933.54        |4933.54             |0.0                 |4175.42         |4175.42              |0.0                  |6082.72          |6082.72               |0.0                   |3154.21        |3154.21             |0.0                 |0.0                    |0.0                         |0.0                    |0.0                         |0.0                    |0.0                         |1.0                     |1.0                          |0.0                      |0.0                           |0.0         |0.0              |0.0              |0.0         |0.0              |0.0              |0.0         |0.0              |0.0              |1873.08      |1873.08           |0.0               |0.0           |0.0                |0.0                |30.0                     |30.0                          |-135.35           |-135.35                |0.0                    |0.0                  |0.0                       |0.0                       |1085.3233           |1085.3233                |0.0                         |1085.3233              |1085.3233                   |0.0                            |7    |21   |155                    |28485.98      |28485.98           |0.0                |2599.72|2599.72     |0.0         |25886.26|25886.26    |0.0         |0.0                      |0.0              |0.0               |0.0                   |-135.35          |-135.35               |0.0            |0.0                 |-135.35         |-135.35              |0.0             |0.0                  |120                   |120                        |27894.69              |27894.69             |0.0                  |1873.08  |1873.08       |0.0           |0.0671                     |0.0671                          |0.0908                      |0.0908                           |5400                  |5400                       |28621.33         |28621.33              |0.0                   |2599.72   |2599.72        |0.0            |26021.61       |0.0            |0.0                         |0.0                 |0.0                  |0.0                      |90                    |90                         |28092.17              |28092.17             |0.0                  |1777.78  |1777.78       |0.0           |0.0633                     |0.0633                          |0.0869                      |0.0869                           |5400                  |5400                       |28818.81         |28818.81              |0.0                   |2504.42   |2504.42        |0.0            |26314.39       |0.0            |0.0                         |0.0                 |0.0                  |0.0                      |60                    |60                         |28313.59              |28313.59             |52.2439              |1666.02  |1666.02       |3.0741        |0.0588                     |0.0588                          |0.0992                      |0.0824                           |5400                  |5400                       |29582.18         |29040.23              |53.5847               |2934.61   |2392.66        |4.4149         |26647.57       |49.1698        |0.0183                      |0.0                 |0.0                  |0.4272                   |null                  |null                       |null                  |null                 |null                 |null     |null          |null          |null                       |null                            |null                        |null                             |null                  |null                       |null             |null                  |null                  |null      |null           |null           |null           |null           |null                        |null                |null                 |null                     |null                  |null                       |null                  |null                 |null                 |null     |null          |null          |null                       |null                            |null                        |null                             |null                  |null                       |null             |null                  |null                  |null      |null           |null           |null           |null           |null                        |null                |null                 |null                     |\n",
      "|00572740700|202110|180                |180                     |0.0            |0.0                 |0.0                 |0.0           |0.0                |0.0                |30268.94           |30268.94          |0.0               |1873.08|1873.08    |0.0        |0.0619                  |0.0619                       |0.0619                   |0.0619                        |5400               |5400                    |0.1104                   |0.1104                        |0.0586                    |0.0586                         |0.1098                     |0.1098                          |0.1931                     |0.1931                          |0.1628                      |0.1628                           |0.2396                       |0.2396                            |0.1257                     |0.1257                          |3135.73      |3135.73           |0.0               |1662.77       |1662.77            |0.0                |3117.54        |3117.54             |0.0                 |5484.45        |5484.45             |0.0                 |4622.12         |4622.12              |0.0                  |6804.28          |6804.28               |0.0                   |3568.97        |3568.97             |0.0                 |0.0                    |0.0                         |0.0                    |0.0                         |0.0                    |0.0                         |1.0                     |1.0                          |0.0                      |0.0                           |0.0         |0.0              |0.0              |0.0         |0.0              |0.0              |0.0         |0.0              |0.0              |1873.08      |1873.08           |0.0               |0.0           |0.0                |0.0                |30.0                     |30.0                          |1782.96           |1782.96                |0.0                    |-726.64              |-726.64                   |0.0                       |1045.2433           |1045.2433                |0.0                         |1045.2433              |1045.2433                   |0.0                            |6    |21   |156                    |30268.94      |30268.94           |0.0                |1873.08|1873.08     |0.0         |28395.86|28395.86    |0.0         |0.0                      |0.0              |0.0               |0.0                   |1782.96          |1782.96               |0.0            |0.0                 |2509.6          |2509.6               |-726.64         |-726.64              |150                   |150                        |27759.34              |27759.34             |0.0                  |1873.08  |1873.08       |0.0           |0.0675                     |0.0675                          |0.0913                      |0.0913                           |5400                  |5400                       |28485.98         |28485.98              |0.0                   |2599.72   |2599.72        |0.0            |25886.26       |0.0            |0.0                         |0.0                 |0.0                  |0.0                      |120                   |120                        |27894.69              |27894.69             |0.0                  |1873.08  |1873.08       |0.0           |0.0671                     |0.0671                          |0.0908                      |0.0908                           |5400                  |5400                       |28621.33         |28621.33              |0.0                   |2599.72   |2599.72        |0.0            |26021.61       |0.0            |0.0                         |0.0                 |0.0                  |0.0                      |90                    |90                         |28092.17              |28092.17             |0.0                  |1777.78  |1777.78       |0.0           |0.0633                     |0.0633                          |0.0869                      |0.0869                           |5400                  |5400                       |28818.81         |28818.81              |0.0                   |2504.42   |2504.42        |0.0            |26314.39       |0.0            |0.0                         |0.0                 |0.0                  |0.0                      |60                    |60                         |28313.59              |28313.59             |52.2439              |1666.02  |1666.02       |3.0741        |0.0588                     |0.0588                          |0.0992                      |0.0824                           |5400                  |5400                       |29582.18         |29040.23              |53.5847               |2934.61   |2392.66        |4.4149         |26647.57       |49.1698        |0.0183                      |0.0                 |0.0                  |0.4272                   |null                  |null                       |null                  |null                 |null                 |null     |null          |null          |null                       |null                            |null                        |null                             |null                  |null                       |null             |null                  |null                  |null      |null           |null           |null           |null           |null                        |null                |null                 |null                     |\n",
      "|00572740700|202111|240                |240                     |0.0            |0.0                 |0.0                 |0.0           |0.0                |0.0                |30202.59           |30202.59          |0.0               |1873.08|1873.08    |0.0        |0.062                   |0.062                        |0.062                    |0.062                         |5400               |5400                    |0.116                    |0.116                         |0.0587                    |0.0587                         |0.11                       |0.11                            |0.1936                     |0.1936                          |0.1631                      |0.1631                           |0.2396                       |0.2396                            |0.119                      |0.119                           |3285.2       |3285.2            |0.0               |1663.03       |1663.03            |0.0                |3116.65        |3116.65             |0.0                 |5483.43        |5483.43             |0.0                 |4621.12         |4621.12              |0.0                  |6788.98          |6788.98               |0.0                   |3371.1         |3371.1              |0.0                 |0.0                    |0.0                         |0.0                    |0.0                         |0.0                    |0.0                         |0.0                     |0.0                          |1.0                      |1.0                           |0.0         |0.0              |0.0              |0.0         |0.0              |0.0              |0.0         |0.0              |0.0              |0.0          |0.0               |0.0               |1873.08       |1873.08            |0.0                |60.0                     |60.0                          |-66.35            |-66.35                 |0.0                    |0.0                  |0.0                       |0.0                       |1095.0667           |1095.0667                |0.0                         |1095.0667              |1095.0667                   |0.0                            |6    |20   |157                    |30202.59      |30202.59           |0.0                |1873.08|1873.08     |0.0         |28329.51|28329.51    |0.0         |0.0                      |0.0              |0.0               |0.0                   |-66.35           |-66.35                |0.0            |0.0                 |-66.35          |-66.35               |0.0             |0.0                  |180                   |180                        |30268.94              |30268.94             |0.0                  |1873.08  |1873.08       |0.0           |0.0619                     |0.0619                          |0.0619                      |0.0619                           |5400                  |5400                       |30268.94         |30268.94              |0.0                   |1873.08   |1873.08        |0.0            |28395.86       |0.0            |0.0                         |0.0                 |0.0                  |0.0                      |150                   |150                        |27759.34              |27759.34             |0.0                  |1873.08  |1873.08       |0.0           |0.0675                     |0.0675                          |0.0913                      |0.0913                           |5400                  |5400                       |28485.98         |28485.98              |0.0                   |2599.72   |2599.72        |0.0            |25886.26       |0.0            |0.0                         |0.0                 |0.0                  |0.0                      |120                   |120                        |27894.69              |27894.69             |0.0                  |1873.08  |1873.08       |0.0           |0.0671                     |0.0671                          |0.0908                      |0.0908                           |5400                  |5400                       |28621.33         |28621.33              |0.0                   |2599.72   |2599.72        |0.0            |26021.61       |0.0            |0.0                         |0.0                 |0.0                  |0.0                      |90                    |90                         |28092.17              |28092.17             |0.0                  |1777.78  |1777.78       |0.0           |0.0633                     |0.0633                          |0.0869                      |0.0869                           |5400                  |5400                       |28818.81         |28818.81              |0.0                   |2504.42   |2504.42        |0.0            |26314.39       |0.0            |0.0                         |0.0                 |0.0                  |0.0                      |60                    |60                         |28313.59              |28313.59             |52.2439              |1666.02  |1666.02       |3.0741        |0.0588                     |0.0588                          |0.0992                      |0.0824                           |5400                  |5400                       |29582.18         |29040.23              |53.5847               |2934.61   |2392.66        |4.4149         |26647.57       |49.1698        |0.0183                      |0.0                 |0.0                  |0.4272                   |\n",
      "+-----------+------+-------------------+------------------------+---------------+--------------------+--------------------+--------------+-------------------+-------------------+-------------------+------------------+------------------+-------+-----------+-----------+------------------------+-----------------------------+-------------------------+------------------------------+-------------------+------------------------+-------------------------+------------------------------+--------------------------+-------------------------------+---------------------------+--------------------------------+---------------------------+--------------------------------+----------------------------+---------------------------------+-----------------------------+----------------------------------+---------------------------+--------------------------------+-------------+------------------+------------------+--------------+-------------------+-------------------+---------------+--------------------+--------------------+---------------+--------------------+--------------------+----------------+---------------------+---------------------+-----------------+----------------------+----------------------+---------------+--------------------+--------------------+-----------------------+----------------------------+-----------------------+----------------------------+-----------------------+----------------------------+------------------------+-----------------------------+-------------------------+------------------------------+------------+-----------------+-----------------+------------+-----------------+-----------------+------------+-----------------+-----------------+-------------+------------------+------------------+--------------+-------------------+-------------------+-------------------------+------------------------------+------------------+-----------------------+-----------------------+---------------------+--------------------------+--------------------------+--------------------+-------------------------+----------------------------+-----------------------+----------------------------+-------------------------------+-----+-----+-----------------------+--------------+-------------------+-------------------+-------+------------+------------+--------+------------+------------+-------------------------+-----------------+------------------+----------------------+-----------------+----------------------+---------------+--------------------+----------------+---------------------+----------------+---------------------+----------------------+---------------------------+----------------------+---------------------+---------------------+---------+--------------+--------------+---------------------------+--------------------------------+----------------------------+---------------------------------+----------------------+---------------------------+-----------------+----------------------+----------------------+----------+---------------+---------------+---------------+---------------+----------------------------+--------------------+---------------------+-------------------------+----------------------+---------------------------+----------------------+---------------------+---------------------+---------+--------------+--------------+---------------------------+--------------------------------+----------------------------+---------------------------------+----------------------+---------------------------+-----------------+----------------------+----------------------+----------+---------------+---------------+---------------+---------------+----------------------------+--------------------+---------------------+-------------------------+----------------------+---------------------------+----------------------+---------------------+---------------------+---------+--------------+--------------+---------------------------+--------------------------------+----------------------------+---------------------------------+----------------------+---------------------------+-----------------+----------------------+----------------------+----------+---------------+---------------+---------------+---------------+----------------------------+--------------------+---------------------+-------------------------+----------------------+---------------------------+----------------------+---------------------+---------------------+---------+--------------+--------------+---------------------------+--------------------------------+----------------------------+---------------------------------+----------------------+---------------------------+-----------------+----------------------+----------------------+----------+---------------+---------------+---------------+---------------+----------------------------+--------------------+---------------------+-------------------------+----------------------+---------------------------+----------------------+---------------------+---------------------+---------+--------------+--------------+---------------------------+--------------------------------+----------------------------+---------------------------------+----------------------+---------------------------+-----------------+----------------------+----------------------+----------+---------------+---------------+---------------+---------------+----------------------------+--------------------+---------------------+-------------------------+"
     ]
    }
   ],
   "source": [
    "df_visoes_mensais.show(df_visoes_mensais.count(),False)"
   ]
  },
  {
   "cell_type": "code",
   "execution_count": 237,
   "id": "e5a3c781",
   "metadata": {},
   "outputs": [
    {
     "data": {
      "application/vnd.jupyter.widget-view+json": {
       "model_id": "306400524e6f4fcc9355e18ad4a71541",
       "version_major": 2,
       "version_minor": 0
      },
      "text/plain": [
       "VBox()"
      ]
     },
     "metadata": {},
     "output_type": "display_data"
    },
    {
     "data": {
      "application/vnd.jupyter.widget-view+json": {
       "model_id": "",
       "version_major": 2,
       "version_minor": 0
      },
      "text/plain": [
       "FloatProgress(value=0.0, bar_style='info', description='Progress:', layout=Layout(height='25px', width='50%'),…"
      ]
     },
     "metadata": {},
     "output_type": "display_data"
    }
   ],
   "source": [
    "#df_visoes_mensais.show()"
   ]
  },
  {
   "cell_type": "code",
   "execution_count": 238,
   "id": "362f160a",
   "metadata": {},
   "outputs": [
    {
     "data": {
      "application/vnd.jupyter.widget-view+json": {
       "model_id": "048888d47eb0422c8240cdc94e294a23",
       "version_major": 2,
       "version_minor": 0
      },
      "text/plain": [
       "VBox()"
      ]
     },
     "metadata": {},
     "output_type": "display_data"
    },
    {
     "data": {
      "application/vnd.jupyter.widget-view+json": {
       "model_id": "",
       "version_major": 2,
       "version_minor": 0
      },
      "text/plain": [
       "FloatProgress(value=0.0, bar_style='info', description='Progress:', layout=Layout(height='25px', width='50%'),…"
      ]
     },
     "metadata": {},
     "output_type": "display_data"
    },
    {
     "name": "stdout",
     "output_type": "stream",
     "text": [
      "6"
     ]
    }
   ],
   "source": [
    "df_visoes_mensais.count()"
   ]
  },
  {
   "cell_type": "code",
   "execution_count": null,
   "id": "0a28f379",
   "metadata": {},
   "outputs": [],
   "source": []
  },
  {
   "cell_type": "code",
   "execution_count": null,
   "id": "50917bf7",
   "metadata": {},
   "outputs": [],
   "source": []
  }
 ],
 "metadata": {
  "kernelspec": {
   "display_name": "PySpark",
   "language": "",
   "name": "pysparkkernel"
  },
  "language_info": {
   "codemirror_mode": {
    "name": "python",
    "version": 3
   },
   "mimetype": "text/x-python",
   "name": "pyspark",
   "pygments_lexer": "python3"
  }
 },
 "nbformat": 4,
 "nbformat_minor": 5
}
