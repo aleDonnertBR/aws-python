{
 "cells": [
  {
   "cell_type": "markdown",
   "id": "808e3594",
   "metadata": {},
   "source": [
    "# Processo de consolidação e escrita de modalidades \n",
    "Choose one of the abbreviations in modality variable\n",
    "\n",
    "Abbreviation\tCategory\n",
    "TT\tTotal\n",
    "CRT\tCartão de Crédito\n",
    "VEIC\tFinanciamento de veículo\n",
    "CP\tCrédito Pessoal\n",
    "CHE\tCheque Especial\n",
    "CNG\tEmpréstimo Consignado\n",
    "MCC\tMicrocrédito\n",
    "IMB\tCrédito Imobiliário\n",
    "OLM\tOutros Limites\n",
    "DMS Demais Créditos\n"
   ]
  },
  {
   "cell_type": "code",
   "execution_count": null,
   "id": "cd1a2a89",
   "metadata": {},
   "outputs": [],
   "source": [
    "from pyspark import SparkConf\n",
    "from pyspark.sql import SparkSession\n",
    "import botocore.session\n",
    "\n",
    "import pyspark\n",
    "from pyspark.sql.functions import *\n",
    "from pyspark.sql.types import StructType,StructField, StringType, IntegerType \n",
    "from pyspark.sql.types import ArrayType, DoubleType, BooleanType\n",
    "from pyspark.sql.functions import col,array_contains\n",
    "from pyspark.sql.functions import sum\n",
    "from pyspark.sql import functions as F\n",
    "from operator import add, and_, sub\n",
    "from functools import reduce"
   ]
  },
  {
   "cell_type": "code",
   "execution_count": null,
   "id": "1b3288ae",
   "metadata": {},
   "outputs": [],
   "source": [
    "bucket = \"modelagem\"\n",
    "data_key = \"scr/processed-data\"\n",
    "data_location = f\"s3://{bucket}/{data_key}\"\n",
    "\n",
    "#s3://modelagem/scr/processed-data/CHE/"
   ]
  },
  {
   "cell_type": "markdown",
   "id": "1b3370dd",
   "metadata": {},
   "source": [
    "DEFINIÇÕA DO MÊS DE LEITURA DAS BASES DE DADOS PARA CARGA INCREMENTAL"
   ]
  },
  {
   "cell_type": "code",
   "execution_count": null,
   "id": "7e9ce4c5",
   "metadata": {},
   "outputs": [],
   "source": [
    "dtbase = '202111'"
   ]
  },
  {
   "cell_type": "markdown",
   "id": "0f26d4ce",
   "metadata": {},
   "source": [
    "LEITURA DOS DATABASES POR CATEGORIA "
   ]
  },
  {
   "cell_type": "code",
   "execution_count": null,
   "id": "af7f62d3",
   "metadata": {},
   "outputs": [],
   "source": [
    "df_scr_che = spark.read.parquet(f'{data_location}/CHE')"
   ]
  },
  {
   "cell_type": "code",
   "execution_count": null,
   "id": "87e165eb",
   "metadata": {},
   "outputs": [],
   "source": [
    "df_scr_cng = spark.read.parquet(f'{data_location}/CNG')"
   ]
  },
  {
   "cell_type": "code",
   "execution_count": null,
   "id": "5431e310",
   "metadata": {},
   "outputs": [],
   "source": [
    "df_scr_cp = spark.read.parquet(f'{data_location}/CP')"
   ]
  },
  {
   "cell_type": "code",
   "execution_count": null,
   "id": "fec6e4ea",
   "metadata": {},
   "outputs": [],
   "source": [
    "df_scr_crt = spark.read.parquet(f'{data_location}/CRT')"
   ]
  },
  {
   "cell_type": "code",
   "execution_count": null,
   "id": "83bc55fe",
   "metadata": {},
   "outputs": [],
   "source": [
    "df_scr_imb = spark.read.parquet(f'{data_location}/IMB')"
   ]
  },
  {
   "cell_type": "code",
   "execution_count": null,
   "id": "c8527cf1",
   "metadata": {},
   "outputs": [],
   "source": [
    "df_scr_dms = spark.read.parquet(f'{data_location}/DMS')"
   ]
  },
  {
   "cell_type": "code",
   "execution_count": null,
   "id": "e3a57c5c",
   "metadata": {},
   "outputs": [],
   "source": [
    "df_scr_mcc = spark.read.parquet(f'{data_location}/MCC')"
   ]
  },
  {
   "cell_type": "code",
   "execution_count": null,
   "id": "33096a8e",
   "metadata": {},
   "outputs": [],
   "source": [
    "df_scr_olm = spark.read.parquet(f'{data_location}/OLM')"
   ]
  },
  {
   "cell_type": "code",
   "execution_count": null,
   "id": "e8e526d7",
   "metadata": {},
   "outputs": [],
   "source": [
    "df_scr_tt = spark.read.parquet(f'{data_location}/TT')"
   ]
  },
  {
   "cell_type": "code",
   "execution_count": null,
   "id": "e393801c",
   "metadata": {},
   "outputs": [],
   "source": [
    "df_scr_veic = spark.read.parquet(f'{data_location}/VEIC')"
   ]
  },
  {
   "cell_type": "markdown",
   "id": "2ae9aaf1",
   "metadata": {},
   "source": [
    "CONSOLIDAÇÃO DAS CATEGORIAS VIA LEFT JOIN DAS BASES TOTAIS COM AS DEMAIS CATEGORIAS"
   ]
  },
  {
   "cell_type": "code",
   "execution_count": null,
   "id": "2eca091a",
   "metadata": {},
   "outputs": [],
   "source": [
    "df_scr_che = df_scr_che.filter(df_scr_che.DTBASE == dtbase)"
   ]
  },
  {
   "cell_type": "code",
   "execution_count": null,
   "id": "d9d93e1e",
   "metadata": {},
   "outputs": [],
   "source": [
    "df_scr_cng = df_scr_cng.filter(df_scr_cng.DTBASE == dtbase)"
   ]
  },
  {
   "cell_type": "code",
   "execution_count": null,
   "id": "4610107d",
   "metadata": {},
   "outputs": [],
   "source": [
    "df_scr_cp = df_scr_cp.filter(df_scr_cp.DTBASE == dtbase)"
   ]
  },
  {
   "cell_type": "code",
   "execution_count": null,
   "id": "e383aac3",
   "metadata": {},
   "outputs": [],
   "source": [
    "df_scr_crt = df_scr_crt.filter(df_scr_crt.DTBASE == dtbase)"
   ]
  },
  {
   "cell_type": "code",
   "execution_count": null,
   "id": "3866d0d1",
   "metadata": {},
   "outputs": [],
   "source": [
    "df_scr_imb = df_scr_imb.filter(df_scr_imb.DTBASE == dtbase)"
   ]
  },
  {
   "cell_type": "code",
   "execution_count": null,
   "id": "02253ce6",
   "metadata": {},
   "outputs": [],
   "source": [
    "df_scr_dms = df_scr_dms.filter(df_scr_dms.DTBASE ==  dtbase)"
   ]
  },
  {
   "cell_type": "code",
   "execution_count": null,
   "id": "e1e85d58",
   "metadata": {},
   "outputs": [],
   "source": [
    "df_scr_mcc = df_scr_mcc.filter(df_scr_mcc.DTBASE ==  dtbase)"
   ]
  },
  {
   "cell_type": "code",
   "execution_count": null,
   "id": "bac9fbb2",
   "metadata": {},
   "outputs": [],
   "source": [
    "df_scr_olm = df_scr_olm.filter(df_scr_olm.DTBASE == dtbase)"
   ]
  },
  {
   "cell_type": "code",
   "execution_count": null,
   "id": "53f713aa",
   "metadata": {},
   "outputs": [],
   "source": [
    "df_scr_tt = df_scr_tt.filter(df_scr_tt.DTBASE == dtbase)"
   ]
  },
  {
   "cell_type": "code",
   "execution_count": null,
   "id": "ff27b053",
   "metadata": {},
   "outputs": [],
   "source": [
    "df_scr_veic = df_scr_veic.filter(df_scr_veic.DTBASE == dtbase)"
   ]
  },
  {
   "cell_type": "code",
   "execution_count": null,
   "id": "626d5ccb",
   "metadata": {},
   "outputs": [],
   "source": [
    "df_consolidado = df_scr_tt.join(df_scr_crt,[\"DTBASE\",\"CD\"],\"left\")"
   ]
  },
  {
   "cell_type": "code",
   "execution_count": null,
   "id": "5a66c353",
   "metadata": {},
   "outputs": [],
   "source": [
    "df_consolidado = df_consolidado.join(df_scr_che,[\"DTBASE\",\"CD\"],\"left\")"
   ]
  },
  {
   "cell_type": "code",
   "execution_count": null,
   "id": "3c0c34f0",
   "metadata": {},
   "outputs": [],
   "source": [
    "df_consolidado = df_consolidado.join(df_scr_cng,[\"DTBASE\",\"CD\"],\"left\")"
   ]
  },
  {
   "cell_type": "code",
   "execution_count": null,
   "id": "00acc9ea",
   "metadata": {},
   "outputs": [],
   "source": [
    "df_consolidado = df_consolidado.join(df_scr_cp,[\"DTBASE\",\"CD\"],\"left\")"
   ]
  },
  {
   "cell_type": "code",
   "execution_count": null,
   "id": "c9f6d514",
   "metadata": {},
   "outputs": [],
   "source": [
    "df_consolidado = df_consolidado.join(df_scr_imb,[\"DTBASE\",\"CD\"],\"left\")"
   ]
  },
  {
   "cell_type": "code",
   "execution_count": null,
   "id": "f363dab3",
   "metadata": {},
   "outputs": [],
   "source": [
    "df_consolidado = df_consolidado.join(df_scr_mcc,[\"DTBASE\",\"CD\"],\"left\")"
   ]
  },
  {
   "cell_type": "code",
   "execution_count": null,
   "id": "d772ee18",
   "metadata": {},
   "outputs": [],
   "source": [
    "df_consolidado = df_consolidado.join(df_scr_olm,[\"DTBASE\",\"CD\"],\"left\")"
   ]
  },
  {
   "cell_type": "code",
   "execution_count": null,
   "id": "f72b4ffb",
   "metadata": {},
   "outputs": [],
   "source": [
    "df_consolidado = df_consolidado.join(df_scr_veic,[\"DTBASE\",\"CD\"],\"left\")"
   ]
  },
  {
   "cell_type": "code",
   "execution_count": null,
   "id": "0ad0f26e",
   "metadata": {},
   "outputs": [],
   "source": [
    "df_consolidado = df_consolidado.join(df_scr_dms,[\"DTBASE\",\"CD\"],\"left\")"
   ]
  },
  {
   "cell_type": "markdown",
   "id": "4839c304",
   "metadata": {},
   "source": [
    "ELIMINAÇÃO DAS COLUNAS DE MXXX DEVIDO A DUPLICIDADE DAS MESMAS E DA NÃO NECESSIDADE PARA ANÁLISES"
   ]
  },
  {
   "cell_type": "code",
   "execution_count": null,
   "id": "c94c7ee3",
   "metadata": {},
   "outputs": [],
   "source": [
    "df_consolidado = df_consolidado.drop(\"M0\",\"M1\",\"M2\",\"M3\",\"M4\",\"M5\")"
   ]
  },
  {
   "cell_type": "markdown",
   "id": "01547336",
   "metadata": {},
   "source": [
    "ESCRITA DA BASE DE DADOS CONSOLIDADA EM PARQUET"
   ]
  },
  {
   "cell_type": "code",
   "execution_count": null,
   "id": "2f63b32f",
   "metadata": {},
   "outputs": [],
   "source": [
    "df_consolidado.write.format(\"parquet\").mode(\"append\").save(\"s3://modelagem/scr/processed-data/consolidado/\")"
   ]
  },
  {
   "cell_type": "code",
   "execution_count": null,
   "id": "d288b61b",
   "metadata": {},
   "outputs": [],
   "source": []
  },
  {
   "cell_type": "code",
   "execution_count": null,
   "id": "3f45830a",
   "metadata": {},
   "outputs": [],
   "source": []
  }
 ],
 "metadata": {
  "kernelspec": {
   "display_name": "PySpark",
   "language": "",
   "name": "pysparkkernel"
  },
  "language_info": {
   "codemirror_mode": {
    "name": "python",
    "version": 3
   },
   "mimetype": "text/x-python",
   "name": "pyspark",
   "pygments_lexer": "python3"
  }
 },
 "nbformat": 4,
 "nbformat_minor": 5
}
